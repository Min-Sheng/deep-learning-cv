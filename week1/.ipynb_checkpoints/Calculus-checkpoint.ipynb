{
 "cells": [
  {
   "cell_type": "markdown",
   "metadata": {},
   "source": [
    "<h3><center>\n",
    "Definition for the derivative of a function</center></h3>\n",
    "\n",
    "$$ f'(x)=\\lim_{\\Delta x\\to 0} \\frac{f(x+ \\Delta x) - f(x)}{\\Delta x}$$"
   ]
  },
  {
   "cell_type": "markdown",
   "metadata": {},
   "source": [
    "<p style=\"text-align: center;\">\n",
    "Let's look at an example </p>\n",
    "\n",
    "$$ y = f(x) = x^2 $$ \n",
    "\n",
    "$$ \\frac{dy}{dx} = \\lim_{\\Delta x\\to 0} \\frac{(x+ \\Delta x)^2 - x^2}{\\Delta x} = \\lim_{\\Delta x\\to 0} \\frac{2x \\cdot \\Delta x + \\Delta x^2}{\\Delta x} = \\lim_{\\Delta x\\to 0}(2x + \\Delta x) = 2x$$"
   ]
  },
  {
   "cell_type": "markdown",
   "metadata": {},
   "source": [
    "<h3><center>Chain rule</center></h3>\n",
    "\n",
    "$$ f(x) = g(h(x)) $$\n",
    "\n",
    "$$ \\frac{df}{dx} = \\frac{dg}{dh} \\frac{dh}{dx}  $$"
   ]
  },
  {
   "cell_type": "markdown",
   "metadata": {},
   "source": [
    "<p style=\"text-align: center;\">\n",
    "Now Let's look at an example:\n",
    "\n",
    "$$ if \\ \\ g(x) = x^3 \\ and \\ \\ h(x) = x^2 \\\\ $$\n",
    "\n",
    "$$ \\frac{df}{dx} = \\frac{dg}{d(x^2)} \\frac{dh}{dx} $$  \n",
    "\n",
    "\n",
    "<p style=\"text-align: center;\">\n",
    "Let's first solve the inner derivative\n",
    "\n",
    "$$ \\frac{dh}{dx} = 2x $$\n",
    "\n",
    "<p style=\"text-align: center;\">\n",
    "For the outer derivative, let'use a place holder to make it clearer:\n",
    "\n",
    "$$ let \\ \\ b = x^2 \\\\$$\n",
    "$$ \\frac{dg}{d(x^2)} = \\frac{dg}{db} = 3b^2 = 3x^4 $$\n"
   ]
  },
  {
   "cell_type": "markdown",
   "metadata": {},
   "source": [
    "<p style=\"text-align: center;\">Then we will have\n",
    "\n",
    "$$ \\frac{df}{dx} = 3x^4 \\cdot 2x = 6x^5 $$"
   ]
  },
  {
   "cell_type": "markdown",
   "metadata": {},
   "source": [
    "<p style=\"text-align: center;\">\n",
    "You can also see that\n",
    "\n",
    "$$ since \\ \\ \\ f(x) = (x^2)^3 = x^6 \\ , \\ \\ \\ \\frac{df}{dx} = 6x^5$$"
   ]
  },
  {
   "cell_type": "markdown",
   "metadata": {},
   "source": [
    "<p style=\"text-align: center;\">\n",
    "Let's look at another example.\n",
    "\n",
    "$$ f(x) = (x^2 + 3x)^5 $$\n",
    "\n",
    "$$ \\text{Let's say } \\quad g(x) = x^2 + 3x \\quad \\text{ , then} \\quad f(x) = (g(x))^5$$  \n",
    "\n",
    "$$ f'(x) = \\frac{df}{dx} = \\frac{df}{dg} \\frac{dg}{dx} = 5(g(x))^4(x^2+3x) = 5(x^2+3x)^4(2x+3)$$"
   ]
  },
  {
   "cell_type": "markdown",
   "metadata": {},
   "source": [
    "There's a very cool library called sympy that can help us with symbolic math."
   ]
  },
  {
   "cell_type": "code",
   "execution_count": 1,
   "metadata": {},
   "outputs": [],
   "source": [
    "from sympy import *"
   ]
  },
  {
   "cell_type": "code",
   "execution_count": 2,
   "metadata": {},
   "outputs": [],
   "source": [
    "x, y, z = symbols('x y z')\n",
    "init_printing(use_latex=True)"
   ]
  },
  {
   "cell_type": "code",
   "execution_count": 9,
   "metadata": {},
   "outputs": [
    {
     "data": {
      "image/png": "[encoded data removed]",
      "text/latex": [
       "$$\\frac{e^{- x}}{\\left(1 + e^{- x}\\right)^{2}}$$"
      ],
      "text/plain": [
       "    -x    \n",
       "   ℯ      \n",
       "──────────\n",
       "         2\n",
       "⎛     -x⎞ \n",
       "⎝1 + ℯ  ⎠ "
      ]
     },
     "execution_count": 9,
     "metadata": {},
     "output_type": "execute_result"
    }
   ],
   "source": [
    "diff(1/(1+exp(-x)), x)"
   ]
  },
  {
   "cell_type": "code",
   "execution_count": 4,
   "metadata": {},
   "outputs": [
    {
     "data": {
      "image/png": "[encoded data removed]",
      "text/latex": [
       "$$\\left(10 x + 15\\right) \\left(x^{2} + 3 x\\right)^{4}$$"
      ],
      "text/plain": [
       "                      4\n",
       "            ⎛ 2      ⎞ \n",
       "(10⋅x + 15)⋅⎝x  + 3⋅x⎠ "
      ]
     },
     "execution_count": 4,
     "metadata": {},
     "output_type": "execute_result"
    }
   ],
   "source": [
    "diff((x**2+3*x)**5)"
   ]
  }
 ],
 "metadata": {
  "kernelspec": {
   "display_name": "Python [conda env:anaconda3]",
   "language": "python",
   "name": "conda-env-anaconda3-py"
  },
  "language_info": {
   "codemirror_mode": {
    "name": "ipython",
    "version": 3
   },
   "file_extension": ".py",
   "mimetype": "text/x-python",
   "name": "python",
   "nbconvert_exporter": "python",
   "pygments_lexer": "ipython3",
   "version": "3.6.4"
  }
 },
 "nbformat": 4,
 "nbformat_minor": 2
}
