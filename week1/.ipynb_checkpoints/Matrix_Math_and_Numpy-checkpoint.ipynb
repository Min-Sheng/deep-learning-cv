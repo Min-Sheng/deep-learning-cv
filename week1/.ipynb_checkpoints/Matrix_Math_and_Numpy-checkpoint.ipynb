{
 "cells": [
  {
   "cell_type": "markdown",
   "metadata": {},
   "source": [
    "Numpy ( numerical py ) is a python package for scientific computation. It provides user with :\n",
    "- Powerful N-dimensional array object\n",
    "- Sophisticated broadcasting functions\n",
    "- Useful linear algebra, Fourier transform and random number functions\n",
    "\n",
    "Now lets give numpy a try."
   ]
  },
  {
   "cell_type": "code",
   "execution_count": 1,
   "metadata": {},
   "outputs": [],
   "source": [
    "import numpy as np"
   ]
  },
  {
   "cell_type": "markdown",
   "metadata": {},
   "source": [
    "### Array declaration in numpy\n",
    "In mathematics, __[tensors](https://en.wikipedia.org/wiki/Tensor)__ are geometric object that describe linear relations between geometric vectors, scalars, and other tensors. We can see think of tensors as multidimensional arrays. Declaring tensor (array) object in numpy is easy."
   ]
  },
  {
   "cell_type": "code",
   "execution_count": 2,
   "metadata": {},
   "outputs": [],
   "source": [
    "a = np.array(1)  # rank 0 tensor (scalar)\n",
    "b = np.array([1, 2, 3])   # rank 1 tensor (vector)\n",
    "c = np.array([[1, 2, 3]])    # rank 2 tensor (matrix)\n",
    "d = np.array([[1],[2],[3]])  # rank 2 tensor (matrix) \n",
    "e = np.array([[[1,2,3],[4,5,6]],[[7,8,9],[10,11,12]]])  # rank 3 tensor (3-tensor)"
   ]
  },
  {
   "cell_type": "markdown",
   "metadata": {},
   "source": [
    "Tensor rank can be determined by the length of the numpy array shape. "
   ]
  },
  {
   "cell_type": "code",
   "execution_count": 3,
   "metadata": {},
   "outputs": [
    {
     "name": "stdout",
     "output_type": "stream",
     "text": [
      "()\n",
      "(3,)\n",
      "(1, 3)\n",
      "(3, 1)\n",
      "(2, 2, 3)\n"
     ]
    }
   ],
   "source": [
    "print(a.shape)\n",
    "print(b.shape)\n",
    "print(d.shape)\n",
    "print(c.shape)\n",
    "print(e.shape)"
   ]
  },
  {
   "cell_type": "markdown",
   "metadata": {},
   "source": [
    "Numpy has some useful array functions. For example we can easily create a matrix filled with zeros"
   ]
  },
  {
   "cell_type": "code",
   "execution_count": 4,
   "metadata": {},
   "outputs": [
    {
     "data": {
      "text/plain": [
       "array([[0, 0],\n",
       "       [0, 0],\n",
       "       [0, 0]])"
      ]
     },
     "execution_count": 4,
     "metadata": {},
     "output_type": "execute_result"
    }
   ],
   "source": [
    "np.zeros((3,2),dtype=np.int32)"
   ]
  },
  {
   "cell_type": "markdown",
   "metadata": {},
   "source": [
    "Or an array with random numbers"
   ]
  },
  {
   "cell_type": "code",
   "execution_count": 5,
   "metadata": {},
   "outputs": [
    {
     "data": {
      "text/plain": [
       "array([[0.68508079, 0.33411916],\n",
       "       [0.10375297, 0.21715967],\n",
       "       [0.38900396, 0.30186872]])"
      ]
     },
     "execution_count": 5,
     "metadata": {},
     "output_type": "execute_result"
    }
   ],
   "source": [
    "np.random.rand(3,2)"
   ]
  },
  {
   "cell_type": "markdown",
   "metadata": {},
   "source": [
    "### Element-wise operations in Numpy\n",
    "It's very easy to manipulate matrix using numpy. "
   ]
  },
  {
   "cell_type": "code",
   "execution_count": 6,
   "metadata": {},
   "outputs": [],
   "source": [
    "a = np.array([[1, 2], [3, 4]])\n",
    "b = np.array([[4, 3], [2, 1]])"
   ]
  },
  {
   "cell_type": "code",
   "execution_count": 7,
   "metadata": {},
   "outputs": [
    {
     "name": "stdout",
     "output_type": "stream",
     "text": [
      "[[5 5]\n",
      " [5 5]]\n",
      "[[4 6]\n",
      " [6 4]]\n",
      "[[0.25       0.66666667]\n",
      " [1.5        4.        ]]\n",
      "[[ 1  4]\n",
      " [ 9 16]]\n"
     ]
    }
   ],
   "source": [
    "print(a+b)\n",
    "print(a*b)\n",
    "print(a/b)\n",
    "print(a**2)"
   ]
  },
  {
   "cell_type": "markdown",
   "metadata": {},
   "source": [
    "### Broadcasting functions in Numpy.\n",
    "\n",
    "When you're doing repetitve computation for an array, you can take advantage of the numpy broadcasting functions. For example, numpy will find the matching dimension and fill in the blanks for you:\n",
    "\n",
    "$$ \\begin{bmatrix}1 & 2\\\\3 & 4\\\\5 & 6\\end{bmatrix} + 2 = \\begin{bmatrix}1+2 & 2+2\\\\3+2 & 4+2\\\\5+2 & 6+2\\end{bmatrix} $$ \n",
    "\n",
    "$$ \\begin{bmatrix}1 & 2\\\\3 & 4\\\\5 & 6\\end{bmatrix} + \\begin{bmatrix}1\\\\2\\\\3\\end{bmatrix} = \\begin{bmatrix}1+1 & 2+1\\\\3+2 & 4+2\\\\5+3 & 6+3\\end{bmatrix} $$ \n",
    "\n",
    "$$ \\begin{bmatrix}1 & 2\\\\3 & 4\\\\5 & 6\\end{bmatrix} + \\begin{bmatrix}1 & 2\\end{bmatrix} = \\begin{bmatrix}1+1 & 2+2\\\\3+1 & 4+2\\\\5+1 & 6+2\\end{bmatrix} $$\n",
    "\n",
    "( please note that the above equations don't hold true in a general mathematical sense, they just show you how numpy broadcasting function works )"
   ]
  },
  {
   "cell_type": "code",
   "execution_count": 8,
   "metadata": {},
   "outputs": [],
   "source": [
    "a = np.array([[1,2], [3,4], [5,6]])"
   ]
  },
  {
   "cell_type": "code",
   "execution_count": 9,
   "metadata": {},
   "outputs": [
    {
     "name": "stdout",
     "output_type": "stream",
     "text": [
      "[[3 4]\n",
      " [5 6]\n",
      " [7 8]]\n",
      "[[2 3]\n",
      " [5 6]\n",
      " [8 9]]\n",
      "[[2 4]\n",
      " [4 6]\n",
      " [6 8]]\n"
     ]
    }
   ],
   "source": [
    "print(a+2)\n",
    "print(a+[[1],[2],[3]])\n",
    "print(a+[1,2])"
   ]
  },
  {
   "cell_type": "markdown",
   "metadata": {},
   "source": [
    "### Nupmy indexing\n",
    "\n",
    "Numpy indexing is very similar to python index (0-indexed)."
   ]
  },
  {
   "cell_type": "code",
   "execution_count": 10,
   "metadata": {},
   "outputs": [
    {
     "name": "stdout",
     "output_type": "stream",
     "text": [
      "[[ 1  2  3  4]\n",
      " [ 5  6  7  8]\n",
      " [ 9 10 11 12]]\n"
     ]
    }
   ],
   "source": [
    "a = np.array([[1,2,3,4],[5,6,7,8],[9,10,11,12]])\n",
    "print(a)"
   ]
  },
  {
   "cell_type": "code",
   "execution_count": 11,
   "metadata": {},
   "outputs": [
    {
     "name": "stdout",
     "output_type": "stream",
     "text": [
      "10\n",
      "[10 11]\n",
      "[1 5 9]\n",
      "[[1]\n",
      " [5]\n",
      " [9]]\n",
      "[5 6 7 8]\n"
     ]
    }
   ],
   "source": [
    "print(a[2,1]) # Get an array element\n",
    "print(a[2,1:3]) # Get a fraction of a column vector\n",
    "print(a[:,0]) # Get a column vector\n",
    "print(np.expand_dims(a[:,0], axis=1)) # Get a column vector and add a new axis\n",
    "print(a[1,:]) # Get a row vector"
   ]
  },
  {
   "cell_type": "markdown",
   "metadata": {},
   "source": [
    "### Matrix multiplication\n",
    "\n",
    "Matrix math is at the heart of neural network computation. It is important that you're familiar with at least matrix multiplication before you start implementing a deep neural network."
   ]
  },
  {
   "cell_type": "markdown",
   "metadata": {},
   "source": [
    "$$ \\begin{bmatrix}a_{11} & a_{21}\\\\a_{12} & a_{22}\\\\a_{13} & a_{23}\\\\a_{14} & a_{24}\\end{bmatrix}\\begin{bmatrix}b_{11} & b_{21} & b_{31}\\\\b_{12} & b_{22} & b_{32}\\end{bmatrix} = \\begin{bmatrix}a_{11}b_{11}+a_{21}b_{12} & a_{11}b_{21}+a_{21}b_{22} & a_{11}b_{31}+a_{21}b_{32}\\\\a_{12}b_{11}+a_{22}b_{12} & a_{12}b_{21}+a_{22}b_{22} & a_{12}b_{31}+a_{22}b_{32}\\\\a_{13}b_{11}+a_{23}b_{12} & a_{13}b_{21}+a_{23}b_{22} & a_{13}b_{31}+a_{23}b_{32}\\\\a_{14}b_{11}+a_{24}b_{12} & a_{14}b_{21}+a_{24}b_{22} &\n",
    "a_{14}b_{31}+a_{24}b_{32}\\end{bmatrix} $$"
   ]
  },
  {
   "cell_type": "markdown",
   "metadata": {},
   "source": [
    "So this means : \n",
    "$$ \\begin{bmatrix}1 & 2\\\\3 & 4\\\\5 & 6\\\\7 & 8\\end{bmatrix}\\begin{bmatrix}1 & 2 & 3\\\\4 & 5 & 6\\end{bmatrix} = \\begin{bmatrix}1\\times1+2\\times4 & 1\\times2+2\\times5 & 1\\times3+2\\times6\\\\3\\times1+4\\times4 & 3\\times2+4\\times5 & 3\\times3+4\\times6\\\\5\\times1+6\\times4 & 5\\times2+6\\times5 & 5\\times3+6\\times6\\\\7\\times1+8\\times4 & 7\\times2+8\\times5 &\n",
    "7\\times3+8\\times6\\end{bmatrix} = \\begin{bmatrix}9 & 12 & 5\\\\19 & 26 & 33\\\\29 & 40 & 51\\\\39 & 54 & 69\\end{bmatrix}$$"
   ]
  },
  {
   "cell_type": "markdown",
   "metadata": {},
   "source": [
    "Of course you don't want explicitly calculate matrix multiplication like this in a real program. This is just for understanding the math. Numpy can do this kind of low-level work for you. Before we jump into matrix math, let's get to know the basics of Numpy."
   ]
  },
  {
   "cell_type": "code",
   "execution_count": 12,
   "metadata": {},
   "outputs": [],
   "source": [
    "a = np.array([[1,2], [3,4], [5,6], [7,8]])\n",
    "b = np.array([[1,2,3], [4,5,6]])\n",
    "c = np.dot(a,b)"
   ]
  },
  {
   "cell_type": "code",
   "execution_count": 13,
   "metadata": {},
   "outputs": [
    {
     "name": "stdout",
     "output_type": "stream",
     "text": [
      "[[ 9 12 15]\n",
      " [19 26 33]\n",
      " [29 40 51]\n",
      " [39 54 69]]\n"
     ]
    }
   ],
   "source": [
    "print(c)"
   ]
  },
  {
   "cell_type": "markdown",
   "metadata": {},
   "source": [
    "Sometimes it may become necessary to do the multiplication backwards(for example, during back propagation). B times A won't work because the dimension wouldn't match."
   ]
  },
  {
   "cell_type": "code",
   "execution_count": 14,
   "metadata": {},
   "outputs": [
    {
     "ename": "ValueError",
     "evalue": "shapes (2,3) and (4,2) not aligned: 3 (dim 1) != 4 (dim 0)",
     "output_type": "error",
     "traceback": [
      "\u001b[1;31m---------------------------------------------------------------------------\u001b[0m",
      "\u001b[1;31mValueError\u001b[0m                                Traceback (most recent call last)",
      "\u001b[1;32m<ipython-input-14-e6bd3a7b39a0>\u001b[0m in \u001b[0;36m<module>\u001b[1;34m()\u001b[0m\n\u001b[1;32m----> 1\u001b[1;33m \u001b[0mnp\u001b[0m\u001b[1;33m.\u001b[0m\u001b[0mdot\u001b[0m\u001b[1;33m(\u001b[0m\u001b[0mb\u001b[0m\u001b[1;33m,\u001b[0m\u001b[0ma\u001b[0m\u001b[1;33m)\u001b[0m\u001b[1;33m\u001b[0m\u001b[0m\n\u001b[0m",
      "\u001b[1;31mValueError\u001b[0m: shapes (2,3) and (4,2) not aligned: 3 (dim 1) != 4 (dim 0)"
     ]
    }
   ],
   "source": [
    "np.dot(b,a)"
   ]
  },
  {
   "cell_type": "markdown",
   "metadata": {},
   "source": [
    "This is what we can do : $$ B^TA^T $$ and actually $$ (B^TA^T)^T = AB $$ We can easily find out in numpy:"
   ]
  },
  {
   "cell_type": "code",
   "execution_count": 15,
   "metadata": {},
   "outputs": [
    {
     "data": {
      "text/plain": [
       "array([[ 9, 12, 15],\n",
       "       [19, 26, 33],\n",
       "       [29, 40, 51],\n",
       "       [39, 54, 69]])"
      ]
     },
     "execution_count": 15,
     "metadata": {},
     "output_type": "execute_result"
    }
   ],
   "source": [
    "np.dot(b.T, a.T).T"
   ]
  },
  {
   "cell_type": "code",
   "execution_count": 16,
   "metadata": {},
   "outputs": [],
   "source": [
    "x = np.array((1,2,3))"
   ]
  },
  {
   "cell_type": "code",
   "execution_count": 17,
   "metadata": {},
   "outputs": [],
   "source": [
    "y = x[:,None]"
   ]
  },
  {
   "cell_type": "code",
   "execution_count": 18,
   "metadata": {},
   "outputs": [
    {
     "data": {
      "text/plain": [
       "(3,)"
      ]
     },
     "execution_count": 18,
     "metadata": {},
     "output_type": "execute_result"
    }
   ],
   "source": [
    "x.shape"
   ]
  },
  {
   "cell_type": "code",
   "execution_count": 19,
   "metadata": {},
   "outputs": [
    {
     "data": {
      "text/plain": [
       "(3, 1)"
      ]
     },
     "execution_count": 19,
     "metadata": {},
     "output_type": "execute_result"
    }
   ],
   "source": [
    "y.shape"
   ]
  },
  {
   "cell_type": "code",
   "execution_count": 20,
   "metadata": {},
   "outputs": [],
   "source": [
    "y = x[:,np.newaxis]"
   ]
  },
  {
   "cell_type": "code",
   "execution_count": 21,
   "metadata": {},
   "outputs": [
    {
     "data": {
      "text/plain": [
       "(3, 1)"
      ]
     },
     "execution_count": 21,
     "metadata": {},
     "output_type": "execute_result"
    }
   ],
   "source": [
    "y.shape"
   ]
  },
  {
   "cell_type": "code",
   "execution_count": 22,
   "metadata": {},
   "outputs": [
    {
     "data": {
      "text/plain": [
       "array([[1],\n",
       "       [2],\n",
       "       [3]])"
      ]
     },
     "execution_count": 22,
     "metadata": {},
     "output_type": "execute_result"
    }
   ],
   "source": [
    "y"
   ]
  },
  {
   "cell_type": "code",
   "execution_count": 23,
   "metadata": {},
   "outputs": [],
   "source": [
    "z = y[:,np.newaxis,:]"
   ]
  },
  {
   "cell_type": "code",
   "execution_count": 24,
   "metadata": {},
   "outputs": [
    {
     "data": {
      "text/plain": [
       "(3, 1, 1)"
      ]
     },
     "execution_count": 24,
     "metadata": {},
     "output_type": "execute_result"
    }
   ],
   "source": [
    "z.shape"
   ]
  },
  {
   "cell_type": "code",
   "execution_count": 25,
   "metadata": {},
   "outputs": [],
   "source": [
    "z = y[:,None,:]"
   ]
  },
  {
   "cell_type": "code",
   "execution_count": 26,
   "metadata": {},
   "outputs": [
    {
     "data": {
      "text/plain": [
       "(3, 1, 1)"
      ]
     },
     "execution_count": 26,
     "metadata": {},
     "output_type": "execute_result"
    }
   ],
   "source": [
    "z.shape"
   ]
  },
  {
   "cell_type": "code",
   "execution_count": null,
   "metadata": {},
   "outputs": [],
   "source": []
  }
 ],
 "metadata": {
  "kernelspec": {
   "display_name": "Python [conda env:anaconda3]",
   "language": "python",
   "name": "conda-env-anaconda3-py"
  },
  "language_info": {
   "codemirror_mode": {
    "name": "ipython",
    "version": 3
   },
   "file_extension": ".py",
   "mimetype": "text/x-python",
   "name": "python",
   "nbconvert_exporter": "python",
   "pygments_lexer": "ipython3",
   "version": "3.6.4"
  }
 },
 "nbformat": 4,
 "nbformat_minor": 2
}
