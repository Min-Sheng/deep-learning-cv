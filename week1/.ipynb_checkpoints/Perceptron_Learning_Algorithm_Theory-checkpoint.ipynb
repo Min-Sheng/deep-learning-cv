{
 "cells": [
  {
   "cell_type": "markdown",
   "metadata": {},
   "source": [
    "<p style=\"text-align: center;\">\n",
    "If there are a group of linearly separable data points in a two-dimension space $(x_1, x_2)$, and the value $y$ assigned to the data points are determined by the formula:\n",
    "\n",
    "$$ y =\n",
    "\\begin{cases}\n",
    "1,  & \\text{if  $\\ w_1x_1+w_2x_2>0$ } \\\\[2ex]\n",
    "-1, & \\text{if  $\\ w_1x_1+w_2x_2<0$}\n",
    "\\end{cases}$$ \n",
    "\n",
    "<p style=\"text-align: center;\">\n",
    ", which is equivalent to:\n",
    "\n",
    "$$ y =\n",
    "\\begin{cases}\n",
    "1,  & \\text{if  $\\ sign(W^TX)>0$ } \\\\[2ex]\n",
    "-1, & \\text{if  $\\ sign(W^TX)<0$}\n",
    "\\end{cases}$$ \n",
    "\n",
    "\n",
    "<p style=\"text-align: center;\">\n",
    "The task of learning is to try to find $w_1$, and $w_2$ that can correctly classify all the observed data points. We need to keep in mind, though, that we may not find the true $w_1$, $w_2$, but a close approximation of $w_1$ and $w_2$ that can still help us classify the observed data points. "
   ]
  },
  {
   "cell_type": "markdown",
   "metadata": {},
   "source": [
    "<p style=\"text-align: center;\">\n",
    "Perceptron learning algorithm works by updating its weights to one misclassified data point at a time. The update rule is the following : \n",
    "\n",
    "$$ W(t+1) = W(t) + y(t)X(t)$$ "
   ]
  },
  {
   "cell_type": "code",
   "execution_count": 1,
   "metadata": {},
   "outputs": [],
   "source": [
    "import matplotlib.pyplot as plt\n",
    "%matplotlib notebook "
   ]
  },
  {
   "cell_type": "code",
   "execution_count": 2,
   "metadata": {},
   "outputs": [
    {
     "data": {
      "application/javascript": [
       "//This is a Javascript code block that disables auto-scrolling so we can see the full figure\n",
       "IPython.OutputArea.prototype._should_scroll = function(lines) {\n",
       "    return false;\n",
       "}"
      ],
      "text/plain": [
       "<IPython.core.display.Javascript object>"
      ]
     },
     "metadata": {},
     "output_type": "display_data"
    }
   ],
   "source": [
    "%%javascript\n",
    "//This is a Javascript code block that disables auto-scrolling so we can see the full figure\n",
    "IPython.OutputArea.prototype._should_scroll = function(lines) {\n",
    "    return false;\n",
    "}"
   ]
  },
  {
   "cell_type": "markdown",
   "metadata": {},
   "source": [
    "Let's say we have three points we wish to classify. Green points have value of -1 and red points 1. The weights of the perceptron $w1, \\ w2$ were initialized to zero. It doesn't classify anything so every point is misclassified. Let's first update the weights to point in the $4^{th}$  quadrant. The new weight is represented by black arrow. The line represented by this vector(normal vector) is the <span style=\"color:blue\">blue line</span>. Now we can see the red point is correctly classified, but a green point isn't. So in the next iteration, we need to update the vector according to the mis-classified green point. The vector to the green point is represented by the <span style=\"color:magenta\">magenta dashed arrow</span>. Since the green point has a value of -1, we need to add the the vector in the opposite direction(<span style=\"color:blue\">blue dashed arrow</span>). The updated weights of the perceptron is now the black dashed arrow. "
   ]
  },
  {
   "cell_type": "code",
   "execution_count": 3,
   "metadata": {},
   "outputs": [
    {
     "data": {
      "text/plain": [
       "Text(0,0,'')"
      ]
     },
     "execution_count": 3,
     "metadata": {},
     "output_type": "execute_result"
    },
    {
     "data": {
      "image/png": "[encoded data removed]",
      "text/plain": [
       "<matplotlib.figure.Figure at 0x26f40fa50f0>"
      ]
     },
     "metadata": {},
     "output_type": "display_data"
    }
   ],
   "source": [
    "fig, ax = plt.subplots(1,1,figsize=(5,5))\n",
    "ax.set_xlim(-3, 3)\n",
    "ax.set_ylim(-3, 3)\n",
    "ax.plot(1,-1,'ro', 2,1,'go', -1, 2, 'go')\n",
    "ax.plot((3,-3),(3,-3))\n",
    "ax.annotate(\"\", xy=(1, -1), xytext=(0, 0), arrowprops=dict(arrowstyle=\"->\", ec='k'))\n",
    "ax.set_title('Iteration 1')\n",
    "ax.annotate(\"\", xy=(2, 1), xytext=(0, 0), arrowprops=dict(arrowstyle=\"->\", ec='m', ls='dashed'))\n",
    "ax.annotate(\"\", xy=(-1, -2), xytext=(0, 0), arrowprops=dict(arrowstyle=\"->\", ec='k', ls='dashed'))\n",
    "ax.annotate(\"\", xy=(-2, -1), xytext=(0, 0), arrowprops=dict(arrowstyle=\"->\", ec='b', ls='dashed'))"
   ]
  },
  {
   "cell_type": "markdown",
   "metadata": {},
   "source": [
    "Now all the points are correctly classified !"
   ]
  },
  {
   "cell_type": "code",
   "execution_count": 4,
   "metadata": {},
   "outputs": [
    {
     "data": {
      "text/plain": [
       "Text(0,0,'')"
      ]
     },
     "execution_count": 4,
     "metadata": {},
     "output_type": "execute_result"
    },
    {
     "data": {
      "image/png": "[encoded data removed]",
      "text/plain": [
       "<matplotlib.figure.Figure at 0x26f4132e080>"
      ]
     },
     "metadata": {},
     "output_type": "display_data"
    }
   ],
   "source": [
    "fig, ax = plt.subplots(1,1,figsize=(5, 5))\n",
    "ax.set_xlim(-3, 3)\n",
    "ax.set_ylim(-3, 3)\n",
    "ax.plot(1,-1,'ro', 2,1,'go', -1, 2, 'go')\n",
    "ax.plot((3,-3),(-1.5,1.5))\n",
    "ax.set_title('Iteration 2')\n",
    "ax.annotate(\"\", xy=(-1, -2), xytext=(0, 0), arrowprops=dict(arrowstyle=\"->\", ec='k'))"
   ]
  },
  {
   "cell_type": "code",
   "execution_count": null,
   "metadata": {},
   "outputs": [],
   "source": []
  }
 ],
 "metadata": {
  "kernelspec": {
   "display_name": "Python [conda env:dl]",
   "language": "python",
   "name": "conda-env-dl-py"
  },
  "language_info": {
   "codemirror_mode": {
    "name": "ipython",
    "version": 3
   },
   "file_extension": ".py",
   "mimetype": "text/x-python",
   "name": "python",
   "nbconvert_exporter": "python",
   "pygments_lexer": "ipython3",
   "version": "3.5.0"
  }
 },
 "nbformat": 4,
 "nbformat_minor": 2
}
