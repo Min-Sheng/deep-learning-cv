{
 "cells": [
  {
   "cell_type": "code",
   "execution_count": 15,
   "metadata": {},
   "outputs": [],
   "source": [
    "#### This code cell is to limit GPU memory use because you'll be sharing GPU #### \n",
    "#### If you're using your own GPU, you can change the per_process_cpu_memory_fraction to 1.0 ####\n",
    "import tensorflow as tf\n",
    "from keras.backend.tensorflow_backend import set_session\n",
    "config = tf.ConfigProto()\n",
    "config.gpu_options.per_process_gpu_memory_fraction = 0.45\n",
    "set_session(tf.Session(config=config))"
   ]
  },
  {
   "cell_type": "markdown",
   "metadata": {
    "collapsed": true
   },
   "source": [
    "# Image Classification\n",
    "In this project, you'll classify images from the [CIFAR-10 dataset](https://www.cs.toronto.edu/~kriz/cifar.html).  The dataset consists of airplanes, dogs, cats, and other objects. You'll preprocess the images, then train a convolutional neural network on all the samples. The images need to be normalized and the labels need to be one-hot encoded.  You'll get to apply what you learned and build a convolutional, max pooling, dropout, and fully connected layers.  At the end, you'll get to see your neural network's predictions on the sample images.\n",
    "## Get the Data\n",
    "Run the following cell to download the [CIFAR-10 dataset for python](https://www.cs.toronto.edu/~kriz/cifar-10-python.tar.gz)."
   ]
  },
  {
   "cell_type": "code",
   "execution_count": 16,
   "metadata": {},
   "outputs": [
    {
     "name": "stdout",
     "output_type": "stream",
     "text": [
      "All files found!\n"
     ]
    }
   ],
   "source": [
    "\"\"\"\n",
    "DON'T MODIFY ANYTHING IN THIS CELL THAT IS BELOW THIS LINE\n",
    "\"\"\"\n",
    "from urllib.request import urlretrieve\n",
    "from os.path import isfile, isdir\n",
    "from tqdm import tqdm\n",
    "import problem_unittests as tests\n",
    "import tarfile\n",
    "\n",
    "cifar10_dataset_folder_path = 'cifar-10-batches-py' \n",
    "\n",
    "class DLProgress(tqdm):\n",
    "    last_block = 0\n",
    "\n",
    "    def hook(self, block_num=1, block_size=1, total_size=None):\n",
    "        self.total = total_size\n",
    "        self.update((block_num - self.last_block) * block_size)\n",
    "        self.last_block = block_num\n",
    "\n",
    "tar_gz_path = 'cifar-10-python.tar.gz'\n",
    "\n",
    "if not isdir(cifar10_dataset_folder_path):\n",
    "    if not isfile(tar_gz_path):\n",
    "        with DLProgress(unit='B', unit_scale=True, miniters=1, desc='CIFAR-10 Dataset') as pbar:\n",
    "            urlretrieve(\n",
    "                'https://www.cs.toronto.edu/~kriz/cifar-10-python.tar.gz',\n",
    "                tar_gz_path,\n",
    "                pbar.hook)\n",
    "    with tarfile.open(tar_gz_path) as tar:\n",
    "        tar.extractall()\n",
    "        tar.close()\n",
    "\n",
    "tests.test_folder_path(cifar10_dataset_folder_path)"
   ]
  },
  {
   "cell_type": "markdown",
   "metadata": {},
   "source": [
    "## Explore the Data\n",
    "The dataset is broken into batches to prevent your machine from running out of memory.  The CIFAR-10 dataset consists of 5 batches, named `data_batch_1`, `data_batch_2`, etc.. Each batch contains the labels and images that are one of the following:\n",
    "* airplane\n",
    "* automobile\n",
    "* bird\n",
    "* cat\n",
    "* deer\n",
    "* dog\n",
    "* frog\n",
    "* horse\n",
    "* ship\n",
    "* truck\n",
    "\n",
    "Understanding a dataset is part of making predictions on the data.  Play around with the code cell below by changing the `batch_id` and `sample_id`. The `batch_id` is the id for a batch (1-5). The `sample_id` is the id for a image and label pair in the batch.\n",
    "\n",
    "Ask yourself \"What are all possible labels?\", \"What is the range of values for the image data?\", \"Are the labels in order or random?\".  Answers to questions like these will help you preprocess the data and end up with better predictions."
   ]
  },
  {
   "cell_type": "code",
   "execution_count": 17,
   "metadata": {},
   "outputs": [
    {
     "name": "stdout",
     "output_type": "stream",
     "text": [
      "\n",
      "Stats of batch 1:\n",
      "Samples: 10000\n",
      "Label Counts: {0: 1005, 1: 974, 2: 1032, 3: 1016, 4: 999, 5: 937, 6: 1030, 7: 1001, 8: 1025, 9: 981}\n",
      "First 20 Labels: [6, 9, 9, 4, 1, 1, 2, 7, 8, 3, 4, 7, 7, 2, 9, 9, 9, 3, 2, 6]\n",
      "\n",
      "Example of Image 6:\n",
      "Image - Min Value: 7 Max Value: 249\n",
      "Image - Shape: (32, 32, 3)\n",
      "Label - Label Id: 2 Name: bird\n"
     ]
    },
    {
     "data": {
      "image/png": "[encoded data removed]",
      "text/plain": [
       "<Figure size 432x288 with 1 Axes>"
      ]
     },
     "metadata": {
      "image/png": {
       "height": 250,
       "width": 253
      }
     },
     "output_type": "display_data"
    }
   ],
   "source": [
    "%matplotlib inline\n",
    "%config InlineBackend.figure_format = 'retina'\n",
    "\n",
    "import helper\n",
    "import numpy as np\n",
    "\n",
    "# Explore the dataset\n",
    "batch_id = 1\n",
    "sample_id = 6\n",
    "helper.display_stats(cifar10_dataset_folder_path, batch_id, sample_id)"
   ]
  },
  {
   "cell_type": "markdown",
   "metadata": {},
   "source": [
    "## Implement Preprocess Functions\n",
    "### Normalize\n",
    "In the cell below, implement the `normalize` function to take in image data, `x`, and return it as a normalized Numpy array. The values should be in the range of 0 to 1, inclusive.  The return object should be the same shape as `x`."
   ]
  },
  {
   "cell_type": "code",
   "execution_count": 18,
   "metadata": {},
   "outputs": [
    {
     "name": "stdout",
     "output_type": "stream",
     "text": [
      "Tests Passed\n"
     ]
    }
   ],
   "source": [
    "def normalize(x):\n",
    "    \"\"\"\n",
    "    Normalize a list of sample image data in the range of 0 to 1\n",
    "    : x: List of image data.  The image shape is (32, 32, 3)\n",
    "    : return: Numpy array of normalize data\n",
    "    \"\"\"\n",
    "    # TODO: Implement Function\n",
    "    norm = (x-x.min())/(x.max()-x.min())\n",
    "    return norm\n",
    "\n",
    "\"\"\"\n",
    "DON'T MODIFY ANYTHING IN THIS CELL THAT IS BELOW THIS LINE\n",
    "\"\"\"\n",
    "tests.test_normalize(normalize)"
   ]
  },
  {
   "cell_type": "markdown",
   "metadata": {},
   "source": [
    "### One-hot encode\n",
    "Just like the previous code cell, you'll be implementing a function for preprocessing.  This time, you'll implement the `one_hot_encode` function. The input, `x`, are a list of labels.  Implement the function to return the list of labels as One-Hot encoded Numpy array.  The possible values for labels are 0 to 9. The one-hot encoding function should return the same encoding for each value between each call to `one_hot_encode`.  Make sure to save the map of encodings outside the function.\n",
    "\n",
    "Hint: Don't reinvent the wheel."
   ]
  },
  {
   "cell_type": "code",
   "execution_count": 19,
   "metadata": {},
   "outputs": [
    {
     "name": "stdout",
     "output_type": "stream",
     "text": [
      "Tests Passed\n"
     ]
    }
   ],
   "source": [
    "def one_hot_encode(x):\n",
    "    \"\"\"\n",
    "    One hot encode a list of sample labels. Return a one-hot encoded vector for each label.\n",
    "    : x: List of sample Labels\n",
    "    : return: Numpy array of one-hot encoded labels\n",
    "    \"\"\"\n",
    "    # TODO: Implement Function\n",
    "    encoding = np.eye(10)[x]\n",
    "    return encoding\n",
    "\n",
    "\"\"\"\n",
    "DON'T MODIFY ANYTHING IN THIS CELL THAT IS BELOW THIS LINE\n",
    "\"\"\"\n",
    "tests.test_one_hot_encode(one_hot_encode)"
   ]
  },
  {
   "cell_type": "markdown",
   "metadata": {},
   "source": [
    "### Randomize Data\n",
    "As you saw from exploring the data above, the order of the samples are randomized.  It doesn't hurt to randomize it again, but you don't need to for this dataset."
   ]
  },
  {
   "cell_type": "markdown",
   "metadata": {},
   "source": [
    "## Preprocess all the data and save it\n",
    "Running the code cell below will preprocess all the CIFAR-10 data and save it to file. The code below also uses 10% of the training data for validation."
   ]
  },
  {
   "cell_type": "code",
   "execution_count": 20,
   "metadata": {},
   "outputs": [],
   "source": [
    "\"\"\"\n",
    "DON'T MODIFY ANYTHING IN THIS CELL\n",
    "\"\"\"\n",
    "# Preprocess Training, Validation, and Testing Data\n",
    "helper.preprocess_and_save_data(cifar10_dataset_folder_path, normalize, one_hot_encode)"
   ]
  },
  {
   "cell_type": "markdown",
   "metadata": {},
   "source": [
    "# Check Point\n",
    "This is your first checkpoint.  If you ever decide to come back to this notebook or have to restart the notebook, you can start from here.  The preprocessed data has been saved to disk."
   ]
  },
  {
   "cell_type": "code",
   "execution_count": 21,
   "metadata": {},
   "outputs": [],
   "source": [
    "\"\"\"\n",
    "DON'T MODIFY ANYTHING IN THIS CELL\n",
    "\"\"\"\n",
    "import pickle\n",
    "import problem_unittests as tests\n",
    "import helper\n",
    "\n",
    "# Load the Preprocessed Validation data\n",
    "valid_features, valid_labels = pickle.load(open('preprocess_validation.p', mode='rb'))"
   ]
  },
  {
   "cell_type": "markdown",
   "metadata": {},
   "source": [
    "## Build the network\n",
    "For the neural network, you'll build each layer into a function.  Most of the code you've seen has been outside of functions. To test your code more thoroughly, we require that you put each layer in a function.  This allows us to give you better feedback and test for simple mistakes using our unittests before you submit your project.\n",
    "\n",
    ">**Note:** If you're finding it hard to dedicate enough time for this course each week, we've provided a small shortcut to this part of the project. In the next couple of problems, you'll have the option to use classes from the [TensorFlow Layers](https://www.tensorflow.org/api_docs/python/tf/layers) or [TensorFlow Layers (contrib)](https://www.tensorflow.org/api_guides/python/contrib.layers) packages to build each layer, except the layers you build in the \"Convolutional and Max Pooling Layer\" section.  TF Layers is similar to Keras's and TFLearn's abstraction to layers, so it's easy to pickup.\n",
    "\n",
    ">However, if you would like to get the most out of this course, try to solve all the problems _without_ using anything from the TF Layers packages. You **can** still use classes from other packages that happen to have the same name as ones you find in TF Layers! For example, instead of using the TF Layers version of the `conv2d` class, [tf.layers.conv2d](https://www.tensorflow.org/api_docs/python/tf/layers/conv2d), you would want to use the TF Neural Network version of `conv2d`, [tf.nn.conv2d](https://www.tensorflow.org/api_docs/python/tf/nn/conv2d). \n",
    "\n",
    "Let's begin!\n",
    "\n",
    "### Input\n",
    "The neural network needs to read the image data, one-hot encoded labels, and dropout keep probability. Implement the following functions\n",
    "* Implement `neural_net_image_input`\n",
    " * Return a [TF Placeholder](https://www.tensorflow.org/api_docs/python/tf/placeholder)\n",
    " * Set the shape using `image_shape` with batch size set to `None`.\n",
    " * Name the TensorFlow placeholder \"x\" using the TensorFlow `name` parameter in the [TF Placeholder](https://www.tensorflow.org/api_docs/python/tf/placeholder).\n",
    "* Implement `neural_net_label_input`\n",
    " * Return a [TF Placeholder](https://www.tensorflow.org/api_docs/python/tf/placeholder)\n",
    " * Set the shape using `n_classes` with batch size set to `None`.\n",
    " * Name the TensorFlow placeholder \"y\" using the TensorFlow `name` parameter in the [TF Placeholder](https://www.tensorflow.org/api_docs/python/tf/placeholder).\n",
    "* Implement `neural_net_keep_prob_input`\n",
    " * Return a [TF Placeholder](https://www.tensorflow.org/api_docs/python/tf/placeholder) for dropout keep probability.\n",
    " * Name the TensorFlow placeholder \"keep_prob\" using the TensorFlow `name` parameter in the [TF Placeholder](https://www.tensorflow.org/api_docs/python/tf/placeholder).\n",
    "\n",
    "These names will be used at the end of the project to load your saved model.\n",
    "\n",
    "Note: `None` for shapes in TensorFlow allow for a dynamic size."
   ]
  },
  {
   "cell_type": "code",
   "execution_count": 22,
   "metadata": {},
   "outputs": [
    {
     "name": "stdout",
     "output_type": "stream",
     "text": [
      "Image Input Tests Passed.\n",
      "Label Input Tests Passed.\n",
      "Keep Prob Tests Passed.\n"
     ]
    }
   ],
   "source": [
    "import tensorflow as tf\n",
    "\n",
    "def neural_net_image_input(image_shape):\n",
    "    \"\"\"\n",
    "    Return a Tensor for a batch of image input\n",
    "    : image_shape: Shape of the images\n",
    "    : return: Tensor for image input.\n",
    "    \"\"\"\n",
    "    # TODO: Implement Function\n",
    "    return tf.placeholder(tf.float32, [None] + list(image_shape), name='x')\n",
    "\n",
    "\n",
    "def neural_net_label_input(n_classes):\n",
    "    \"\"\"\n",
    "    Return a Tensor for a batch of label input\n",
    "    : n_classes: Number of classes\n",
    "    : return: Tensor for label input.\n",
    "    \"\"\"\n",
    "    # TODO: Implement Function\n",
    "    return tf.placeholder(tf.float32, [None ,n_classes], name='y')\n",
    "\n",
    "\n",
    "def neural_net_keep_prob_input():\n",
    "    \"\"\"\n",
    "    Return a Tensor for keep probability\n",
    "    : return: Tensor for keep probability.\n",
    "    \"\"\"\n",
    "    # TODO: Implement Function\n",
    "    \n",
    "    return tf.placeholder(tf.float32, None, name=\"keep_prob\")\n",
    "\n",
    "\n",
    "\"\"\"\n",
    "DON'T MODIFY ANYTHING IN THIS CELL THAT IS BELOW THIS LINE\n",
    "\"\"\"\n",
    "tf.reset_default_graph()\n",
    "tests.test_nn_image_inputs(neural_net_image_input)\n",
    "tests.test_nn_label_inputs(neural_net_label_input)\n",
    "tests.test_nn_keep_prob_inputs(neural_net_keep_prob_input)"
   ]
  },
  {
   "cell_type": "markdown",
   "metadata": {},
   "source": [
    "### Convolution and Max Pooling Layer\n",
    "Convolution layers have a lot of success with images. For this code cell, you should implement the function `conv2d_maxpool` to apply convolution then max pooling:\n",
    "* Create the weight and bias using `conv_ksize`, `conv_num_outputs` and the shape of `x_tensor`.\n",
    "* Apply a convolution to `x_tensor` using weight and `conv_strides`.\n",
    " * We recommend you use same padding, but you're welcome to use any padding.\n",
    "* Add bias\n",
    "* Add a nonlinear activation to the convolution.\n",
    "* Apply Max Pooling using `pool_ksize` and `pool_strides`.\n",
    " * We recommend you use same padding, but you're welcome to use any padding.\n",
    "\n",
    "**Note:** You **can't** use [TensorFlow Layers](https://www.tensorflow.org/api_docs/python/tf/layers) or [TensorFlow Layers (contrib)](https://www.tensorflow.org/api_guides/python/contrib.layers) for **this** layer, but you can still use TensorFlow's [Neural Network](https://www.tensorflow.org/api_docs/python/tf/nn) package. You may still use the shortcut option for all the **other** layers."
   ]
  },
  {
   "cell_type": "code",
   "execution_count": 23,
   "metadata": {},
   "outputs": [
    {
     "name": "stdout",
     "output_type": "stream",
     "text": [
      "Tests Passed\n"
     ]
    }
   ],
   "source": [
    "def conv2d_maxpool(x_tensor, conv_num_outputs, conv_ksize, conv_strides, pool_ksize, pool_strides):\n",
    "    \"\"\"\n",
    "    Apply convolution then max pooling to x_tensor\n",
    "    :param x_tensor: TensorFlow Tensor\n",
    "    :param conv_num_outputs: Number of outputs for the convolutional layer\n",
    "    :param conv_ksize: kernal size 2-D Tuple for the convolutional layer\n",
    "    :param conv_strides: Stride 2-D Tuple for convolution\n",
    "    :param pool_ksize: kernal size 2-D Tuple for pool\n",
    "    :param pool_strides: Stride 2-D Tuple for pool\n",
    "    : return: A tensor that represents convolution and max pooling of x_tensor\n",
    "    \"\"\"\n",
    "    # TODO: Implement Function\n",
    "    X_shape = x_tensor.get_shape().as_list()\n",
    "    C_kshape = list(conv_ksize + (X_shape[-1],) + (conv_num_outputs,))\n",
    "    #print(C_kshape)\n",
    "    #print(np.prod(C_kshape[:3]))\n",
    "    #print(np.sqrt(2.0/np.prod(C_kshape[:3])))\n",
    "    # The shape of the filter weight is (height, width, input_depth, output_depth)\n",
    "    # The shape of the filter bias is (output_depth,)\n",
    "    F_W = tf.Variable(tf.truncated_normal(C_kshape,0.0,0.1),dtype=np.float32)\n",
    "    F_b = tf.Variable(tf.zeros(conv_num_outputs,dtype=np.float32))\n",
    "    # The shape of the convolution stride is (batch_size, height, width, depth)\n",
    "    C_strides = list((1,)+conv_strides+(1,))\n",
    "    # The padding, either 'VALID' or 'SAME'.\n",
    "    padding = 'SAME'\n",
    "    conv_output = tf.nn.conv2d(x_tensor, F_W, C_strides, padding) + F_b\n",
    "    conv_output = tf.nn.selu(conv_output)\n",
    "    P_kshape = [1] + list(pool_ksize) + [1]\n",
    "    P_stride = [1] + list(pool_strides) + [1]\n",
    "    conv_output = tf.nn.max_pool(conv_output,P_kshape,P_stride,padding)\n",
    "    return conv_output\n",
    "\n",
    "\n",
    "\"\"\"\n",
    "DON'T MODIFY ANYTHING IN THIS CELL THAT IS BELOW THIS LINE\n",
    "\"\"\"\n",
    "tests.test_con_pool(conv2d_maxpool)"
   ]
  },
  {
   "cell_type": "markdown",
   "metadata": {},
   "source": [
    "### Flatten Layer\n",
    "Implement the `flatten` function to change the dimension of `x_tensor` from a 4-D tensor to a 2-D tensor.  The output should be the shape (*Batch Size*, *Flattened Image Size*). Shortcut option: you can use classes from the [TensorFlow Layers](https://www.tensorflow.org/api_docs/python/tf/layers) or [TensorFlow Layers (contrib)](https://www.tensorflow.org/api_guides/python/contrib.layers) packages for this layer. For more of a challenge, only use other TensorFlow packages."
   ]
  },
  {
   "cell_type": "code",
   "execution_count": 24,
   "metadata": {},
   "outputs": [
    {
     "name": "stdout",
     "output_type": "stream",
     "text": [
      "Tests Passed\n"
     ]
    }
   ],
   "source": [
    "def flatten(x_tensor):\n",
    "    \"\"\"\n",
    "    Flatten x_tensor to (Batch Size, Flattened Image Size)\n",
    "    : x_tensor: A tensor of size (Batch Size, ...), where ... are the image dimensions.\n",
    "    : return: A tensor of size (Batch Size, Flattened Image Size).\n",
    "    \"\"\"\n",
    "    # TODO: Implement Function\n",
    "    X_shape = x_tensor.get_shape().as_list()\n",
    "    return tf.reshape(x_tensor,[-1,np.prod(X_shape[1:])])\n",
    "\n",
    "\"\"\"\n",
    "DON'T MODIFY ANYTHING IN THIS CELL THAT IS BELOW THIS LINE\n",
    "\"\"\"\n",
    "tests.test_flatten(flatten)"
   ]
  },
  {
   "cell_type": "markdown",
   "metadata": {},
   "source": [
    "### Fully-Connected Layer\n",
    "Implement the `fully_conn` function to apply a fully connected layer to `x_tensor` with the shape (*Batch Size*, *num_outputs*). Shortcut option: you can use classes from the [TensorFlow Layers](https://www.tensorflow.org/api_docs/python/tf/layers) or [TensorFlow Layers (contrib)](https://www.tensorflow.org/api_guides/python/contrib.layers) packages for this layer. For more of a challenge, only use other TensorFlow packages."
   ]
  },
  {
   "cell_type": "code",
   "execution_count": 25,
   "metadata": {},
   "outputs": [
    {
     "name": "stdout",
     "output_type": "stream",
     "text": [
      "Tests Passed\n"
     ]
    }
   ],
   "source": [
    "def fully_conn(x_tensor, num_outputs):\n",
    "    \"\"\"\n",
    "    Apply a fully connected layer to x_tensor using weight and bias\n",
    "    : x_tensor: A 2-D tensor where the first dimension is batch size.\n",
    "    : num_outputs: The number of output that the new tensor should be.\n",
    "    : return: A 2-D tensor where the second dimension is num_outputs.\n",
    "    \"\"\"\n",
    "    # TODO: Implement Function\n",
    "    X_shape = x_tensor.get_shape().as_list()\n",
    "    shape = list((X_shape[-1],)+(num_outputs,))\n",
    "    #print(shape)\n",
    "    #print(shape[0])\n",
    "    W = tf.Variable(tf.truncated_normal(shape,0.0,0.1),dtype=np.float32)\n",
    "    b = tf.Variable(tf.zeros(num_outputs,dtype=np.float32))\n",
    "    return tf.nn.selu(tf.tensordot(x_tensor,W,axes=([1], [0]))+b)\n",
    "\n",
    "\n",
    "\"\"\"\n",
    "DON'T MODIFY ANYTHING IN THIS CELL THAT IS BELOW THIS LINE\n",
    "\"\"\"\n",
    "tests.test_fully_conn(fully_conn)"
   ]
  },
  {
   "cell_type": "code",
   "execution_count": 26,
   "metadata": {},
   "outputs": [
    {
     "name": "stdout",
     "output_type": "stream",
     "text": [
      "[[ 3.  3.]\n",
      " [ 6.  6.]]\n"
     ]
    }
   ],
   "source": [
    "with tf.Session() as sess:\n",
    "    a = tf.placeholder(tf.float32, None, name='a')\n",
    "    b = tf.placeholder(tf.float32, None, name='b')\n",
    "    c = tf.tensordot(a,b, axes=([1], [0]))\n",
    "    print(sess.run(c, feed_dict={a:[[1,1],[2,2]], b:[[2,2],[1,1]]}))"
   ]
  },
  {
   "cell_type": "code",
   "execution_count": 27,
   "metadata": {},
   "outputs": [
    {
     "data": {
      "text/plain": [
       "array([[3, 3],\n",
       "       [6, 6]])"
      ]
     },
     "execution_count": 27,
     "metadata": {},
     "output_type": "execute_result"
    }
   ],
   "source": [
    "a=np.array([[1,1],[2,2]])\n",
    "b=np.array([[2,2],[1,1]])\n",
    "np.dot(a,b)"
   ]
  },
  {
   "cell_type": "markdown",
   "metadata": {},
   "source": [
    "### Output Layer\n",
    "Implement the `output` function to apply a fully connected layer to `x_tensor` with the shape (*Batch Size*, *num_outputs*). Shortcut option: you can use classes from the [TensorFlow Layers](https://www.tensorflow.org/api_docs/python/tf/layers) or [TensorFlow Layers (contrib)](https://www.tensorflow.org/api_guides/python/contrib.layers) packages for this layer. For more of a challenge, only use other TensorFlow packages.\n",
    "\n",
    "**Note:** Activation, softmax, or cross entropy should **not** be applied to this."
   ]
  },
  {
   "cell_type": "code",
   "execution_count": 28,
   "metadata": {},
   "outputs": [
    {
     "name": "stdout",
     "output_type": "stream",
     "text": [
      "Tests Passed\n"
     ]
    }
   ],
   "source": [
    "def output(x_tensor, num_outputs):\n",
    "    \"\"\"\n",
    "    Apply a output layer to x_tensor using weight and bias\n",
    "    : x_tensor: A 2-D tensor where the first dimension is batch size.\n",
    "    : num_outputs: The number of output that the new tensor should be.\n",
    "    : return: A 2-D tensor where the second dimension is num_outputs.\n",
    "    \"\"\"\n",
    "    # TODO: Implement Function\n",
    "    X_shape = x_tensor.get_shape().as_list()\n",
    "    shape = list((X_shape[-1],)+(num_outputs,))\n",
    "    W = tf.Variable(tf.truncated_normal(shape,0.0,0.01),dtype=np.float32)\n",
    "    b = tf.Variable(tf.zeros(num_outputs,dtype=np.float32))\n",
    "    return tf.tensordot(x_tensor,W,axes=([1], [0]))+b\n",
    "\n",
    "\n",
    "\"\"\"\n",
    "DON'T MODIFY ANYTHING IN THIS CELL THAT IS BELOW THIS LINE\n",
    "\"\"\"\n",
    "tests.test_output(output)"
   ]
  },
  {
   "cell_type": "markdown",
   "metadata": {},
   "source": [
    "### Create Convolutional Model\n",
    "Implement the function `conv_net` to create a convolutional neural network model. The function takes in a batch of images, `x`, and outputs logits.  Use the layers you created above to create this model:\n",
    "\n",
    "* Apply 1, 2, or 3 Convolution and Max Pool layers\n",
    "* Apply a Flatten Layer\n",
    "* Apply 1, 2, or 3 Fully Connected Layers\n",
    "* Apply an Output Layer\n",
    "* Return the output\n",
    "* Apply [TensorFlow's Dropout](https://www.tensorflow.org/api_docs/python/tf/nn/dropout) to one or more layers in the model using `keep_prob`. "
   ]
  },
  {
   "cell_type": "code",
   "execution_count": 29,
   "metadata": {},
   "outputs": [
    {
     "name": "stdout",
     "output_type": "stream",
     "text": [
      "WARNING:tensorflow:From <ipython-input-29-d172eb69eb49>:63: softmax_cross_entropy_with_logits (from tensorflow.python.ops.nn_ops) is deprecated and will be removed in a future version.\n",
      "Instructions for updating:\n",
      "\n",
      "Future major versions of TensorFlow will allow gradients to flow\n",
      "into the labels input on backprop by default.\n",
      "\n",
      "See tf.nn.softmax_cross_entropy_with_logits_v2.\n",
      "\n",
      "Neural Network Built!\n"
     ]
    }
   ],
   "source": [
    "def conv_net(x, keep_prob):\n",
    "    \"\"\"\n",
    "    Create a convolutional neural network model\n",
    "    : x: Placeholder tensor that holds image data.\n",
    "    : keep_prob: Placeholder tensor that hold dropout keep probability.\n",
    "    : return: Tensor that represents logits\n",
    "    \"\"\"\n",
    "    \n",
    "    # TODO: Apply 1, 2, or 3 Convolution and Max Pool layers\n",
    "    #    Play around with different number of outputs, kernel size and stride\n",
    "    # Function Definition from Above:\n",
    "    #    conv2d_maxpool(x_tensor, conv_num_outputs, conv_ksize, conv_strides, pool_ksize, pool_strides)\n",
    "    #model = conv2d_maxpool(x, conv_num_outputs=400, conv_ksize=(3,3), conv_strides=(1,1), pool_ksize=(4,4), pool_strides=(1,1))\n",
    "    model = conv2d_maxpool(x, conv_num_outputs=20, conv_ksize=(3,3), conv_strides=(1,1), pool_ksize=(8,8), pool_strides=(1,1))\n",
    "    #model = conv2d_maxpool(model, conv_num_outputs=8, conv_ksize=(3,3), conv_strides=(1,1), pool_ksize=(4,4), pool_strides=(1,1))\n",
    "    model = tf.nn.dropout(model, keep_prob)\n",
    "    # TODO: Apply a Flatten Layer\n",
    "    # Function Definition from Above:\n",
    "    #   flatten(x_tensor)\n",
    "    model = flatten(model)\n",
    "\n",
    "    # TODO: Apply 1, 2, or 3 Fully Connected Layers\n",
    "    #    Play around with different number of outputs\n",
    "    # Function Definition from Above:\n",
    "    #   fully_conn(x_tensor, num_outputs)\n",
    "    model = fully_conn(model,500)\n",
    "    #model = fully_conn(model,50)\n",
    "    \n",
    "    model = tf.nn.dropout(model, keep_prob)\n",
    "    # TODO: Apply an Output Layer\n",
    "    #    Set this to the number of classes\n",
    "    # Function Definition from Above:\n",
    "    #   output(x_tensor, num_outputs)\n",
    "    model = output(model,10)\n",
    "    \n",
    "    # TODO: return output\n",
    "    return model\n",
    "\n",
    "\n",
    "\"\"\"\n",
    "DON'T MODIFY ANYTHING IN THIS CELL THAT IS BELOW THIS LINE\n",
    "\"\"\"\n",
    "\n",
    "##############################\n",
    "## Build the Neural Network ##\n",
    "##############################\n",
    "\n",
    "# Remove previous weights, bias, inputs, etc..\n",
    "tf.reset_default_graph()\n",
    "\n",
    "# Inputs\n",
    "x = neural_net_image_input((32, 32, 3))\n",
    "y = neural_net_label_input(10)\n",
    "keep_prob = neural_net_keep_prob_input()\n",
    "\n",
    "# Model\n",
    "logits = conv_net(x, keep_prob)\n",
    "\n",
    "# Name logits Tensor, so that is can be loaded from disk after training\n",
    "logits = tf.identity(logits, name='logits')\n",
    "\n",
    "# Loss and Optimizer\n",
    "cost = tf.reduce_mean(tf.nn.softmax_cross_entropy_with_logits(logits=logits, labels=y))\n",
    "optimizer = tf.train.AdamOptimizer().minimize(cost)\n",
    "\n",
    "# Accuracy\n",
    "correct_pred = tf.equal(tf.argmax(logits, 1), tf.argmax(y, 1))\n",
    "accuracy = tf.reduce_mean(tf.cast(correct_pred, tf.float32), name='accuracy')\n",
    "\n",
    "tests.test_conv_net(conv_net)"
   ]
  },
  {
   "cell_type": "markdown",
   "metadata": {},
   "source": [
    "## Train the Neural Network\n",
    "### Single Optimization\n",
    "Implement the function `train_neural_network` to do a single optimization.  The optimization should use `optimizer` to optimize in `session` with a `feed_dict` of the following:\n",
    "* `x` for image input\n",
    "* `y` for labels\n",
    "* `keep_prob` for keep probability for dropout\n",
    "\n",
    "This function will be called for each batch, so `tf.global_variables_initializer()` has already been called.\n",
    "\n",
    "Note: Nothing needs to be returned. This function is only optimizing the neural network."
   ]
  },
  {
   "cell_type": "code",
   "execution_count": 30,
   "metadata": {},
   "outputs": [
    {
     "name": "stdout",
     "output_type": "stream",
     "text": [
      "Tests Passed\n"
     ]
    }
   ],
   "source": [
    "def train_neural_network(session, optimizer, keep_probability, feature_batch, label_batch):\n",
    "    \"\"\"\n",
    "    Optimize the session on a batch of images and labels\n",
    "    : session: Current TensorFlow session\n",
    "    : optimizer: TensorFlow optimizer function\n",
    "    : keep_probability: keep probability\n",
    "    : feature_batch: Batch of Numpy image data\n",
    "    : label_batch: Batch of Numpy label data\n",
    "    \"\"\"\n",
    "    # TODO: Implement Function\n",
    "    session.run(optimizer, feed_dict={x:feature_batch, y:label_batch, keep_prob:keep_probability})\n",
    "    \n",
    "\"\"\"\n",
    "DON'T MODIFY ANYTHING IN THIS CELL THAT IS BELOW THIS LINE\n",
    "\"\"\"\n",
    "tests.test_train_nn(train_neural_network)"
   ]
  },
  {
   "cell_type": "markdown",
   "metadata": {},
   "source": [
    "### Show Stats\n",
    "Implement the function `print_stats` to print loss and validation accuracy.  Use the global variables `valid_features` and `valid_labels` to calculate validation accuracy.  Use a keep probability of `1.0` to calculate the loss and validation accuracy."
   ]
  },
  {
   "cell_type": "code",
   "execution_count": 31,
   "metadata": {},
   "outputs": [],
   "source": [
    "def print_stats(session, feature_batch, label_batch, cost, accuracy):\n",
    "    \"\"\"\n",
    "    Print information about loss and validation accuracy\n",
    "    : session: Current TensorFlow session\n",
    "    : feature_batch: Batch of Numpy image data\n",
    "    : label_batch: Batch of Numpy label data\n",
    "    : cost: TensorFlow cost function\n",
    "    : accuracy: TensorFlow accuracy function\n",
    "    \"\"\"\n",
    "    # TODO: Implement Function\n",
    "    loss = session.run(cost, feed_dict={x:feature_batch, y:label_batch, keep_prob:1.0})\n",
    "    valid_acc = sess.run(accuracy, feed_dict={x: valid_features, y: valid_labels, keep_prob: 1.})\n",
    "    print('Loss: {:>10.4f} Validation Accuracy: {:.6f}'.format(loss, valid_acc))\n",
    "    return loss, valid_acc"
   ]
  },
  {
   "cell_type": "markdown",
   "metadata": {},
   "source": [
    "### Hyperparameters\n",
    "Tune the following parameters:\n",
    "* Set `epochs` to the number of iterations until the network stops learning or start overfitting\n",
    "* Set `batch_size` to the highest number that your machine has memory for.  Most people set them to common sizes of memory:\n",
    " * 64\n",
    " * 128\n",
    " * 256\n",
    " * ...\n",
    "* Set `keep_probability` to the probability of keeping a node using dropout"
   ]
  },
  {
   "cell_type": "code",
   "execution_count": 32,
   "metadata": {},
   "outputs": [],
   "source": [
    "# TODO: Tune Parameters\n",
    "epochs = 100\n",
    "batch_size = 512\n",
    "keep_probability = 0.3"
   ]
  },
  {
   "cell_type": "markdown",
   "metadata": {},
   "source": [
    "### Train on a Single CIFAR-10 Batch\n",
    "Instead of training the neural network on all the CIFAR-10 batches of data, let's use a single batch. This should save time while you iterate on the model to get a better accuracy.  Once the final validation accuracy is 50% or greater, run the model on all the data in the next section."
   ]
  },
  {
   "cell_type": "code",
   "execution_count": 13,
   "metadata": {},
   "outputs": [
    {
     "name": "stdout",
     "output_type": "stream",
     "text": [
      "Checking the Training on a Single Batch...\n"
     ]
    },
    {
     "ename": "NameError",
     "evalue": "name 'optimizer' is not defined",
     "output_type": "error",
     "traceback": [
      "\u001b[0;31m\u001b[0m",
      "\u001b[0;31mNameError\u001b[0mTraceback (most recent call last)",
      "\u001b[0;32m<ipython-input-13-5e1a2330b26a>\u001b[0m in \u001b[0;36m<module>\u001b[0;34m()\u001b[0m\n\u001b[1;32m     12\u001b[0m         \u001b[0mbatch_i\u001b[0m \u001b[0;34m=\u001b[0m \u001b[0;36m1\u001b[0m\u001b[0;34m\u001b[0m\u001b[0m\n\u001b[1;32m     13\u001b[0m         \u001b[0;32mfor\u001b[0m \u001b[0mbatch_features\u001b[0m\u001b[0;34m,\u001b[0m \u001b[0mbatch_labels\u001b[0m \u001b[0;32min\u001b[0m \u001b[0mhelper\u001b[0m\u001b[0;34m.\u001b[0m\u001b[0mload_preprocess_training_batch\u001b[0m\u001b[0;34m(\u001b[0m\u001b[0mbatch_i\u001b[0m\u001b[0;34m,\u001b[0m \u001b[0mbatch_size\u001b[0m\u001b[0;34m)\u001b[0m\u001b[0;34m:\u001b[0m\u001b[0;34m\u001b[0m\u001b[0m\n\u001b[0;32m---> 14\u001b[0;31m             \u001b[0mtrain_neural_network\u001b[0m\u001b[0;34m(\u001b[0m\u001b[0msess\u001b[0m\u001b[0;34m,\u001b[0m \u001b[0moptimizer\u001b[0m\u001b[0;34m,\u001b[0m \u001b[0mkeep_probability\u001b[0m\u001b[0;34m,\u001b[0m \u001b[0mbatch_features\u001b[0m\u001b[0;34m,\u001b[0m \u001b[0mbatch_labels\u001b[0m\u001b[0;34m)\u001b[0m\u001b[0;34m\u001b[0m\u001b[0m\n\u001b[0m\u001b[1;32m     15\u001b[0m         \u001b[0mprint\u001b[0m\u001b[0;34m(\u001b[0m\u001b[0;34m'Epoch {:>2}, CIFAR-10 Batch {}:  '\u001b[0m\u001b[0;34m.\u001b[0m\u001b[0mformat\u001b[0m\u001b[0;34m(\u001b[0m\u001b[0mepoch\u001b[0m \u001b[0;34m+\u001b[0m \u001b[0;36m1\u001b[0m\u001b[0;34m,\u001b[0m \u001b[0mbatch_i\u001b[0m\u001b[0;34m)\u001b[0m\u001b[0;34m,\u001b[0m \u001b[0mend\u001b[0m\u001b[0;34m=\u001b[0m\u001b[0;34m''\u001b[0m\u001b[0;34m)\u001b[0m\u001b[0;34m\u001b[0m\u001b[0m\n\u001b[1;32m     16\u001b[0m         \u001b[0mprint_stats\u001b[0m\u001b[0;34m(\u001b[0m\u001b[0msess\u001b[0m\u001b[0;34m,\u001b[0m \u001b[0mbatch_features\u001b[0m\u001b[0;34m,\u001b[0m \u001b[0mbatch_labels\u001b[0m\u001b[0;34m,\u001b[0m \u001b[0mcost\u001b[0m\u001b[0;34m,\u001b[0m \u001b[0maccuracy\u001b[0m\u001b[0;34m)\u001b[0m\u001b[0;34m\u001b[0m\u001b[0m\n",
      "\u001b[0;31mNameError\u001b[0m: name 'optimizer' is not defined"
     ]
    }
   ],
   "source": [
    "\"\"\"\n",
    "DON'T MODIFY ANYTHING IN THIS CELL\n",
    "\"\"\"\n",
    "print('Checking the Training on a Single Batch...')\n",
    "\n",
    "with tf.Session(config=config) as sess:\n",
    "    # Initializing the variables\n",
    "    sess.run(tf.global_variables_initializer())\n",
    "    \n",
    "    # Training cycle\n",
    "    for epoch in range(epochs):\n",
    "        batch_i = 1\n",
    "        for batch_features, batch_labels in helper.load_preprocess_training_batch(batch_i, batch_size):\n",
    "            train_neural_network(sess, optimizer, keep_probability, batch_features, batch_labels)\n",
    "        print('Epoch {:>2}, CIFAR-10 Batch {}:  '.format(epoch + 1, batch_i), end='')\n",
    "        print_stats(sess, batch_features, batch_labels, cost, accuracy)"
   ]
  },
  {
   "cell_type": "markdown",
   "metadata": {},
   "source": [
    "### Fully Train the Model\n",
    "Now that you got a good accuracy with a single CIFAR-10 batch, try it with all five batches."
   ]
  },
  {
   "cell_type": "code",
   "execution_count": 33,
   "metadata": {},
   "outputs": [
    {
     "name": "stdout",
     "output_type": "stream",
     "text": [
      "Training...\n",
      "Epoch  1, CIFAR-10 Batch 1:  Loss:     2.0331 Validation Accuracy: 0.293200\n",
      "Epoch  1, CIFAR-10 Batch 2:  Loss:     1.7336 Validation Accuracy: 0.362800\n",
      "Epoch  1, CIFAR-10 Batch 3:  Loss:     1.5508 Validation Accuracy: 0.404400\n",
      "Epoch  1, CIFAR-10 Batch 4:  Loss:     1.4420 Validation Accuracy: 0.451000\n",
      "Epoch  1, CIFAR-10 Batch 5:  Loss:     1.5201 Validation Accuracy: 0.460800\n",
      "Epoch  2, CIFAR-10 Batch 1:  Loss:     1.5419 Validation Accuracy: 0.496200\n",
      "Epoch  2, CIFAR-10 Batch 2:  Loss:     1.3753 Validation Accuracy: 0.503600\n",
      "Epoch  2, CIFAR-10 Batch 3:  Loss:     1.2906 Validation Accuracy: 0.498400\n",
      "Epoch  2, CIFAR-10 Batch 4:  Loss:     1.2187 Validation Accuracy: 0.533400\n",
      "Epoch  2, CIFAR-10 Batch 5:  Loss:     1.3445 Validation Accuracy: 0.524000\n",
      "Epoch  3, CIFAR-10 Batch 1:  Loss:     1.3935 Validation Accuracy: 0.535200\n",
      "Epoch  3, CIFAR-10 Batch 2:  Loss:     1.2166 Validation Accuracy: 0.549200\n",
      "Epoch  3, CIFAR-10 Batch 3:  Loss:     1.1817 Validation Accuracy: 0.541200\n",
      "Epoch  3, CIFAR-10 Batch 4:  Loss:     1.1255 Validation Accuracy: 0.567600\n",
      "Epoch  3, CIFAR-10 Batch 5:  Loss:     1.2403 Validation Accuracy: 0.551600\n",
      "Epoch  4, CIFAR-10 Batch 1:  Loss:     1.3028 Validation Accuracy: 0.573200\n",
      "Epoch  4, CIFAR-10 Batch 2:  Loss:     1.1530 Validation Accuracy: 0.566400\n",
      "Epoch  4, CIFAR-10 Batch 3:  Loss:     1.0877 Validation Accuracy: 0.562600\n",
      "Epoch  4, CIFAR-10 Batch 4:  Loss:     1.0734 Validation Accuracy: 0.564400\n",
      "Epoch  4, CIFAR-10 Batch 5:  Loss:     1.1381 Validation Accuracy: 0.574000\n",
      "Epoch  5, CIFAR-10 Batch 1:  Loss:     1.2324 Validation Accuracy: 0.592600\n",
      "Epoch  5, CIFAR-10 Batch 2:  Loss:     1.0678 Validation Accuracy: 0.580400\n",
      "Epoch  5, CIFAR-10 Batch 3:  Loss:     1.0324 Validation Accuracy: 0.576200\n",
      "Epoch  5, CIFAR-10 Batch 4:  Loss:     0.9950 Validation Accuracy: 0.593000\n",
      "Epoch  5, CIFAR-10 Batch 5:  Loss:     1.0914 Validation Accuracy: 0.594000\n",
      "Epoch  6, CIFAR-10 Batch 1:  Loss:     1.1690 Validation Accuracy: 0.608000\n",
      "Epoch  6, CIFAR-10 Batch 2:  Loss:     0.9873 Validation Accuracy: 0.606400\n",
      "Epoch  6, CIFAR-10 Batch 3:  Loss:     0.9694 Validation Accuracy: 0.604600\n",
      "Epoch  6, CIFAR-10 Batch 4:  Loss:     0.9555 Validation Accuracy: 0.606200\n",
      "Epoch  6, CIFAR-10 Batch 5:  Loss:     1.0360 Validation Accuracy: 0.598200\n",
      "Epoch  7, CIFAR-10 Batch 1:  Loss:     1.1179 Validation Accuracy: 0.625200\n",
      "Epoch  7, CIFAR-10 Batch 2:  Loss:     0.9516 Validation Accuracy: 0.623800\n",
      "Epoch  7, CIFAR-10 Batch 3:  Loss:     0.9327 Validation Accuracy: 0.613800\n",
      "Epoch  7, CIFAR-10 Batch 4:  Loss:     0.9217 Validation Accuracy: 0.615000\n",
      "Epoch  7, CIFAR-10 Batch 5:  Loss:     0.9775 Validation Accuracy: 0.625000\n",
      "Epoch  8, CIFAR-10 Batch 1:  Loss:     1.0846 Validation Accuracy: 0.626600\n",
      "Epoch  8, CIFAR-10 Batch 2:  Loss:     0.9057 Validation Accuracy: 0.634800\n",
      "Epoch  8, CIFAR-10 Batch 3:  Loss:     0.8742 Validation Accuracy: 0.628200\n",
      "Epoch  8, CIFAR-10 Batch 4:  Loss:     0.8867 Validation Accuracy: 0.632000\n",
      "Epoch  8, CIFAR-10 Batch 5:  Loss:     0.9509 Validation Accuracy: 0.628800\n",
      "Epoch  9, CIFAR-10 Batch 1:  Loss:     1.0611 Validation Accuracy: 0.632600\n",
      "Epoch  9, CIFAR-10 Batch 2:  Loss:     0.8976 Validation Accuracy: 0.630800\n",
      "Epoch  9, CIFAR-10 Batch 3:  Loss:     0.8434 Validation Accuracy: 0.643600\n",
      "Epoch  9, CIFAR-10 Batch 4:  Loss:     0.8611 Validation Accuracy: 0.635200\n",
      "Epoch  9, CIFAR-10 Batch 5:  Loss:     0.8992 Validation Accuracy: 0.637000\n",
      "Epoch 10, CIFAR-10 Batch 1:  Loss:     1.0265 Validation Accuracy: 0.639200\n",
      "Epoch 10, CIFAR-10 Batch 2:  Loss:     0.8509 Validation Accuracy: 0.643800\n",
      "Epoch 10, CIFAR-10 Batch 3:  Loss:     0.8213 Validation Accuracy: 0.641800\n",
      "Epoch 10, CIFAR-10 Batch 4:  Loss:     0.8244 Validation Accuracy: 0.644200\n",
      "Epoch 10, CIFAR-10 Batch 5:  Loss:     0.8948 Validation Accuracy: 0.640400\n",
      "Epoch 11, CIFAR-10 Batch 1:  Loss:     1.0058 Validation Accuracy: 0.643000\n",
      "Epoch 11, CIFAR-10 Batch 2:  Loss:     0.8291 Validation Accuracy: 0.649600\n",
      "Epoch 11, CIFAR-10 Batch 3:  Loss:     0.8266 Validation Accuracy: 0.639400\n",
      "Epoch 11, CIFAR-10 Batch 4:  Loss:     0.8153 Validation Accuracy: 0.650200\n",
      "Epoch 11, CIFAR-10 Batch 5:  Loss:     0.8487 Validation Accuracy: 0.651600\n",
      "Epoch 12, CIFAR-10 Batch 1:  Loss:     0.9687 Validation Accuracy: 0.647600\n",
      "Epoch 12, CIFAR-10 Batch 2:  Loss:     0.7922 Validation Accuracy: 0.654800\n",
      "Epoch 12, CIFAR-10 Batch 3:  Loss:     0.7884 Validation Accuracy: 0.649800\n",
      "Epoch 12, CIFAR-10 Batch 4:  Loss:     0.8030 Validation Accuracy: 0.648400\n",
      "Epoch 12, CIFAR-10 Batch 5:  Loss:     0.8435 Validation Accuracy: 0.644800\n",
      "Epoch 13, CIFAR-10 Batch 1:  Loss:     0.9840 Validation Accuracy: 0.651600\n",
      "Epoch 13, CIFAR-10 Batch 2:  Loss:     0.8020 Validation Accuracy: 0.652400\n",
      "Epoch 13, CIFAR-10 Batch 3:  Loss:     0.7960 Validation Accuracy: 0.648400\n",
      "Epoch 13, CIFAR-10 Batch 4:  Loss:     0.7720 Validation Accuracy: 0.651600\n",
      "Epoch 13, CIFAR-10 Batch 5:  Loss:     0.8020 Validation Accuracy: 0.657600\n",
      "Epoch 14, CIFAR-10 Batch 1:  Loss:     0.9278 Validation Accuracy: 0.655400\n",
      "Epoch 14, CIFAR-10 Batch 2:  Loss:     0.7804 Validation Accuracy: 0.662200\n",
      "Epoch 14, CIFAR-10 Batch 3:  Loss:     0.7585 Validation Accuracy: 0.658600\n",
      "Epoch 14, CIFAR-10 Batch 4:  Loss:     0.7622 Validation Accuracy: 0.659600\n",
      "Epoch 14, CIFAR-10 Batch 5:  Loss:     0.7828 Validation Accuracy: 0.666000\n",
      "Epoch 15, CIFAR-10 Batch 1:  Loss:     0.9210 Validation Accuracy: 0.664200\n",
      "Epoch 15, CIFAR-10 Batch 2:  Loss:     0.7413 Validation Accuracy: 0.670400\n",
      "Epoch 15, CIFAR-10 Batch 3:  Loss:     0.7636 Validation Accuracy: 0.657600\n",
      "Epoch 15, CIFAR-10 Batch 4:  Loss:     0.7344 Validation Accuracy: 0.667000\n",
      "Epoch 15, CIFAR-10 Batch 5:  Loss:     0.7660 Validation Accuracy: 0.666200\n",
      "Epoch 16, CIFAR-10 Batch 1:  Loss:     0.9351 Validation Accuracy: 0.660400\n",
      "Epoch 16, CIFAR-10 Batch 2:  Loss:     0.7370 Validation Accuracy: 0.675000\n",
      "Epoch 16, CIFAR-10 Batch 3:  Loss:     0.7514 Validation Accuracy: 0.669200\n",
      "Epoch 16, CIFAR-10 Batch 4:  Loss:     0.7310 Validation Accuracy: 0.671000\n",
      "Epoch 16, CIFAR-10 Batch 5:  Loss:     0.7648 Validation Accuracy: 0.667400\n",
      "Epoch 17, CIFAR-10 Batch 1:  Loss:     0.9001 Validation Accuracy: 0.662200\n",
      "Epoch 17, CIFAR-10 Batch 2:  Loss:     0.7107 Validation Accuracy: 0.682400\n",
      "Epoch 17, CIFAR-10 Batch 3:  Loss:     0.7455 Validation Accuracy: 0.660200\n",
      "Epoch 17, CIFAR-10 Batch 4:  Loss:     0.7088 Validation Accuracy: 0.675800\n",
      "Epoch 17, CIFAR-10 Batch 5:  Loss:     0.7408 Validation Accuracy: 0.673400\n",
      "Epoch 18, CIFAR-10 Batch 1:  Loss:     0.8732 Validation Accuracy: 0.671800\n",
      "Epoch 18, CIFAR-10 Batch 2:  Loss:     0.7184 Validation Accuracy: 0.678200\n",
      "Epoch 18, CIFAR-10 Batch 3:  Loss:     0.7115 Validation Accuracy: 0.671800\n",
      "Epoch 18, CIFAR-10 Batch 4:  Loss:     0.7093 Validation Accuracy: 0.678000\n",
      "Epoch 18, CIFAR-10 Batch 5:  Loss:     0.7362 Validation Accuracy: 0.669000\n",
      "Epoch 19, CIFAR-10 Batch 1:  Loss:     0.8599 Validation Accuracy: 0.677800\n",
      "Epoch 19, CIFAR-10 Batch 2:  Loss:     0.7145 Validation Accuracy: 0.681400\n",
      "Epoch 19, CIFAR-10 Batch 3:  Loss:     0.6879 Validation Accuracy: 0.677200\n",
      "Epoch 19, CIFAR-10 Batch 4:  Loss:     0.6810 Validation Accuracy: 0.682800\n",
      "Epoch 19, CIFAR-10 Batch 5:  Loss:     0.7077 Validation Accuracy: 0.679600\n",
      "Epoch 20, CIFAR-10 Batch 1:  Loss:     0.8491 Validation Accuracy: 0.674000\n",
      "Epoch 20, CIFAR-10 Batch 2:  Loss:     0.6905 Validation Accuracy: 0.685400\n",
      "Epoch 20, CIFAR-10 Batch 3:  Loss:     0.7072 Validation Accuracy: 0.666200\n",
      "Epoch 20, CIFAR-10 Batch 4:  Loss:     0.6910 Validation Accuracy: 0.677800\n",
      "Epoch 20, CIFAR-10 Batch 5:  Loss:     0.7192 Validation Accuracy: 0.679600\n",
      "Epoch 21, CIFAR-10 Batch 1:  Loss:     0.8260 Validation Accuracy: 0.682600\n",
      "Epoch 21, CIFAR-10 Batch 2:  Loss:     0.6768 Validation Accuracy: 0.692000\n",
      "Epoch 21, CIFAR-10 Batch 3:  Loss:     0.6608 Validation Accuracy: 0.679400\n",
      "Epoch 21, CIFAR-10 Batch 4:  Loss:     0.6619 Validation Accuracy: 0.688200\n",
      "Epoch 21, CIFAR-10 Batch 5:  Loss:     0.6852 Validation Accuracy: 0.683600\n",
      "Epoch 22, CIFAR-10 Batch 1:  Loss:     0.8688 Validation Accuracy: 0.670600\n",
      "Epoch 22, CIFAR-10 Batch 2:  Loss:     0.6619 Validation Accuracy: 0.689800\n",
      "Epoch 22, CIFAR-10 Batch 3:  Loss:     0.6898 Validation Accuracy: 0.679800\n"
     ]
    },
    {
     "name": "stdout",
     "output_type": "stream",
     "text": [
      "Epoch 22, CIFAR-10 Batch 4:  Loss:     0.6598 Validation Accuracy: 0.690000\n",
      "Epoch 22, CIFAR-10 Batch 5:  Loss:     0.6837 Validation Accuracy: 0.685200\n",
      "Epoch 23, CIFAR-10 Batch 1:  Loss:     0.8163 Validation Accuracy: 0.687600\n",
      "Epoch 23, CIFAR-10 Batch 2:  Loss:     0.6652 Validation Accuracy: 0.692200\n",
      "Epoch 23, CIFAR-10 Batch 3:  Loss:     0.6588 Validation Accuracy: 0.689200\n",
      "Epoch 23, CIFAR-10 Batch 4:  Loss:     0.6522 Validation Accuracy: 0.688000\n",
      "Epoch 23, CIFAR-10 Batch 5:  Loss:     0.6739 Validation Accuracy: 0.684800\n",
      "Epoch 24, CIFAR-10 Batch 1:  Loss:     0.7983 Validation Accuracy: 0.690200\n",
      "Epoch 24, CIFAR-10 Batch 2:  Loss:     0.6398 Validation Accuracy: 0.698800\n",
      "Epoch 24, CIFAR-10 Batch 3:  Loss:     0.6452 Validation Accuracy: 0.689400\n",
      "Epoch 24, CIFAR-10 Batch 4:  Loss:     0.6462 Validation Accuracy: 0.695200\n",
      "Epoch 24, CIFAR-10 Batch 5:  Loss:     0.6648 Validation Accuracy: 0.691000\n",
      "Epoch 25, CIFAR-10 Batch 1:  Loss:     0.8054 Validation Accuracy: 0.682600\n",
      "Epoch 25, CIFAR-10 Batch 2:  Loss:     0.6148 Validation Accuracy: 0.695000\n",
      "Epoch 25, CIFAR-10 Batch 3:  Loss:     0.6449 Validation Accuracy: 0.683400\n",
      "Epoch 25, CIFAR-10 Batch 4:  Loss:     0.6245 Validation Accuracy: 0.693800\n",
      "Epoch 25, CIFAR-10 Batch 5:  Loss:     0.6576 Validation Accuracy: 0.689000\n",
      "Epoch 26, CIFAR-10 Batch 1:  Loss:     0.8036 Validation Accuracy: 0.683000\n",
      "Epoch 26, CIFAR-10 Batch 2:  Loss:     0.6459 Validation Accuracy: 0.689400\n",
      "Epoch 26, CIFAR-10 Batch 3:  Loss:     0.6614 Validation Accuracy: 0.682200\n",
      "Epoch 26, CIFAR-10 Batch 4:  Loss:     0.6255 Validation Accuracy: 0.694200\n",
      "Epoch 26, CIFAR-10 Batch 5:  Loss:     0.6377 Validation Accuracy: 0.694200\n",
      "Epoch 27, CIFAR-10 Batch 1:  Loss:     0.7815 Validation Accuracy: 0.687200\n",
      "Epoch 27, CIFAR-10 Batch 2:  Loss:     0.6208 Validation Accuracy: 0.698400\n",
      "Epoch 27, CIFAR-10 Batch 3:  Loss:     0.6151 Validation Accuracy: 0.702600\n",
      "Epoch 27, CIFAR-10 Batch 4:  Loss:     0.6309 Validation Accuracy: 0.696000\n",
      "Epoch 27, CIFAR-10 Batch 5:  Loss:     0.6297 Validation Accuracy: 0.692000\n",
      "Epoch 28, CIFAR-10 Batch 1:  Loss:     0.7518 Validation Accuracy: 0.696200\n",
      "Epoch 28, CIFAR-10 Batch 2:  Loss:     0.6139 Validation Accuracy: 0.700000\n",
      "Epoch 28, CIFAR-10 Batch 3:  Loss:     0.6108 Validation Accuracy: 0.698400\n",
      "Epoch 28, CIFAR-10 Batch 4:  Loss:     0.6250 Validation Accuracy: 0.691800\n",
      "Epoch 28, CIFAR-10 Batch 5:  Loss:     0.6064 Validation Accuracy: 0.693800\n",
      "Epoch 29, CIFAR-10 Batch 1:  Loss:     0.7703 Validation Accuracy: 0.689600\n",
      "Epoch 29, CIFAR-10 Batch 2:  Loss:     0.6230 Validation Accuracy: 0.696200\n",
      "Epoch 29, CIFAR-10 Batch 3:  Loss:     0.6291 Validation Accuracy: 0.689800\n",
      "Epoch 29, CIFAR-10 Batch 4:  Loss:     0.5902 Validation Accuracy: 0.704400\n",
      "Epoch 29, CIFAR-10 Batch 5:  Loss:     0.6005 Validation Accuracy: 0.698000\n",
      "Epoch 30, CIFAR-10 Batch 1:  Loss:     0.7317 Validation Accuracy: 0.699800\n",
      "Epoch 30, CIFAR-10 Batch 2:  Loss:     0.5929 Validation Accuracy: 0.707000\n",
      "Epoch 30, CIFAR-10 Batch 3:  Loss:     0.5791 Validation Accuracy: 0.698800\n",
      "Epoch 30, CIFAR-10 Batch 4:  Loss:     0.5933 Validation Accuracy: 0.699600\n",
      "Epoch 30, CIFAR-10 Batch 5:  Loss:     0.5921 Validation Accuracy: 0.695600\n",
      "Epoch 31, CIFAR-10 Batch 1:  Loss:     0.7453 Validation Accuracy: 0.693000\n",
      "Epoch 31, CIFAR-10 Batch 2:  Loss:     0.5837 Validation Accuracy: 0.708800\n",
      "Epoch 31, CIFAR-10 Batch 3:  Loss:     0.5842 Validation Accuracy: 0.699200\n",
      "Epoch 31, CIFAR-10 Batch 4:  Loss:     0.5700 Validation Accuracy: 0.702800\n",
      "Epoch 31, CIFAR-10 Batch 5:  Loss:     0.5718 Validation Accuracy: 0.704000\n",
      "Epoch 32, CIFAR-10 Batch 1:  Loss:     0.7176 Validation Accuracy: 0.704200\n",
      "Epoch 32, CIFAR-10 Batch 2:  Loss:     0.5755 Validation Accuracy: 0.706400\n",
      "Epoch 32, CIFAR-10 Batch 3:  Loss:     0.5766 Validation Accuracy: 0.704800\n",
      "Epoch 32, CIFAR-10 Batch 4:  Loss:     0.5858 Validation Accuracy: 0.704200\n",
      "Epoch 32, CIFAR-10 Batch 5:  Loss:     0.5821 Validation Accuracy: 0.703000\n",
      "Epoch 33, CIFAR-10 Batch 1:  Loss:     0.7310 Validation Accuracy: 0.698200\n",
      "Epoch 33, CIFAR-10 Batch 2:  Loss:     0.5642 Validation Accuracy: 0.714800\n",
      "Epoch 33, CIFAR-10 Batch 3:  Loss:     0.5781 Validation Accuracy: 0.700800\n",
      "Epoch 33, CIFAR-10 Batch 4:  Loss:     0.5918 Validation Accuracy: 0.698400\n",
      "Epoch 33, CIFAR-10 Batch 5:  Loss:     0.5770 Validation Accuracy: 0.710400\n",
      "Epoch 34, CIFAR-10 Batch 1:  Loss:     0.6956 Validation Accuracy: 0.704800\n",
      "Epoch 34, CIFAR-10 Batch 2:  Loss:     0.5728 Validation Accuracy: 0.707200\n",
      "Epoch 34, CIFAR-10 Batch 3:  Loss:     0.5734 Validation Accuracy: 0.699000\n",
      "Epoch 34, CIFAR-10 Batch 4:  Loss:     0.5613 Validation Accuracy: 0.706400\n",
      "Epoch 34, CIFAR-10 Batch 5:  Loss:     0.5561 Validation Accuracy: 0.706800\n",
      "Epoch 35, CIFAR-10 Batch 1:  Loss:     0.7040 Validation Accuracy: 0.704000\n",
      "Epoch 35, CIFAR-10 Batch 2:  Loss:     0.5459 Validation Accuracy: 0.713600\n",
      "Epoch 35, CIFAR-10 Batch 3:  Loss:     0.5596 Validation Accuracy: 0.711600\n",
      "Epoch 35, CIFAR-10 Batch 4:  Loss:     0.5532 Validation Accuracy: 0.714400\n",
      "Epoch 35, CIFAR-10 Batch 5:  Loss:     0.5732 Validation Accuracy: 0.701400\n",
      "Epoch 36, CIFAR-10 Batch 1:  Loss:     0.6947 Validation Accuracy: 0.702800\n",
      "Epoch 36, CIFAR-10 Batch 2:  Loss:     0.5603 Validation Accuracy: 0.718600\n",
      "Epoch 36, CIFAR-10 Batch 3:  Loss:     0.5794 Validation Accuracy: 0.701400\n",
      "Epoch 36, CIFAR-10 Batch 4:  Loss:     0.5846 Validation Accuracy: 0.693800\n",
      "Epoch 36, CIFAR-10 Batch 5:  Loss:     0.5498 Validation Accuracy: 0.706600\n",
      "Epoch 37, CIFAR-10 Batch 1:  Loss:     0.7036 Validation Accuracy: 0.701400\n",
      "Epoch 37, CIFAR-10 Batch 2:  Loss:     0.5447 Validation Accuracy: 0.708600\n",
      "Epoch 37, CIFAR-10 Batch 3:  Loss:     0.5447 Validation Accuracy: 0.712600\n",
      "Epoch 37, CIFAR-10 Batch 4:  Loss:     0.5593 Validation Accuracy: 0.700200\n",
      "Epoch 37, CIFAR-10 Batch 5:  Loss:     0.5338 Validation Accuracy: 0.713800\n",
      "Epoch 38, CIFAR-10 Batch 1:  Loss:     0.6618 Validation Accuracy: 0.710800\n",
      "Epoch 38, CIFAR-10 Batch 2:  Loss:     0.5533 Validation Accuracy: 0.711800\n",
      "Epoch 38, CIFAR-10 Batch 3:  Loss:     0.5320 Validation Accuracy: 0.712400\n",
      "Epoch 38, CIFAR-10 Batch 4:  Loss:     0.5504 Validation Accuracy: 0.703600\n",
      "Epoch 38, CIFAR-10 Batch 5:  Loss:     0.5455 Validation Accuracy: 0.708800\n",
      "Epoch 39, CIFAR-10 Batch 1:  Loss:     0.6784 Validation Accuracy: 0.701400\n",
      "Epoch 39, CIFAR-10 Batch 2:  Loss:     0.5388 Validation Accuracy: 0.718400\n",
      "Epoch 39, CIFAR-10 Batch 3:  Loss:     0.5452 Validation Accuracy: 0.709400\n",
      "Epoch 39, CIFAR-10 Batch 4:  Loss:     0.5303 Validation Accuracy: 0.706200\n",
      "Epoch 39, CIFAR-10 Batch 5:  Loss:     0.5154 Validation Accuracy: 0.714400\n",
      "Epoch 40, CIFAR-10 Batch 1:  Loss:     0.6504 Validation Accuracy: 0.709600\n",
      "Epoch 40, CIFAR-10 Batch 2:  Loss:     0.5192 Validation Accuracy: 0.717000\n",
      "Epoch 40, CIFAR-10 Batch 3:  Loss:     0.5315 Validation Accuracy: 0.713000\n",
      "Epoch 40, CIFAR-10 Batch 4:  Loss:     0.5505 Validation Accuracy: 0.708400\n",
      "Epoch 40, CIFAR-10 Batch 5:  Loss:     0.5110 Validation Accuracy: 0.715800\n",
      "Epoch 41, CIFAR-10 Batch 1:  Loss:     0.6211 Validation Accuracy: 0.715000\n",
      "Epoch 41, CIFAR-10 Batch 2:  Loss:     0.5224 Validation Accuracy: 0.720600\n",
      "Epoch 41, CIFAR-10 Batch 3:  Loss:     0.5104 Validation Accuracy: 0.718400\n",
      "Epoch 41, CIFAR-10 Batch 4:  Loss:     0.5061 Validation Accuracy: 0.717600\n",
      "Epoch 41, CIFAR-10 Batch 5:  Loss:     0.5130 Validation Accuracy: 0.719600\n",
      "Epoch 42, CIFAR-10 Batch 1:  Loss:     0.6589 Validation Accuracy: 0.711800\n",
      "Epoch 42, CIFAR-10 Batch 2:  Loss:     0.5293 Validation Accuracy: 0.718200\n",
      "Epoch 42, CIFAR-10 Batch 3:  Loss:     0.5234 Validation Accuracy: 0.710200\n",
      "Epoch 42, CIFAR-10 Batch 4:  Loss:     0.5194 Validation Accuracy: 0.712800\n",
      "Epoch 42, CIFAR-10 Batch 5:  Loss:     0.5066 Validation Accuracy: 0.708400\n",
      "Epoch 43, CIFAR-10 Batch 1:  Loss:     0.6544 Validation Accuracy: 0.710400\n",
      "Epoch 43, CIFAR-10 Batch 2:  Loss:     0.4969 Validation Accuracy: 0.719400\n",
      "Epoch 43, CIFAR-10 Batch 3:  Loss:     0.5104 Validation Accuracy: 0.714000\n",
      "Epoch 43, CIFAR-10 Batch 4:  Loss:     0.5166 Validation Accuracy: 0.723400\n",
      "Epoch 43, CIFAR-10 Batch 5:  Loss:     0.4908 Validation Accuracy: 0.719000\n",
      "Epoch 44, CIFAR-10 Batch 1:  Loss:     0.6315 Validation Accuracy: 0.716400\n"
     ]
    },
    {
     "name": "stdout",
     "output_type": "stream",
     "text": [
      "Epoch 44, CIFAR-10 Batch 2:  Loss:     0.5073 Validation Accuracy: 0.724600\n",
      "Epoch 44, CIFAR-10 Batch 3:  Loss:     0.4955 Validation Accuracy: 0.723600\n",
      "Epoch 44, CIFAR-10 Batch 4:  Loss:     0.5223 Validation Accuracy: 0.711200\n",
      "Epoch 44, CIFAR-10 Batch 5:  Loss:     0.5078 Validation Accuracy: 0.715200\n",
      "Epoch 45, CIFAR-10 Batch 1:  Loss:     0.6312 Validation Accuracy: 0.715200\n",
      "Epoch 45, CIFAR-10 Batch 2:  Loss:     0.4896 Validation Accuracy: 0.725800\n",
      "Epoch 45, CIFAR-10 Batch 3:  Loss:     0.4796 Validation Accuracy: 0.723200\n",
      "Epoch 45, CIFAR-10 Batch 4:  Loss:     0.4989 Validation Accuracy: 0.721400\n",
      "Epoch 45, CIFAR-10 Batch 5:  Loss:     0.4848 Validation Accuracy: 0.718600\n",
      "Epoch 46, CIFAR-10 Batch 1:  Loss:     0.6048 Validation Accuracy: 0.714000\n",
      "Epoch 46, CIFAR-10 Batch 2:  Loss:     0.4845 Validation Accuracy: 0.732800\n",
      "Epoch 46, CIFAR-10 Batch 3:  Loss:     0.4865 Validation Accuracy: 0.725600\n",
      "Epoch 46, CIFAR-10 Batch 4:  Loss:     0.4913 Validation Accuracy: 0.727400\n",
      "Epoch 46, CIFAR-10 Batch 5:  Loss:     0.5033 Validation Accuracy: 0.720000\n",
      "Epoch 47, CIFAR-10 Batch 1:  Loss:     0.6360 Validation Accuracy: 0.711600\n",
      "Epoch 47, CIFAR-10 Batch 2:  Loss:     0.5069 Validation Accuracy: 0.718200\n",
      "Epoch 47, CIFAR-10 Batch 3:  Loss:     0.4836 Validation Accuracy: 0.722200\n",
      "Epoch 47, CIFAR-10 Batch 4:  Loss:     0.5080 Validation Accuracy: 0.718600\n",
      "Epoch 47, CIFAR-10 Batch 5:  Loss:     0.4904 Validation Accuracy: 0.714000\n",
      "Epoch 48, CIFAR-10 Batch 1:  Loss:     0.5929 Validation Accuracy: 0.716800\n",
      "Epoch 48, CIFAR-10 Batch 2:  Loss:     0.4817 Validation Accuracy: 0.730000\n",
      "Epoch 48, CIFAR-10 Batch 3:  Loss:     0.4616 Validation Accuracy: 0.726000\n",
      "Epoch 48, CIFAR-10 Batch 4:  Loss:     0.4832 Validation Accuracy: 0.716000\n",
      "Epoch 48, CIFAR-10 Batch 5:  Loss:     0.4778 Validation Accuracy: 0.721400\n",
      "Epoch 49, CIFAR-10 Batch 1:  Loss:     0.6306 Validation Accuracy: 0.707200\n",
      "Epoch 49, CIFAR-10 Batch 2:  Loss:     0.4913 Validation Accuracy: 0.725600\n",
      "Epoch 49, CIFAR-10 Batch 3:  Loss:     0.4671 Validation Accuracy: 0.727000\n",
      "Epoch 49, CIFAR-10 Batch 4:  Loss:     0.4736 Validation Accuracy: 0.724600\n",
      "Epoch 49, CIFAR-10 Batch 5:  Loss:     0.4609 Validation Accuracy: 0.732200\n",
      "Epoch 50, CIFAR-10 Batch 1:  Loss:     0.6024 Validation Accuracy: 0.719000\n",
      "Epoch 50, CIFAR-10 Batch 2:  Loss:     0.4781 Validation Accuracy: 0.725600\n",
      "Epoch 50, CIFAR-10 Batch 3:  Loss:     0.4664 Validation Accuracy: 0.727800\n",
      "Epoch 50, CIFAR-10 Batch 4:  Loss:     0.4735 Validation Accuracy: 0.719000\n",
      "Epoch 50, CIFAR-10 Batch 5:  Loss:     0.4766 Validation Accuracy: 0.721200\n",
      "Epoch 51, CIFAR-10 Batch 1:  Loss:     0.6041 Validation Accuracy: 0.714800\n",
      "Epoch 51, CIFAR-10 Batch 2:  Loss:     0.4653 Validation Accuracy: 0.733800\n",
      "Epoch 51, CIFAR-10 Batch 3:  Loss:     0.4604 Validation Accuracy: 0.732400\n",
      "Epoch 51, CIFAR-10 Batch 4:  Loss:     0.4623 Validation Accuracy: 0.730200\n",
      "Epoch 51, CIFAR-10 Batch 5:  Loss:     0.4600 Validation Accuracy: 0.731200\n",
      "Epoch 52, CIFAR-10 Batch 1:  Loss:     0.5739 Validation Accuracy: 0.725400\n",
      "Epoch 52, CIFAR-10 Batch 2:  Loss:     0.4723 Validation Accuracy: 0.730000\n",
      "Epoch 52, CIFAR-10 Batch 3:  Loss:     0.4519 Validation Accuracy: 0.730400\n",
      "Epoch 52, CIFAR-10 Batch 4:  Loss:     0.4483 Validation Accuracy: 0.723200\n",
      "Epoch 52, CIFAR-10 Batch 5:  Loss:     0.4320 Validation Accuracy: 0.729800\n",
      "Epoch 53, CIFAR-10 Batch 1:  Loss:     0.5749 Validation Accuracy: 0.724400\n",
      "Epoch 53, CIFAR-10 Batch 2:  Loss:     0.4528 Validation Accuracy: 0.730200\n",
      "Epoch 53, CIFAR-10 Batch 3:  Loss:     0.4550 Validation Accuracy: 0.730800\n",
      "Epoch 53, CIFAR-10 Batch 4:  Loss:     0.4749 Validation Accuracy: 0.728200\n",
      "Epoch 53, CIFAR-10 Batch 5:  Loss:     0.4652 Validation Accuracy: 0.721400\n",
      "Epoch 54, CIFAR-10 Batch 1:  Loss:     0.6018 Validation Accuracy: 0.715000\n",
      "Epoch 54, CIFAR-10 Batch 2:  Loss:     0.4611 Validation Accuracy: 0.729200\n",
      "Epoch 54, CIFAR-10 Batch 3:  Loss:     0.4540 Validation Accuracy: 0.726800\n",
      "Epoch 54, CIFAR-10 Batch 4:  Loss:     0.4487 Validation Accuracy: 0.721000\n",
      "Epoch 54, CIFAR-10 Batch 5:  Loss:     0.4452 Validation Accuracy: 0.724800\n",
      "Epoch 55, CIFAR-10 Batch 1:  Loss:     0.5784 Validation Accuracy: 0.720200\n",
      "Epoch 55, CIFAR-10 Batch 2:  Loss:     0.4461 Validation Accuracy: 0.731200\n",
      "Epoch 55, CIFAR-10 Batch 3:  Loss:     0.4414 Validation Accuracy: 0.731600\n",
      "Epoch 55, CIFAR-10 Batch 4:  Loss:     0.4290 Validation Accuracy: 0.731000\n",
      "Epoch 55, CIFAR-10 Batch 5:  Loss:     0.4313 Validation Accuracy: 0.728000\n",
      "Epoch 56, CIFAR-10 Batch 1:  Loss:     0.5710 Validation Accuracy: 0.716600\n",
      "Epoch 56, CIFAR-10 Batch 2:  Loss:     0.4450 Validation Accuracy: 0.734600\n",
      "Epoch 56, CIFAR-10 Batch 3:  Loss:     0.4474 Validation Accuracy: 0.730400\n",
      "Epoch 56, CIFAR-10 Batch 4:  Loss:     0.4459 Validation Accuracy: 0.727400\n",
      "Epoch 56, CIFAR-10 Batch 5:  Loss:     0.4340 Validation Accuracy: 0.727600\n",
      "Epoch 57, CIFAR-10 Batch 1:  Loss:     0.5540 Validation Accuracy: 0.725800\n",
      "Epoch 57, CIFAR-10 Batch 2:  Loss:     0.4443 Validation Accuracy: 0.737800\n",
      "Epoch 57, CIFAR-10 Batch 3:  Loss:     0.4306 Validation Accuracy: 0.726000\n",
      "Epoch 57, CIFAR-10 Batch 4:  Loss:     0.4361 Validation Accuracy: 0.734600\n",
      "Epoch 57, CIFAR-10 Batch 5:  Loss:     0.4205 Validation Accuracy: 0.731400\n",
      "Epoch 58, CIFAR-10 Batch 1:  Loss:     0.5813 Validation Accuracy: 0.721000\n",
      "Epoch 58, CIFAR-10 Batch 2:  Loss:     0.4349 Validation Accuracy: 0.732800\n",
      "Epoch 58, CIFAR-10 Batch 3:  Loss:     0.4384 Validation Accuracy: 0.731000\n",
      "Epoch 58, CIFAR-10 Batch 4:  Loss:     0.4397 Validation Accuracy: 0.732000\n",
      "Epoch 58, CIFAR-10 Batch 5:  Loss:     0.4316 Validation Accuracy: 0.726600\n",
      "Epoch 59, CIFAR-10 Batch 1:  Loss:     0.5619 Validation Accuracy: 0.719600\n",
      "Epoch 59, CIFAR-10 Batch 2:  Loss:     0.4528 Validation Accuracy: 0.734200\n",
      "Epoch 59, CIFAR-10 Batch 3:  Loss:     0.4300 Validation Accuracy: 0.730600\n",
      "Epoch 59, CIFAR-10 Batch 4:  Loss:     0.4340 Validation Accuracy: 0.732800\n",
      "Epoch 59, CIFAR-10 Batch 5:  Loss:     0.4204 Validation Accuracy: 0.729800\n",
      "Epoch 60, CIFAR-10 Batch 1:  Loss:     0.5402 Validation Accuracy: 0.725400\n",
      "Epoch 60, CIFAR-10 Batch 2:  Loss:     0.4365 Validation Accuracy: 0.734600\n",
      "Epoch 60, CIFAR-10 Batch 3:  Loss:     0.4241 Validation Accuracy: 0.730600\n",
      "Epoch 60, CIFAR-10 Batch 4:  Loss:     0.4243 Validation Accuracy: 0.729000\n",
      "Epoch 60, CIFAR-10 Batch 5:  Loss:     0.4286 Validation Accuracy: 0.731600\n",
      "Epoch 61, CIFAR-10 Batch 1:  Loss:     0.5508 Validation Accuracy: 0.722000\n",
      "Epoch 61, CIFAR-10 Batch 2:  Loss:     0.4271 Validation Accuracy: 0.731800\n",
      "Epoch 61, CIFAR-10 Batch 3:  Loss:     0.4326 Validation Accuracy: 0.731400\n",
      "Epoch 61, CIFAR-10 Batch 4:  Loss:     0.4125 Validation Accuracy: 0.742800\n",
      "Epoch 61, CIFAR-10 Batch 5:  Loss:     0.3976 Validation Accuracy: 0.732800\n",
      "Epoch 62, CIFAR-10 Batch 1:  Loss:     0.5026 Validation Accuracy: 0.733600\n",
      "Epoch 62, CIFAR-10 Batch 2:  Loss:     0.4114 Validation Accuracy: 0.738600\n",
      "Epoch 62, CIFAR-10 Batch 3:  Loss:     0.4104 Validation Accuracy: 0.730200\n",
      "Epoch 62, CIFAR-10 Batch 4:  Loss:     0.4187 Validation Accuracy: 0.736600\n",
      "Epoch 62, CIFAR-10 Batch 5:  Loss:     0.4241 Validation Accuracy: 0.729200\n",
      "Epoch 63, CIFAR-10 Batch 1:  Loss:     0.5188 Validation Accuracy: 0.720000\n",
      "Epoch 63, CIFAR-10 Batch 2:  Loss:     0.4181 Validation Accuracy: 0.741400\n",
      "Epoch 63, CIFAR-10 Batch 3:  Loss:     0.4016 Validation Accuracy: 0.734400\n",
      "Epoch 63, CIFAR-10 Batch 4:  Loss:     0.4017 Validation Accuracy: 0.736200\n",
      "Epoch 63, CIFAR-10 Batch 5:  Loss:     0.4038 Validation Accuracy: 0.732200\n",
      "Epoch 64, CIFAR-10 Batch 1:  Loss:     0.5215 Validation Accuracy: 0.727600\n",
      "Epoch 64, CIFAR-10 Batch 2:  Loss:     0.4095 Validation Accuracy: 0.734800\n",
      "Epoch 64, CIFAR-10 Batch 3:  Loss:     0.3891 Validation Accuracy: 0.735000\n",
      "Epoch 64, CIFAR-10 Batch 4:  Loss:     0.4009 Validation Accuracy: 0.734200\n",
      "Epoch 64, CIFAR-10 Batch 5:  Loss:     0.4162 Validation Accuracy: 0.726000\n",
      "Epoch 65, CIFAR-10 Batch 1:  Loss:     0.5104 Validation Accuracy: 0.726200\n",
      "Epoch 65, CIFAR-10 Batch 2:  Loss:     0.4066 Validation Accuracy: 0.734600\n",
      "Epoch 65, CIFAR-10 Batch 3:  Loss:     0.3960 Validation Accuracy: 0.732800\n",
      "Epoch 65, CIFAR-10 Batch 4:  Loss:     0.3988 Validation Accuracy: 0.740800\n"
     ]
    },
    {
     "name": "stdout",
     "output_type": "stream",
     "text": [
      "Epoch 65, CIFAR-10 Batch 5:  Loss:     0.3878 Validation Accuracy: 0.735400\n",
      "Epoch 66, CIFAR-10 Batch 1:  Loss:     0.4990 Validation Accuracy: 0.733600\n",
      "Epoch 66, CIFAR-10 Batch 2:  Loss:     0.3978 Validation Accuracy: 0.739800\n",
      "Epoch 66, CIFAR-10 Batch 3:  Loss:     0.3902 Validation Accuracy: 0.733800\n",
      "Epoch 66, CIFAR-10 Batch 4:  Loss:     0.3987 Validation Accuracy: 0.743800\n",
      "Epoch 66, CIFAR-10 Batch 5:  Loss:     0.3911 Validation Accuracy: 0.731200\n",
      "Epoch 67, CIFAR-10 Batch 1:  Loss:     0.5002 Validation Accuracy: 0.729200\n",
      "Epoch 67, CIFAR-10 Batch 2:  Loss:     0.3955 Validation Accuracy: 0.740600\n",
      "Epoch 67, CIFAR-10 Batch 3:  Loss:     0.3745 Validation Accuracy: 0.735600\n",
      "Epoch 67, CIFAR-10 Batch 4:  Loss:     0.3871 Validation Accuracy: 0.740000\n",
      "Epoch 67, CIFAR-10 Batch 5:  Loss:     0.3818 Validation Accuracy: 0.735600\n",
      "Epoch 68, CIFAR-10 Batch 1:  Loss:     0.5402 Validation Accuracy: 0.722400\n",
      "Epoch 68, CIFAR-10 Batch 2:  Loss:     0.3871 Validation Accuracy: 0.740600\n",
      "Epoch 68, CIFAR-10 Batch 3:  Loss:     0.3756 Validation Accuracy: 0.745800\n",
      "Epoch 68, CIFAR-10 Batch 4:  Loss:     0.3853 Validation Accuracy: 0.744000\n",
      "Epoch 68, CIFAR-10 Batch 5:  Loss:     0.3781 Validation Accuracy: 0.736600\n",
      "Epoch 69, CIFAR-10 Batch 1:  Loss:     0.5074 Validation Accuracy: 0.730400\n",
      "Epoch 69, CIFAR-10 Batch 2:  Loss:     0.3948 Validation Accuracy: 0.744200\n",
      "Epoch 69, CIFAR-10 Batch 3:  Loss:     0.3926 Validation Accuracy: 0.747800\n",
      "Epoch 69, CIFAR-10 Batch 4:  Loss:     0.3794 Validation Accuracy: 0.745200\n",
      "Epoch 69, CIFAR-10 Batch 5:  Loss:     0.3749 Validation Accuracy: 0.735200\n",
      "Epoch 70, CIFAR-10 Batch 1:  Loss:     0.4756 Validation Accuracy: 0.741200\n",
      "Epoch 70, CIFAR-10 Batch 2:  Loss:     0.3770 Validation Accuracy: 0.737600\n",
      "Epoch 70, CIFAR-10 Batch 3:  Loss:     0.3806 Validation Accuracy: 0.746000\n",
      "Epoch 70, CIFAR-10 Batch 4:  Loss:     0.3840 Validation Accuracy: 0.739400\n",
      "Epoch 70, CIFAR-10 Batch 5:  Loss:     0.3690 Validation Accuracy: 0.741400\n",
      "Epoch 71, CIFAR-10 Batch 1:  Loss:     0.4766 Validation Accuracy: 0.739600\n",
      "Epoch 71, CIFAR-10 Batch 2:  Loss:     0.3820 Validation Accuracy: 0.744200\n",
      "Epoch 71, CIFAR-10 Batch 3:  Loss:     0.3773 Validation Accuracy: 0.737400\n",
      "Epoch 71, CIFAR-10 Batch 4:  Loss:     0.3904 Validation Accuracy: 0.734000\n",
      "Epoch 71, CIFAR-10 Batch 5:  Loss:     0.3689 Validation Accuracy: 0.736200\n",
      "Epoch 72, CIFAR-10 Batch 1:  Loss:     0.4820 Validation Accuracy: 0.736600\n",
      "Epoch 72, CIFAR-10 Batch 2:  Loss:     0.3799 Validation Accuracy: 0.741600\n",
      "Epoch 72, CIFAR-10 Batch 3:  Loss:     0.3795 Validation Accuracy: 0.743200\n",
      "Epoch 72, CIFAR-10 Batch 4:  Loss:     0.3683 Validation Accuracy: 0.745600\n",
      "Epoch 72, CIFAR-10 Batch 5:  Loss:     0.3592 Validation Accuracy: 0.739600\n",
      "Epoch 73, CIFAR-10 Batch 1:  Loss:     0.4721 Validation Accuracy: 0.739600\n",
      "Epoch 73, CIFAR-10 Batch 2:  Loss:     0.3762 Validation Accuracy: 0.747600\n",
      "Epoch 73, CIFAR-10 Batch 3:  Loss:     0.3770 Validation Accuracy: 0.738200\n",
      "Epoch 73, CIFAR-10 Batch 4:  Loss:     0.3670 Validation Accuracy: 0.736600\n",
      "Epoch 73, CIFAR-10 Batch 5:  Loss:     0.3589 Validation Accuracy: 0.735000\n",
      "Epoch 74, CIFAR-10 Batch 1:  Loss:     0.4948 Validation Accuracy: 0.723600\n",
      "Epoch 74, CIFAR-10 Batch 2:  Loss:     0.3523 Validation Accuracy: 0.749000\n",
      "Epoch 74, CIFAR-10 Batch 3:  Loss:     0.3518 Validation Accuracy: 0.742800\n",
      "Epoch 74, CIFAR-10 Batch 4:  Loss:     0.3774 Validation Accuracy: 0.739400\n",
      "Epoch 74, CIFAR-10 Batch 5:  Loss:     0.3471 Validation Accuracy: 0.744600\n",
      "Epoch 75, CIFAR-10 Batch 1:  Loss:     0.4780 Validation Accuracy: 0.730000\n",
      "Epoch 75, CIFAR-10 Batch 2:  Loss:     0.3647 Validation Accuracy: 0.749000\n",
      "Epoch 75, CIFAR-10 Batch 3:  Loss:     0.3673 Validation Accuracy: 0.744000\n",
      "Epoch 75, CIFAR-10 Batch 4:  Loss:     0.3781 Validation Accuracy: 0.745800\n",
      "Epoch 75, CIFAR-10 Batch 5:  Loss:     0.3424 Validation Accuracy: 0.749200\n",
      "Epoch 76, CIFAR-10 Batch 1:  Loss:     0.4479 Validation Accuracy: 0.739600\n",
      "Epoch 76, CIFAR-10 Batch 2:  Loss:     0.3590 Validation Accuracy: 0.744800\n",
      "Epoch 76, CIFAR-10 Batch 3:  Loss:     0.3447 Validation Accuracy: 0.750400\n",
      "Epoch 76, CIFAR-10 Batch 4:  Loss:     0.3548 Validation Accuracy: 0.745400\n",
      "Epoch 76, CIFAR-10 Batch 5:  Loss:     0.3432 Validation Accuracy: 0.743400\n",
      "Epoch 77, CIFAR-10 Batch 1:  Loss:     0.4614 Validation Accuracy: 0.743400\n",
      "Epoch 77, CIFAR-10 Batch 2:  Loss:     0.3464 Validation Accuracy: 0.743800\n",
      "Epoch 77, CIFAR-10 Batch 3:  Loss:     0.3461 Validation Accuracy: 0.743200\n",
      "Epoch 77, CIFAR-10 Batch 4:  Loss:     0.3702 Validation Accuracy: 0.743800\n",
      "Epoch 77, CIFAR-10 Batch 5:  Loss:     0.3496 Validation Accuracy: 0.742800\n",
      "Epoch 78, CIFAR-10 Batch 1:  Loss:     0.4678 Validation Accuracy: 0.738400\n",
      "Epoch 78, CIFAR-10 Batch 2:  Loss:     0.3537 Validation Accuracy: 0.747000\n",
      "Epoch 78, CIFAR-10 Batch 3:  Loss:     0.3528 Validation Accuracy: 0.743400\n",
      "Epoch 78, CIFAR-10 Batch 4:  Loss:     0.3645 Validation Accuracy: 0.742600\n",
      "Epoch 78, CIFAR-10 Batch 5:  Loss:     0.3412 Validation Accuracy: 0.747000\n",
      "Epoch 79, CIFAR-10 Batch 1:  Loss:     0.4298 Validation Accuracy: 0.744200\n",
      "Epoch 79, CIFAR-10 Batch 2:  Loss:     0.3539 Validation Accuracy: 0.749600\n",
      "Epoch 79, CIFAR-10 Batch 3:  Loss:     0.3606 Validation Accuracy: 0.736400\n",
      "Epoch 79, CIFAR-10 Batch 4:  Loss:     0.3578 Validation Accuracy: 0.748400\n",
      "Epoch 79, CIFAR-10 Batch 5:  Loss:     0.3208 Validation Accuracy: 0.749000\n",
      "Epoch 80, CIFAR-10 Batch 1:  Loss:     0.4363 Validation Accuracy: 0.737600\n",
      "Epoch 80, CIFAR-10 Batch 2:  Loss:     0.3581 Validation Accuracy: 0.745000\n",
      "Epoch 80, CIFAR-10 Batch 3:  Loss:     0.3452 Validation Accuracy: 0.742400\n",
      "Epoch 80, CIFAR-10 Batch 4:  Loss:     0.3531 Validation Accuracy: 0.746400\n",
      "Epoch 80, CIFAR-10 Batch 5:  Loss:     0.3263 Validation Accuracy: 0.750200\n",
      "Epoch 81, CIFAR-10 Batch 1:  Loss:     0.4651 Validation Accuracy: 0.740600\n",
      "Epoch 81, CIFAR-10 Batch 2:  Loss:     0.3654 Validation Accuracy: 0.745800\n",
      "Epoch 81, CIFAR-10 Batch 3:  Loss:     0.3431 Validation Accuracy: 0.744600\n",
      "Epoch 81, CIFAR-10 Batch 4:  Loss:     0.3424 Validation Accuracy: 0.744400\n",
      "Epoch 81, CIFAR-10 Batch 5:  Loss:     0.3338 Validation Accuracy: 0.742600\n",
      "Epoch 82, CIFAR-10 Batch 1:  Loss:     0.4350 Validation Accuracy: 0.739200\n",
      "Epoch 82, CIFAR-10 Batch 2:  Loss:     0.3575 Validation Accuracy: 0.746000\n",
      "Epoch 82, CIFAR-10 Batch 3:  Loss:     0.3383 Validation Accuracy: 0.745000\n",
      "Epoch 82, CIFAR-10 Batch 4:  Loss:     0.3500 Validation Accuracy: 0.743000\n",
      "Epoch 82, CIFAR-10 Batch 5:  Loss:     0.3127 Validation Accuracy: 0.748800\n",
      "Epoch 83, CIFAR-10 Batch 1:  Loss:     0.4363 Validation Accuracy: 0.738600\n",
      "Epoch 83, CIFAR-10 Batch 2:  Loss:     0.3262 Validation Accuracy: 0.748800\n",
      "Epoch 83, CIFAR-10 Batch 3:  Loss:     0.3373 Validation Accuracy: 0.741000\n",
      "Epoch 83, CIFAR-10 Batch 4:  Loss:     0.3385 Validation Accuracy: 0.747200\n",
      "Epoch 83, CIFAR-10 Batch 5:  Loss:     0.3070 Validation Accuracy: 0.750800\n",
      "Epoch 84, CIFAR-10 Batch 1:  Loss:     0.4236 Validation Accuracy: 0.747800\n",
      "Epoch 84, CIFAR-10 Batch 2:  Loss:     0.3437 Validation Accuracy: 0.745000\n",
      "Epoch 84, CIFAR-10 Batch 3:  Loss:     0.3272 Validation Accuracy: 0.749000\n",
      "Epoch 84, CIFAR-10 Batch 4:  Loss:     0.3402 Validation Accuracy: 0.749400\n",
      "Epoch 84, CIFAR-10 Batch 5:  Loss:     0.3110 Validation Accuracy: 0.749000\n",
      "Epoch 85, CIFAR-10 Batch 1:  Loss:     0.4212 Validation Accuracy: 0.753400\n",
      "Epoch 85, CIFAR-10 Batch 2:  Loss:     0.3228 Validation Accuracy: 0.754200\n",
      "Epoch 85, CIFAR-10 Batch 3:  Loss:     0.3311 Validation Accuracy: 0.747800\n",
      "Epoch 85, CIFAR-10 Batch 4:  Loss:     0.3423 Validation Accuracy: 0.753400\n",
      "Epoch 85, CIFAR-10 Batch 5:  Loss:     0.3237 Validation Accuracy: 0.746600\n",
      "Epoch 86, CIFAR-10 Batch 1:  Loss:     0.4003 Validation Accuracy: 0.752800\n",
      "Epoch 86, CIFAR-10 Batch 2:  Loss:     0.3323 Validation Accuracy: 0.744400\n",
      "Epoch 86, CIFAR-10 Batch 3:  Loss:     0.3341 Validation Accuracy: 0.752200\n",
      "Epoch 86, CIFAR-10 Batch 4:  Loss:     0.3384 Validation Accuracy: 0.750000\n",
      "Epoch 86, CIFAR-10 Batch 5:  Loss:     0.3097 Validation Accuracy: 0.753000\n",
      "Epoch 87, CIFAR-10 Batch 1:  Loss:     0.4256 Validation Accuracy: 0.741200\n",
      "Epoch 87, CIFAR-10 Batch 2:  Loss:     0.3432 Validation Accuracy: 0.741200\n"
     ]
    },
    {
     "name": "stdout",
     "output_type": "stream",
     "text": [
      "Epoch 87, CIFAR-10 Batch 3:  Loss:     0.3441 Validation Accuracy: 0.735000\n",
      "Epoch 87, CIFAR-10 Batch 4:  Loss:     0.3396 Validation Accuracy: 0.747600\n",
      "Epoch 87, CIFAR-10 Batch 5:  Loss:     0.3170 Validation Accuracy: 0.748000\n",
      "Epoch 88, CIFAR-10 Batch 1:  Loss:     0.4024 Validation Accuracy: 0.749600\n",
      "Epoch 88, CIFAR-10 Batch 2:  Loss:     0.3407 Validation Accuracy: 0.745400\n",
      "Epoch 88, CIFAR-10 Batch 3:  Loss:     0.3247 Validation Accuracy: 0.743000\n",
      "Epoch 88, CIFAR-10 Batch 4:  Loss:     0.3484 Validation Accuracy: 0.747600\n",
      "Epoch 88, CIFAR-10 Batch 5:  Loss:     0.3420 Validation Accuracy: 0.743000\n",
      "Epoch 89, CIFAR-10 Batch 1:  Loss:     0.4145 Validation Accuracy: 0.748000\n",
      "Epoch 89, CIFAR-10 Batch 2:  Loss:     0.3229 Validation Accuracy: 0.746200\n",
      "Epoch 89, CIFAR-10 Batch 3:  Loss:     0.3068 Validation Accuracy: 0.752200\n",
      "Epoch 89, CIFAR-10 Batch 4:  Loss:     0.3236 Validation Accuracy: 0.757000\n",
      "Epoch 89, CIFAR-10 Batch 5:  Loss:     0.3073 Validation Accuracy: 0.741400\n",
      "Epoch 90, CIFAR-10 Batch 1:  Loss:     0.3913 Validation Accuracy: 0.750400\n",
      "Epoch 90, CIFAR-10 Batch 2:  Loss:     0.3270 Validation Accuracy: 0.751800\n",
      "Epoch 90, CIFAR-10 Batch 3:  Loss:     0.3041 Validation Accuracy: 0.749000\n",
      "Epoch 90, CIFAR-10 Batch 4:  Loss:     0.3264 Validation Accuracy: 0.748600\n",
      "Epoch 90, CIFAR-10 Batch 5:  Loss:     0.2958 Validation Accuracy: 0.750000\n",
      "Epoch 91, CIFAR-10 Batch 1:  Loss:     0.3937 Validation Accuracy: 0.750600\n",
      "Epoch 91, CIFAR-10 Batch 2:  Loss:     0.3168 Validation Accuracy: 0.748200\n",
      "Epoch 91, CIFAR-10 Batch 3:  Loss:     0.3164 Validation Accuracy: 0.745800\n",
      "Epoch 91, CIFAR-10 Batch 4:  Loss:     0.3152 Validation Accuracy: 0.754400\n",
      "Epoch 91, CIFAR-10 Batch 5:  Loss:     0.3091 Validation Accuracy: 0.744400\n",
      "Epoch 92, CIFAR-10 Batch 1:  Loss:     0.3852 Validation Accuracy: 0.750200\n",
      "Epoch 92, CIFAR-10 Batch 2:  Loss:     0.3085 Validation Accuracy: 0.747000\n",
      "Epoch 92, CIFAR-10 Batch 3:  Loss:     0.3032 Validation Accuracy: 0.748800\n",
      "Epoch 92, CIFAR-10 Batch 4:  Loss:     0.3193 Validation Accuracy: 0.752400\n",
      "Epoch 92, CIFAR-10 Batch 5:  Loss:     0.2931 Validation Accuracy: 0.742600\n",
      "Epoch 93, CIFAR-10 Batch 1:  Loss:     0.3981 Validation Accuracy: 0.747600\n",
      "Epoch 93, CIFAR-10 Batch 2:  Loss:     0.3190 Validation Accuracy: 0.756000\n",
      "Epoch 93, CIFAR-10 Batch 3:  Loss:     0.3113 Validation Accuracy: 0.751000\n",
      "Epoch 93, CIFAR-10 Batch 4:  Loss:     0.3144 Validation Accuracy: 0.749000\n",
      "Epoch 93, CIFAR-10 Batch 5:  Loss:     0.2945 Validation Accuracy: 0.754400\n",
      "Epoch 94, CIFAR-10 Batch 1:  Loss:     0.3872 Validation Accuracy: 0.747800\n",
      "Epoch 94, CIFAR-10 Batch 2:  Loss:     0.3275 Validation Accuracy: 0.746800\n",
      "Epoch 94, CIFAR-10 Batch 3:  Loss:     0.2953 Validation Accuracy: 0.751000\n",
      "Epoch 94, CIFAR-10 Batch 4:  Loss:     0.3019 Validation Accuracy: 0.757000\n",
      "Epoch 94, CIFAR-10 Batch 5:  Loss:     0.2906 Validation Accuracy: 0.750200\n",
      "Epoch 95, CIFAR-10 Batch 1:  Loss:     0.3919 Validation Accuracy: 0.750400\n",
      "Epoch 95, CIFAR-10 Batch 2:  Loss:     0.3259 Validation Accuracy: 0.751800\n",
      "Epoch 95, CIFAR-10 Batch 3:  Loss:     0.2959 Validation Accuracy: 0.748400\n",
      "Epoch 95, CIFAR-10 Batch 4:  Loss:     0.3109 Validation Accuracy: 0.747000\n",
      "Epoch 95, CIFAR-10 Batch 5:  Loss:     0.2979 Validation Accuracy: 0.748600\n",
      "Epoch 96, CIFAR-10 Batch 1:  Loss:     0.3664 Validation Accuracy: 0.755200\n",
      "Epoch 96, CIFAR-10 Batch 2:  Loss:     0.3081 Validation Accuracy: 0.753600\n",
      "Epoch 96, CIFAR-10 Batch 3:  Loss:     0.2954 Validation Accuracy: 0.749200\n",
      "Epoch 96, CIFAR-10 Batch 4:  Loss:     0.3184 Validation Accuracy: 0.749000\n",
      "Epoch 96, CIFAR-10 Batch 5:  Loss:     0.2779 Validation Accuracy: 0.749800\n",
      "Epoch 97, CIFAR-10 Batch 1:  Loss:     0.3787 Validation Accuracy: 0.748200\n",
      "Epoch 97, CIFAR-10 Batch 2:  Loss:     0.3108 Validation Accuracy: 0.755000\n",
      "Epoch 97, CIFAR-10 Batch 3:  Loss:     0.2921 Validation Accuracy: 0.752000\n",
      "Epoch 97, CIFAR-10 Batch 4:  Loss:     0.2974 Validation Accuracy: 0.751800\n",
      "Epoch 97, CIFAR-10 Batch 5:  Loss:     0.2920 Validation Accuracy: 0.752200\n",
      "Epoch 98, CIFAR-10 Batch 1:  Loss:     0.3847 Validation Accuracy: 0.745200\n",
      "Epoch 98, CIFAR-10 Batch 2:  Loss:     0.2885 Validation Accuracy: 0.754000\n",
      "Epoch 98, CIFAR-10 Batch 3:  Loss:     0.2859 Validation Accuracy: 0.746200\n",
      "Epoch 98, CIFAR-10 Batch 4:  Loss:     0.3011 Validation Accuracy: 0.758800\n",
      "Epoch 98, CIFAR-10 Batch 5:  Loss:     0.2688 Validation Accuracy: 0.756200\n",
      "Epoch 99, CIFAR-10 Batch 1:  Loss:     0.3722 Validation Accuracy: 0.756000\n",
      "Epoch 99, CIFAR-10 Batch 2:  Loss:     0.3046 Validation Accuracy: 0.751800\n",
      "Epoch 99, CIFAR-10 Batch 3:  Loss:     0.2837 Validation Accuracy: 0.749800\n",
      "Epoch 99, CIFAR-10 Batch 4:  Loss:     0.2989 Validation Accuracy: 0.754800\n",
      "Epoch 99, CIFAR-10 Batch 5:  Loss:     0.2893 Validation Accuracy: 0.746800\n",
      "Epoch 100, CIFAR-10 Batch 1:  Loss:     0.3628 Validation Accuracy: 0.753200\n",
      "Epoch 100, CIFAR-10 Batch 2:  Loss:     0.3081 Validation Accuracy: 0.757600\n",
      "Epoch 100, CIFAR-10 Batch 3:  Loss:     0.2739 Validation Accuracy: 0.752000\n",
      "Epoch 100, CIFAR-10 Batch 4:  Loss:     0.2886 Validation Accuracy: 0.750400\n",
      "Epoch 100, CIFAR-10 Batch 5:  Loss:     0.2852 Validation Accuracy: 0.753400\n"
     ]
    }
   ],
   "source": [
    "\"\"\"\n",
    "DON'T MODIFY ANYTHING IN THIS CELL\n",
    "\"\"\"\n",
    "save_model_path = './image_classification'\n",
    "\n",
    "loss = []\n",
    "acc =  []\n",
    "\n",
    "print('Training...')\n",
    "with tf.Session(config=config) as sess:\n",
    "    # Initializing the variables\n",
    "    sess.run(tf.global_variables_initializer())\n",
    "    \n",
    "    # Training cycle\n",
    "    for epoch in range(epochs):\n",
    "        # Loop over all batches\n",
    "        n_batches = 5\n",
    "        for batch_i in range(1, n_batches + 1):\n",
    "            for batch_features, batch_labels in helper.load_preprocess_training_batch(batch_i, batch_size):\n",
    "                train_neural_network(sess, optimizer, keep_probability, batch_features, batch_labels)\n",
    "            print('Epoch {:>2}, CIFAR-10 Batch {}:  '.format(epoch + 1, batch_i), end='')\n",
    "            val_loss,val_acc=print_stats(sess, batch_features, batch_labels, cost, accuracy)\n",
    "            loss.append(val_loss)\n",
    "            acc.append(val_acc)\n",
    "            \n",
    "    # Save Model\n",
    "    saver = tf.train.Saver()\n",
    "    save_path = saver.save(sess, save_model_path)"
   ]
  },
  {
   "cell_type": "code",
   "execution_count": 34,
   "metadata": {},
   "outputs": [
    {
     "data": {
      "image/png": "[encoded data removed]",
      "text/plain": [
       "<Figure size 432x288 with 1 Axes>"
      ]
     },
     "metadata": {
      "image/png": {
       "height": 250,
       "width": 380
      }
     },
     "output_type": "display_data"
    }
   ],
   "source": [
    "import matplotlib.pyplot as plt\n",
    "%matplotlib inline\n",
    "plt.plot(loss, label='Validation loss', color='darkorange')\n",
    "plt.legend()\n",
    "_ = plt.ylim()"
   ]
  },
  {
   "cell_type": "code",
   "execution_count": 35,
   "metadata": {},
   "outputs": [
    {
     "data": {
      "image/png": "[encoded data removed]",
      "text/plain": [
       "<Figure size 432x288 with 1 Axes>"
      ]
     },
     "metadata": {
      "image/png": {
       "height": 250,
       "width": 373
      }
     },
     "output_type": "display_data"
    }
   ],
   "source": [
    "import matplotlib.pyplot as plt\n",
    "%matplotlib inline\n",
    "plt.plot(acc, label='Validation accuracy', color='green')\n",
    "plt.legend()\n",
    "_ = plt.ylim()"
   ]
  },
  {
   "cell_type": "markdown",
   "metadata": {},
   "source": [
    "# Checkpoint\n",
    "The model has been saved to disk.\n",
    "## Test Model\n",
    "Test your model against the test dataset.  This will be your final accuracy. You should have an accuracy greater than 50%. If you don't, keep tweaking the model architecture and parameters."
   ]
  },
  {
   "cell_type": "code",
   "execution_count": 89,
   "metadata": {},
   "outputs": [
    {
     "name": "stdout",
     "output_type": "stream",
     "text": [
      "INFO:tensorflow:Restoring parameters from ./image_classification\n",
      "Testing Accuracy: 0.7462086409330368\n",
      "\n"
     ]
    },
    {
     "data": {
      "image/png": "[encoded data removed]",
      "text/plain": [
       "<Figure size 432x288 with 8 Axes>"
      ]
     },
     "metadata": {
      "image/png": {
       "height": 319,
       "width": 355
      }
     },
     "output_type": "display_data"
    }
   ],
   "source": [
    "\"\"\"\n",
    "DON'T MODIFY ANYTHING IN THIS CELL\n",
    "\"\"\"\n",
    "%matplotlib inline\n",
    "%config InlineBackend.figure_format = 'retina'\n",
    "\n",
    "import tensorflow as tf\n",
    "import pickle\n",
    "import helper\n",
    "import random\n",
    "\n",
    "# Set batch size if not already set\n",
    "try:\n",
    "    if batch_size:\n",
    "        pass\n",
    "except NameError:\n",
    "    batch_size = 64\n",
    "\n",
    "save_model_path = './image_classification'\n",
    "n_samples = 4\n",
    "top_n_predictions = 3\n",
    "\n",
    "def test_model():\n",
    "    \"\"\"\n",
    "    Test the saved model against the test dataset\n",
    "    \"\"\"\n",
    "\n",
    "    test_features, test_labels = pickle.load(open('preprocess_test.p', mode='rb'))\n",
    "    loaded_graph = tf.Graph()\n",
    "\n",
    "    with tf.Session(config=config, graph=loaded_graph) as sess:\n",
    "        # Load model\n",
    "        loader = tf.train.import_meta_graph(save_model_path + '.meta')\n",
    "        loader.restore(sess, save_model_path)\n",
    "\n",
    "        # Get Tensors from loaded model\n",
    "        loaded_x = loaded_graph.get_tensor_by_name('x:0')\n",
    "        loaded_y = loaded_graph.get_tensor_by_name('y:0')\n",
    "        loaded_keep_prob = loaded_graph.get_tensor_by_name('keep_prob:0')\n",
    "        loaded_logits = loaded_graph.get_tensor_by_name('logits:0')\n",
    "        loaded_acc = loaded_graph.get_tensor_by_name('accuracy:0')\n",
    "        \n",
    "        # Get accuracy in batches for memory limitations\n",
    "        test_batch_acc_total = 0\n",
    "        test_batch_count = 0\n",
    "        \n",
    "        for test_feature_batch, test_label_batch in helper.batch_features_labels(test_features, test_labels, batch_size):\n",
    "            test_batch_acc_total += sess.run(\n",
    "                loaded_acc,\n",
    "                feed_dict={loaded_x: test_feature_batch, loaded_y: test_label_batch, loaded_keep_prob: 1.0})\n",
    "            test_batch_count += 1\n",
    "\n",
    "        print('Testing Accuracy: {}\\n'.format(test_batch_acc_total/test_batch_count))\n",
    "\n",
    "        # Print Random Samples\n",
    "        random_test_features, random_test_labels = tuple(zip(*random.sample(list(zip(test_features, test_labels)), n_samples)))\n",
    "        random_test_predictions = sess.run(\n",
    "            tf.nn.top_k(tf.nn.softmax(loaded_logits), top_n_predictions),\n",
    "            feed_dict={loaded_x: random_test_features, loaded_y: random_test_labels, loaded_keep_prob: 1.0})\n",
    "        helper.display_image_predictions(random_test_features, random_test_labels, random_test_predictions)\n",
    "\n",
    "\n",
    "test_model()"
   ]
  },
  {
   "cell_type": "markdown",
   "metadata": {},
   "source": [
    "## Why 50-80% Accuracy?\n",
    "You might be wondering why you can't get an accuracy any higher. First things first, 50% isn't bad for a simple CNN.  Pure guessing would get you 10% accuracy. However, you might notice people are getting scores [well above 80%](http://rodrigob.github.io/are_we_there_yet/build/classification_datasets_results.html#43494641522d3130).  That's because we haven't taught you all there is to know about neural networks. We still need to cover a few more techniques.\n",
    "## Submitting This Project\n",
    "When submitting this project, make sure to run all the cells before saving the notebook.  Save the notebook file as \"dlnd_image_classification.ipynb\" and save it as a HTML file under \"File\" -> \"Download as\".  Include the \"helper.py\" and \"problem_unittests.py\" files in your submission."
   ]
  },
  {
   "cell_type": "markdown",
   "metadata": {},
   "source": [
    "Some ideas\n",
    "\n",
    "- Initialize weights to very small\n",
    "- Initialize biases to zeros"
   ]
  },
  {
   "cell_type": "markdown",
   "metadata": {},
   "source": [
    "### Bonus: let accuracy over 80%\n",
    "- Differntial Dropout: keep probability\n",
    "- Xavier Initialization → He Initialization\n",
    "- Batch Normalization\n",
    "- Random Shuffling\n",
    "- L2\n",
    "- Selu"
   ]
  },
  {
   "cell_type": "code",
   "execution_count": null,
   "metadata": {},
   "outputs": [],
   "source": []
  }
 ],
 "metadata": {
  "kernelspec": {
   "display_name": "Python [default]",
   "language": "python",
   "name": "python3"
  },
  "language_info": {
   "codemirror_mode": {
    "name": "ipython",
    "version": 3
   },
   "file_extension": ".py",
   "mimetype": "text/x-python",
   "name": "python",
   "nbconvert_exporter": "python",
   "pygments_lexer": "ipython3",
   "version": "3.5.0"
  }
 },
 "nbformat": 4,
 "nbformat_minor": 1
}
