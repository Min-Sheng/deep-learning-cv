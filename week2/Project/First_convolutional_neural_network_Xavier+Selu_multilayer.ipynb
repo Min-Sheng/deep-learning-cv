{
 "cells": [
  {
   "cell_type": "code",
   "execution_count": 1,
   "metadata": {},
   "outputs": [
    {
     "name": "stderr",
     "output_type": "stream",
     "text": [
      "Using TensorFlow backend.\n"
     ]
    }
   ],
   "source": [
    "#### This code cell is to limit GPU memory use because you'll be sharing GPU #### \n",
    "#### If you're using your own GPU, you can change the per_process_cpu_memory_fraction to 1.0 ####\n",
    "import tensorflow as tf\n",
    "from keras.backend.tensorflow_backend import set_session\n",
    "config = tf.ConfigProto()\n",
    "config.gpu_options.per_process_gpu_memory_fraction = 0.45\n",
    "set_session(tf.Session(config=config))"
   ]
  },
  {
   "cell_type": "markdown",
   "metadata": {
    "collapsed": true
   },
   "source": [
    "# Image Classification\n",
    "In this project, you'll classify images from the [CIFAR-10 dataset](https://www.cs.toronto.edu/~kriz/cifar.html).  The dataset consists of airplanes, dogs, cats, and other objects. You'll preprocess the images, then train a convolutional neural network on all the samples. The images need to be normalized and the labels need to be one-hot encoded.  You'll get to apply what you learned and build a convolutional, max pooling, dropout, and fully connected layers.  At the end, you'll get to see your neural network's predictions on the sample images.\n",
    "## Get the Data\n",
    "Run the following cell to download the [CIFAR-10 dataset for python](https://www.cs.toronto.edu/~kriz/cifar-10-python.tar.gz)."
   ]
  },
  {
   "cell_type": "code",
   "execution_count": 2,
   "metadata": {},
   "outputs": [
    {
     "name": "stdout",
     "output_type": "stream",
     "text": [
      "All files found!\n"
     ]
    }
   ],
   "source": [
    "\"\"\"\n",
    "DON'T MODIFY ANYTHING IN THIS CELL THAT IS BELOW THIS LINE\n",
    "\"\"\"\n",
    "from urllib.request import urlretrieve\n",
    "from os.path import isfile, isdir\n",
    "from tqdm import tqdm\n",
    "import problem_unittests as tests\n",
    "import tarfile\n",
    "\n",
    "cifar10_dataset_folder_path = 'cifar-10-batches-py' \n",
    "\n",
    "class DLProgress(tqdm):\n",
    "    last_block = 0\n",
    "\n",
    "    def hook(self, block_num=1, block_size=1, total_size=None):\n",
    "        self.total = total_size\n",
    "        self.update((block_num - self.last_block) * block_size)\n",
    "        self.last_block = block_num\n",
    "\n",
    "tar_gz_path = 'cifar-10-python.tar.gz'\n",
    "\n",
    "if not isdir(cifar10_dataset_folder_path):\n",
    "    if not isfile(tar_gz_path):\n",
    "        with DLProgress(unit='B', unit_scale=True, miniters=1, desc='CIFAR-10 Dataset') as pbar:\n",
    "            urlretrieve(\n",
    "                'https://www.cs.toronto.edu/~kriz/cifar-10-python.tar.gz',\n",
    "                tar_gz_path,\n",
    "                pbar.hook)\n",
    "    with tarfile.open(tar_gz_path) as tar:\n",
    "        tar.extractall()\n",
    "        tar.close()\n",
    "\n",
    "tests.test_folder_path(cifar10_dataset_folder_path)"
   ]
  },
  {
   "cell_type": "markdown",
   "metadata": {},
   "source": [
    "## Explore the Data\n",
    "The dataset is broken into batches to prevent your machine from running out of memory.  The CIFAR-10 dataset consists of 5 batches, named `data_batch_1`, `data_batch_2`, etc.. Each batch contains the labels and images that are one of the following:\n",
    "* airplane\n",
    "* automobile\n",
    "* bird\n",
    "* cat\n",
    "* deer\n",
    "* dog\n",
    "* frog\n",
    "* horse\n",
    "* ship\n",
    "* truck\n",
    "\n",
    "Understanding a dataset is part of making predictions on the data.  Play around with the code cell below by changing the `batch_id` and `sample_id`. The `batch_id` is the id for a batch (1-5). The `sample_id` is the id for a image and label pair in the batch.\n",
    "\n",
    "Ask yourself \"What are all possible labels?\", \"What is the range of values for the image data?\", \"Are the labels in order or random?\".  Answers to questions like these will help you preprocess the data and end up with better predictions."
   ]
  },
  {
   "cell_type": "code",
   "execution_count": 3,
   "metadata": {},
   "outputs": [
    {
     "name": "stdout",
     "output_type": "stream",
     "text": [
      "\n",
      "Stats of batch 1:\n",
      "Samples: 10000\n",
      "Label Counts: {0: 1005, 1: 974, 2: 1032, 3: 1016, 4: 999, 5: 937, 6: 1030, 7: 1001, 8: 1025, 9: 981}\n",
      "First 20 Labels: [6, 9, 9, 4, 1, 1, 2, 7, 8, 3, 4, 7, 7, 2, 9, 9, 9, 3, 2, 6]\n",
      "\n",
      "Example of Image 6:\n",
      "Image - Min Value: 7 Max Value: 249\n",
      "Image - Shape: (32, 32, 3)\n",
      "Label - Label Id: 2 Name: bird\n"
     ]
    },
    {
     "data": {
      "image/png": "[encoded data removed]",
      "text/plain": [
       "<Figure size 432x288 with 1 Axes>"
      ]
     },
     "metadata": {
      "image/png": {
       "height": 250,
       "width": 253
      }
     },
     "output_type": "display_data"
    }
   ],
   "source": [
    "%matplotlib inline\n",
    "%config InlineBackend.figure_format = 'retina'\n",
    "\n",
    "import helper\n",
    "import numpy as np\n",
    "\n",
    "# Explore the dataset\n",
    "batch_id = 1\n",
    "sample_id = 6\n",
    "helper.display_stats(cifar10_dataset_folder_path, batch_id, sample_id)"
   ]
  },
  {
   "cell_type": "markdown",
   "metadata": {},
   "source": [
    "## Implement Preprocess Functions\n",
    "### Normalize\n",
    "In the cell below, implement the `normalize` function to take in image data, `x`, and return it as a normalized Numpy array. The values should be in the range of 0 to 1, inclusive.  The return object should be the same shape as `x`."
   ]
  },
  {
   "cell_type": "code",
   "execution_count": 4,
   "metadata": {},
   "outputs": [
    {
     "name": "stdout",
     "output_type": "stream",
     "text": [
      "Tests Passed\n"
     ]
    }
   ],
   "source": [
    "def normalize(x):\n",
    "    \"\"\"\n",
    "    Normalize a list of sample image data in the range of 0 to 1\n",
    "    : x: List of image data.  The image shape is (32, 32, 3)\n",
    "    : return: Numpy array of normalize data\n",
    "    \"\"\"\n",
    "    # TODO: Implement Function\n",
    "    norm = (x-x.min())/(x.max()-x.min())\n",
    "    return norm\n",
    "\n",
    "\"\"\"\n",
    "DON'T MODIFY ANYTHING IN THIS CELL THAT IS BELOW THIS LINE\n",
    "\"\"\"\n",
    "tests.test_normalize(normalize)"
   ]
  },
  {
   "cell_type": "markdown",
   "metadata": {},
   "source": [
    "### One-hot encode\n",
    "Just like the previous code cell, you'll be implementing a function for preprocessing.  This time, you'll implement the `one_hot_encode` function. The input, `x`, are a list of labels.  Implement the function to return the list of labels as One-Hot encoded Numpy array.  The possible values for labels are 0 to 9. The one-hot encoding function should return the same encoding for each value between each call to `one_hot_encode`.  Make sure to save the map of encodings outside the function.\n",
    "\n",
    "Hint: Don't reinvent the wheel."
   ]
  },
  {
   "cell_type": "code",
   "execution_count": 5,
   "metadata": {},
   "outputs": [
    {
     "name": "stdout",
     "output_type": "stream",
     "text": [
      "Tests Passed\n"
     ]
    }
   ],
   "source": [
    "def one_hot_encode(x):\n",
    "    \"\"\"\n",
    "    One hot encode a list of sample labels. Return a one-hot encoded vector for each label.\n",
    "    : x: List of sample Labels\n",
    "    : return: Numpy array of one-hot encoded labels\n",
    "    \"\"\"\n",
    "    # TODO: Implement Function\n",
    "    encoding = np.eye(10)[x]\n",
    "    return encoding\n",
    "\n",
    "\"\"\"\n",
    "DON'T MODIFY ANYTHING IN THIS CELL THAT IS BELOW THIS LINE\n",
    "\"\"\"\n",
    "tests.test_one_hot_encode(one_hot_encode)"
   ]
  },
  {
   "cell_type": "markdown",
   "metadata": {},
   "source": [
    "### Randomize Data\n",
    "As you saw from exploring the data above, the order of the samples are randomized.  It doesn't hurt to randomize it again, but you don't need to for this dataset."
   ]
  },
  {
   "cell_type": "markdown",
   "metadata": {},
   "source": [
    "## Preprocess all the data and save it\n",
    "Running the code cell below will preprocess all the CIFAR-10 data and save it to file. The code below also uses 10% of the training data for validation."
   ]
  },
  {
   "cell_type": "code",
   "execution_count": 6,
   "metadata": {},
   "outputs": [],
   "source": [
    "\"\"\"\n",
    "DON'T MODIFY ANYTHING IN THIS CELL\n",
    "\"\"\"\n",
    "# Preprocess Training, Validation, and Testing Data\n",
    "helper.preprocess_and_save_data(cifar10_dataset_folder_path, normalize, one_hot_encode)"
   ]
  },
  {
   "cell_type": "markdown",
   "metadata": {},
   "source": [
    "# Check Point\n",
    "This is your first checkpoint.  If you ever decide to come back to this notebook or have to restart the notebook, you can start from here.  The preprocessed data has been saved to disk."
   ]
  },
  {
   "cell_type": "code",
   "execution_count": 7,
   "metadata": {},
   "outputs": [],
   "source": [
    "\"\"\"\n",
    "DON'T MODIFY ANYTHING IN THIS CELL\n",
    "\"\"\"\n",
    "import pickle\n",
    "import problem_unittests as tests\n",
    "import helper\n",
    "\n",
    "# Load the Preprocessed Validation data\n",
    "valid_features, valid_labels = pickle.load(open('preprocess_validation.p', mode='rb'))"
   ]
  },
  {
   "cell_type": "markdown",
   "metadata": {},
   "source": [
    "## Build the network\n",
    "For the neural network, you'll build each layer into a function.  Most of the code you've seen has been outside of functions. To test your code more thoroughly, we require that you put each layer in a function.  This allows us to give you better feedback and test for simple mistakes using our unittests before you submit your project.\n",
    "\n",
    ">**Note:** If you're finding it hard to dedicate enough time for this course each week, we've provided a small shortcut to this part of the project. In the next couple of problems, you'll have the option to use classes from the [TensorFlow Layers](https://www.tensorflow.org/api_docs/python/tf/layers) or [TensorFlow Layers (contrib)](https://www.tensorflow.org/api_guides/python/contrib.layers) packages to build each layer, except the layers you build in the \"Convolutional and Max Pooling Layer\" section.  TF Layers is similar to Keras's and TFLearn's abstraction to layers, so it's easy to pickup.\n",
    "\n",
    ">However, if you would like to get the most out of this course, try to solve all the problems _without_ using anything from the TF Layers packages. You **can** still use classes from other packages that happen to have the same name as ones you find in TF Layers! For example, instead of using the TF Layers version of the `conv2d` class, [tf.layers.conv2d](https://www.tensorflow.org/api_docs/python/tf/layers/conv2d), you would want to use the TF Neural Network version of `conv2d`, [tf.nn.conv2d](https://www.tensorflow.org/api_docs/python/tf/nn/conv2d). \n",
    "\n",
    "Let's begin!\n",
    "\n",
    "### Input\n",
    "The neural network needs to read the image data, one-hot encoded labels, and dropout keep probability. Implement the following functions\n",
    "* Implement `neural_net_image_input`\n",
    " * Return a [TF Placeholder](https://www.tensorflow.org/api_docs/python/tf/placeholder)\n",
    " * Set the shape using `image_shape` with batch size set to `None`.\n",
    " * Name the TensorFlow placeholder \"x\" using the TensorFlow `name` parameter in the [TF Placeholder](https://www.tensorflow.org/api_docs/python/tf/placeholder).\n",
    "* Implement `neural_net_label_input`\n",
    " * Return a [TF Placeholder](https://www.tensorflow.org/api_docs/python/tf/placeholder)\n",
    " * Set the shape using `n_classes` with batch size set to `None`.\n",
    " * Name the TensorFlow placeholder \"y\" using the TensorFlow `name` parameter in the [TF Placeholder](https://www.tensorflow.org/api_docs/python/tf/placeholder).\n",
    "* Implement `neural_net_keep_prob_input`\n",
    " * Return a [TF Placeholder](https://www.tensorflow.org/api_docs/python/tf/placeholder) for dropout keep probability.\n",
    " * Name the TensorFlow placeholder \"keep_prob\" using the TensorFlow `name` parameter in the [TF Placeholder](https://www.tensorflow.org/api_docs/python/tf/placeholder).\n",
    "\n",
    "These names will be used at the end of the project to load your saved model.\n",
    "\n",
    "Note: `None` for shapes in TensorFlow allow for a dynamic size."
   ]
  },
  {
   "cell_type": "code",
   "execution_count": 8,
   "metadata": {},
   "outputs": [
    {
     "name": "stdout",
     "output_type": "stream",
     "text": [
      "Image Input Tests Passed.\n",
      "Label Input Tests Passed.\n",
      "Keep Prob Tests Passed.\n"
     ]
    }
   ],
   "source": [
    "import tensorflow as tf\n",
    "\n",
    "def neural_net_image_input(image_shape):\n",
    "    \"\"\"\n",
    "    Return a Tensor for a batch of image input\n",
    "    : image_shape: Shape of the images\n",
    "    : return: Tensor for image input.\n",
    "    \"\"\"\n",
    "    # TODO: Implement Function\n",
    "    return tf.placeholder(tf.float32, [None] + list(image_shape), name='x')\n",
    "\n",
    "\n",
    "def neural_net_label_input(n_classes):\n",
    "    \"\"\"\n",
    "    Return a Tensor for a batch of label input\n",
    "    : n_classes: Number of classes\n",
    "    : return: Tensor for label input.\n",
    "    \"\"\"\n",
    "    # TODO: Implement Function\n",
    "    return tf.placeholder(tf.float32, [None ,n_classes], name='y')\n",
    "\n",
    "\n",
    "def neural_net_keep_prob_input():\n",
    "    \"\"\"\n",
    "    Return a Tensor for keep probability\n",
    "    : return: Tensor for keep probability.\n",
    "    \"\"\"\n",
    "    # TODO: Implement Function\n",
    "    \n",
    "    return tf.placeholder(tf.float32, None, name=\"keep_prob\")\n",
    "\n",
    "\n",
    "\"\"\"\n",
    "DON'T MODIFY ANYTHING IN THIS CELL THAT IS BELOW THIS LINE\n",
    "\"\"\"\n",
    "tf.reset_default_graph()\n",
    "tests.test_nn_image_inputs(neural_net_image_input)\n",
    "tests.test_nn_label_inputs(neural_net_label_input)\n",
    "tests.test_nn_keep_prob_inputs(neural_net_keep_prob_input)"
   ]
  },
  {
   "cell_type": "markdown",
   "metadata": {},
   "source": [
    "### Convolution and Max Pooling Layer\n",
    "Convolution layers have a lot of success with images. For this code cell, you should implement the function `conv2d_maxpool` to apply convolution then max pooling:\n",
    "* Create the weight and bias using `conv_ksize`, `conv_num_outputs` and the shape of `x_tensor`.\n",
    "* Apply a convolution to `x_tensor` using weight and `conv_strides`.\n",
    " * We recommend you use same padding, but you're welcome to use any padding.\n",
    "* Add bias\n",
    "* Add a nonlinear activation to the convolution.\n",
    "* Apply Max Pooling using `pool_ksize` and `pool_strides`.\n",
    " * We recommend you use same padding, but you're welcome to use any padding.\n",
    "\n",
    "**Note:** You **can't** use [TensorFlow Layers](https://www.tensorflow.org/api_docs/python/tf/layers) or [TensorFlow Layers (contrib)](https://www.tensorflow.org/api_guides/python/contrib.layers) for **this** layer, but you can still use TensorFlow's [Neural Network](https://www.tensorflow.org/api_docs/python/tf/nn) package. You may still use the shortcut option for all the **other** layers."
   ]
  },
  {
   "cell_type": "code",
   "execution_count": 9,
   "metadata": {},
   "outputs": [
    {
     "name": "stdout",
     "output_type": "stream",
     "text": [
      "Tests Passed\n"
     ]
    }
   ],
   "source": [
    "def conv2d_maxpool(x_tensor, conv_num_outputs, conv_ksize, conv_strides, pool_ksize, pool_strides):\n",
    "    \"\"\"\n",
    "    Apply convolution then max pooling to x_tensor\n",
    "    :param x_tensor: TensorFlow Tensor\n",
    "    :param conv_num_outputs: Number of outputs for the convolutional layer\n",
    "    :param conv_ksize: kernal size 2-D Tuple for the convolutional layer\n",
    "    :param conv_strides: Stride 2-D Tuple for convolution\n",
    "    :param pool_ksize: kernal size 2-D Tuple for pool\n",
    "    :param pool_strides: Stride 2-D Tuple for pool\n",
    "    : return: A tensor that represents convolution and max pooling of x_tensor\n",
    "    \"\"\"\n",
    "    # TODO: Implement Function\n",
    "    X_shape = x_tensor.get_shape().as_list()\n",
    "    C_kshape = list(conv_ksize + (X_shape[-1],) + (conv_num_outputs,))\n",
    "    #print(C_kshape)\n",
    "    #print(np.prod(C_kshape[:3]))\n",
    "    #print(np.sqrt(2.0/np.prod(C_kshape[:3])))\n",
    "    # The shape of the filter weight is (height, width, input_depth, output_depth)\n",
    "    # The shape of the filter bias is (output_depth,)\n",
    "    F_W = tf.Variable(tf.truncated_normal(C_kshape,0.0,np.sqrt(2.0/np.prod(C_kshape[:3]))),dtype=np.float32)\n",
    "    F_b = tf.Variable(tf.zeros(conv_num_outputs,dtype=np.float32))\n",
    "    # The shape of the convolution stride is (batch_size, height, width, depth)\n",
    "    C_strides = list((1,)+conv_strides+(1,))\n",
    "    # The padding, either 'VALID' or 'SAME'.\n",
    "    padding = 'SAME'\n",
    "    conv_output = tf.nn.conv2d(x_tensor, F_W, C_strides, padding) + F_b\n",
    "    conv_output = tf.layers.batch_normalization(inputs=conv_output, center=True, scale=True, training=True)\n",
    "    conv_output = tf.nn.relu(conv_output)\n",
    "    P_kshape = [1] + list(pool_ksize) + [1]\n",
    "    P_stride = [1] + list(pool_strides) + [1]\n",
    "    conv_output = tf.nn.max_pool(conv_output,P_kshape,P_stride,padding)\n",
    "    return conv_output\n",
    "\n",
    "\n",
    "\"\"\"\n",
    "DON'T MODIFY ANYTHING IN THIS CELL THAT IS BELOW THIS LINE\n",
    "\"\"\"\n",
    "tests.test_con_pool(conv2d_maxpool)"
   ]
  },
  {
   "cell_type": "markdown",
   "metadata": {},
   "source": [
    "### Flatten Layer\n",
    "Implement the `flatten` function to change the dimension of `x_tensor` from a 4-D tensor to a 2-D tensor.  The output should be the shape (*Batch Size*, *Flattened Image Size*). Shortcut option: you can use classes from the [TensorFlow Layers](https://www.tensorflow.org/api_docs/python/tf/layers) or [TensorFlow Layers (contrib)](https://www.tensorflow.org/api_guides/python/contrib.layers) packages for this layer. For more of a challenge, only use other TensorFlow packages."
   ]
  },
  {
   "cell_type": "code",
   "execution_count": 10,
   "metadata": {},
   "outputs": [
    {
     "name": "stdout",
     "output_type": "stream",
     "text": [
      "Tests Passed\n"
     ]
    }
   ],
   "source": [
    "def flatten(x_tensor):\n",
    "    \"\"\"\n",
    "    Flatten x_tensor to (Batch Size, Flattened Image Size)\n",
    "    : x_tensor: A tensor of size (Batch Size, ...), where ... are the image dimensions.\n",
    "    : return: A tensor of size (Batch Size, Flattened Image Size).\n",
    "    \"\"\"\n",
    "    # TODO: Implement Function\n",
    "    X_shape = x_tensor.get_shape().as_list()\n",
    "    return tf.reshape(x_tensor,[-1,np.prod(X_shape[1:])])\n",
    "\n",
    "\"\"\"\n",
    "DON'T MODIFY ANYTHING IN THIS CELL THAT IS BELOW THIS LINE\n",
    "\"\"\"\n",
    "tests.test_flatten(flatten)"
   ]
  },
  {
   "cell_type": "markdown",
   "metadata": {},
   "source": [
    "### Fully-Connected Layer\n",
    "Implement the `fully_conn` function to apply a fully connected layer to `x_tensor` with the shape (*Batch Size*, *num_outputs*). Shortcut option: you can use classes from the [TensorFlow Layers](https://www.tensorflow.org/api_docs/python/tf/layers) or [TensorFlow Layers (contrib)](https://www.tensorflow.org/api_guides/python/contrib.layers) packages for this layer. For more of a challenge, only use other TensorFlow packages."
   ]
  },
  {
   "cell_type": "code",
   "execution_count": 11,
   "metadata": {},
   "outputs": [
    {
     "name": "stdout",
     "output_type": "stream",
     "text": [
      "Tests Passed\n"
     ]
    }
   ],
   "source": [
    "def fully_conn(x_tensor, num_outputs):\n",
    "    \"\"\"\n",
    "    Apply a fully connected layer to x_tensor using weight and bias\n",
    "    : x_tensor: A 2-D tensor where the first dimension is batch size.\n",
    "    : num_outputs: The number of output that the new tensor should be.\n",
    "    : return: A 2-D tensor where the second dimension is num_outputs.\n",
    "    \"\"\"\n",
    "    # TODO: Implement Function\n",
    "    X_shape = x_tensor.get_shape().as_list()\n",
    "    shape = list((X_shape[-1],)+(num_outputs,))\n",
    "    #print(shape)\n",
    "    #print(shape[0])\n",
    "    W = tf.Variable(tf.truncated_normal(shape,0.0,np.sqrt(2.0/np.prod(shape[0]))),dtype=np.float32)\n",
    "    b = tf.Variable(tf.zeros(num_outputs,dtype=np.float32))\n",
    "    fc_output = tf.tensordot(x_tensor,W,axes=([1], [0]))+b\n",
    "    fc_output = tf.layers.batch_normalization(inputs=fc_output, center=True, scale=True, training=True)\n",
    "    fc_output = tf.nn.relu(fc_output)\n",
    "    return fc_output\n",
    "\n",
    "\n",
    "\"\"\"\n",
    "DON'T MODIFY ANYTHING IN THIS CELL THAT IS BELOW THIS LINE\n",
    "\"\"\"\n",
    "tests.test_fully_conn(fully_conn)"
   ]
  },
  {
   "cell_type": "code",
   "execution_count": 12,
   "metadata": {},
   "outputs": [
    {
     "name": "stdout",
     "output_type": "stream",
     "text": [
      "[[ 3.  3.]\n",
      " [ 6.  6.]]\n"
     ]
    }
   ],
   "source": [
    "with tf.Session() as sess:\n",
    "    a = tf.placeholder(tf.float32, None, name='a')\n",
    "    b = tf.placeholder(tf.float32, None, name='b')\n",
    "    c = tf.tensordot(a,b, axes=([1], [0]))\n",
    "    print(sess.run(c, feed_dict={a:[[1,1],[2,2]], b:[[2,2],[1,1]]}))"
   ]
  },
  {
   "cell_type": "code",
   "execution_count": 13,
   "metadata": {},
   "outputs": [
    {
     "data": {
      "text/plain": [
       "array([[3, 3],\n",
       "       [6, 6]])"
      ]
     },
     "execution_count": 13,
     "metadata": {},
     "output_type": "execute_result"
    }
   ],
   "source": [
    "a=np.array([[1,1],[2,2]])\n",
    "b=np.array([[2,2],[1,1]])\n",
    "np.dot(a,b)"
   ]
  },
  {
   "cell_type": "markdown",
   "metadata": {},
   "source": [
    "### Output Layer\n",
    "Implement the `output` function to apply a fully connected layer to `x_tensor` with the shape (*Batch Size*, *num_outputs*). Shortcut option: you can use classes from the [TensorFlow Layers](https://www.tensorflow.org/api_docs/python/tf/layers) or [TensorFlow Layers (contrib)](https://www.tensorflow.org/api_guides/python/contrib.layers) packages for this layer. For more of a challenge, only use other TensorFlow packages.\n",
    "\n",
    "**Note:** Activation, softmax, or cross entropy should **not** be applied to this."
   ]
  },
  {
   "cell_type": "code",
   "execution_count": 14,
   "metadata": {},
   "outputs": [
    {
     "name": "stdout",
     "output_type": "stream",
     "text": [
      "Tests Passed\n"
     ]
    }
   ],
   "source": [
    "def output(x_tensor, num_outputs):\n",
    "    \"\"\"\n",
    "    Apply a output layer to x_tensor using weight and bias\n",
    "    : x_tensor: A 2-D tensor where the first dimension is batch size.\n",
    "    : num_outputs: The number of output that the new tensor should be.\n",
    "    : return: A 2-D tensor where the second dimension is num_outputs.\n",
    "    \"\"\"\n",
    "    # TODO: Implement Function\n",
    "    X_shape = x_tensor.get_shape().as_list()\n",
    "    shape = list((X_shape[-1],)+(num_outputs,))\n",
    "    W = tf.Variable(tf.truncated_normal(shape,0.0,0.01),dtype=np.float32)\n",
    "    b = tf.Variable(tf.zeros(num_outputs,dtype=np.float32))\n",
    "    return tf.tensordot(x_tensor,W,axes=([1], [0]))+b\n",
    "\n",
    "\n",
    "\"\"\"\n",
    "DON'T MODIFY ANYTHING IN THIS CELL THAT IS BELOW THIS LINE\n",
    "\"\"\"\n",
    "tests.test_output(output)"
   ]
  },
  {
   "cell_type": "markdown",
   "metadata": {},
   "source": [
    "### Create Convolutional Model\n",
    "Implement the function `conv_net` to create a convolutional neural network model. The function takes in a batch of images, `x`, and outputs logits.  Use the layers you created above to create this model:\n",
    "\n",
    "* Apply 1, 2, or 3 Convolution and Max Pool layers\n",
    "* Apply a Flatten Layer\n",
    "* Apply 1, 2, or 3 Fully Connected Layers\n",
    "* Apply an Output Layer\n",
    "* Return the output\n",
    "* Apply [TensorFlow's Dropout](https://www.tensorflow.org/api_docs/python/tf/nn/dropout) to one or more layers in the model using `keep_prob`. "
   ]
  },
  {
   "cell_type": "code",
   "execution_count": 15,
   "metadata": {},
   "outputs": [
    {
     "name": "stdout",
     "output_type": "stream",
     "text": [
      "WARNING:tensorflow:From <ipython-input-15-e3d1c301d3b5>:79: softmax_cross_entropy_with_logits (from tensorflow.python.ops.nn_ops) is deprecated and will be removed in a future version.\n",
      "Instructions for updating:\n",
      "\n",
      "Future major versions of TensorFlow will allow gradients to flow\n",
      "into the labels input on backprop by default.\n",
      "\n",
      "See tf.nn.softmax_cross_entropy_with_logits_v2.\n",
      "\n",
      "Neural Network Built!\n"
     ]
    }
   ],
   "source": [
    "def conv_net(x, keep_prob):\n",
    "    \"\"\"\n",
    "    Create a convolutional neural network model\n",
    "    : x: Placeholder tensor that holds image data.\n",
    "    : keep_prob: Placeholder tensor that hold dropout keep probability.\n",
    "    : return: Tensor that represents logits\n",
    "    \"\"\"\n",
    "    \n",
    "    # TODO: Apply 1, 2, or 3 Convolution and Max Pool layers\n",
    "    #    Play around with different number of outputs, kernel size and stride\n",
    "    # Function Definition from Above:\n",
    "    #    conv2d_maxpool(x_tensor, conv_num_outputs, conv_ksize, conv_strides, pool_ksize, pool_strides)\n",
    "    #model = conv2d_maxpool(x, conv_num_outputs=48, conv_ksize=(3,3), conv_strides=(1,1), pool_ksize=(4,4), pool_strides=(1,1))\n",
    "    #model = conv2d_maxpool(model, conv_num_outputs=48, conv_ksize=(3,3), conv_strides=(1,1), pool_ksize=(2,2), pool_strides=(1,1))\n",
    "    #model = tf.nn.dropout(model, keep_prob)\n",
    "    #model = conv2d_maxpool(model, conv_num_outputs=96, conv_ksize=(3,3), conv_strides=(1,1), pool_ksize=(2,2), pool_strides=(1,1))\n",
    "    #model = tf.nn.dropout(model, keep_prob)\n",
    "    #model = conv2d_maxpool(model, conv_num_outputs=192, conv_ksize=(3,3), conv_strides=(1,1), pool_ksize=(2,2), pool_strides=(1,1))\n",
    "    #model = conv2d_maxpool(model, conv_num_outputs=192, conv_ksize=(3,3), conv_strides=(1,1), pool_ksize=(2,2), pool_strides=(1,1))\n",
    "    #model = tf.nn.dropout(model, keep_prob)\n",
    "    model = conv2d_maxpool(x, conv_num_outputs=24, conv_ksize=(3,3), conv_strides=(1,1), pool_ksize=(2,2), pool_strides=(1,1))\n",
    "    model = conv2d_maxpool(model, conv_num_outputs=24, conv_ksize=(3,3), conv_strides=(1,1), pool_ksize=(2,2), pool_strides=(1,1))\n",
    "    model = tf.nn.dropout(model, keep_prob)\n",
    "    model = conv2d_maxpool(x, conv_num_outputs=24, conv_ksize=(3,3), conv_strides=(1,1), pool_ksize=(2,2), pool_strides=(1,1))\n",
    "    model = conv2d_maxpool(model, conv_num_outputs=24, conv_ksize=(3,3), conv_strides=(1,1), pool_ksize=(2,2), pool_strides=(1,1))\n",
    "    model = tf.nn.dropout(model, keep_prob)\n",
    "    model = conv2d_maxpool(x, conv_num_outputs=24, conv_ksize=(3,3), conv_strides=(1,1), pool_ksize=(2,2), pool_strides=(1,1))\n",
    "    model = conv2d_maxpool(model, conv_num_outputs=24, conv_ksize=(3,3), conv_strides=(1,1), pool_ksize=(2,2), pool_strides=(1,1))\n",
    "    model = tf.nn.dropout(model, keep_prob)\n",
    "    # TODO: Apply a Flatten Layer\n",
    "    # Function Definition from Above:\n",
    "    #   flatten(x_tensor)\n",
    "    model = flatten(model)\n",
    "\n",
    "    # TODO: Apply 1, 2, or 3 Fully Connected Layers\n",
    "    #    Play around with different number of outputs\n",
    "    # Function Definition from Above:\n",
    "    #   fully_conn(x_tensor, num_outputs)\n",
    "    model = fully_conn(model,512)\n",
    "    model = tf.nn.dropout(model, keep_prob)\n",
    "    model = fully_conn(model,512)\n",
    "    model = tf.nn.dropout(model, keep_prob)\n",
    "    #model = fully_conn(model,500)\n",
    "    #model = tf.nn.dropout(model, keep_prob)\n",
    "    \n",
    "    # TODO: Apply an Output Layer\n",
    "    #    Set this to the number of classes\n",
    "    # Function Definition from Above:\n",
    "    #   output(x_tensor, num_outputs)\n",
    "    model = output(model,10)\n",
    "    \n",
    "    # TODO: return output\n",
    "    return model\n",
    "\n",
    "\n",
    "\"\"\"\n",
    "DON'T MODIFY ANYTHING IN THIS CELL THAT IS BELOW THIS LINE\n",
    "\"\"\"\n",
    "\n",
    "##############################\n",
    "## Build the Neural Network ##\n",
    "##############################\n",
    "\n",
    "# Remove previous weights, bias, inputs, etc..\n",
    "tf.reset_default_graph()\n",
    "\n",
    "# Inputs\n",
    "x = neural_net_image_input((32, 32, 3))\n",
    "y = neural_net_label_input(10)\n",
    "keep_prob = neural_net_keep_prob_input()\n",
    "\n",
    "# Model\n",
    "logits = conv_net(x, keep_prob)\n",
    "\n",
    "# Name logits Tensor, so that is can be loaded from disk after training\n",
    "logits = tf.identity(logits, name='logits')\n",
    "\n",
    "# Loss and Optimizer\n",
    "cost = tf.reduce_mean(tf.nn.softmax_cross_entropy_with_logits(logits=logits, labels=y))\n",
    "optimizer = tf.train.AdamOptimizer().minimize(cost)\n",
    "\n",
    "# Accuracy\n",
    "correct_pred = tf.equal(tf.argmax(logits, 1), tf.argmax(y, 1))\n",
    "accuracy = tf.reduce_mean(tf.cast(correct_pred, tf.float32), name='accuracy')\n",
    "\n",
    "tests.test_conv_net(conv_net)"
   ]
  },
  {
   "cell_type": "markdown",
   "metadata": {},
   "source": [
    "## Train the Neural Network\n",
    "### Single Optimization\n",
    "Implement the function `train_neural_network` to do a single optimization.  The optimization should use `optimizer` to optimize in `session` with a `feed_dict` of the following:\n",
    "* `x` for image input\n",
    "* `y` for labels\n",
    "* `keep_prob` for keep probability for dropout\n",
    "\n",
    "This function will be called for each batch, so `tf.global_variables_initializer()` has already been called.\n",
    "\n",
    "Note: Nothing needs to be returned. This function is only optimizing the neural network."
   ]
  },
  {
   "cell_type": "code",
   "execution_count": 16,
   "metadata": {},
   "outputs": [
    {
     "name": "stdout",
     "output_type": "stream",
     "text": [
      "Tests Passed\n"
     ]
    }
   ],
   "source": [
    "def train_neural_network(session, optimizer, keep_probability, feature_batch, label_batch):\n",
    "    \"\"\"\n",
    "    Optimize the session on a batch of images and labels\n",
    "    : session: Current TensorFlow session\n",
    "    : optimizer: TensorFlow optimizer function\n",
    "    : keep_probability: keep probability\n",
    "    : feature_batch: Batch of Numpy image data\n",
    "    : label_batch: Batch of Numpy label data\n",
    "    \"\"\"\n",
    "    # TODO: Implement Function\n",
    "    session.run(optimizer, feed_dict={x:feature_batch, y:label_batch, keep_prob:keep_probability})\n",
    "    \n",
    "\"\"\"\n",
    "DON'T MODIFY ANYTHING IN THIS CELL THAT IS BELOW THIS LINE\n",
    "\"\"\"\n",
    "tests.test_train_nn(train_neural_network)"
   ]
  },
  {
   "cell_type": "markdown",
   "metadata": {},
   "source": [
    "### Show Stats\n",
    "Implement the function `print_stats` to print loss and validation accuracy.  Use the global variables `valid_features` and `valid_labels` to calculate validation accuracy.  Use a keep probability of `1.0` to calculate the loss and validation accuracy."
   ]
  },
  {
   "cell_type": "code",
   "execution_count": 17,
   "metadata": {},
   "outputs": [],
   "source": [
    "def print_stats(session, feature_batch, label_batch, cost, accuracy):\n",
    "    \"\"\"\n",
    "    Print information about loss and validation accuracy\n",
    "    : session: Current TensorFlow session\n",
    "    : feature_batch: Batch of Numpy image data\n",
    "    : label_batch: Batch of Numpy label data\n",
    "    : cost: TensorFlow cost function\n",
    "    : accuracy: TensorFlow accuracy function\n",
    "    \"\"\"\n",
    "    # TODO: Implement Function\n",
    "    loss = session.run(cost, feed_dict={x:feature_batch, y:label_batch, keep_prob:1.0})\n",
    "    valid_acc = sess.run(accuracy, feed_dict={x: valid_features, y: valid_labels, keep_prob: 1.})\n",
    "    print('Loss: {:>10.4f} Validation Accuracy: {:.6f}'.format(loss, valid_acc))\n",
    "    return loss, valid_acc"
   ]
  },
  {
   "cell_type": "markdown",
   "metadata": {},
   "source": [
    "### Hyperparameters\n",
    "Tune the following parameters:\n",
    "* Set `epochs` to the number of iterations until the network stops learning or start overfitting\n",
    "* Set `batch_size` to the highest number that your machine has memory for.  Most people set them to common sizes of memory:\n",
    " * 64\n",
    " * 128\n",
    " * 256\n",
    " * ...\n",
    "* Set `keep_probability` to the probability of keeping a node using dropout"
   ]
  },
  {
   "cell_type": "code",
   "execution_count": 19,
   "metadata": {},
   "outputs": [],
   "source": [
    "# TODO: Tune Parameters\n",
    "epochs = 100\n",
    "batch_size = 128\n",
    "keep_probability = 0.3"
   ]
  },
  {
   "cell_type": "markdown",
   "metadata": {},
   "source": [
    "### Train on a Single CIFAR-10 Batch\n",
    "Instead of training the neural network on all the CIFAR-10 batches of data, let's use a single batch. This should save time while you iterate on the model to get a better accuracy.  Once the final validation accuracy is 50% or greater, run the model on all the data in the next section."
   ]
  },
  {
   "cell_type": "code",
   "execution_count": 26,
   "metadata": {},
   "outputs": [
    {
     "name": "stdout",
     "output_type": "stream",
     "text": [
      "Checking the Training on a Single Batch...\n",
      "Epoch  1, CIFAR-10 Batch 1:  Loss:     1.6298 Validation Accuracy: 0.462800\n",
      "Epoch  2, CIFAR-10 Batch 1:  Loss:     1.2940 Validation Accuracy: 0.532600\n",
      "Epoch  3, CIFAR-10 Batch 1:  Loss:     1.1666 Validation Accuracy: 0.548600\n",
      "Epoch  4, CIFAR-10 Batch 1:  Loss:     0.9792 Validation Accuracy: 0.565400\n",
      "Epoch  5, CIFAR-10 Batch 1:  Loss:     0.8988 Validation Accuracy: 0.578800\n",
      "Epoch  6, CIFAR-10 Batch 1:  Loss:     0.7562 Validation Accuracy: 0.598600\n",
      "Epoch  7, CIFAR-10 Batch 1:  Loss:     0.6521 Validation Accuracy: 0.601200\n",
      "Epoch  8, CIFAR-10 Batch 1:  Loss:     0.5651 Validation Accuracy: 0.610000\n",
      "Epoch  9, CIFAR-10 Batch 1:  Loss:     0.5158 Validation Accuracy: 0.617600\n",
      "Epoch 10, CIFAR-10 Batch 1:  Loss:     0.4618 Validation Accuracy: 0.624000\n",
      "Epoch 11, CIFAR-10 Batch 1:  Loss:     0.3819 Validation Accuracy: 0.626800\n",
      "Epoch 12, CIFAR-10 Batch 1:  Loss:     0.3421 Validation Accuracy: 0.626600\n",
      "Epoch 13, CIFAR-10 Batch 1:  Loss:     0.3191 Validation Accuracy: 0.630400\n",
      "Epoch 14, CIFAR-10 Batch 1:  Loss:     0.2818 Validation Accuracy: 0.627600\n",
      "Epoch 15, CIFAR-10 Batch 1:  Loss:     0.2546 Validation Accuracy: 0.637400\n",
      "Epoch 16, CIFAR-10 Batch 1:  Loss:     0.2351 Validation Accuracy: 0.632200\n",
      "Epoch 17, CIFAR-10 Batch 1:  Loss:     0.1747 Validation Accuracy: 0.634200\n",
      "Epoch 18, CIFAR-10 Batch 1:  Loss:     0.1562 Validation Accuracy: 0.637600\n",
      "Epoch 19, CIFAR-10 Batch 1:  Loss:     0.1272 Validation Accuracy: 0.638600\n",
      "Epoch 20, CIFAR-10 Batch 1:  Loss:     0.1069 Validation Accuracy: 0.644600\n",
      "Epoch 21, CIFAR-10 Batch 1:  Loss:     0.0974 Validation Accuracy: 0.644600\n",
      "Epoch 22, CIFAR-10 Batch 1:  Loss:     0.0711 Validation Accuracy: 0.650400\n",
      "Epoch 23, CIFAR-10 Batch 1:  Loss:     0.0715 Validation Accuracy: 0.645400\n",
      "Epoch 24, CIFAR-10 Batch 1:  Loss:     0.0652 Validation Accuracy: 0.648200\n",
      "Epoch 25, CIFAR-10 Batch 1:  Loss:     0.0493 Validation Accuracy: 0.647400\n",
      "Epoch 26, CIFAR-10 Batch 1:  Loss:     0.0524 Validation Accuracy: 0.643600\n",
      "Epoch 27, CIFAR-10 Batch 1:  Loss:     0.0392 Validation Accuracy: 0.649400\n",
      "Epoch 28, CIFAR-10 Batch 1:  Loss:     0.0305 Validation Accuracy: 0.653600\n",
      "Epoch 29, CIFAR-10 Batch 1:  Loss:     0.0283 Validation Accuracy: 0.652000\n",
      "Epoch 30, CIFAR-10 Batch 1:  Loss:     0.0244 Validation Accuracy: 0.647000\n",
      "Epoch 31, CIFAR-10 Batch 1:  Loss:     0.0247 Validation Accuracy: 0.648600\n",
      "Epoch 32, CIFAR-10 Batch 1:  Loss:     0.0172 Validation Accuracy: 0.650600\n",
      "Epoch 33, CIFAR-10 Batch 1:  Loss:     0.0170 Validation Accuracy: 0.656400\n",
      "Epoch 34, CIFAR-10 Batch 1:  Loss:     0.0156 Validation Accuracy: 0.648000\n",
      "Epoch 35, CIFAR-10 Batch 1:  Loss:     0.0103 Validation Accuracy: 0.656800\n",
      "Epoch 36, CIFAR-10 Batch 1:  Loss:     0.0095 Validation Accuracy: 0.658200\n",
      "Epoch 37, CIFAR-10 Batch 1:  Loss:     0.0075 Validation Accuracy: 0.656200\n",
      "Epoch 38, CIFAR-10 Batch 1:  Loss:     0.0070 Validation Accuracy: 0.662800\n",
      "Epoch 39, CIFAR-10 Batch 1:  Loss:     0.0064 Validation Accuracy: 0.661800\n",
      "Epoch 40, CIFAR-10 Batch 1:  Loss:     0.0065 Validation Accuracy: 0.665000\n",
      "Epoch 41, CIFAR-10 Batch 1:  Loss:     0.0057 Validation Accuracy: 0.664400\n",
      "Epoch 42, CIFAR-10 Batch 1:  Loss:     0.0060 Validation Accuracy: 0.659800\n",
      "Epoch 43, CIFAR-10 Batch 1:  Loss:     0.0053 Validation Accuracy: 0.659000\n",
      "Epoch 44, CIFAR-10 Batch 1:  Loss:     0.0035 Validation Accuracy: 0.665000\n",
      "Epoch 45, CIFAR-10 Batch 1:  Loss:     0.0047 Validation Accuracy: 0.663200\n",
      "Epoch 46, CIFAR-10 Batch 1:  Loss:     0.0031 Validation Accuracy: 0.664000\n",
      "Epoch 47, CIFAR-10 Batch 1:  Loss:     0.0023 Validation Accuracy: 0.664400\n",
      "Epoch 48, CIFAR-10 Batch 1:  Loss:     0.0027 Validation Accuracy: 0.661000\n",
      "Epoch 49, CIFAR-10 Batch 1:  Loss:     0.0029 Validation Accuracy: 0.657400\n",
      "Epoch 50, CIFAR-10 Batch 1:  Loss:     0.0022 Validation Accuracy: 0.663200\n",
      "Epoch 51, CIFAR-10 Batch 1:  Loss:     0.0060 Validation Accuracy: 0.658000\n",
      "Epoch 52, CIFAR-10 Batch 1:  Loss:     0.0048 Validation Accuracy: 0.657800\n",
      "Epoch 53, CIFAR-10 Batch 1:  Loss:     0.0017 Validation Accuracy: 0.662800\n",
      "Epoch 54, CIFAR-10 Batch 1:  Loss:     0.0021 Validation Accuracy: 0.662000\n",
      "Epoch 55, CIFAR-10 Batch 1:  Loss:     0.0024 Validation Accuracy: 0.663200\n",
      "Epoch 56, CIFAR-10 Batch 1:  Loss:     0.0009 Validation Accuracy: 0.667800\n",
      "Epoch 57, CIFAR-10 Batch 1:  Loss:     0.0009 Validation Accuracy: 0.660800\n",
      "Epoch 58, CIFAR-10 Batch 1:  Loss:     0.0010 Validation Accuracy: 0.664200\n",
      "Epoch 59, CIFAR-10 Batch 1:  Loss:     0.0008 Validation Accuracy: 0.664800\n",
      "Epoch 60, CIFAR-10 Batch 1:  Loss:     0.0016 Validation Accuracy: 0.663200\n",
      "Epoch 61, CIFAR-10 Batch 1:  Loss:     0.0010 Validation Accuracy: 0.665000\n",
      "Epoch 62, CIFAR-10 Batch 1:  Loss:     0.0008 Validation Accuracy: 0.662800\n",
      "Epoch 63, CIFAR-10 Batch 1:  Loss:     0.0006 Validation Accuracy: 0.664200\n",
      "Epoch 64, CIFAR-10 Batch 1:  Loss:     0.0007 Validation Accuracy: 0.664600\n",
      "Epoch 65, CIFAR-10 Batch 1:  Loss:     0.0007 Validation Accuracy: 0.664200\n",
      "Epoch 66, CIFAR-10 Batch 1:  Loss:     0.0006 Validation Accuracy: 0.664600\n",
      "Epoch 67, CIFAR-10 Batch 1:  Loss:     0.0005 Validation Accuracy: 0.666000\n",
      "Epoch 68, CIFAR-10 Batch 1:  Loss:     0.0005 Validation Accuracy: 0.668800\n",
      "Epoch 69, CIFAR-10 Batch 1:  Loss:     0.0004 Validation Accuracy: 0.663800\n",
      "Epoch 70, CIFAR-10 Batch 1:  Loss:     0.0004 Validation Accuracy: 0.669000\n",
      "Epoch 71, CIFAR-10 Batch 1:  Loss:     0.0004 Validation Accuracy: 0.663800\n",
      "Epoch 72, CIFAR-10 Batch 1:  Loss:     0.0004 Validation Accuracy: 0.663600\n",
      "Epoch 73, CIFAR-10 Batch 1:  Loss:     0.0005 Validation Accuracy: 0.666000\n",
      "Epoch 74, CIFAR-10 Batch 1:  Loss:     0.0004 Validation Accuracy: 0.664200\n",
      "Epoch 75, CIFAR-10 Batch 1:  Loss:     0.0003 Validation Accuracy: 0.661400\n",
      "Epoch 76, CIFAR-10 Batch 1:  Loss:     0.0004 Validation Accuracy: 0.660600\n",
      "Epoch 77, CIFAR-10 Batch 1:  Loss:     0.0002 Validation Accuracy: 0.671800\n",
      "Epoch 78, CIFAR-10 Batch 1:  Loss:     0.0003 Validation Accuracy: 0.668600\n",
      "Epoch 79, CIFAR-10 Batch 1:  Loss:     0.0003 Validation Accuracy: 0.670000\n",
      "Epoch 80, CIFAR-10 Batch 1:  Loss:     0.0003 Validation Accuracy: 0.668000\n",
      "Epoch 81, CIFAR-10 Batch 1:  Loss:     0.0002 Validation Accuracy: 0.673800\n",
      "Epoch 82, CIFAR-10 Batch 1:  Loss:     0.0002 Validation Accuracy: 0.671800\n",
      "Epoch 83, CIFAR-10 Batch 1:  Loss:     0.0002 Validation Accuracy: 0.664000\n",
      "Epoch 84, CIFAR-10 Batch 1:  Loss:     0.0002 Validation Accuracy: 0.667200\n",
      "Epoch 85, CIFAR-10 Batch 1:  Loss:     0.0002 Validation Accuracy: 0.669200\n",
      "Epoch 86, CIFAR-10 Batch 1:  Loss:     0.0002 Validation Accuracy: 0.670600\n",
      "Epoch 87, CIFAR-10 Batch 1:  Loss:     0.0002 Validation Accuracy: 0.669800\n",
      "Epoch 88, CIFAR-10 Batch 1:  Loss:     0.0001 Validation Accuracy: 0.666200\n",
      "Epoch 89, CIFAR-10 Batch 1:  Loss:     0.0002 Validation Accuracy: 0.676800\n",
      "Epoch 90, CIFAR-10 Batch 1:  Loss:     0.0002 Validation Accuracy: 0.672600\n",
      "Epoch 91, CIFAR-10 Batch 1:  Loss:     0.0002 Validation Accuracy: 0.666400\n",
      "Epoch 92, CIFAR-10 Batch 1:  Loss:     0.0002 Validation Accuracy: 0.682000\n",
      "Epoch 93, CIFAR-10 Batch 1:  Loss:     0.0002 Validation Accuracy: 0.671400\n",
      "Epoch 94, CIFAR-10 Batch 1:  Loss:     0.0002 Validation Accuracy: 0.669800\n",
      "Epoch 95, CIFAR-10 Batch 1:  Loss:     0.0001 Validation Accuracy: 0.672400\n",
      "Epoch 96, CIFAR-10 Batch 1:  Loss:     0.0001 Validation Accuracy: 0.668800\n",
      "Epoch 97, CIFAR-10 Batch 1:  Loss:     0.0001 Validation Accuracy: 0.665800\n",
      "Epoch 98, CIFAR-10 Batch 1:  Loss:     0.0001 Validation Accuracy: 0.666800\n",
      "Epoch 99, CIFAR-10 Batch 1:  Loss:     0.0002 Validation Accuracy: 0.669400\n",
      "Epoch 100, CIFAR-10 Batch 1:  Loss:     0.0002 Validation Accuracy: 0.666400\n"
     ]
    }
   ],
   "source": [
    "\"\"\"\n",
    "DON'T MODIFY ANYTHING IN THIS CELL\n",
    "\"\"\"\n",
    "print('Checking the Training on a Single Batch...')\n",
    "\n",
    "with tf.Session(config=config) as sess:\n",
    "    # Initializing the variables\n",
    "    sess.run(tf.global_variables_initializer())\n",
    "    \n",
    "    # Training cycle\n",
    "    for epoch in range(epochs):\n",
    "        batch_i = 1\n",
    "        for batch_features, batch_labels in helper.load_preprocess_training_batch(batch_i, batch_size):\n",
    "            train_neural_network(sess, optimizer, keep_probability, batch_features, batch_labels)\n",
    "        print('Epoch {:>2}, CIFAR-10 Batch {}:  '.format(epoch + 1, batch_i), end='')\n",
    "        print_stats(sess, batch_features, batch_labels, cost, accuracy)"
   ]
  },
  {
   "cell_type": "markdown",
   "metadata": {},
   "source": [
    "### Fully Train the Model\n",
    "Now that you got a good accuracy with a single CIFAR-10 batch, try it with all five batches."
   ]
  },
  {
   "cell_type": "code",
   "execution_count": 20,
   "metadata": {},
   "outputs": [
    {
     "name": "stdout",
     "output_type": "stream",
     "text": [
      "Training...\n",
      "Epoch  1, CIFAR-10 Batch 1:  Loss:     1.6712 Validation Accuracy: 0.439600\n",
      "Epoch  1, CIFAR-10 Batch 2:  Loss:     1.3973 Validation Accuracy: 0.508000\n",
      "Epoch  1, CIFAR-10 Batch 3:  Loss:     1.1472 Validation Accuracy: 0.531800\n",
      "Epoch  1, CIFAR-10 Batch 4:  Loss:     1.3085 Validation Accuracy: 0.561400\n",
      "Epoch  1, CIFAR-10 Batch 5:  Loss:     1.2167 Validation Accuracy: 0.572200\n",
      "Epoch  2, CIFAR-10 Batch 1:  Loss:     1.1383 Validation Accuracy: 0.588200\n",
      "Epoch  2, CIFAR-10 Batch 2:  Loss:     1.0608 Validation Accuracy: 0.601000\n",
      "Epoch  2, CIFAR-10 Batch 3:  Loss:     0.8503 Validation Accuracy: 0.597800\n",
      "Epoch  2, CIFAR-10 Batch 4:  Loss:     0.9791 Validation Accuracy: 0.621800\n",
      "Epoch  2, CIFAR-10 Batch 5:  Loss:     0.9196 Validation Accuracy: 0.622200\n",
      "Epoch  3, CIFAR-10 Batch 1:  Loss:     1.0291 Validation Accuracy: 0.645000\n",
      "Epoch  3, CIFAR-10 Batch 2:  Loss:     0.8146 Validation Accuracy: 0.651800\n",
      "Epoch  3, CIFAR-10 Batch 3:  Loss:     0.7111 Validation Accuracy: 0.645600\n",
      "Epoch  3, CIFAR-10 Batch 4:  Loss:     0.8238 Validation Accuracy: 0.652400\n",
      "Epoch  3, CIFAR-10 Batch 5:  Loss:     0.7300 Validation Accuracy: 0.657800\n",
      "Epoch  4, CIFAR-10 Batch 1:  Loss:     0.8866 Validation Accuracy: 0.669200\n",
      "Epoch  4, CIFAR-10 Batch 2:  Loss:     0.7014 Validation Accuracy: 0.667800\n",
      "Epoch  4, CIFAR-10 Batch 3:  Loss:     0.5594 Validation Accuracy: 0.676200\n",
      "Epoch  4, CIFAR-10 Batch 4:  Loss:     0.7275 Validation Accuracy: 0.671400\n",
      "Epoch  4, CIFAR-10 Batch 5:  Loss:     0.6483 Validation Accuracy: 0.676000\n",
      "Epoch  5, CIFAR-10 Batch 1:  Loss:     0.8418 Validation Accuracy: 0.683800\n",
      "Epoch  5, CIFAR-10 Batch 2:  Loss:     0.5912 Validation Accuracy: 0.684400\n",
      "Epoch  5, CIFAR-10 Batch 3:  Loss:     0.5413 Validation Accuracy: 0.686400\n",
      "Epoch  5, CIFAR-10 Batch 4:  Loss:     0.6388 Validation Accuracy: 0.683000\n",
      "Epoch  5, CIFAR-10 Batch 5:  Loss:     0.5920 Validation Accuracy: 0.690800\n",
      "Epoch  6, CIFAR-10 Batch 1:  Loss:     0.7430 Validation Accuracy: 0.694000\n",
      "Epoch  6, CIFAR-10 Batch 2:  Loss:     0.4626 Validation Accuracy: 0.702600\n",
      "Epoch  6, CIFAR-10 Batch 3:  Loss:     0.4747 Validation Accuracy: 0.704600\n",
      "Epoch  6, CIFAR-10 Batch 4:  Loss:     0.6162 Validation Accuracy: 0.692200\n",
      "Epoch  6, CIFAR-10 Batch 5:  Loss:     0.4322 Validation Accuracy: 0.692800\n",
      "Epoch  7, CIFAR-10 Batch 1:  Loss:     0.7077 Validation Accuracy: 0.703600\n",
      "Epoch  7, CIFAR-10 Batch 2:  Loss:     0.4461 Validation Accuracy: 0.711800\n",
      "Epoch  7, CIFAR-10 Batch 3:  Loss:     0.4890 Validation Accuracy: 0.706400\n",
      "Epoch  7, CIFAR-10 Batch 4:  Loss:     0.5279 Validation Accuracy: 0.703200\n",
      "Epoch  7, CIFAR-10 Batch 5:  Loss:     0.4303 Validation Accuracy: 0.704800\n",
      "Epoch  8, CIFAR-10 Batch 1:  Loss:     0.6575 Validation Accuracy: 0.709200\n",
      "Epoch  8, CIFAR-10 Batch 2:  Loss:     0.3921 Validation Accuracy: 0.714200\n",
      "Epoch  8, CIFAR-10 Batch 3:  Loss:     0.4071 Validation Accuracy: 0.712800\n",
      "Epoch  8, CIFAR-10 Batch 4:  Loss:     0.4525 Validation Accuracy: 0.703200\n",
      "Epoch  8, CIFAR-10 Batch 5:  Loss:     0.4313 Validation Accuracy: 0.709800\n",
      "Epoch  9, CIFAR-10 Batch 1:  Loss:     0.5868 Validation Accuracy: 0.721800\n",
      "Epoch  9, CIFAR-10 Batch 2:  Loss:     0.3696 Validation Accuracy: 0.722600\n",
      "Epoch  9, CIFAR-10 Batch 3:  Loss:     0.4184 Validation Accuracy: 0.712200\n",
      "Epoch  9, CIFAR-10 Batch 4:  Loss:     0.4380 Validation Accuracy: 0.711800\n",
      "Epoch  9, CIFAR-10 Batch 5:  Loss:     0.3677 Validation Accuracy: 0.717400\n",
      "Epoch 10, CIFAR-10 Batch 1:  Loss:     0.5831 Validation Accuracy: 0.723800\n",
      "Epoch 10, CIFAR-10 Batch 2:  Loss:     0.3128 Validation Accuracy: 0.719200\n",
      "Epoch 10, CIFAR-10 Batch 3:  Loss:     0.3336 Validation Accuracy: 0.726600\n",
      "Epoch 10, CIFAR-10 Batch 4:  Loss:     0.3649 Validation Accuracy: 0.721400\n",
      "Epoch 10, CIFAR-10 Batch 5:  Loss:     0.3365 Validation Accuracy: 0.727000\n",
      "Epoch 11, CIFAR-10 Batch 1:  Loss:     0.5264 Validation Accuracy: 0.727800\n",
      "Epoch 11, CIFAR-10 Batch 2:  Loss:     0.3054 Validation Accuracy: 0.724400\n",
      "Epoch 11, CIFAR-10 Batch 3:  Loss:     0.3179 Validation Accuracy: 0.723400\n",
      "Epoch 11, CIFAR-10 Batch 4:  Loss:     0.3566 Validation Accuracy: 0.726600\n",
      "Epoch 11, CIFAR-10 Batch 5:  Loss:     0.3298 Validation Accuracy: 0.727000\n",
      "Epoch 12, CIFAR-10 Batch 1:  Loss:     0.4363 Validation Accuracy: 0.731000\n",
      "Epoch 12, CIFAR-10 Batch 2:  Loss:     0.2624 Validation Accuracy: 0.735600\n",
      "Epoch 12, CIFAR-10 Batch 3:  Loss:     0.2683 Validation Accuracy: 0.730400\n",
      "Epoch 12, CIFAR-10 Batch 4:  Loss:     0.2934 Validation Accuracy: 0.730400\n",
      "Epoch 12, CIFAR-10 Batch 5:  Loss:     0.2785 Validation Accuracy: 0.730000\n",
      "Epoch 13, CIFAR-10 Batch 1:  Loss:     0.4155 Validation Accuracy: 0.737800\n",
      "Epoch 13, CIFAR-10 Batch 2:  Loss:     0.2244 Validation Accuracy: 0.736000\n",
      "Epoch 13, CIFAR-10 Batch 3:  Loss:     0.2569 Validation Accuracy: 0.732800\n",
      "Epoch 13, CIFAR-10 Batch 4:  Loss:     0.2656 Validation Accuracy: 0.732800\n",
      "Epoch 13, CIFAR-10 Batch 5:  Loss:     0.2684 Validation Accuracy: 0.737200\n",
      "Epoch 14, CIFAR-10 Batch 1:  Loss:     0.3881 Validation Accuracy: 0.732800\n",
      "Epoch 14, CIFAR-10 Batch 2:  Loss:     0.2370 Validation Accuracy: 0.738600\n",
      "Epoch 14, CIFAR-10 Batch 3:  Loss:     0.2496 Validation Accuracy: 0.741600\n",
      "Epoch 14, CIFAR-10 Batch 4:  Loss:     0.2341 Validation Accuracy: 0.737800\n",
      "Epoch 14, CIFAR-10 Batch 5:  Loss:     0.2275 Validation Accuracy: 0.736000\n",
      "Epoch 15, CIFAR-10 Batch 1:  Loss:     0.3147 Validation Accuracy: 0.742600\n",
      "Epoch 15, CIFAR-10 Batch 2:  Loss:     0.2197 Validation Accuracy: 0.743600\n",
      "Epoch 15, CIFAR-10 Batch 3:  Loss:     0.2423 Validation Accuracy: 0.738400\n",
      "Epoch 15, CIFAR-10 Batch 4:  Loss:     0.2213 Validation Accuracy: 0.742400\n",
      "Epoch 15, CIFAR-10 Batch 5:  Loss:     0.1956 Validation Accuracy: 0.742400\n",
      "Epoch 16, CIFAR-10 Batch 1:  Loss:     0.3136 Validation Accuracy: 0.737400\n",
      "Epoch 16, CIFAR-10 Batch 2:  Loss:     0.2086 Validation Accuracy: 0.743800\n",
      "Epoch 16, CIFAR-10 Batch 3:  Loss:     0.2231 Validation Accuracy: 0.741000\n",
      "Epoch 16, CIFAR-10 Batch 4:  Loss:     0.2001 Validation Accuracy: 0.743000\n",
      "Epoch 16, CIFAR-10 Batch 5:  Loss:     0.1955 Validation Accuracy: 0.745800\n",
      "Epoch 17, CIFAR-10 Batch 1:  Loss:     0.2683 Validation Accuracy: 0.744200\n",
      "Epoch 17, CIFAR-10 Batch 2:  Loss:     0.1807 Validation Accuracy: 0.743400\n",
      "Epoch 17, CIFAR-10 Batch 3:  Loss:     0.1684 Validation Accuracy: 0.740600\n",
      "Epoch 17, CIFAR-10 Batch 4:  Loss:     0.1803 Validation Accuracy: 0.751000\n",
      "Epoch 17, CIFAR-10 Batch 5:  Loss:     0.1621 Validation Accuracy: 0.746600\n",
      "Epoch 18, CIFAR-10 Batch 1:  Loss:     0.2101 Validation Accuracy: 0.745000\n",
      "Epoch 18, CIFAR-10 Batch 2:  Loss:     0.1770 Validation Accuracy: 0.748600\n",
      "Epoch 18, CIFAR-10 Batch 3:  Loss:     0.1821 Validation Accuracy: 0.741800\n",
      "Epoch 18, CIFAR-10 Batch 4:  Loss:     0.1745 Validation Accuracy: 0.745000\n",
      "Epoch 18, CIFAR-10 Batch 5:  Loss:     0.1279 Validation Accuracy: 0.749800\n",
      "Epoch 19, CIFAR-10 Batch 1:  Loss:     0.1951 Validation Accuracy: 0.749200\n",
      "Epoch 19, CIFAR-10 Batch 2:  Loss:     0.1512 Validation Accuracy: 0.755400\n",
      "Epoch 19, CIFAR-10 Batch 3:  Loss:     0.1482 Validation Accuracy: 0.742800\n",
      "Epoch 19, CIFAR-10 Batch 4:  Loss:     0.1658 Validation Accuracy: 0.749000\n",
      "Epoch 19, CIFAR-10 Batch 5:  Loss:     0.1112 Validation Accuracy: 0.749800\n",
      "Epoch 20, CIFAR-10 Batch 1:  Loss:     0.1664 Validation Accuracy: 0.755600\n",
      "Epoch 20, CIFAR-10 Batch 2:  Loss:     0.1277 Validation Accuracy: 0.756600\n",
      "Epoch 20, CIFAR-10 Batch 3:  Loss:     0.1694 Validation Accuracy: 0.749800\n",
      "Epoch 20, CIFAR-10 Batch 4:  Loss:     0.1568 Validation Accuracy: 0.757000\n",
      "Epoch 20, CIFAR-10 Batch 5:  Loss:     0.0913 Validation Accuracy: 0.753200\n",
      "Epoch 21, CIFAR-10 Batch 1:  Loss:     0.1617 Validation Accuracy: 0.748400\n",
      "Epoch 21, CIFAR-10 Batch 2:  Loss:     0.1373 Validation Accuracy: 0.754800\n",
      "Epoch 21, CIFAR-10 Batch 3:  Loss:     0.1216 Validation Accuracy: 0.752400\n",
      "Epoch 21, CIFAR-10 Batch 4:  Loss:     0.1317 Validation Accuracy: 0.761000\n",
      "Epoch 21, CIFAR-10 Batch 5:  Loss:     0.1066 Validation Accuracy: 0.750200\n",
      "Epoch 22, CIFAR-10 Batch 1:  Loss:     0.1578 Validation Accuracy: 0.754200\n",
      "Epoch 22, CIFAR-10 Batch 2:  Loss:     0.1319 Validation Accuracy: 0.757200\n",
      "Epoch 22, CIFAR-10 Batch 3:  Loss:     0.1167 Validation Accuracy: 0.754000\n"
     ]
    },
    {
     "name": "stdout",
     "output_type": "stream",
     "text": [
      "Epoch 22, CIFAR-10 Batch 4:  Loss:     0.1316 Validation Accuracy: 0.757000\n",
      "Epoch 22, CIFAR-10 Batch 5:  Loss:     0.0637 Validation Accuracy: 0.754200\n",
      "Epoch 23, CIFAR-10 Batch 1:  Loss:     0.1085 Validation Accuracy: 0.752400\n",
      "Epoch 23, CIFAR-10 Batch 2:  Loss:     0.1178 Validation Accuracy: 0.755800\n",
      "Epoch 23, CIFAR-10 Batch 3:  Loss:     0.0857 Validation Accuracy: 0.755000\n",
      "Epoch 23, CIFAR-10 Batch 4:  Loss:     0.1128 Validation Accuracy: 0.755600\n",
      "Epoch 23, CIFAR-10 Batch 5:  Loss:     0.0631 Validation Accuracy: 0.757000\n",
      "Epoch 24, CIFAR-10 Batch 1:  Loss:     0.0999 Validation Accuracy: 0.753800\n",
      "Epoch 24, CIFAR-10 Batch 2:  Loss:     0.0875 Validation Accuracy: 0.757800\n",
      "Epoch 24, CIFAR-10 Batch 3:  Loss:     0.0821 Validation Accuracy: 0.751800\n",
      "Epoch 24, CIFAR-10 Batch 4:  Loss:     0.1175 Validation Accuracy: 0.755800\n",
      "Epoch 24, CIFAR-10 Batch 5:  Loss:     0.0583 Validation Accuracy: 0.750800\n",
      "Epoch 25, CIFAR-10 Batch 1:  Loss:     0.1086 Validation Accuracy: 0.750200\n",
      "Epoch 25, CIFAR-10 Batch 2:  Loss:     0.1027 Validation Accuracy: 0.759800\n",
      "Epoch 25, CIFAR-10 Batch 3:  Loss:     0.0661 Validation Accuracy: 0.754600\n",
      "Epoch 25, CIFAR-10 Batch 4:  Loss:     0.0967 Validation Accuracy: 0.761000\n",
      "Epoch 25, CIFAR-10 Batch 5:  Loss:     0.0436 Validation Accuracy: 0.755200\n",
      "Epoch 26, CIFAR-10 Batch 1:  Loss:     0.0958 Validation Accuracy: 0.758200\n",
      "Epoch 26, CIFAR-10 Batch 2:  Loss:     0.0735 Validation Accuracy: 0.765400\n",
      "Epoch 26, CIFAR-10 Batch 3:  Loss:     0.0649 Validation Accuracy: 0.754400\n",
      "Epoch 26, CIFAR-10 Batch 4:  Loss:     0.0941 Validation Accuracy: 0.759400\n",
      "Epoch 26, CIFAR-10 Batch 5:  Loss:     0.0428 Validation Accuracy: 0.758800\n",
      "Epoch 27, CIFAR-10 Batch 1:  Loss:     0.0809 Validation Accuracy: 0.759800\n",
      "Epoch 27, CIFAR-10 Batch 2:  Loss:     0.0853 Validation Accuracy: 0.767000\n",
      "Epoch 27, CIFAR-10 Batch 3:  Loss:     0.0751 Validation Accuracy: 0.757800\n",
      "Epoch 27, CIFAR-10 Batch 4:  Loss:     0.0764 Validation Accuracy: 0.761000\n",
      "Epoch 27, CIFAR-10 Batch 5:  Loss:     0.0360 Validation Accuracy: 0.756600\n",
      "Epoch 28, CIFAR-10 Batch 1:  Loss:     0.0705 Validation Accuracy: 0.764600\n",
      "Epoch 28, CIFAR-10 Batch 2:  Loss:     0.0807 Validation Accuracy: 0.762400\n",
      "Epoch 28, CIFAR-10 Batch 3:  Loss:     0.0550 Validation Accuracy: 0.764800\n",
      "Epoch 28, CIFAR-10 Batch 4:  Loss:     0.0829 Validation Accuracy: 0.763000\n",
      "Epoch 28, CIFAR-10 Batch 5:  Loss:     0.0494 Validation Accuracy: 0.759000\n",
      "Epoch 29, CIFAR-10 Batch 1:  Loss:     0.0664 Validation Accuracy: 0.763000\n",
      "Epoch 29, CIFAR-10 Batch 2:  Loss:     0.0719 Validation Accuracy: 0.766000\n",
      "Epoch 29, CIFAR-10 Batch 3:  Loss:     0.0439 Validation Accuracy: 0.762200\n",
      "Epoch 29, CIFAR-10 Batch 4:  Loss:     0.0741 Validation Accuracy: 0.759200\n",
      "Epoch 29, CIFAR-10 Batch 5:  Loss:     0.0337 Validation Accuracy: 0.763400\n",
      "Epoch 30, CIFAR-10 Batch 1:  Loss:     0.0657 Validation Accuracy: 0.765600\n",
      "Epoch 30, CIFAR-10 Batch 2:  Loss:     0.0554 Validation Accuracy: 0.762800\n",
      "Epoch 30, CIFAR-10 Batch 3:  Loss:     0.0457 Validation Accuracy: 0.765000\n",
      "Epoch 30, CIFAR-10 Batch 4:  Loss:     0.0658 Validation Accuracy: 0.764200\n",
      "Epoch 30, CIFAR-10 Batch 5:  Loss:     0.0295 Validation Accuracy: 0.766000\n",
      "Epoch 31, CIFAR-10 Batch 1:  Loss:     0.0636 Validation Accuracy: 0.767800\n",
      "Epoch 31, CIFAR-10 Batch 2:  Loss:     0.0595 Validation Accuracy: 0.764600\n",
      "Epoch 31, CIFAR-10 Batch 3:  Loss:     0.0395 Validation Accuracy: 0.767200\n",
      "Epoch 31, CIFAR-10 Batch 4:  Loss:     0.0546 Validation Accuracy: 0.765000\n",
      "Epoch 31, CIFAR-10 Batch 5:  Loss:     0.0207 Validation Accuracy: 0.765400\n",
      "Epoch 32, CIFAR-10 Batch 1:  Loss:     0.0586 Validation Accuracy: 0.766400\n",
      "Epoch 32, CIFAR-10 Batch 2:  Loss:     0.0576 Validation Accuracy: 0.766600\n",
      "Epoch 32, CIFAR-10 Batch 3:  Loss:     0.0405 Validation Accuracy: 0.763600\n",
      "Epoch 32, CIFAR-10 Batch 4:  Loss:     0.0469 Validation Accuracy: 0.766400\n",
      "Epoch 32, CIFAR-10 Batch 5:  Loss:     0.0285 Validation Accuracy: 0.761800\n",
      "Epoch 33, CIFAR-10 Batch 1:  Loss:     0.0506 Validation Accuracy: 0.767600\n",
      "Epoch 33, CIFAR-10 Batch 2:  Loss:     0.0399 Validation Accuracy: 0.764600\n",
      "Epoch 33, CIFAR-10 Batch 3:  Loss:     0.0343 Validation Accuracy: 0.763600\n",
      "Epoch 33, CIFAR-10 Batch 4:  Loss:     0.0489 Validation Accuracy: 0.765400\n",
      "Epoch 33, CIFAR-10 Batch 5:  Loss:     0.0216 Validation Accuracy: 0.759400\n",
      "Epoch 34, CIFAR-10 Batch 1:  Loss:     0.0642 Validation Accuracy: 0.770400\n",
      "Epoch 34, CIFAR-10 Batch 2:  Loss:     0.0475 Validation Accuracy: 0.767400\n",
      "Epoch 34, CIFAR-10 Batch 3:  Loss:     0.0302 Validation Accuracy: 0.762600\n",
      "Epoch 34, CIFAR-10 Batch 4:  Loss:     0.0427 Validation Accuracy: 0.768400\n",
      "Epoch 34, CIFAR-10 Batch 5:  Loss:     0.0187 Validation Accuracy: 0.764200\n",
      "Epoch 35, CIFAR-10 Batch 1:  Loss:     0.0526 Validation Accuracy: 0.767400\n",
      "Epoch 35, CIFAR-10 Batch 2:  Loss:     0.0400 Validation Accuracy: 0.767400\n",
      "Epoch 35, CIFAR-10 Batch 3:  Loss:     0.0317 Validation Accuracy: 0.765600\n",
      "Epoch 35, CIFAR-10 Batch 4:  Loss:     0.0414 Validation Accuracy: 0.766200\n",
      "Epoch 35, CIFAR-10 Batch 5:  Loss:     0.0181 Validation Accuracy: 0.761600\n",
      "Epoch 36, CIFAR-10 Batch 1:  Loss:     0.0392 Validation Accuracy: 0.772400\n",
      "Epoch 36, CIFAR-10 Batch 2:  Loss:     0.0435 Validation Accuracy: 0.772600\n",
      "Epoch 36, CIFAR-10 Batch 3:  Loss:     0.0330 Validation Accuracy: 0.768400\n",
      "Epoch 36, CIFAR-10 Batch 4:  Loss:     0.0411 Validation Accuracy: 0.775000\n",
      "Epoch 36, CIFAR-10 Batch 5:  Loss:     0.0174 Validation Accuracy: 0.768200\n",
      "Epoch 37, CIFAR-10 Batch 1:  Loss:     0.0302 Validation Accuracy: 0.771400\n",
      "Epoch 37, CIFAR-10 Batch 2:  Loss:     0.0334 Validation Accuracy: 0.770400\n",
      "Epoch 37, CIFAR-10 Batch 3:  Loss:     0.0339 Validation Accuracy: 0.768600\n",
      "Epoch 37, CIFAR-10 Batch 4:  Loss:     0.0359 Validation Accuracy: 0.770400\n",
      "Epoch 37, CIFAR-10 Batch 5:  Loss:     0.0165 Validation Accuracy: 0.764800\n",
      "Epoch 38, CIFAR-10 Batch 1:  Loss:     0.0330 Validation Accuracy: 0.771800\n",
      "Epoch 38, CIFAR-10 Batch 2:  Loss:     0.0473 Validation Accuracy: 0.774200\n",
      "Epoch 38, CIFAR-10 Batch 3:  Loss:     0.0280 Validation Accuracy: 0.769200\n",
      "Epoch 38, CIFAR-10 Batch 4:  Loss:     0.0372 Validation Accuracy: 0.772400\n",
      "Epoch 38, CIFAR-10 Batch 5:  Loss:     0.0151 Validation Accuracy: 0.764400\n",
      "Epoch 39, CIFAR-10 Batch 1:  Loss:     0.0291 Validation Accuracy: 0.770400\n",
      "Epoch 39, CIFAR-10 Batch 2:  Loss:     0.0373 Validation Accuracy: 0.766200\n",
      "Epoch 39, CIFAR-10 Batch 3:  Loss:     0.0237 Validation Accuracy: 0.768600\n",
      "Epoch 39, CIFAR-10 Batch 4:  Loss:     0.0341 Validation Accuracy: 0.769400\n",
      "Epoch 39, CIFAR-10 Batch 5:  Loss:     0.0118 Validation Accuracy: 0.771600\n",
      "Epoch 40, CIFAR-10 Batch 1:  Loss:     0.0303 Validation Accuracy: 0.774600\n",
      "Epoch 40, CIFAR-10 Batch 2:  Loss:     0.0327 Validation Accuracy: 0.776000\n",
      "Epoch 40, CIFAR-10 Batch 3:  Loss:     0.0231 Validation Accuracy: 0.770800\n",
      "Epoch 40, CIFAR-10 Batch 4:  Loss:     0.0345 Validation Accuracy: 0.774200\n",
      "Epoch 40, CIFAR-10 Batch 5:  Loss:     0.0142 Validation Accuracy: 0.772200\n",
      "Epoch 41, CIFAR-10 Batch 1:  Loss:     0.0295 Validation Accuracy: 0.768600\n",
      "Epoch 41, CIFAR-10 Batch 2:  Loss:     0.0421 Validation Accuracy: 0.772600\n",
      "Epoch 41, CIFAR-10 Batch 3:  Loss:     0.0218 Validation Accuracy: 0.770200\n",
      "Epoch 41, CIFAR-10 Batch 4:  Loss:     0.0270 Validation Accuracy: 0.777400\n",
      "Epoch 41, CIFAR-10 Batch 5:  Loss:     0.0131 Validation Accuracy: 0.771000\n",
      "Epoch 42, CIFAR-10 Batch 1:  Loss:     0.0386 Validation Accuracy: 0.773200\n",
      "Epoch 42, CIFAR-10 Batch 2:  Loss:     0.0282 Validation Accuracy: 0.771600\n",
      "Epoch 42, CIFAR-10 Batch 3:  Loss:     0.0237 Validation Accuracy: 0.774600\n",
      "Epoch 42, CIFAR-10 Batch 4:  Loss:     0.0334 Validation Accuracy: 0.775400\n",
      "Epoch 42, CIFAR-10 Batch 5:  Loss:     0.0084 Validation Accuracy: 0.770600\n",
      "Epoch 43, CIFAR-10 Batch 1:  Loss:     0.0281 Validation Accuracy: 0.775200\n",
      "Epoch 43, CIFAR-10 Batch 2:  Loss:     0.0338 Validation Accuracy: 0.771000\n",
      "Epoch 43, CIFAR-10 Batch 3:  Loss:     0.0181 Validation Accuracy: 0.776400\n",
      "Epoch 43, CIFAR-10 Batch 4:  Loss:     0.0283 Validation Accuracy: 0.775000\n",
      "Epoch 43, CIFAR-10 Batch 5:  Loss:     0.0086 Validation Accuracy: 0.775400\n",
      "Epoch 44, CIFAR-10 Batch 1:  Loss:     0.0250 Validation Accuracy: 0.774200\n"
     ]
    },
    {
     "name": "stdout",
     "output_type": "stream",
     "text": [
      "Epoch 44, CIFAR-10 Batch 2:  Loss:     0.0371 Validation Accuracy: 0.777200\n",
      "Epoch 44, CIFAR-10 Batch 3:  Loss:     0.0200 Validation Accuracy: 0.772200\n",
      "Epoch 44, CIFAR-10 Batch 4:  Loss:     0.0214 Validation Accuracy: 0.772200\n",
      "Epoch 44, CIFAR-10 Batch 5:  Loss:     0.0144 Validation Accuracy: 0.771000\n",
      "Epoch 45, CIFAR-10 Batch 1:  Loss:     0.0220 Validation Accuracy: 0.772400\n",
      "Epoch 45, CIFAR-10 Batch 2:  Loss:     0.0330 Validation Accuracy: 0.774600\n",
      "Epoch 45, CIFAR-10 Batch 3:  Loss:     0.0131 Validation Accuracy: 0.771000\n",
      "Epoch 45, CIFAR-10 Batch 4:  Loss:     0.0221 Validation Accuracy: 0.775000\n",
      "Epoch 45, CIFAR-10 Batch 5:  Loss:     0.0118 Validation Accuracy: 0.775400\n",
      "Epoch 46, CIFAR-10 Batch 1:  Loss:     0.0193 Validation Accuracy: 0.774200\n",
      "Epoch 46, CIFAR-10 Batch 2:  Loss:     0.0237 Validation Accuracy: 0.776600\n",
      "Epoch 46, CIFAR-10 Batch 3:  Loss:     0.0243 Validation Accuracy: 0.769600\n",
      "Epoch 46, CIFAR-10 Batch 4:  Loss:     0.0281 Validation Accuracy: 0.772000\n",
      "Epoch 46, CIFAR-10 Batch 5:  Loss:     0.0089 Validation Accuracy: 0.773600\n",
      "Epoch 47, CIFAR-10 Batch 1:  Loss:     0.0200 Validation Accuracy: 0.776400\n",
      "Epoch 47, CIFAR-10 Batch 2:  Loss:     0.0199 Validation Accuracy: 0.771200\n",
      "Epoch 47, CIFAR-10 Batch 3:  Loss:     0.0160 Validation Accuracy: 0.770400\n",
      "Epoch 47, CIFAR-10 Batch 4:  Loss:     0.0171 Validation Accuracy: 0.773600\n",
      "Epoch 47, CIFAR-10 Batch 5:  Loss:     0.0075 Validation Accuracy: 0.774600\n",
      "Epoch 48, CIFAR-10 Batch 1:  Loss:     0.0259 Validation Accuracy: 0.771200\n",
      "Epoch 48, CIFAR-10 Batch 2:  Loss:     0.0222 Validation Accuracy: 0.775200\n",
      "Epoch 48, CIFAR-10 Batch 3:  Loss:     0.0155 Validation Accuracy: 0.770400\n",
      "Epoch 48, CIFAR-10 Batch 4:  Loss:     0.0195 Validation Accuracy: 0.776200\n",
      "Epoch 48, CIFAR-10 Batch 5:  Loss:     0.0083 Validation Accuracy: 0.777200\n",
      "Epoch 49, CIFAR-10 Batch 1:  Loss:     0.0170 Validation Accuracy: 0.778200\n",
      "Epoch 49, CIFAR-10 Batch 2:  Loss:     0.0198 Validation Accuracy: 0.779600\n",
      "Epoch 49, CIFAR-10 Batch 3:  Loss:     0.0150 Validation Accuracy: 0.771400\n",
      "Epoch 49, CIFAR-10 Batch 4:  Loss:     0.0178 Validation Accuracy: 0.777000\n",
      "Epoch 49, CIFAR-10 Batch 5:  Loss:     0.0093 Validation Accuracy: 0.772000\n",
      "Epoch 50, CIFAR-10 Batch 1:  Loss:     0.0164 Validation Accuracy: 0.777400\n",
      "Epoch 50, CIFAR-10 Batch 2:  Loss:     0.0207 Validation Accuracy: 0.779600\n",
      "Epoch 50, CIFAR-10 Batch 3:  Loss:     0.0127 Validation Accuracy: 0.776200\n",
      "Epoch 50, CIFAR-10 Batch 4:  Loss:     0.0168 Validation Accuracy: 0.775000\n",
      "Epoch 50, CIFAR-10 Batch 5:  Loss:     0.0062 Validation Accuracy: 0.772200\n",
      "Epoch 51, CIFAR-10 Batch 1:  Loss:     0.0157 Validation Accuracy: 0.774200\n",
      "Epoch 51, CIFAR-10 Batch 2:  Loss:     0.0245 Validation Accuracy: 0.779600\n",
      "Epoch 51, CIFAR-10 Batch 3:  Loss:     0.0134 Validation Accuracy: 0.767400\n",
      "Epoch 51, CIFAR-10 Batch 4:  Loss:     0.0150 Validation Accuracy: 0.776800\n",
      "Epoch 51, CIFAR-10 Batch 5:  Loss:     0.0056 Validation Accuracy: 0.772400\n",
      "Epoch 52, CIFAR-10 Batch 1:  Loss:     0.0203 Validation Accuracy: 0.774600\n",
      "Epoch 52, CIFAR-10 Batch 2:  Loss:     0.0201 Validation Accuracy: 0.772400\n",
      "Epoch 52, CIFAR-10 Batch 3:  Loss:     0.0142 Validation Accuracy: 0.770000\n",
      "Epoch 52, CIFAR-10 Batch 4:  Loss:     0.0106 Validation Accuracy: 0.774000\n",
      "Epoch 52, CIFAR-10 Batch 5:  Loss:     0.0051 Validation Accuracy: 0.775800\n",
      "Epoch 53, CIFAR-10 Batch 1:  Loss:     0.0123 Validation Accuracy: 0.773600\n",
      "Epoch 53, CIFAR-10 Batch 2:  Loss:     0.0232 Validation Accuracy: 0.774400\n",
      "Epoch 53, CIFAR-10 Batch 3:  Loss:     0.0137 Validation Accuracy: 0.769000\n",
      "Epoch 53, CIFAR-10 Batch 4:  Loss:     0.0103 Validation Accuracy: 0.770200\n",
      "Epoch 53, CIFAR-10 Batch 5:  Loss:     0.0035 Validation Accuracy: 0.775200\n",
      "Epoch 54, CIFAR-10 Batch 1:  Loss:     0.0122 Validation Accuracy: 0.776600\n",
      "Epoch 54, CIFAR-10 Batch 2:  Loss:     0.0129 Validation Accuracy: 0.778000\n",
      "Epoch 54, CIFAR-10 Batch 3:  Loss:     0.0109 Validation Accuracy: 0.776800\n",
      "Epoch 54, CIFAR-10 Batch 4:  Loss:     0.0094 Validation Accuracy: 0.775000\n",
      "Epoch 54, CIFAR-10 Batch 5:  Loss:     0.0044 Validation Accuracy: 0.770600\n",
      "Epoch 55, CIFAR-10 Batch 1:  Loss:     0.0135 Validation Accuracy: 0.773000\n",
      "Epoch 55, CIFAR-10 Batch 2:  Loss:     0.0137 Validation Accuracy: 0.776400\n",
      "Epoch 55, CIFAR-10 Batch 3:  Loss:     0.0118 Validation Accuracy: 0.772000\n",
      "Epoch 55, CIFAR-10 Batch 4:  Loss:     0.0123 Validation Accuracy: 0.778000\n",
      "Epoch 55, CIFAR-10 Batch 5:  Loss:     0.0040 Validation Accuracy: 0.769800\n",
      "Epoch 56, CIFAR-10 Batch 1:  Loss:     0.0123 Validation Accuracy: 0.777800\n",
      "Epoch 56, CIFAR-10 Batch 2:  Loss:     0.0143 Validation Accuracy: 0.774800\n",
      "Epoch 56, CIFAR-10 Batch 3:  Loss:     0.0060 Validation Accuracy: 0.775800\n",
      "Epoch 56, CIFAR-10 Batch 4:  Loss:     0.0099 Validation Accuracy: 0.770800\n",
      "Epoch 56, CIFAR-10 Batch 5:  Loss:     0.0036 Validation Accuracy: 0.771800\n",
      "Epoch 57, CIFAR-10 Batch 1:  Loss:     0.0112 Validation Accuracy: 0.773200\n",
      "Epoch 57, CIFAR-10 Batch 2:  Loss:     0.0094 Validation Accuracy: 0.779400\n",
      "Epoch 57, CIFAR-10 Batch 3:  Loss:     0.0066 Validation Accuracy: 0.775800\n",
      "Epoch 57, CIFAR-10 Batch 4:  Loss:     0.0116 Validation Accuracy: 0.775800\n",
      "Epoch 57, CIFAR-10 Batch 5:  Loss:     0.0034 Validation Accuracy: 0.773400\n",
      "Epoch 58, CIFAR-10 Batch 1:  Loss:     0.0108 Validation Accuracy: 0.776000\n",
      "Epoch 58, CIFAR-10 Batch 2:  Loss:     0.0254 Validation Accuracy: 0.779000\n",
      "Epoch 58, CIFAR-10 Batch 3:  Loss:     0.0097 Validation Accuracy: 0.773400\n",
      "Epoch 58, CIFAR-10 Batch 4:  Loss:     0.0093 Validation Accuracy: 0.774400\n",
      "Epoch 58, CIFAR-10 Batch 5:  Loss:     0.0028 Validation Accuracy: 0.774600\n",
      "Epoch 59, CIFAR-10 Batch 1:  Loss:     0.0089 Validation Accuracy: 0.779200\n",
      "Epoch 59, CIFAR-10 Batch 2:  Loss:     0.0154 Validation Accuracy: 0.781800\n",
      "Epoch 59, CIFAR-10 Batch 3:  Loss:     0.0048 Validation Accuracy: 0.776800\n",
      "Epoch 59, CIFAR-10 Batch 4:  Loss:     0.0119 Validation Accuracy: 0.779200\n",
      "Epoch 59, CIFAR-10 Batch 5:  Loss:     0.0031 Validation Accuracy: 0.778200\n",
      "Epoch 60, CIFAR-10 Batch 1:  Loss:     0.0064 Validation Accuracy: 0.779000\n",
      "Epoch 60, CIFAR-10 Batch 2:  Loss:     0.0229 Validation Accuracy: 0.777200\n",
      "Epoch 60, CIFAR-10 Batch 3:  Loss:     0.0048 Validation Accuracy: 0.773000\n",
      "Epoch 60, CIFAR-10 Batch 4:  Loss:     0.0087 Validation Accuracy: 0.776400\n",
      "Epoch 60, CIFAR-10 Batch 5:  Loss:     0.0019 Validation Accuracy: 0.776200\n",
      "Epoch 61, CIFAR-10 Batch 1:  Loss:     0.0073 Validation Accuracy: 0.777000\n",
      "Epoch 61, CIFAR-10 Batch 2:  Loss:     0.0121 Validation Accuracy: 0.775600\n",
      "Epoch 61, CIFAR-10 Batch 3:  Loss:     0.0069 Validation Accuracy: 0.774400\n",
      "Epoch 61, CIFAR-10 Batch 4:  Loss:     0.0094 Validation Accuracy: 0.771400\n",
      "Epoch 61, CIFAR-10 Batch 5:  Loss:     0.0023 Validation Accuracy: 0.773800\n",
      "Epoch 62, CIFAR-10 Batch 1:  Loss:     0.0100 Validation Accuracy: 0.774600\n",
      "Epoch 62, CIFAR-10 Batch 2:  Loss:     0.0129 Validation Accuracy: 0.776600\n",
      "Epoch 62, CIFAR-10 Batch 3:  Loss:     0.0063 Validation Accuracy: 0.769800\n",
      "Epoch 62, CIFAR-10 Batch 4:  Loss:     0.0091 Validation Accuracy: 0.779200\n",
      "Epoch 62, CIFAR-10 Batch 5:  Loss:     0.0017 Validation Accuracy: 0.776000\n",
      "Epoch 63, CIFAR-10 Batch 1:  Loss:     0.0100 Validation Accuracy: 0.775600\n",
      "Epoch 63, CIFAR-10 Batch 2:  Loss:     0.0088 Validation Accuracy: 0.779200\n",
      "Epoch 63, CIFAR-10 Batch 3:  Loss:     0.0045 Validation Accuracy: 0.769800\n",
      "Epoch 63, CIFAR-10 Batch 4:  Loss:     0.0069 Validation Accuracy: 0.777400\n",
      "Epoch 63, CIFAR-10 Batch 5:  Loss:     0.0022 Validation Accuracy: 0.778800\n",
      "Epoch 64, CIFAR-10 Batch 1:  Loss:     0.0096 Validation Accuracy: 0.775400\n",
      "Epoch 64, CIFAR-10 Batch 2:  Loss:     0.0109 Validation Accuracy: 0.780200\n",
      "Epoch 64, CIFAR-10 Batch 3:  Loss:     0.0053 Validation Accuracy: 0.769400\n",
      "Epoch 64, CIFAR-10 Batch 4:  Loss:     0.0069 Validation Accuracy: 0.772200\n",
      "Epoch 64, CIFAR-10 Batch 5:  Loss:     0.0023 Validation Accuracy: 0.772400\n",
      "Epoch 65, CIFAR-10 Batch 1:  Loss:     0.0070 Validation Accuracy: 0.770200\n",
      "Epoch 65, CIFAR-10 Batch 2:  Loss:     0.0077 Validation Accuracy: 0.775800\n",
      "Epoch 65, CIFAR-10 Batch 3:  Loss:     0.0038 Validation Accuracy: 0.774400\n",
      "Epoch 65, CIFAR-10 Batch 4:  Loss:     0.0057 Validation Accuracy: 0.775600\n"
     ]
    },
    {
     "name": "stdout",
     "output_type": "stream",
     "text": [
      "Epoch 65, CIFAR-10 Batch 5:  Loss:     0.0022 Validation Accuracy: 0.773200\n",
      "Epoch 66, CIFAR-10 Batch 1:  Loss:     0.0075 Validation Accuracy: 0.775600\n",
      "Epoch 66, CIFAR-10 Batch 2:  Loss:     0.0070 Validation Accuracy: 0.779800\n",
      "Epoch 66, CIFAR-10 Batch 3:  Loss:     0.0046 Validation Accuracy: 0.777400\n",
      "Epoch 66, CIFAR-10 Batch 4:  Loss:     0.0061 Validation Accuracy: 0.775800\n",
      "Epoch 66, CIFAR-10 Batch 5:  Loss:     0.0018 Validation Accuracy: 0.777200\n",
      "Epoch 67, CIFAR-10 Batch 1:  Loss:     0.0058 Validation Accuracy: 0.777600\n",
      "Epoch 67, CIFAR-10 Batch 2:  Loss:     0.0085 Validation Accuracy: 0.777800\n",
      "Epoch 67, CIFAR-10 Batch 3:  Loss:     0.0053 Validation Accuracy: 0.776600\n",
      "Epoch 67, CIFAR-10 Batch 4:  Loss:     0.0058 Validation Accuracy: 0.775800\n",
      "Epoch 67, CIFAR-10 Batch 5:  Loss:     0.0027 Validation Accuracy: 0.773400\n",
      "Epoch 68, CIFAR-10 Batch 1:  Loss:     0.0061 Validation Accuracy: 0.777400\n",
      "Epoch 68, CIFAR-10 Batch 2:  Loss:     0.0071 Validation Accuracy: 0.779800\n",
      "Epoch 68, CIFAR-10 Batch 3:  Loss:     0.0049 Validation Accuracy: 0.771000\n",
      "Epoch 68, CIFAR-10 Batch 4:  Loss:     0.0051 Validation Accuracy: 0.777400\n",
      "Epoch 68, CIFAR-10 Batch 5:  Loss:     0.0021 Validation Accuracy: 0.778800\n",
      "Epoch 69, CIFAR-10 Batch 1:  Loss:     0.0068 Validation Accuracy: 0.780600\n",
      "Epoch 69, CIFAR-10 Batch 2:  Loss:     0.0066 Validation Accuracy: 0.781600\n",
      "Epoch 69, CIFAR-10 Batch 3:  Loss:     0.0044 Validation Accuracy: 0.773800\n",
      "Epoch 69, CIFAR-10 Batch 4:  Loss:     0.0049 Validation Accuracy: 0.777600\n",
      "Epoch 69, CIFAR-10 Batch 5:  Loss:     0.0015 Validation Accuracy: 0.779800\n",
      "Epoch 70, CIFAR-10 Batch 1:  Loss:     0.0075 Validation Accuracy: 0.778000\n",
      "Epoch 70, CIFAR-10 Batch 2:  Loss:     0.0057 Validation Accuracy: 0.780800\n",
      "Epoch 70, CIFAR-10 Batch 3:  Loss:     0.0057 Validation Accuracy: 0.774000\n",
      "Epoch 70, CIFAR-10 Batch 4:  Loss:     0.0051 Validation Accuracy: 0.776800\n",
      "Epoch 70, CIFAR-10 Batch 5:  Loss:     0.0013 Validation Accuracy: 0.774800\n",
      "Epoch 71, CIFAR-10 Batch 1:  Loss:     0.0045 Validation Accuracy: 0.774200\n",
      "Epoch 71, CIFAR-10 Batch 2:  Loss:     0.0073 Validation Accuracy: 0.777600\n",
      "Epoch 71, CIFAR-10 Batch 3:  Loss:     0.0031 Validation Accuracy: 0.778200\n",
      "Epoch 71, CIFAR-10 Batch 4:  Loss:     0.0051 Validation Accuracy: 0.774800\n",
      "Epoch 71, CIFAR-10 Batch 5:  Loss:     0.0016 Validation Accuracy: 0.776800\n",
      "Epoch 72, CIFAR-10 Batch 1:  Loss:     0.0062 Validation Accuracy: 0.772800\n",
      "Epoch 72, CIFAR-10 Batch 2:  Loss:     0.0069 Validation Accuracy: 0.779400\n",
      "Epoch 72, CIFAR-10 Batch 3:  Loss:     0.0036 Validation Accuracy: 0.778800\n",
      "Epoch 72, CIFAR-10 Batch 4:  Loss:     0.0045 Validation Accuracy: 0.772600\n",
      "Epoch 72, CIFAR-10 Batch 5:  Loss:     0.0013 Validation Accuracy: 0.779800\n",
      "Epoch 73, CIFAR-10 Batch 1:  Loss:     0.0071 Validation Accuracy: 0.777000\n",
      "Epoch 73, CIFAR-10 Batch 2:  Loss:     0.0094 Validation Accuracy: 0.779800\n",
      "Epoch 73, CIFAR-10 Batch 3:  Loss:     0.0031 Validation Accuracy: 0.772800\n",
      "Epoch 73, CIFAR-10 Batch 4:  Loss:     0.0038 Validation Accuracy: 0.782000\n",
      "Epoch 73, CIFAR-10 Batch 5:  Loss:     0.0016 Validation Accuracy: 0.775600\n",
      "Epoch 74, CIFAR-10 Batch 1:  Loss:     0.0038 Validation Accuracy: 0.777400\n",
      "Epoch 74, CIFAR-10 Batch 2:  Loss:     0.0062 Validation Accuracy: 0.781000\n",
      "Epoch 74, CIFAR-10 Batch 3:  Loss:     0.0038 Validation Accuracy: 0.771800\n",
      "Epoch 74, CIFAR-10 Batch 4:  Loss:     0.0053 Validation Accuracy: 0.776200\n",
      "Epoch 74, CIFAR-10 Batch 5:  Loss:     0.0014 Validation Accuracy: 0.779200\n",
      "Epoch 75, CIFAR-10 Batch 1:  Loss:     0.0054 Validation Accuracy: 0.774200\n",
      "Epoch 75, CIFAR-10 Batch 2:  Loss:     0.0063 Validation Accuracy: 0.776000\n",
      "Epoch 75, CIFAR-10 Batch 3:  Loss:     0.0031 Validation Accuracy: 0.780200\n",
      "Epoch 75, CIFAR-10 Batch 4:  Loss:     0.0047 Validation Accuracy: 0.778800\n",
      "Epoch 75, CIFAR-10 Batch 5:  Loss:     0.0015 Validation Accuracy: 0.775200\n",
      "Epoch 76, CIFAR-10 Batch 1:  Loss:     0.0061 Validation Accuracy: 0.777000\n",
      "Epoch 76, CIFAR-10 Batch 2:  Loss:     0.0046 Validation Accuracy: 0.780000\n",
      "Epoch 76, CIFAR-10 Batch 3:  Loss:     0.0035 Validation Accuracy: 0.777400\n",
      "Epoch 76, CIFAR-10 Batch 4:  Loss:     0.0041 Validation Accuracy: 0.775600\n",
      "Epoch 76, CIFAR-10 Batch 5:  Loss:     0.0012 Validation Accuracy: 0.778200\n",
      "Epoch 77, CIFAR-10 Batch 1:  Loss:     0.0036 Validation Accuracy: 0.776000\n",
      "Epoch 77, CIFAR-10 Batch 2:  Loss:     0.0045 Validation Accuracy: 0.782000\n",
      "Epoch 77, CIFAR-10 Batch 3:  Loss:     0.0030 Validation Accuracy: 0.776800\n",
      "Epoch 77, CIFAR-10 Batch 4:  Loss:     0.0036 Validation Accuracy: 0.770400\n",
      "Epoch 77, CIFAR-10 Batch 5:  Loss:     0.0010 Validation Accuracy: 0.779600\n",
      "Epoch 78, CIFAR-10 Batch 1:  Loss:     0.0038 Validation Accuracy: 0.774800\n",
      "Epoch 78, CIFAR-10 Batch 2:  Loss:     0.0048 Validation Accuracy: 0.775600\n",
      "Epoch 78, CIFAR-10 Batch 3:  Loss:     0.0028 Validation Accuracy: 0.772600\n",
      "Epoch 78, CIFAR-10 Batch 4:  Loss:     0.0040 Validation Accuracy: 0.778600\n",
      "Epoch 78, CIFAR-10 Batch 5:  Loss:     0.0009 Validation Accuracy: 0.776000\n",
      "Epoch 79, CIFAR-10 Batch 1:  Loss:     0.0042 Validation Accuracy: 0.779200\n",
      "Epoch 79, CIFAR-10 Batch 2:  Loss:     0.0040 Validation Accuracy: 0.778400\n",
      "Epoch 79, CIFAR-10 Batch 3:  Loss:     0.0025 Validation Accuracy: 0.780000\n",
      "Epoch 79, CIFAR-10 Batch 4:  Loss:     0.0036 Validation Accuracy: 0.778200\n",
      "Epoch 79, CIFAR-10 Batch 5:  Loss:     0.0009 Validation Accuracy: 0.778000\n",
      "Epoch 80, CIFAR-10 Batch 1:  Loss:     0.0040 Validation Accuracy: 0.780600\n",
      "Epoch 80, CIFAR-10 Batch 2:  Loss:     0.0050 Validation Accuracy: 0.780400\n",
      "Epoch 80, CIFAR-10 Batch 3:  Loss:     0.0027 Validation Accuracy: 0.778600\n",
      "Epoch 80, CIFAR-10 Batch 4:  Loss:     0.0036 Validation Accuracy: 0.778000\n",
      "Epoch 80, CIFAR-10 Batch 5:  Loss:     0.0010 Validation Accuracy: 0.779600\n",
      "Epoch 81, CIFAR-10 Batch 1:  Loss:     0.0039 Validation Accuracy: 0.776200\n",
      "Epoch 81, CIFAR-10 Batch 2:  Loss:     0.0041 Validation Accuracy: 0.776400\n",
      "Epoch 81, CIFAR-10 Batch 3:  Loss:     0.0020 Validation Accuracy: 0.781800\n",
      "Epoch 81, CIFAR-10 Batch 4:  Loss:     0.0035 Validation Accuracy: 0.781000\n",
      "Epoch 81, CIFAR-10 Batch 5:  Loss:     0.0008 Validation Accuracy: 0.775400\n",
      "Epoch 82, CIFAR-10 Batch 1:  Loss:     0.0036 Validation Accuracy: 0.778800\n",
      "Epoch 82, CIFAR-10 Batch 2:  Loss:     0.0037 Validation Accuracy: 0.781800\n",
      "Epoch 82, CIFAR-10 Batch 3:  Loss:     0.0015 Validation Accuracy: 0.772200\n",
      "Epoch 82, CIFAR-10 Batch 4:  Loss:     0.0045 Validation Accuracy: 0.779400\n",
      "Epoch 82, CIFAR-10 Batch 5:  Loss:     0.0007 Validation Accuracy: 0.776600\n",
      "Epoch 83, CIFAR-10 Batch 1:  Loss:     0.0062 Validation Accuracy: 0.777000\n",
      "Epoch 83, CIFAR-10 Batch 2:  Loss:     0.0037 Validation Accuracy: 0.781200\n",
      "Epoch 83, CIFAR-10 Batch 3:  Loss:     0.0015 Validation Accuracy: 0.776400\n",
      "Epoch 83, CIFAR-10 Batch 4:  Loss:     0.0029 Validation Accuracy: 0.782200\n",
      "Epoch 83, CIFAR-10 Batch 5:  Loss:     0.0009 Validation Accuracy: 0.777800\n",
      "Epoch 84, CIFAR-10 Batch 1:  Loss:     0.0030 Validation Accuracy: 0.780400\n",
      "Epoch 84, CIFAR-10 Batch 2:  Loss:     0.0035 Validation Accuracy: 0.780200\n",
      "Epoch 84, CIFAR-10 Batch 3:  Loss:     0.0017 Validation Accuracy: 0.777400\n",
      "Epoch 84, CIFAR-10 Batch 4:  Loss:     0.0031 Validation Accuracy: 0.780400\n",
      "Epoch 84, CIFAR-10 Batch 5:  Loss:     0.0008 Validation Accuracy: 0.778400\n",
      "Epoch 85, CIFAR-10 Batch 1:  Loss:     0.0036 Validation Accuracy: 0.778200\n",
      "Epoch 85, CIFAR-10 Batch 2:  Loss:     0.0024 Validation Accuracy: 0.780600\n",
      "Epoch 85, CIFAR-10 Batch 3:  Loss:     0.0022 Validation Accuracy: 0.783200\n",
      "Epoch 85, CIFAR-10 Batch 4:  Loss:     0.0030 Validation Accuracy: 0.780600\n",
      "Epoch 85, CIFAR-10 Batch 5:  Loss:     0.0011 Validation Accuracy: 0.776800\n",
      "Epoch 86, CIFAR-10 Batch 1:  Loss:     0.0030 Validation Accuracy: 0.778600\n",
      "Epoch 86, CIFAR-10 Batch 2:  Loss:     0.0026 Validation Accuracy: 0.783400\n",
      "Epoch 86, CIFAR-10 Batch 3:  Loss:     0.0020 Validation Accuracy: 0.778000\n",
      "Epoch 86, CIFAR-10 Batch 4:  Loss:     0.0033 Validation Accuracy: 0.780600\n",
      "Epoch 86, CIFAR-10 Batch 5:  Loss:     0.0008 Validation Accuracy: 0.782400\n",
      "Epoch 87, CIFAR-10 Batch 1:  Loss:     0.0028 Validation Accuracy: 0.780800\n",
      "Epoch 87, CIFAR-10 Batch 2:  Loss:     0.0026 Validation Accuracy: 0.779600\n"
     ]
    },
    {
     "name": "stdout",
     "output_type": "stream",
     "text": [
      "Epoch 87, CIFAR-10 Batch 3:  Loss:     0.0020 Validation Accuracy: 0.785400\n",
      "Epoch 87, CIFAR-10 Batch 4:  Loss:     0.0038 Validation Accuracy: 0.780600\n",
      "Epoch 87, CIFAR-10 Batch 5:  Loss:     0.0007 Validation Accuracy: 0.780600\n",
      "Epoch 88, CIFAR-10 Batch 1:  Loss:     0.0025 Validation Accuracy: 0.780000\n",
      "Epoch 88, CIFAR-10 Batch 2:  Loss:     0.0033 Validation Accuracy: 0.779600\n",
      "Epoch 88, CIFAR-10 Batch 3:  Loss:     0.0011 Validation Accuracy: 0.783400\n",
      "Epoch 88, CIFAR-10 Batch 4:  Loss:     0.0026 Validation Accuracy: 0.779000\n",
      "Epoch 88, CIFAR-10 Batch 5:  Loss:     0.0008 Validation Accuracy: 0.779800\n",
      "Epoch 89, CIFAR-10 Batch 1:  Loss:     0.0026 Validation Accuracy: 0.780600\n",
      "Epoch 89, CIFAR-10 Batch 2:  Loss:     0.0027 Validation Accuracy: 0.782000\n",
      "Epoch 89, CIFAR-10 Batch 3:  Loss:     0.0013 Validation Accuracy: 0.776200\n",
      "Epoch 89, CIFAR-10 Batch 4:  Loss:     0.0030 Validation Accuracy: 0.785600\n",
      "Epoch 89, CIFAR-10 Batch 5:  Loss:     0.0006 Validation Accuracy: 0.780600\n",
      "Epoch 90, CIFAR-10 Batch 1:  Loss:     0.0021 Validation Accuracy: 0.779400\n",
      "Epoch 90, CIFAR-10 Batch 2:  Loss:     0.0033 Validation Accuracy: 0.780000\n",
      "Epoch 90, CIFAR-10 Batch 3:  Loss:     0.0020 Validation Accuracy: 0.783600\n",
      "Epoch 90, CIFAR-10 Batch 4:  Loss:     0.0028 Validation Accuracy: 0.781200\n",
      "Epoch 90, CIFAR-10 Batch 5:  Loss:     0.0009 Validation Accuracy: 0.779200\n",
      "Epoch 91, CIFAR-10 Batch 1:  Loss:     0.0031 Validation Accuracy: 0.778200\n",
      "Epoch 91, CIFAR-10 Batch 2:  Loss:     0.0038 Validation Accuracy: 0.783600\n",
      "Epoch 91, CIFAR-10 Batch 3:  Loss:     0.0013 Validation Accuracy: 0.784200\n",
      "Epoch 91, CIFAR-10 Batch 4:  Loss:     0.0027 Validation Accuracy: 0.784600\n",
      "Epoch 91, CIFAR-10 Batch 5:  Loss:     0.0007 Validation Accuracy: 0.781000\n",
      "Epoch 92, CIFAR-10 Batch 1:  Loss:     0.0021 Validation Accuracy: 0.777800\n",
      "Epoch 92, CIFAR-10 Batch 2:  Loss:     0.0024 Validation Accuracy: 0.781600\n",
      "Epoch 92, CIFAR-10 Batch 3:  Loss:     0.0011 Validation Accuracy: 0.779600\n",
      "Epoch 92, CIFAR-10 Batch 4:  Loss:     0.0029 Validation Accuracy: 0.779400\n",
      "Epoch 92, CIFAR-10 Batch 5:  Loss:     0.0007 Validation Accuracy: 0.780400\n",
      "Epoch 93, CIFAR-10 Batch 1:  Loss:     0.0023 Validation Accuracy: 0.782000\n",
      "Epoch 93, CIFAR-10 Batch 2:  Loss:     0.0028 Validation Accuracy: 0.784400\n",
      "Epoch 93, CIFAR-10 Batch 3:  Loss:     0.0012 Validation Accuracy: 0.773600\n",
      "Epoch 93, CIFAR-10 Batch 4:  Loss:     0.0031 Validation Accuracy: 0.776400\n",
      "Epoch 93, CIFAR-10 Batch 5:  Loss:     0.0007 Validation Accuracy: 0.780800\n",
      "Epoch 94, CIFAR-10 Batch 1:  Loss:     0.0020 Validation Accuracy: 0.781200\n",
      "Epoch 94, CIFAR-10 Batch 2:  Loss:     0.0022 Validation Accuracy: 0.782800\n",
      "Epoch 94, CIFAR-10 Batch 3:  Loss:     0.0009 Validation Accuracy: 0.778200\n",
      "Epoch 94, CIFAR-10 Batch 4:  Loss:     0.0028 Validation Accuracy: 0.782200\n",
      "Epoch 94, CIFAR-10 Batch 5:  Loss:     0.0007 Validation Accuracy: 0.778600\n",
      "Epoch 95, CIFAR-10 Batch 1:  Loss:     0.0019 Validation Accuracy: 0.782000\n",
      "Epoch 95, CIFAR-10 Batch 2:  Loss:     0.0024 Validation Accuracy: 0.781400\n",
      "Epoch 95, CIFAR-10 Batch 3:  Loss:     0.0010 Validation Accuracy: 0.780600\n",
      "Epoch 95, CIFAR-10 Batch 4:  Loss:     0.0027 Validation Accuracy: 0.783000\n",
      "Epoch 95, CIFAR-10 Batch 5:  Loss:     0.0008 Validation Accuracy: 0.781200\n",
      "Epoch 96, CIFAR-10 Batch 1:  Loss:     0.0019 Validation Accuracy: 0.780200\n",
      "Epoch 96, CIFAR-10 Batch 2:  Loss:     0.0021 Validation Accuracy: 0.779600\n",
      "Epoch 96, CIFAR-10 Batch 3:  Loss:     0.0011 Validation Accuracy: 0.782600\n",
      "Epoch 96, CIFAR-10 Batch 4:  Loss:     0.0029 Validation Accuracy: 0.778400\n",
      "Epoch 96, CIFAR-10 Batch 5:  Loss:     0.0005 Validation Accuracy: 0.779000\n",
      "Epoch 97, CIFAR-10 Batch 1:  Loss:     0.0019 Validation Accuracy: 0.780800\n",
      "Epoch 97, CIFAR-10 Batch 2:  Loss:     0.0023 Validation Accuracy: 0.781800\n",
      "Epoch 97, CIFAR-10 Batch 3:  Loss:     0.0012 Validation Accuracy: 0.773800\n",
      "Epoch 97, CIFAR-10 Batch 4:  Loss:     0.0034 Validation Accuracy: 0.783000\n",
      "Epoch 97, CIFAR-10 Batch 5:  Loss:     0.0005 Validation Accuracy: 0.783600\n",
      "Epoch 98, CIFAR-10 Batch 1:  Loss:     0.0013 Validation Accuracy: 0.786600\n",
      "Epoch 98, CIFAR-10 Batch 2:  Loss:     0.0022 Validation Accuracy: 0.781000\n",
      "Epoch 98, CIFAR-10 Batch 3:  Loss:     0.0011 Validation Accuracy: 0.781800\n",
      "Epoch 98, CIFAR-10 Batch 4:  Loss:     0.0022 Validation Accuracy: 0.780200\n",
      "Epoch 98, CIFAR-10 Batch 5:  Loss:     0.0005 Validation Accuracy: 0.779000\n",
      "Epoch 99, CIFAR-10 Batch 1:  Loss:     0.0017 Validation Accuracy: 0.780000\n",
      "Epoch 99, CIFAR-10 Batch 2:  Loss:     0.0019 Validation Accuracy: 0.781400\n",
      "Epoch 99, CIFAR-10 Batch 3:  Loss:     0.0017 Validation Accuracy: 0.777800\n",
      "Epoch 99, CIFAR-10 Batch 4:  Loss:     0.0024 Validation Accuracy: 0.782200\n",
      "Epoch 99, CIFAR-10 Batch 5:  Loss:     0.0004 Validation Accuracy: 0.777000\n",
      "Epoch 100, CIFAR-10 Batch 1:  Loss:     0.0015 Validation Accuracy: 0.779600\n",
      "Epoch 100, CIFAR-10 Batch 2:  Loss:     0.0020 Validation Accuracy: 0.781600\n",
      "Epoch 100, CIFAR-10 Batch 3:  Loss:     0.0011 Validation Accuracy: 0.776200\n",
      "Epoch 100, CIFAR-10 Batch 4:  Loss:     0.0026 Validation Accuracy: 0.785200\n",
      "Epoch 100, CIFAR-10 Batch 5:  Loss:     0.0007 Validation Accuracy: 0.779200\n"
     ]
    }
   ],
   "source": [
    "\"\"\"\n",
    "DON'T MODIFY ANYTHING IN THIS CELL\n",
    "\"\"\"\n",
    "save_model_path = './image_classification'\n",
    "\n",
    "loss = []\n",
    "acc =  []\n",
    "\n",
    "print('Training...')\n",
    "with tf.Session(config=config) as sess:\n",
    "    # Initializing the variables\n",
    "    sess.run(tf.global_variables_initializer())\n",
    "    \n",
    "    # Training cycle\n",
    "    for epoch in range(epochs):\n",
    "        # Loop over all batches\n",
    "        n_batches = 5\n",
    "        for batch_i in range(1, n_batches + 1):\n",
    "            for batch_features, batch_labels in helper.load_preprocess_training_batch(batch_i, batch_size):\n",
    "                train_neural_network(sess, optimizer, keep_probability, batch_features, batch_labels)\n",
    "            print('Epoch {:>2}, CIFAR-10 Batch {}:  '.format(epoch + 1, batch_i), end='')\n",
    "            val_loss,val_acc=print_stats(sess, batch_features, batch_labels, cost, accuracy)\n",
    "            loss.append(val_loss)\n",
    "            acc.append(val_acc)\n",
    "            \n",
    "    # Save Model\n",
    "    saver = tf.train.Saver()\n",
    "    save_path = saver.save(sess, save_model_path)"
   ]
  },
  {
   "cell_type": "code",
   "execution_count": 21,
   "metadata": {},
   "outputs": [
    {
     "data": {
      "image/png": "[encoded data removed]",
      "text/plain": [
       "<Figure size 432x288 with 1 Axes>"
      ]
     },
     "metadata": {
      "image/png": {
       "height": 251,
       "width": 380
      }
     },
     "output_type": "display_data"
    }
   ],
   "source": [
    "import matplotlib.pyplot as plt\n",
    "%matplotlib inline\n",
    "plt.plot(loss, label='Validation loss', color='darkorange')\n",
    "plt.legend()\n",
    "_ = plt.ylim()"
   ]
  },
  {
   "cell_type": "code",
   "execution_count": 22,
   "metadata": {},
   "outputs": [
    {
     "data": {
      "image/png": "[encoded data removed]",
      "text/plain": [
       "<Figure size 432x288 with 1 Axes>"
      ]
     },
     "metadata": {
      "image/png": {
       "height": 250,
       "width": 380
      }
     },
     "output_type": "display_data"
    }
   ],
   "source": [
    "import matplotlib.pyplot as plt\n",
    "%matplotlib inline\n",
    "plt.plot(acc, label='Validation accuracy', color='green')\n",
    "plt.legend()\n",
    "_ = plt.ylim()"
   ]
  },
  {
   "cell_type": "markdown",
   "metadata": {},
   "source": [
    "# Checkpoint\n",
    "The model has been saved to disk.\n",
    "## Test Model\n",
    "Test your model against the test dataset.  This will be your final accuracy. You should have an accuracy greater than 50%. If you don't, keep tweaking the model architecture and parameters."
   ]
  },
  {
   "cell_type": "code",
   "execution_count": 25,
   "metadata": {},
   "outputs": [
    {
     "name": "stdout",
     "output_type": "stream",
     "text": [
      "INFO:tensorflow:Restoring parameters from ./image_classification\n",
      "Testing Accuracy: 0.7644382911392406\n",
      "\n"
     ]
    },
    {
     "data": {
      "image/png": "[encoded data removed]",
      "text/plain": [
       "<Figure size 432x288 with 8 Axes>"
      ]
     },
     "metadata": {
      "image/png": {
       "height": 319,
       "width": 355
      }
     },
     "output_type": "display_data"
    }
   ],
   "source": [
    "\"\"\"\n",
    "DON'T MODIFY ANYTHING IN THIS CELL\n",
    "\"\"\"\n",
    "%matplotlib inline\n",
    "%config InlineBackend.figure_format = 'retina'\n",
    "\n",
    "import tensorflow as tf\n",
    "import pickle\n",
    "import helper\n",
    "import random\n",
    "\n",
    "# Set batch size if not already set\n",
    "try:\n",
    "    if batch_size:\n",
    "        pass\n",
    "except NameError:\n",
    "    batch_size = 64\n",
    "\n",
    "save_model_path = './image_classification'\n",
    "n_samples = 4\n",
    "top_n_predictions = 3\n",
    "\n",
    "def test_model():\n",
    "    \"\"\"\n",
    "    Test the saved model against the test dataset\n",
    "    \"\"\"\n",
    "\n",
    "    test_features, test_labels = pickle.load(open('preprocess_test.p', mode='rb'))\n",
    "    loaded_graph = tf.Graph()\n",
    "\n",
    "    with tf.Session(config=config, graph=loaded_graph) as sess:\n",
    "        # Load model\n",
    "        loader = tf.train.import_meta_graph(save_model_path + '.meta')\n",
    "        loader.restore(sess, save_model_path)\n",
    "\n",
    "        # Get Tensors from loaded model\n",
    "        loaded_x = loaded_graph.get_tensor_by_name('x:0')\n",
    "        loaded_y = loaded_graph.get_tensor_by_name('y:0')\n",
    "        loaded_keep_prob = loaded_graph.get_tensor_by_name('keep_prob:0')\n",
    "        loaded_logits = loaded_graph.get_tensor_by_name('logits:0')\n",
    "        loaded_acc = loaded_graph.get_tensor_by_name('accuracy:0')\n",
    "        \n",
    "        # Get accuracy in batches for memory limitations\n",
    "        test_batch_acc_total = 0\n",
    "        test_batch_count = 0\n",
    "        \n",
    "        for test_feature_batch, test_label_batch in helper.batch_features_labels(test_features, test_labels, batch_size):\n",
    "            test_batch_acc_total += sess.run(\n",
    "                loaded_acc,\n",
    "                feed_dict={loaded_x: test_feature_batch, loaded_y: test_label_batch, loaded_keep_prob: 1.0})\n",
    "            test_batch_count += 1\n",
    "\n",
    "        print('Testing Accuracy: {}\\n'.format(test_batch_acc_total/test_batch_count))\n",
    "\n",
    "        # Print Random Samples\n",
    "        random_test_features, random_test_labels = tuple(zip(*random.sample(list(zip(test_features, test_labels)), n_samples)))\n",
    "        random_test_predictions = sess.run(\n",
    "            tf.nn.top_k(tf.nn.softmax(loaded_logits), top_n_predictions),\n",
    "            feed_dict={loaded_x: random_test_features, loaded_y: random_test_labels, loaded_keep_prob: 1.0})\n",
    "        helper.display_image_predictions(random_test_features, random_test_labels, random_test_predictions)\n",
    "\n",
    "\n",
    "test_model()"
   ]
  },
  {
   "cell_type": "markdown",
   "metadata": {},
   "source": [
    "## Why 50-80% Accuracy?\n",
    "You might be wondering why you can't get an accuracy any higher. First things first, 50% isn't bad for a simple CNN.  Pure guessing would get you 10% accuracy. However, you might notice people are getting scores [well above 80%](http://rodrigob.github.io/are_we_there_yet/build/classification_datasets_results.html#43494641522d3130).  That's because we haven't taught you all there is to know about neural networks. We still need to cover a few more techniques.\n",
    "## Submitting This Project\n",
    "When submitting this project, make sure to run all the cells before saving the notebook.  Save the notebook file as \"dlnd_image_classification.ipynb\" and save it as a HTML file under \"File\" -> \"Download as\".  Include the \"helper.py\" and \"problem_unittests.py\" files in your submission."
   ]
  },
  {
   "cell_type": "markdown",
   "metadata": {},
   "source": [
    "Some ideas\n",
    "\n",
    "- Initialize weights to very small\n",
    "- Initialize biases to zeros"
   ]
  },
  {
   "cell_type": "markdown",
   "metadata": {},
   "source": [
    "### Bonus: let accuracy over 80%\n",
    "- Differntial Dropout: keep probability\n",
    "- Xavier Initialization → He Initialization\n",
    "- Batch Normalization\n",
    "- Random Shuffling\n",
    "- L2\n",
    "- Selu"
   ]
  },
  {
   "cell_type": "code",
   "execution_count": null,
   "metadata": {},
   "outputs": [],
   "source": []
  }
 ],
 "metadata": {
  "kernelspec": {
   "display_name": "Python 3",
   "language": "python",
   "name": "python3"
  },
  "language_info": {
   "codemirror_mode": {
    "name": "ipython",
    "version": 3
   },
   "file_extension": ".py",
   "mimetype": "text/x-python",
   "name": "python",
   "nbconvert_exporter": "python",
   "pygments_lexer": "ipython3",
   "version": "3.5.2"
  }
 },
 "nbformat": 4,
 "nbformat_minor": 1
}
