{
 "cells": [
  {
   "cell_type": "code",
   "execution_count": 3,
   "metadata": {},
   "outputs": [
    {
     "name": "stderr",
     "output_type": "stream",
     "text": [
      "Using TensorFlow backend.\n"
     ]
    }
   ],
   "source": [
    "#### This code cell is to limit GPU memory use because you'll be sharing GPU #### \n",
    "#### If you're using your own GPU, you can change the per_process_cpu_memory_fraction to 1.0 ####\n",
    "import tensorflow as tf\n",
    "from keras.backend.tensorflow_backend import set_session\n",
    "config = tf.ConfigProto()\n",
    "config.gpu_options.per_process_gpu_memory_fraction = 0.45\n",
    "set_session(tf.Session(config=config))"
   ]
  },
  {
   "cell_type": "markdown",
   "metadata": {
    "collapsed": true
   },
   "source": [
    "# Image Classification\n",
    "In this project, you'll classify images from the [CIFAR-10 dataset](https://www.cs.toronto.edu/~kriz/cifar.html).  The dataset consists of airplanes, dogs, cats, and other objects. You'll preprocess the images, then train a convolutional neural network on all the samples. The images need to be normalized and the labels need to be one-hot encoded.  You'll get to apply what you learned and build a convolutional, max pooling, dropout, and fully connected layers.  At the end, you'll get to see your neural network's predictions on the sample images.\n",
    "## Get the Data\n",
    "Run the following cell to download the [CIFAR-10 dataset for python](https://www.cs.toronto.edu/~kriz/cifar-10-python.tar.gz)."
   ]
  },
  {
   "cell_type": "code",
   "execution_count": 4,
   "metadata": {},
   "outputs": [
    {
     "name": "stdout",
     "output_type": "stream",
     "text": [
      "All files found!\n"
     ]
    }
   ],
   "source": [
    "\"\"\"\n",
    "DON'T MODIFY ANYTHING IN THIS CELL THAT IS BELOW THIS LINE\n",
    "\"\"\"\n",
    "from urllib.request import urlretrieve\n",
    "from os.path import isfile, isdir\n",
    "from tqdm import tqdm\n",
    "import problem_unittests as tests\n",
    "import tarfile\n",
    "\n",
    "cifar10_dataset_folder_path = 'cifar-10-batches-py' \n",
    "\n",
    "class DLProgress(tqdm):\n",
    "    last_block = 0\n",
    "\n",
    "    def hook(self, block_num=1, block_size=1, total_size=None):\n",
    "        self.total = total_size\n",
    "        self.update((block_num - self.last_block) * block_size)\n",
    "        self.last_block = block_num\n",
    "\n",
    "tar_gz_path = 'cifar-10-python.tar.gz'\n",
    "\n",
    "if not isdir(cifar10_dataset_folder_path):\n",
    "    if not isfile(tar_gz_path):\n",
    "        with DLProgress(unit='B', unit_scale=True, miniters=1, desc='CIFAR-10 Dataset') as pbar:\n",
    "            urlretrieve(\n",
    "                'https://www.cs.toronto.edu/~kriz/cifar-10-python.tar.gz',\n",
    "                tar_gz_path,\n",
    "                pbar.hook)\n",
    "    with tarfile.open(tar_gz_path) as tar:\n",
    "        tar.extractall()\n",
    "        tar.close()\n",
    "\n",
    "tests.test_folder_path(cifar10_dataset_folder_path)"
   ]
  },
  {
   "cell_type": "markdown",
   "metadata": {},
   "source": [
    "## Explore the Data\n",
    "The dataset is broken into batches to prevent your machine from running out of memory.  The CIFAR-10 dataset consists of 5 batches, named `data_batch_1`, `data_batch_2`, etc.. Each batch contains the labels and images that are one of the following:\n",
    "* airplane\n",
    "* automobile\n",
    "* bird\n",
    "* cat\n",
    "* deer\n",
    "* dog\n",
    "* frog\n",
    "* horse\n",
    "* ship\n",
    "* truck\n",
    "\n",
    "Understanding a dataset is part of making predictions on the data.  Play around with the code cell below by changing the `batch_id` and `sample_id`. The `batch_id` is the id for a batch (1-5). The `sample_id` is the id for a image and label pair in the batch.\n",
    "\n",
    "Ask yourself \"What are all possible labels?\", \"What is the range of values for the image data?\", \"Are the labels in order or random?\".  Answers to questions like these will help you preprocess the data and end up with better predictions."
   ]
  },
  {
   "cell_type": "code",
   "execution_count": 5,
   "metadata": {},
   "outputs": [
    {
     "name": "stdout",
     "output_type": "stream",
     "text": [
      "\n",
      "Stats of batch 1:\n",
      "Samples: 10000\n",
      "Label Counts: {0: 1005, 1: 974, 2: 1032, 3: 1016, 4: 999, 5: 937, 6: 1030, 7: 1001, 8: 1025, 9: 981}\n",
      "First 20 Labels: [6, 9, 9, 4, 1, 1, 2, 7, 8, 3, 4, 7, 7, 2, 9, 9, 9, 3, 2, 6]\n",
      "\n",
      "Example of Image 6:\n",
      "Image - Min Value: 7 Max Value: 249\n",
      "Image - Shape: (32, 32, 3)\n",
      "Label - Label Id: 2 Name: bird\n"
     ]
    },
    {
     "data": {
      "image/png": "[encoded data removed]",
      "text/plain": [
       "<Figure size 432x288 with 1 Axes>"
      ]
     },
     "metadata": {
      "image/png": {
       "height": 250,
       "width": 253
      }
     },
     "output_type": "display_data"
    }
   ],
   "source": [
    "%matplotlib inline\n",
    "%config InlineBackend.figure_format = 'retina'\n",
    "\n",
    "import helper\n",
    "import numpy as np\n",
    "\n",
    "# Explore the dataset\n",
    "batch_id = 1\n",
    "sample_id = 6\n",
    "helper.display_stats(cifar10_dataset_folder_path, batch_id, sample_id)"
   ]
  },
  {
   "cell_type": "markdown",
   "metadata": {},
   "source": [
    "## Implement Preprocess Functions\n",
    "### Normalize\n",
    "In the cell below, implement the `normalize` function to take in image data, `x`, and return it as a normalized Numpy array. The values should be in the range of 0 to 1, inclusive.  The return object should be the same shape as `x`."
   ]
  },
  {
   "cell_type": "code",
   "execution_count": 6,
   "metadata": {},
   "outputs": [
    {
     "name": "stdout",
     "output_type": "stream",
     "text": [
      "Tests Passed\n"
     ]
    }
   ],
   "source": [
    "def normalize(x):\n",
    "    \"\"\"\n",
    "    Normalize a list of sample image data in the range of 0 to 1\n",
    "    : x: List of image data.  The image shape is (32, 32, 3)\n",
    "    : return: Numpy array of normalize data\n",
    "    \"\"\"\n",
    "    # TODO: Implement Function\n",
    "    norm = (x-x.min())/(x.max()-x.min())\n",
    "    return norm\n",
    "\n",
    "\"\"\"\n",
    "DON'T MODIFY ANYTHING IN THIS CELL THAT IS BELOW THIS LINE\n",
    "\"\"\"\n",
    "tests.test_normalize(normalize)"
   ]
  },
  {
   "cell_type": "markdown",
   "metadata": {},
   "source": [
    "### One-hot encode\n",
    "Just like the previous code cell, you'll be implementing a function for preprocessing.  This time, you'll implement the `one_hot_encode` function. The input, `x`, are a list of labels.  Implement the function to return the list of labels as One-Hot encoded Numpy array.  The possible values for labels are 0 to 9. The one-hot encoding function should return the same encoding for each value between each call to `one_hot_encode`.  Make sure to save the map of encodings outside the function.\n",
    "\n",
    "Hint: Don't reinvent the wheel."
   ]
  },
  {
   "cell_type": "code",
   "execution_count": 7,
   "metadata": {},
   "outputs": [
    {
     "name": "stdout",
     "output_type": "stream",
     "text": [
      "Tests Passed\n"
     ]
    }
   ],
   "source": [
    "def one_hot_encode(x):\n",
    "    \"\"\"\n",
    "    One hot encode a list of sample labels. Return a one-hot encoded vector for each label.\n",
    "    : x: List of sample Labels\n",
    "    : return: Numpy array of one-hot encoded labels\n",
    "    \"\"\"\n",
    "    # TODO: Implement Function\n",
    "    encoding = np.eye(10)[x]\n",
    "    return encoding\n",
    "\n",
    "\"\"\"\n",
    "DON'T MODIFY ANYTHING IN THIS CELL THAT IS BELOW THIS LINE\n",
    "\"\"\"\n",
    "tests.test_one_hot_encode(one_hot_encode)"
   ]
  },
  {
   "cell_type": "markdown",
   "metadata": {},
   "source": [
    "### Randomize Data\n",
    "As you saw from exploring the data above, the order of the samples are randomized.  It doesn't hurt to randomize it again, but you don't need to for this dataset."
   ]
  },
  {
   "cell_type": "markdown",
   "metadata": {},
   "source": [
    "## Preprocess all the data and save it\n",
    "Running the code cell below will preprocess all the CIFAR-10 data and save it to file. The code below also uses 10% of the training data for validation."
   ]
  },
  {
   "cell_type": "code",
   "execution_count": 8,
   "metadata": {},
   "outputs": [],
   "source": [
    "\"\"\"\n",
    "DON'T MODIFY ANYTHING IN THIS CELL\n",
    "\"\"\"\n",
    "# Preprocess Training, Validation, and Testing Data\n",
    "helper.preprocess_and_save_data(cifar10_dataset_folder_path, normalize, one_hot_encode)"
   ]
  },
  {
   "cell_type": "markdown",
   "metadata": {},
   "source": [
    "# Check Point\n",
    "This is your first checkpoint.  If you ever decide to come back to this notebook or have to restart the notebook, you can start from here.  The preprocessed data has been saved to disk."
   ]
  },
  {
   "cell_type": "code",
   "execution_count": 9,
   "metadata": {},
   "outputs": [],
   "source": [
    "\"\"\"\n",
    "DON'T MODIFY ANYTHING IN THIS CELL\n",
    "\"\"\"\n",
    "import pickle\n",
    "import problem_unittests as tests\n",
    "import helper\n",
    "\n",
    "# Load the Preprocessed Validation data\n",
    "valid_features, valid_labels = pickle.load(open('preprocess_validation.p', mode='rb'))"
   ]
  },
  {
   "cell_type": "markdown",
   "metadata": {},
   "source": [
    "## Build the network\n",
    "For the neural network, you'll build each layer into a function.  Most of the code you've seen has been outside of functions. To test your code more thoroughly, we require that you put each layer in a function.  This allows us to give you better feedback and test for simple mistakes using our unittests before you submit your project.\n",
    "\n",
    ">**Note:** If you're finding it hard to dedicate enough time for this course each week, we've provided a small shortcut to this part of the project. In the next couple of problems, you'll have the option to use classes from the [TensorFlow Layers](https://www.tensorflow.org/api_docs/python/tf/layers) or [TensorFlow Layers (contrib)](https://www.tensorflow.org/api_guides/python/contrib.layers) packages to build each layer, except the layers you build in the \"Convolutional and Max Pooling Layer\" section.  TF Layers is similar to Keras's and TFLearn's abstraction to layers, so it's easy to pickup.\n",
    "\n",
    ">However, if you would like to get the most out of this course, try to solve all the problems _without_ using anything from the TF Layers packages. You **can** still use classes from other packages that happen to have the same name as ones you find in TF Layers! For example, instead of using the TF Layers version of the `conv2d` class, [tf.layers.conv2d](https://www.tensorflow.org/api_docs/python/tf/layers/conv2d), you would want to use the TF Neural Network version of `conv2d`, [tf.nn.conv2d](https://www.tensorflow.org/api_docs/python/tf/nn/conv2d). \n",
    "\n",
    "Let's begin!\n",
    "\n",
    "### Input\n",
    "The neural network needs to read the image data, one-hot encoded labels, and dropout keep probability. Implement the following functions\n",
    "* Implement `neural_net_image_input`\n",
    " * Return a [TF Placeholder](https://www.tensorflow.org/api_docs/python/tf/placeholder)\n",
    " * Set the shape using `image_shape` with batch size set to `None`.\n",
    " * Name the TensorFlow placeholder \"x\" using the TensorFlow `name` parameter in the [TF Placeholder](https://www.tensorflow.org/api_docs/python/tf/placeholder).\n",
    "* Implement `neural_net_label_input`\n",
    " * Return a [TF Placeholder](https://www.tensorflow.org/api_docs/python/tf/placeholder)\n",
    " * Set the shape using `n_classes` with batch size set to `None`.\n",
    " * Name the TensorFlow placeholder \"y\" using the TensorFlow `name` parameter in the [TF Placeholder](https://www.tensorflow.org/api_docs/python/tf/placeholder).\n",
    "* Implement `neural_net_keep_prob_input`\n",
    " * Return a [TF Placeholder](https://www.tensorflow.org/api_docs/python/tf/placeholder) for dropout keep probability.\n",
    " * Name the TensorFlow placeholder \"keep_prob\" using the TensorFlow `name` parameter in the [TF Placeholder](https://www.tensorflow.org/api_docs/python/tf/placeholder).\n",
    "\n",
    "These names will be used at the end of the project to load your saved model.\n",
    "\n",
    "Note: `None` for shapes in TensorFlow allow for a dynamic size."
   ]
  },
  {
   "cell_type": "code",
   "execution_count": 10,
   "metadata": {},
   "outputs": [
    {
     "name": "stdout",
     "output_type": "stream",
     "text": [
      "Image Input Tests Passed.\n",
      "Label Input Tests Passed.\n",
      "Keep Prob Tests Passed.\n"
     ]
    }
   ],
   "source": [
    "import tensorflow as tf\n",
    "\n",
    "def neural_net_image_input(image_shape):\n",
    "    \"\"\"\n",
    "    Return a Tensor for a batch of image input\n",
    "    : image_shape: Shape of the images\n",
    "    : return: Tensor for image input.\n",
    "    \"\"\"\n",
    "    # TODO: Implement Function\n",
    "    return tf.placeholder(tf.float32, [None] + list(image_shape), name='x')\n",
    "\n",
    "\n",
    "def neural_net_label_input(n_classes):\n",
    "    \"\"\"\n",
    "    Return a Tensor for a batch of label input\n",
    "    : n_classes: Number of classes\n",
    "    : return: Tensor for label input.\n",
    "    \"\"\"\n",
    "    # TODO: Implement Function\n",
    "    return tf.placeholder(tf.float32, [None ,n_classes], name='y')\n",
    "\n",
    "\n",
    "def neural_net_keep_prob_input():\n",
    "    \"\"\"\n",
    "    Return a Tensor for keep probability\n",
    "    : return: Tensor for keep probability.\n",
    "    \"\"\"\n",
    "    # TODO: Implement Function\n",
    "    \n",
    "    return tf.placeholder(tf.float32, None, name=\"keep_prob\")\n",
    "\n",
    "\n",
    "\"\"\"\n",
    "DON'T MODIFY ANYTHING IN THIS CELL THAT IS BELOW THIS LINE\n",
    "\"\"\"\n",
    "tf.reset_default_graph()\n",
    "tests.test_nn_image_inputs(neural_net_image_input)\n",
    "tests.test_nn_label_inputs(neural_net_label_input)\n",
    "tests.test_nn_keep_prob_inputs(neural_net_keep_prob_input)"
   ]
  },
  {
   "cell_type": "markdown",
   "metadata": {},
   "source": [
    "### Convolution and Max Pooling Layer\n",
    "Convolution layers have a lot of success with images. For this code cell, you should implement the function `conv2d_maxpool` to apply convolution then max pooling:\n",
    "* Create the weight and bias using `conv_ksize`, `conv_num_outputs` and the shape of `x_tensor`.\n",
    "* Apply a convolution to `x_tensor` using weight and `conv_strides`.\n",
    " * We recommend you use same padding, but you're welcome to use any padding.\n",
    "* Add bias\n",
    "* Add a nonlinear activation to the convolution.\n",
    "* Apply Max Pooling using `pool_ksize` and `pool_strides`.\n",
    " * We recommend you use same padding, but you're welcome to use any padding.\n",
    "\n",
    "**Note:** You **can't** use [TensorFlow Layers](https://www.tensorflow.org/api_docs/python/tf/layers) or [TensorFlow Layers (contrib)](https://www.tensorflow.org/api_guides/python/contrib.layers) for **this** layer, but you can still use TensorFlow's [Neural Network](https://www.tensorflow.org/api_docs/python/tf/nn) package. You may still use the shortcut option for all the **other** layers."
   ]
  },
  {
   "cell_type": "code",
   "execution_count": 11,
   "metadata": {},
   "outputs": [
    {
     "name": "stdout",
     "output_type": "stream",
     "text": [
      "Tests Passed\n"
     ]
    }
   ],
   "source": [
    "def conv2d_maxpool(x_tensor, conv_num_outputs, conv_ksize, conv_strides, pool_ksize, pool_strides):\n",
    "    \"\"\"\n",
    "    Apply convolution then max pooling to x_tensor\n",
    "    :param x_tensor: TensorFlow Tensor\n",
    "    :param conv_num_outputs: Number of outputs for the convolutional layer\n",
    "    :param conv_ksize: kernal size 2-D Tuple for the convolutional layer\n",
    "    :param conv_strides: Stride 2-D Tuple for convolution\n",
    "    :param pool_ksize: kernal size 2-D Tuple for pool\n",
    "    :param pool_strides: Stride 2-D Tuple for pool\n",
    "    : return: A tensor that represents convolution and max pooling of x_tensor\n",
    "    \"\"\"\n",
    "    # TODO: Implement Function\n",
    "    X_shape = x_tensor.get_shape().as_list()\n",
    "    C_kshape = list(conv_ksize + (X_shape[-1],) + (conv_num_outputs,))\n",
    "    #print(C_kshape)\n",
    "    #print(np.prod(C_kshape[:3]))\n",
    "    #print(np.sqrt(2.0/np.prod(C_kshape[:3])))\n",
    "    # The shape of the filter weight is (height, width, input_depth, output_depth)\n",
    "    # The shape of the filter bias is (output_depth,)\n",
    "    F_W = tf.Variable(tf.truncated_normal(C_kshape,0.0,np.sqrt(2.0/np.prod(C_kshape[:3]))),dtype=np.float32)\n",
    "    F_b = tf.Variable(tf.zeros(conv_num_outputs,dtype=np.float32))\n",
    "    # The shape of the convolution stride is (batch_size, height, width, depth)\n",
    "    C_strides = list((1,)+conv_strides+(1,))\n",
    "    # The padding, either 'VALID' or 'SAME'.\n",
    "    padding = 'SAME'\n",
    "    conv_output = tf.nn.conv2d(x_tensor, F_W, C_strides, padding) + F_b\n",
    "    conv_output = tf.layers.batch_normalization(inputs=conv_output, center=True, scale=True, training=True)\n",
    "    conv_output = tf.nn.relu(conv_output)\n",
    "    P_kshape = [1] + list(pool_ksize) + [1]\n",
    "    P_stride = [1] + list(pool_strides) + [1]\n",
    "    conv_output = tf.nn.max_pool(conv_output,P_kshape,P_stride,padding)\n",
    "    return conv_output\n",
    "\n",
    "\n",
    "\"\"\"\n",
    "DON'T MODIFY ANYTHING IN THIS CELL THAT IS BELOW THIS LINE\n",
    "\"\"\"\n",
    "tests.test_con_pool(conv2d_maxpool)"
   ]
  },
  {
   "cell_type": "markdown",
   "metadata": {},
   "source": [
    "### Flatten Layer\n",
    "Implement the `flatten` function to change the dimension of `x_tensor` from a 4-D tensor to a 2-D tensor.  The output should be the shape (*Batch Size*, *Flattened Image Size*). Shortcut option: you can use classes from the [TensorFlow Layers](https://www.tensorflow.org/api_docs/python/tf/layers) or [TensorFlow Layers (contrib)](https://www.tensorflow.org/api_guides/python/contrib.layers) packages for this layer. For more of a challenge, only use other TensorFlow packages."
   ]
  },
  {
   "cell_type": "code",
   "execution_count": 12,
   "metadata": {},
   "outputs": [
    {
     "name": "stdout",
     "output_type": "stream",
     "text": [
      "Tests Passed\n"
     ]
    }
   ],
   "source": [
    "def flatten(x_tensor):\n",
    "    \"\"\"\n",
    "    Flatten x_tensor to (Batch Size, Flattened Image Size)\n",
    "    : x_tensor: A tensor of size (Batch Size, ...), where ... are the image dimensions.\n",
    "    : return: A tensor of size (Batch Size, Flattened Image Size).\n",
    "    \"\"\"\n",
    "    # TODO: Implement Function\n",
    "    X_shape = x_tensor.get_shape().as_list()\n",
    "    return tf.reshape(x_tensor,[-1,np.prod(X_shape[1:])])\n",
    "\n",
    "\"\"\"\n",
    "DON'T MODIFY ANYTHING IN THIS CELL THAT IS BELOW THIS LINE\n",
    "\"\"\"\n",
    "tests.test_flatten(flatten)"
   ]
  },
  {
   "cell_type": "markdown",
   "metadata": {},
   "source": [
    "### Fully-Connected Layer\n",
    "Implement the `fully_conn` function to apply a fully connected layer to `x_tensor` with the shape (*Batch Size*, *num_outputs*). Shortcut option: you can use classes from the [TensorFlow Layers](https://www.tensorflow.org/api_docs/python/tf/layers) or [TensorFlow Layers (contrib)](https://www.tensorflow.org/api_guides/python/contrib.layers) packages for this layer. For more of a challenge, only use other TensorFlow packages."
   ]
  },
  {
   "cell_type": "code",
   "execution_count": 13,
   "metadata": {},
   "outputs": [
    {
     "name": "stdout",
     "output_type": "stream",
     "text": [
      "Tests Passed\n"
     ]
    }
   ],
   "source": [
    "def fully_conn(x_tensor, num_outputs):\n",
    "    \"\"\"\n",
    "    Apply a fully connected layer to x_tensor using weight and bias\n",
    "    : x_tensor: A 2-D tensor where the first dimension is batch size.\n",
    "    : num_outputs: The number of output that the new tensor should be.\n",
    "    : return: A 2-D tensor where the second dimension is num_outputs.\n",
    "    \"\"\"\n",
    "    # TODO: Implement Function\n",
    "    X_shape = x_tensor.get_shape().as_list()\n",
    "    shape = list((X_shape[-1],)+(num_outputs,))\n",
    "    #print(shape)\n",
    "    #print(shape[0])\n",
    "    W = tf.Variable(tf.truncated_normal(shape,0.0,np.sqrt(2.0/np.prod(shape[0]))),dtype=np.float32)\n",
    "    b = tf.Variable(tf.zeros(num_outputs,dtype=np.float32))\n",
    "    fc_output = tf.tensordot(x_tensor,W,axes=([1], [0]))+b\n",
    "    fc_output = tf.layers.batch_normalization(inputs=fc_output, center=True, scale=True, training=True)\n",
    "    fc_output = tf.nn.relu(fc_output)\n",
    "    return fc_output\n",
    "\n",
    "\n",
    "\"\"\"\n",
    "DON'T MODIFY ANYTHING IN THIS CELL THAT IS BELOW THIS LINE\n",
    "\"\"\"\n",
    "tests.test_fully_conn(fully_conn)"
   ]
  },
  {
   "cell_type": "code",
   "execution_count": 14,
   "metadata": {},
   "outputs": [
    {
     "name": "stdout",
     "output_type": "stream",
     "text": [
      "[[ 3.  3.]\n",
      " [ 6.  6.]]\n"
     ]
    }
   ],
   "source": [
    "with tf.Session() as sess:\n",
    "    a = tf.placeholder(tf.float32, None, name='a')\n",
    "    b = tf.placeholder(tf.float32, None, name='b')\n",
    "    c = tf.tensordot(a,b, axes=([1], [0]))\n",
    "    print(sess.run(c, feed_dict={a:[[1,1],[2,2]], b:[[2,2],[1,1]]}))"
   ]
  },
  {
   "cell_type": "code",
   "execution_count": 15,
   "metadata": {},
   "outputs": [
    {
     "data": {
      "text/plain": [
       "array([[3, 3],\n",
       "       [6, 6]])"
      ]
     },
     "execution_count": 15,
     "metadata": {},
     "output_type": "execute_result"
    }
   ],
   "source": [
    "a=np.array([[1,1],[2,2]])\n",
    "b=np.array([[2,2],[1,1]])\n",
    "np.dot(a,b)"
   ]
  },
  {
   "cell_type": "markdown",
   "metadata": {},
   "source": [
    "### Output Layer\n",
    "Implement the `output` function to apply a fully connected layer to `x_tensor` with the shape (*Batch Size*, *num_outputs*). Shortcut option: you can use classes from the [TensorFlow Layers](https://www.tensorflow.org/api_docs/python/tf/layers) or [TensorFlow Layers (contrib)](https://www.tensorflow.org/api_guides/python/contrib.layers) packages for this layer. For more of a challenge, only use other TensorFlow packages.\n",
    "\n",
    "**Note:** Activation, softmax, or cross entropy should **not** be applied to this."
   ]
  },
  {
   "cell_type": "code",
   "execution_count": 16,
   "metadata": {},
   "outputs": [
    {
     "name": "stdout",
     "output_type": "stream",
     "text": [
      "Tests Passed\n"
     ]
    }
   ],
   "source": [
    "def output(x_tensor, num_outputs):\n",
    "    \"\"\"\n",
    "    Apply a output layer to x_tensor using weight and bias\n",
    "    : x_tensor: A 2-D tensor where the first dimension is batch size.\n",
    "    : num_outputs: The number of output that the new tensor should be.\n",
    "    : return: A 2-D tensor where the second dimension is num_outputs.\n",
    "    \"\"\"\n",
    "    # TODO: Implement Function\n",
    "    X_shape = x_tensor.get_shape().as_list()\n",
    "    shape = list((X_shape[-1],)+(num_outputs,))\n",
    "    W = tf.Variable(tf.truncated_normal(shape,0.0,0.01),dtype=np.float32)\n",
    "    b = tf.Variable(tf.zeros(num_outputs,dtype=np.float32))\n",
    "    return tf.tensordot(x_tensor,W,axes=([1], [0]))+b\n",
    "\n",
    "\n",
    "\"\"\"\n",
    "DON'T MODIFY ANYTHING IN THIS CELL THAT IS BELOW THIS LINE\n",
    "\"\"\"\n",
    "tests.test_output(output)"
   ]
  },
  {
   "cell_type": "markdown",
   "metadata": {},
   "source": [
    "### Create Convolutional Model\n",
    "Implement the function `conv_net` to create a convolutional neural network model. The function takes in a batch of images, `x`, and outputs logits.  Use the layers you created above to create this model:\n",
    "\n",
    "* Apply 1, 2, or 3 Convolution and Max Pool layers\n",
    "* Apply a Flatten Layer\n",
    "* Apply 1, 2, or 3 Fully Connected Layers\n",
    "* Apply an Output Layer\n",
    "* Return the output\n",
    "* Apply [TensorFlow's Dropout](https://www.tensorflow.org/api_docs/python/tf/nn/dropout) to one or more layers in the model using `keep_prob`. "
   ]
  },
  {
   "cell_type": "code",
   "execution_count": 17,
   "metadata": {},
   "outputs": [
    {
     "name": "stdout",
     "output_type": "stream",
     "text": [
      "Neural Network Built!\n"
     ]
    }
   ],
   "source": [
    "def conv_net(x, keep_prob):\n",
    "    \"\"\"\n",
    "    Create a convolutional neural network model\n",
    "    : x: Placeholder tensor that holds image data.\n",
    "    : keep_prob: Placeholder tensor that hold dropout keep probability.\n",
    "    : return: Tensor that represents logits\n",
    "    \"\"\"\n",
    "    \n",
    "    # TODO: Apply 1, 2, or 3 Convolution and Max Pool layers\n",
    "    #    Play around with different number of outputs, kernel size and stride\n",
    "    # Function Definition from Above:\n",
    "    #    conv2d_maxpool(x_tensor, conv_num_outputs, conv_ksize, conv_strides, pool_ksize, pool_strides)\n",
    "    model = conv2d_maxpool(x, conv_num_outputs=24, conv_ksize=(3,3), conv_strides=(1,1), pool_ksize=(2,2), pool_strides=(1,1))\n",
    "    model = conv2d_maxpool(model, conv_num_outputs=24, conv_ksize=(3,3), conv_strides=(1,1), pool_ksize=(2,2), pool_strides=(1,1))\n",
    "    model = tf.nn.dropout(model, keep_prob)\n",
    "    model = conv2d_maxpool(model, conv_num_outputs=24, conv_ksize=(3,3), conv_strides=(1,1), pool_ksize=(2,2), pool_strides=(1,1))\n",
    "    model = conv2d_maxpool(model, conv_num_outputs=24, conv_ksize=(3,3), conv_strides=(1,1), pool_ksize=(2,2), pool_strides=(1,1))\n",
    "    model = tf.nn.dropout(model, keep_prob)\n",
    "    model = conv2d_maxpool(model, conv_num_outputs=24, conv_ksize=(3,3), conv_strides=(1,1), pool_ksize=(2,2), pool_strides=(1,1))\n",
    "    model = conv2d_maxpool(model, conv_num_outputs=24, conv_ksize=(3,3), conv_strides=(1,1), pool_ksize=(2,2), pool_strides=(1,1))\n",
    "    model = tf.nn.dropout(model, keep_prob)\n",
    "    \n",
    "    # TODO: Apply a Flatten Layer\n",
    "    # Function Definition from Above:\n",
    "    #   flatten(x_tensor)\n",
    "    model = flatten(model)\n",
    "\n",
    "    # TODO: Apply 1, 2, or 3 Fully Connected Layers\n",
    "    #    Play around with different number of outputs\n",
    "    # Function Definition from Above:\n",
    "    #   fully_conn(x_tensor, num_outputs)\n",
    "    model = fully_conn(model,512)\n",
    "    model = tf.nn.dropout(model, keep_prob)\n",
    "    model = fully_conn(model,512)\n",
    "    model = tf.nn.dropout(model, keep_prob)\n",
    "    \n",
    "    # TODO: Apply an Output Layer\n",
    "    #    Set this to the number of classes\n",
    "    # Function Definition from Above:\n",
    "    #   output(x_tensor, num_outputs)\n",
    "    model = output(model,10)\n",
    "    \n",
    "    # TODO: return output\n",
    "    return model\n",
    "\n",
    "\n",
    "\"\"\"\n",
    "DON'T MODIFY ANYTHING IN THIS CELL THAT IS BELOW THIS LINE\n",
    "\"\"\"\n",
    "\n",
    "##############################\n",
    "## Build the Neural Network ##\n",
    "##############################\n",
    "\n",
    "# Remove previous weights, bias, inputs, etc..\n",
    "tf.reset_default_graph()\n",
    "\n",
    "# Inputs\n",
    "x = neural_net_image_input((32, 32, 3))\n",
    "y = neural_net_label_input(10)\n",
    "keep_prob = neural_net_keep_prob_input()\n",
    "\n",
    "# Model\n",
    "logits = conv_net(x, keep_prob)\n",
    "\n",
    "# Name logits Tensor, so that is can be loaded from disk after training\n",
    "logits = tf.identity(logits, name='logits')\n",
    "\n",
    "# Loss and Optimizer\n",
    "cost = tf.reduce_mean(tf.nn.softmax_cross_entropy_with_logits_v2(logits=logits, labels=y))\n",
    "optimizer = tf.train.AdamOptimizer().minimize(cost)\n",
    "\n",
    "# Accuracy\n",
    "correct_pred = tf.equal(tf.argmax(logits, 1), tf.argmax(y, 1))\n",
    "accuracy = tf.reduce_mean(tf.cast(correct_pred, tf.float32), name='accuracy')\n",
    "\n",
    "tests.test_conv_net(conv_net)"
   ]
  },
  {
   "cell_type": "markdown",
   "metadata": {},
   "source": [
    "## Train the Neural Network\n",
    "### Single Optimization\n",
    "Implement the function `train_neural_network` to do a single optimization.  The optimization should use `optimizer` to optimize in `session` with a `feed_dict` of the following:\n",
    "* `x` for image input\n",
    "* `y` for labels\n",
    "* `keep_prob` for keep probability for dropout\n",
    "\n",
    "This function will be called for each batch, so `tf.global_variables_initializer()` has already been called.\n",
    "\n",
    "Note: Nothing needs to be returned. This function is only optimizing the neural network."
   ]
  },
  {
   "cell_type": "code",
   "execution_count": 18,
   "metadata": {},
   "outputs": [
    {
     "name": "stdout",
     "output_type": "stream",
     "text": [
      "Tests Passed\n"
     ]
    }
   ],
   "source": [
    "def train_neural_network(session, optimizer, keep_probability, feature_batch, label_batch):\n",
    "    \"\"\"\n",
    "    Optimize the session on a batch of images and labels\n",
    "    : session: Current TensorFlow session\n",
    "    : optimizer: TensorFlow optimizer function\n",
    "    : keep_probability: keep probability\n",
    "    : feature_batch: Batch of Numpy image data\n",
    "    : label_batch: Batch of Numpy label data\n",
    "    \"\"\"\n",
    "    # TODO: Implement Function\n",
    "    session.run(optimizer, feed_dict={x:feature_batch, y:label_batch, keep_prob:keep_probability})\n",
    "    \n",
    "\"\"\"\n",
    "DON'T MODIFY ANYTHING IN THIS CELL THAT IS BELOW THIS LINE\n",
    "\"\"\"\n",
    "tests.test_train_nn(train_neural_network)"
   ]
  },
  {
   "cell_type": "markdown",
   "metadata": {},
   "source": [
    "### Show Stats\n",
    "Implement the function `print_stats` to print loss and validation accuracy.  Use the global variables `valid_features` and `valid_labels` to calculate validation accuracy.  Use a keep probability of `1.0` to calculate the loss and validation accuracy."
   ]
  },
  {
   "cell_type": "code",
   "execution_count": 19,
   "metadata": {},
   "outputs": [],
   "source": [
    "def print_stats(session, feature_batch, label_batch, cost, accuracy):\n",
    "    \"\"\"\n",
    "    Print information about loss and validation accuracy\n",
    "    : session: Current TensorFlow session\n",
    "    : feature_batch: Batch of Numpy image data\n",
    "    : label_batch: Batch of Numpy label data\n",
    "    : cost: TensorFlow cost function\n",
    "    : accuracy: TensorFlow accuracy function\n",
    "    \"\"\"\n",
    "    # TODO: Implement Function\n",
    "    loss = session.run(cost, feed_dict={x:feature_batch, y:label_batch, keep_prob:1.0})\n",
    "    valid_acc = sess.run(accuracy, feed_dict={x: valid_features, y: valid_labels, keep_prob: 1.})\n",
    "    print('Loss: {:>10.4f} Validation Accuracy: {:.6f}'.format(loss, valid_acc))\n",
    "    return loss, valid_acc"
   ]
  },
  {
   "cell_type": "markdown",
   "metadata": {},
   "source": [
    "### Hyperparameters\n",
    "Tune the following parameters:\n",
    "* Set `epochs` to the number of iterations until the network stops learning or start overfitting\n",
    "* Set `batch_size` to the highest number that your machine has memory for.  Most people set them to common sizes of memory:\n",
    " * 64\n",
    " * 128\n",
    " * 256\n",
    " * ...\n",
    "* Set `keep_probability` to the probability of keeping a node using dropout"
   ]
  },
  {
   "cell_type": "code",
   "execution_count": 20,
   "metadata": {},
   "outputs": [],
   "source": [
    "# TODO: Tune Parameters\n",
    "epochs = 100\n",
    "batch_size = 128\n",
    "keep_probability = 0.3"
   ]
  },
  {
   "cell_type": "markdown",
   "metadata": {},
   "source": [
    "### Train on a Single CIFAR-10 Batch\n",
    "Instead of training the neural network on all the CIFAR-10 batches of data, let's use a single batch. This should save time while you iterate on the model to get a better accuracy.  Once the final validation accuracy is 50% or greater, run the model on all the data in the next section."
   ]
  },
  {
   "cell_type": "code",
   "execution_count": 21,
   "metadata": {},
   "outputs": [
    {
     "name": "stdout",
     "output_type": "stream",
     "text": [
      "Checking the Training on a Single Batch...\n",
      "Epoch  1, CIFAR-10 Batch 1:  Loss:     1.9719 Validation Accuracy: 0.351400\n",
      "Epoch  2, CIFAR-10 Batch 1:  Loss:     1.8869 Validation Accuracy: 0.419200\n",
      "Epoch  3, CIFAR-10 Batch 1:  Loss:     1.7302 Validation Accuracy: 0.459600\n",
      "Epoch  4, CIFAR-10 Batch 1:  Loss:     1.5644 Validation Accuracy: 0.486800\n",
      "Epoch  5, CIFAR-10 Batch 1:  Loss:     1.3816 Validation Accuracy: 0.520600\n",
      "Epoch  6, CIFAR-10 Batch 1:  Loss:     1.3512 Validation Accuracy: 0.525800\n",
      "Epoch  7, CIFAR-10 Batch 1:  Loss:     1.2454 Validation Accuracy: 0.544600\n",
      "Epoch  8, CIFAR-10 Batch 1:  Loss:     1.1679 Validation Accuracy: 0.555600\n",
      "Epoch  9, CIFAR-10 Batch 1:  Loss:     1.0733 Validation Accuracy: 0.573000\n",
      "Epoch 10, CIFAR-10 Batch 1:  Loss:     1.0162 Validation Accuracy: 0.575800\n",
      "Epoch 11, CIFAR-10 Batch 1:  Loss:     0.9723 Validation Accuracy: 0.582000\n",
      "Epoch 12, CIFAR-10 Batch 1:  Loss:     0.9388 Validation Accuracy: 0.591000\n",
      "Epoch 13, CIFAR-10 Batch 1:  Loss:     0.9578 Validation Accuracy: 0.596600\n",
      "Epoch 14, CIFAR-10 Batch 1:  Loss:     0.8124 Validation Accuracy: 0.598800\n",
      "Epoch 15, CIFAR-10 Batch 1:  Loss:     0.7659 Validation Accuracy: 0.608000\n",
      "Epoch 16, CIFAR-10 Batch 1:  Loss:     0.7506 Validation Accuracy: 0.607800\n",
      "Epoch 17, CIFAR-10 Batch 1:  Loss:     0.6944 Validation Accuracy: 0.609800\n",
      "Epoch 18, CIFAR-10 Batch 1:  Loss:     0.6612 Validation Accuracy: 0.616200\n",
      "Epoch 19, CIFAR-10 Batch 1:  Loss:     0.6646 Validation Accuracy: 0.624000\n",
      "Epoch 20, CIFAR-10 Batch 1:  Loss:     0.5783 Validation Accuracy: 0.621600\n",
      "Epoch 21, CIFAR-10 Batch 1:  Loss:     0.5714 Validation Accuracy: 0.622800\n",
      "Epoch 22, CIFAR-10 Batch 1:  Loss:     0.5636 Validation Accuracy: 0.627000\n",
      "Epoch 23, CIFAR-10 Batch 1:  Loss:     0.5341 Validation Accuracy: 0.622800\n",
      "Epoch 24, CIFAR-10 Batch 1:  Loss:     0.5184 Validation Accuracy: 0.631200\n",
      "Epoch 25, CIFAR-10 Batch 1:  Loss:     0.4768 Validation Accuracy: 0.639400\n",
      "Epoch 26, CIFAR-10 Batch 1:  Loss:     0.4454 Validation Accuracy: 0.635800\n",
      "Epoch 27, CIFAR-10 Batch 1:  Loss:     0.3973 Validation Accuracy: 0.636000\n",
      "Epoch 28, CIFAR-10 Batch 1:  Loss:     0.3741 Validation Accuracy: 0.639200\n",
      "Epoch 29, CIFAR-10 Batch 1:  Loss:     0.3622 Validation Accuracy: 0.641200\n",
      "Epoch 30, CIFAR-10 Batch 1:  Loss:     0.3432 Validation Accuracy: 0.639400\n",
      "Epoch 31, CIFAR-10 Batch 1:  Loss:     0.3500 Validation Accuracy: 0.641800\n",
      "Epoch 32, CIFAR-10 Batch 1:  Loss:     0.3249 Validation Accuracy: 0.643600\n",
      "Epoch 33, CIFAR-10 Batch 1:  Loss:     0.3461 Validation Accuracy: 0.643800\n",
      "Epoch 34, CIFAR-10 Batch 1:  Loss:     0.3122 Validation Accuracy: 0.641200\n",
      "Epoch 35, CIFAR-10 Batch 1:  Loss:     0.3185 Validation Accuracy: 0.640200\n",
      "Epoch 36, CIFAR-10 Batch 1:  Loss:     0.2550 Validation Accuracy: 0.643600\n",
      "Epoch 37, CIFAR-10 Batch 1:  Loss:     0.2627 Validation Accuracy: 0.648200\n",
      "Epoch 38, CIFAR-10 Batch 1:  Loss:     0.2365 Validation Accuracy: 0.649800\n",
      "Epoch 39, CIFAR-10 Batch 1:  Loss:     0.2271 Validation Accuracy: 0.650800\n",
      "Epoch 40, CIFAR-10 Batch 1:  Loss:     0.2368 Validation Accuracy: 0.648000\n",
      "Epoch 41, CIFAR-10 Batch 1:  Loss:     0.2289 Validation Accuracy: 0.653600\n",
      "Epoch 42, CIFAR-10 Batch 1:  Loss:     0.2033 Validation Accuracy: 0.658600\n",
      "Epoch 43, CIFAR-10 Batch 1:  Loss:     0.1553 Validation Accuracy: 0.659600\n",
      "Epoch 44, CIFAR-10 Batch 1:  Loss:     0.1654 Validation Accuracy: 0.655600\n",
      "Epoch 45, CIFAR-10 Batch 1:  Loss:     0.1547 Validation Accuracy: 0.654400\n",
      "Epoch 46, CIFAR-10 Batch 1:  Loss:     0.1473 Validation Accuracy: 0.654600\n",
      "Epoch 47, CIFAR-10 Batch 1:  Loss:     0.1399 Validation Accuracy: 0.661200\n",
      "Epoch 48, CIFAR-10 Batch 1:  Loss:     0.1380 Validation Accuracy: 0.661200\n",
      "Epoch 49, CIFAR-10 Batch 1:  Loss:     0.1324 Validation Accuracy: 0.666800\n",
      "Epoch 50, CIFAR-10 Batch 1:  Loss:     0.1242 Validation Accuracy: 0.660200\n",
      "Epoch 51, CIFAR-10 Batch 1:  Loss:     0.1197 Validation Accuracy: 0.668800\n",
      "Epoch 52, CIFAR-10 Batch 1:  Loss:     0.1184 Validation Accuracy: 0.665800\n",
      "Epoch 53, CIFAR-10 Batch 1:  Loss:     0.1031 Validation Accuracy: 0.666400\n",
      "Epoch 54, CIFAR-10 Batch 1:  Loss:     0.1050 Validation Accuracy: 0.669000\n",
      "Epoch 55, CIFAR-10 Batch 1:  Loss:     0.0980 Validation Accuracy: 0.666600\n",
      "Epoch 56, CIFAR-10 Batch 1:  Loss:     0.1030 Validation Accuracy: 0.668000\n",
      "Epoch 57, CIFAR-10 Batch 1:  Loss:     0.0997 Validation Accuracy: 0.670200\n",
      "Epoch 58, CIFAR-10 Batch 1:  Loss:     0.0872 Validation Accuracy: 0.668200\n",
      "Epoch 59, CIFAR-10 Batch 1:  Loss:     0.0771 Validation Accuracy: 0.674200\n",
      "Epoch 60, CIFAR-10 Batch 1:  Loss:     0.0895 Validation Accuracy: 0.672200\n",
      "Epoch 61, CIFAR-10 Batch 1:  Loss:     0.0792 Validation Accuracy: 0.670400\n",
      "Epoch 62, CIFAR-10 Batch 1:  Loss:     0.0820 Validation Accuracy: 0.675800\n",
      "Epoch 63, CIFAR-10 Batch 1:  Loss:     0.0904 Validation Accuracy: 0.672600\n",
      "Epoch 64, CIFAR-10 Batch 1:  Loss:     0.0848 Validation Accuracy: 0.667800\n",
      "Epoch 65, CIFAR-10 Batch 1:  Loss:     0.0743 Validation Accuracy: 0.675400\n",
      "Epoch 66, CIFAR-10 Batch 1:  Loss:     0.0606 Validation Accuracy: 0.671800\n",
      "Epoch 67, CIFAR-10 Batch 1:  Loss:     0.0557 Validation Accuracy: 0.673800\n",
      "Epoch 68, CIFAR-10 Batch 1:  Loss:     0.0563 Validation Accuracy: 0.670400\n",
      "Epoch 69, CIFAR-10 Batch 1:  Loss:     0.0569 Validation Accuracy: 0.670600\n",
      "Epoch 70, CIFAR-10 Batch 1:  Loss:     0.0471 Validation Accuracy: 0.676200\n",
      "Epoch 71, CIFAR-10 Batch 1:  Loss:     0.0460 Validation Accuracy: 0.671400\n",
      "Epoch 72, CIFAR-10 Batch 1:  Loss:     0.0444 Validation Accuracy: 0.667600\n",
      "Epoch 73, CIFAR-10 Batch 1:  Loss:     0.0480 Validation Accuracy: 0.679400\n",
      "Epoch 74, CIFAR-10 Batch 1:  Loss:     0.0406 Validation Accuracy: 0.676000\n",
      "Epoch 75, CIFAR-10 Batch 1:  Loss:     0.0341 Validation Accuracy: 0.673800\n",
      "Epoch 76, CIFAR-10 Batch 1:  Loss:     0.0295 Validation Accuracy: 0.680200\n",
      "Epoch 77, CIFAR-10 Batch 1:  Loss:     0.0289 Validation Accuracy: 0.671200\n",
      "Epoch 78, CIFAR-10 Batch 1:  Loss:     0.0238 Validation Accuracy: 0.680400\n",
      "Epoch 79, CIFAR-10 Batch 1:  Loss:     0.0255 Validation Accuracy: 0.671000\n",
      "Epoch 80, CIFAR-10 Batch 1:  Loss:     0.0178 Validation Accuracy: 0.674200\n",
      "Epoch 81, CIFAR-10 Batch 1:  Loss:     0.0191 Validation Accuracy: 0.673200\n",
      "Epoch 82, CIFAR-10 Batch 1:  Loss:     0.0200 Validation Accuracy: 0.677400\n",
      "Epoch 83, CIFAR-10 Batch 1:  Loss:     0.0235 Validation Accuracy: 0.679600\n",
      "Epoch 84, CIFAR-10 Batch 1:  Loss:     0.0175 Validation Accuracy: 0.674000\n",
      "Epoch 85, CIFAR-10 Batch 1:  Loss:     0.0188 Validation Accuracy: 0.675600\n",
      "Epoch 86, CIFAR-10 Batch 1:  Loss:     0.0169 Validation Accuracy: 0.676800\n",
      "Epoch 87, CIFAR-10 Batch 1:  Loss:     0.0228 Validation Accuracy: 0.679000\n",
      "Epoch 88, CIFAR-10 Batch 1:  Loss:     0.0192 Validation Accuracy: 0.681000\n",
      "Epoch 89, CIFAR-10 Batch 1:  Loss:     0.0160 Validation Accuracy: 0.677400\n",
      "Epoch 90, CIFAR-10 Batch 1:  Loss:     0.0164 Validation Accuracy: 0.683200\n",
      "Epoch 91, CIFAR-10 Batch 1:  Loss:     0.0157 Validation Accuracy: 0.680000\n",
      "Epoch 92, CIFAR-10 Batch 1:  Loss:     0.0185 Validation Accuracy: 0.672800\n",
      "Epoch 93, CIFAR-10 Batch 1:  Loss:     0.0165 Validation Accuracy: 0.684000\n",
      "Epoch 94, CIFAR-10 Batch 1:  Loss:     0.0156 Validation Accuracy: 0.676800\n",
      "Epoch 95, CIFAR-10 Batch 1:  Loss:     0.0153 Validation Accuracy: 0.678800\n",
      "Epoch 96, CIFAR-10 Batch 1:  Loss:     0.0149 Validation Accuracy: 0.682400\n",
      "Epoch 97, CIFAR-10 Batch 1:  Loss:     0.0099 Validation Accuracy: 0.683200\n",
      "Epoch 98, CIFAR-10 Batch 1:  Loss:     0.0132 Validation Accuracy: 0.676000\n",
      "Epoch 99, CIFAR-10 Batch 1:  Loss:     0.0175 Validation Accuracy: 0.681800\n",
      "Epoch 100, CIFAR-10 Batch 1:  Loss:     0.0105 Validation Accuracy: 0.679000\n"
     ]
    }
   ],
   "source": [
    "\"\"\"\n",
    "DON'T MODIFY ANYTHING IN THIS CELL\n",
    "\"\"\"\n",
    "print('Checking the Training on a Single Batch...')\n",
    "\n",
    "with tf.Session(config=config) as sess:\n",
    "    # Initializing the variables\n",
    "    sess.run(tf.global_variables_initializer())\n",
    "    \n",
    "    # Training cycle\n",
    "    for epoch in range(epochs):\n",
    "        batch_i = 1\n",
    "        for batch_features, batch_labels in helper.load_preprocess_training_batch(batch_i, batch_size):\n",
    "            train_neural_network(sess, optimizer, keep_probability, batch_features, batch_labels)\n",
    "        print('Epoch {:>2}, CIFAR-10 Batch {}:  '.format(epoch + 1, batch_i), end='')\n",
    "        print_stats(sess, batch_features, batch_labels, cost, accuracy)"
   ]
  },
  {
   "cell_type": "markdown",
   "metadata": {},
   "source": [
    "### Fully Train the Model\n",
    "Now that you got a good accuracy with a single CIFAR-10 batch, try it with all five batches."
   ]
  },
  {
   "cell_type": "code",
   "execution_count": 22,
   "metadata": {},
   "outputs": [
    {
     "name": "stdout",
     "output_type": "stream",
     "text": [
      "Training...\n",
      "Epoch  1, CIFAR-10 Batch 1:  Loss:     1.9403 Validation Accuracy: 0.367600\n",
      "Epoch  1, CIFAR-10 Batch 2:  Loss:     1.6810 Validation Accuracy: 0.425800\n",
      "Epoch  1, CIFAR-10 Batch 3:  Loss:     1.3309 Validation Accuracy: 0.479800\n",
      "Epoch  1, CIFAR-10 Batch 4:  Loss:     1.5690 Validation Accuracy: 0.500200\n",
      "Epoch  1, CIFAR-10 Batch 5:  Loss:     1.2446 Validation Accuracy: 0.535400\n",
      "Epoch  2, CIFAR-10 Batch 1:  Loss:     1.3227 Validation Accuracy: 0.542800\n",
      "Epoch  2, CIFAR-10 Batch 2:  Loss:     1.4426 Validation Accuracy: 0.527400\n",
      "Epoch  2, CIFAR-10 Batch 3:  Loss:     1.0988 Validation Accuracy: 0.559000\n",
      "Epoch  2, CIFAR-10 Batch 4:  Loss:     1.3394 Validation Accuracy: 0.577400\n",
      "Epoch  2, CIFAR-10 Batch 5:  Loss:     1.1055 Validation Accuracy: 0.590600\n",
      "Epoch  3, CIFAR-10 Batch 1:  Loss:     1.1176 Validation Accuracy: 0.599400\n",
      "Epoch  3, CIFAR-10 Batch 2:  Loss:     1.2511 Validation Accuracy: 0.592800\n",
      "Epoch  3, CIFAR-10 Batch 3:  Loss:     0.8932 Validation Accuracy: 0.606800\n",
      "Epoch  3, CIFAR-10 Batch 4:  Loss:     1.0562 Validation Accuracy: 0.608200\n",
      "Epoch  3, CIFAR-10 Batch 5:  Loss:     0.9896 Validation Accuracy: 0.620800\n",
      "Epoch  4, CIFAR-10 Batch 1:  Loss:     1.0399 Validation Accuracy: 0.632400\n",
      "Epoch  4, CIFAR-10 Batch 2:  Loss:     1.0769 Validation Accuracy: 0.634000\n",
      "Epoch  4, CIFAR-10 Batch 3:  Loss:     0.8664 Validation Accuracy: 0.629200\n",
      "Epoch  4, CIFAR-10 Batch 4:  Loss:     0.9665 Validation Accuracy: 0.633200\n",
      "Epoch  4, CIFAR-10 Batch 5:  Loss:     0.8506 Validation Accuracy: 0.650200\n",
      "Epoch  5, CIFAR-10 Batch 1:  Loss:     0.9091 Validation Accuracy: 0.651800\n",
      "Epoch  5, CIFAR-10 Batch 2:  Loss:     0.8832 Validation Accuracy: 0.649400\n",
      "Epoch  5, CIFAR-10 Batch 3:  Loss:     0.8090 Validation Accuracy: 0.653000\n",
      "Epoch  5, CIFAR-10 Batch 4:  Loss:     0.8200 Validation Accuracy: 0.658200\n",
      "Epoch  5, CIFAR-10 Batch 5:  Loss:     0.6861 Validation Accuracy: 0.663200\n",
      "Epoch  6, CIFAR-10 Batch 1:  Loss:     0.8573 Validation Accuracy: 0.672400\n",
      "Epoch  6, CIFAR-10 Batch 2:  Loss:     0.7779 Validation Accuracy: 0.665200\n",
      "Epoch  6, CIFAR-10 Batch 3:  Loss:     0.7385 Validation Accuracy: 0.671000\n",
      "Epoch  6, CIFAR-10 Batch 4:  Loss:     0.7669 Validation Accuracy: 0.668800\n",
      "Epoch  6, CIFAR-10 Batch 5:  Loss:     0.6831 Validation Accuracy: 0.677600\n",
      "Epoch  7, CIFAR-10 Batch 1:  Loss:     0.7783 Validation Accuracy: 0.679800\n",
      "Epoch  7, CIFAR-10 Batch 2:  Loss:     0.7240 Validation Accuracy: 0.682400\n",
      "Epoch  7, CIFAR-10 Batch 3:  Loss:     0.7076 Validation Accuracy: 0.685600\n",
      "Epoch  7, CIFAR-10 Batch 4:  Loss:     0.7384 Validation Accuracy: 0.687600\n",
      "Epoch  7, CIFAR-10 Batch 5:  Loss:     0.6242 Validation Accuracy: 0.688400\n",
      "Epoch  8, CIFAR-10 Batch 1:  Loss:     0.7039 Validation Accuracy: 0.695400\n",
      "Epoch  8, CIFAR-10 Batch 2:  Loss:     0.6923 Validation Accuracy: 0.696600\n",
      "Epoch  8, CIFAR-10 Batch 3:  Loss:     0.7121 Validation Accuracy: 0.698600\n",
      "Epoch  8, CIFAR-10 Batch 4:  Loss:     0.7359 Validation Accuracy: 0.696200\n",
      "Epoch  8, CIFAR-10 Batch 5:  Loss:     0.5612 Validation Accuracy: 0.705000\n",
      "Epoch  9, CIFAR-10 Batch 1:  Loss:     0.6605 Validation Accuracy: 0.699600\n",
      "Epoch  9, CIFAR-10 Batch 2:  Loss:     0.6722 Validation Accuracy: 0.702000\n",
      "Epoch  9, CIFAR-10 Batch 3:  Loss:     0.6597 Validation Accuracy: 0.704000\n",
      "Epoch  9, CIFAR-10 Batch 4:  Loss:     0.6786 Validation Accuracy: 0.706000\n",
      "Epoch  9, CIFAR-10 Batch 5:  Loss:     0.5623 Validation Accuracy: 0.708000\n",
      "Epoch 10, CIFAR-10 Batch 1:  Loss:     0.5907 Validation Accuracy: 0.703000\n",
      "Epoch 10, CIFAR-10 Batch 2:  Loss:     0.6043 Validation Accuracy: 0.714800\n",
      "Epoch 10, CIFAR-10 Batch 3:  Loss:     0.6284 Validation Accuracy: 0.711400\n",
      "Epoch 10, CIFAR-10 Batch 4:  Loss:     0.6878 Validation Accuracy: 0.719400\n",
      "Epoch 10, CIFAR-10 Batch 5:  Loss:     0.4765 Validation Accuracy: 0.717000\n",
      "Epoch 11, CIFAR-10 Batch 1:  Loss:     0.6112 Validation Accuracy: 0.716200\n",
      "Epoch 11, CIFAR-10 Batch 2:  Loss:     0.5740 Validation Accuracy: 0.712200\n",
      "Epoch 11, CIFAR-10 Batch 3:  Loss:     0.5584 Validation Accuracy: 0.722200\n",
      "Epoch 11, CIFAR-10 Batch 4:  Loss:     0.6512 Validation Accuracy: 0.714200\n",
      "Epoch 11, CIFAR-10 Batch 5:  Loss:     0.4738 Validation Accuracy: 0.723400\n",
      "Epoch 12, CIFAR-10 Batch 1:  Loss:     0.5055 Validation Accuracy: 0.719400\n",
      "Epoch 12, CIFAR-10 Batch 2:  Loss:     0.5197 Validation Accuracy: 0.725600\n",
      "Epoch 12, CIFAR-10 Batch 3:  Loss:     0.5441 Validation Accuracy: 0.723200\n",
      "Epoch 12, CIFAR-10 Batch 4:  Loss:     0.5957 Validation Accuracy: 0.728400\n",
      "Epoch 12, CIFAR-10 Batch 5:  Loss:     0.4525 Validation Accuracy: 0.723800\n",
      "Epoch 13, CIFAR-10 Batch 1:  Loss:     0.5184 Validation Accuracy: 0.725000\n",
      "Epoch 13, CIFAR-10 Batch 2:  Loss:     0.4705 Validation Accuracy: 0.731000\n",
      "Epoch 13, CIFAR-10 Batch 3:  Loss:     0.4784 Validation Accuracy: 0.732400\n",
      "Epoch 13, CIFAR-10 Batch 4:  Loss:     0.5639 Validation Accuracy: 0.727800\n",
      "Epoch 13, CIFAR-10 Batch 5:  Loss:     0.3723 Validation Accuracy: 0.731200\n",
      "Epoch 14, CIFAR-10 Batch 1:  Loss:     0.5011 Validation Accuracy: 0.736400\n",
      "Epoch 14, CIFAR-10 Batch 2:  Loss:     0.4941 Validation Accuracy: 0.732400\n",
      "Epoch 14, CIFAR-10 Batch 3:  Loss:     0.5036 Validation Accuracy: 0.733600\n",
      "Epoch 14, CIFAR-10 Batch 4:  Loss:     0.5905 Validation Accuracy: 0.739600\n",
      "Epoch 14, CIFAR-10 Batch 5:  Loss:     0.4479 Validation Accuracy: 0.734400\n",
      "Epoch 15, CIFAR-10 Batch 1:  Loss:     0.4648 Validation Accuracy: 0.744000\n",
      "Epoch 15, CIFAR-10 Batch 2:  Loss:     0.4398 Validation Accuracy: 0.737600\n",
      "Epoch 15, CIFAR-10 Batch 3:  Loss:     0.3997 Validation Accuracy: 0.741400\n",
      "Epoch 15, CIFAR-10 Batch 4:  Loss:     0.5308 Validation Accuracy: 0.742000\n",
      "Epoch 15, CIFAR-10 Batch 5:  Loss:     0.3546 Validation Accuracy: 0.743400\n",
      "Epoch 16, CIFAR-10 Batch 1:  Loss:     0.4283 Validation Accuracy: 0.745400\n",
      "Epoch 16, CIFAR-10 Batch 2:  Loss:     0.4221 Validation Accuracy: 0.736800\n",
      "Epoch 16, CIFAR-10 Batch 3:  Loss:     0.3755 Validation Accuracy: 0.744600\n",
      "Epoch 16, CIFAR-10 Batch 4:  Loss:     0.4513 Validation Accuracy: 0.748800\n",
      "Epoch 16, CIFAR-10 Batch 5:  Loss:     0.3746 Validation Accuracy: 0.740400\n",
      "Epoch 17, CIFAR-10 Batch 1:  Loss:     0.4363 Validation Accuracy: 0.745400\n",
      "Epoch 17, CIFAR-10 Batch 2:  Loss:     0.4039 Validation Accuracy: 0.745600\n",
      "Epoch 17, CIFAR-10 Batch 3:  Loss:     0.3851 Validation Accuracy: 0.744400\n",
      "Epoch 17, CIFAR-10 Batch 4:  Loss:     0.4700 Validation Accuracy: 0.747200\n",
      "Epoch 17, CIFAR-10 Batch 5:  Loss:     0.3046 Validation Accuracy: 0.749400\n",
      "Epoch 18, CIFAR-10 Batch 1:  Loss:     0.3838 Validation Accuracy: 0.746400\n",
      "Epoch 18, CIFAR-10 Batch 2:  Loss:     0.4204 Validation Accuracy: 0.743600\n",
      "Epoch 18, CIFAR-10 Batch 3:  Loss:     0.3623 Validation Accuracy: 0.753800\n",
      "Epoch 18, CIFAR-10 Batch 4:  Loss:     0.4455 Validation Accuracy: 0.746600\n",
      "Epoch 18, CIFAR-10 Batch 5:  Loss:     0.2658 Validation Accuracy: 0.747400\n",
      "Epoch 19, CIFAR-10 Batch 1:  Loss:     0.4020 Validation Accuracy: 0.754600\n",
      "Epoch 19, CIFAR-10 Batch 2:  Loss:     0.3517 Validation Accuracy: 0.748600\n",
      "Epoch 19, CIFAR-10 Batch 3:  Loss:     0.3251 Validation Accuracy: 0.757000\n",
      "Epoch 19, CIFAR-10 Batch 4:  Loss:     0.4168 Validation Accuracy: 0.752400\n",
      "Epoch 19, CIFAR-10 Batch 5:  Loss:     0.2494 Validation Accuracy: 0.757600\n",
      "Epoch 20, CIFAR-10 Batch 1:  Loss:     0.3619 Validation Accuracy: 0.755600\n",
      "Epoch 20, CIFAR-10 Batch 2:  Loss:     0.3218 Validation Accuracy: 0.755000\n",
      "Epoch 20, CIFAR-10 Batch 3:  Loss:     0.3164 Validation Accuracy: 0.757400\n",
      "Epoch 20, CIFAR-10 Batch 4:  Loss:     0.4050 Validation Accuracy: 0.755800\n",
      "Epoch 20, CIFAR-10 Batch 5:  Loss:     0.2864 Validation Accuracy: 0.757400\n",
      "Epoch 21, CIFAR-10 Batch 1:  Loss:     0.3717 Validation Accuracy: 0.755400\n",
      "Epoch 21, CIFAR-10 Batch 2:  Loss:     0.3270 Validation Accuracy: 0.753600\n",
      "Epoch 21, CIFAR-10 Batch 3:  Loss:     0.3136 Validation Accuracy: 0.760000\n",
      "Epoch 21, CIFAR-10 Batch 4:  Loss:     0.4174 Validation Accuracy: 0.755400\n",
      "Epoch 21, CIFAR-10 Batch 5:  Loss:     0.2467 Validation Accuracy: 0.757000\n",
      "Epoch 22, CIFAR-10 Batch 1:  Loss:     0.3377 Validation Accuracy: 0.760600\n",
      "Epoch 22, CIFAR-10 Batch 2:  Loss:     0.3296 Validation Accuracy: 0.762600\n",
      "Epoch 22, CIFAR-10 Batch 3:  Loss:     0.2878 Validation Accuracy: 0.762000\n"
     ]
    },
    {
     "name": "stdout",
     "output_type": "stream",
     "text": [
      "Epoch 22, CIFAR-10 Batch 4:  Loss:     0.4163 Validation Accuracy: 0.761000\n",
      "Epoch 22, CIFAR-10 Batch 5:  Loss:     0.2593 Validation Accuracy: 0.753800\n",
      "Epoch 23, CIFAR-10 Batch 1:  Loss:     0.3677 Validation Accuracy: 0.767200\n",
      "Epoch 23, CIFAR-10 Batch 2:  Loss:     0.3160 Validation Accuracy: 0.767200\n",
      "Epoch 23, CIFAR-10 Batch 3:  Loss:     0.2680 Validation Accuracy: 0.771400\n",
      "Epoch 23, CIFAR-10 Batch 4:  Loss:     0.3968 Validation Accuracy: 0.763200\n",
      "Epoch 23, CIFAR-10 Batch 5:  Loss:     0.2665 Validation Accuracy: 0.768400\n",
      "Epoch 24, CIFAR-10 Batch 1:  Loss:     0.3382 Validation Accuracy: 0.765000\n",
      "Epoch 24, CIFAR-10 Batch 2:  Loss:     0.3059 Validation Accuracy: 0.772600\n",
      "Epoch 24, CIFAR-10 Batch 3:  Loss:     0.2990 Validation Accuracy: 0.763400\n",
      "Epoch 24, CIFAR-10 Batch 4:  Loss:     0.3950 Validation Accuracy: 0.765400\n",
      "Epoch 24, CIFAR-10 Batch 5:  Loss:     0.2298 Validation Accuracy: 0.767800\n",
      "Epoch 25, CIFAR-10 Batch 1:  Loss:     0.3266 Validation Accuracy: 0.769200\n",
      "Epoch 25, CIFAR-10 Batch 2:  Loss:     0.2978 Validation Accuracy: 0.770000\n",
      "Epoch 25, CIFAR-10 Batch 3:  Loss:     0.2680 Validation Accuracy: 0.776800\n",
      "Epoch 25, CIFAR-10 Batch 4:  Loss:     0.3495 Validation Accuracy: 0.767200\n",
      "Epoch 25, CIFAR-10 Batch 5:  Loss:     0.2175 Validation Accuracy: 0.767200\n",
      "Epoch 26, CIFAR-10 Batch 1:  Loss:     0.3145 Validation Accuracy: 0.768400\n",
      "Epoch 26, CIFAR-10 Batch 2:  Loss:     0.3033 Validation Accuracy: 0.769000\n",
      "Epoch 26, CIFAR-10 Batch 3:  Loss:     0.2426 Validation Accuracy: 0.770400\n",
      "Epoch 26, CIFAR-10 Batch 4:  Loss:     0.3683 Validation Accuracy: 0.762000\n",
      "Epoch 26, CIFAR-10 Batch 5:  Loss:     0.2004 Validation Accuracy: 0.764200\n",
      "Epoch 27, CIFAR-10 Batch 1:  Loss:     0.2980 Validation Accuracy: 0.767800\n",
      "Epoch 27, CIFAR-10 Batch 2:  Loss:     0.2600 Validation Accuracy: 0.768600\n",
      "Epoch 27, CIFAR-10 Batch 3:  Loss:     0.2510 Validation Accuracy: 0.771800\n",
      "Epoch 27, CIFAR-10 Batch 4:  Loss:     0.3436 Validation Accuracy: 0.769800\n",
      "Epoch 27, CIFAR-10 Batch 5:  Loss:     0.2034 Validation Accuracy: 0.765600\n",
      "Epoch 28, CIFAR-10 Batch 1:  Loss:     0.2500 Validation Accuracy: 0.764800\n",
      "Epoch 28, CIFAR-10 Batch 2:  Loss:     0.2507 Validation Accuracy: 0.770000\n",
      "Epoch 28, CIFAR-10 Batch 3:  Loss:     0.2578 Validation Accuracy: 0.776800\n",
      "Epoch 28, CIFAR-10 Batch 4:  Loss:     0.3479 Validation Accuracy: 0.768600\n",
      "Epoch 28, CIFAR-10 Batch 5:  Loss:     0.2026 Validation Accuracy: 0.773200\n",
      "Epoch 29, CIFAR-10 Batch 1:  Loss:     0.2909 Validation Accuracy: 0.769200\n",
      "Epoch 29, CIFAR-10 Batch 2:  Loss:     0.2553 Validation Accuracy: 0.772800\n",
      "Epoch 29, CIFAR-10 Batch 3:  Loss:     0.2596 Validation Accuracy: 0.774400\n",
      "Epoch 29, CIFAR-10 Batch 4:  Loss:     0.3390 Validation Accuracy: 0.770400\n",
      "Epoch 29, CIFAR-10 Batch 5:  Loss:     0.1771 Validation Accuracy: 0.776400\n",
      "Epoch 30, CIFAR-10 Batch 1:  Loss:     0.2755 Validation Accuracy: 0.775600\n",
      "Epoch 30, CIFAR-10 Batch 2:  Loss:     0.2405 Validation Accuracy: 0.772200\n",
      "Epoch 30, CIFAR-10 Batch 3:  Loss:     0.1960 Validation Accuracy: 0.778000\n",
      "Epoch 30, CIFAR-10 Batch 4:  Loss:     0.3294 Validation Accuracy: 0.777000\n",
      "Epoch 30, CIFAR-10 Batch 5:  Loss:     0.1863 Validation Accuracy: 0.769600\n",
      "Epoch 31, CIFAR-10 Batch 1:  Loss:     0.2520 Validation Accuracy: 0.779200\n",
      "Epoch 31, CIFAR-10 Batch 2:  Loss:     0.2276 Validation Accuracy: 0.768000\n",
      "Epoch 31, CIFAR-10 Batch 3:  Loss:     0.1951 Validation Accuracy: 0.781200\n",
      "Epoch 31, CIFAR-10 Batch 4:  Loss:     0.2878 Validation Accuracy: 0.774600\n",
      "Epoch 31, CIFAR-10 Batch 5:  Loss:     0.1762 Validation Accuracy: 0.776800\n",
      "Epoch 32, CIFAR-10 Batch 1:  Loss:     0.2499 Validation Accuracy: 0.774800\n",
      "Epoch 32, CIFAR-10 Batch 2:  Loss:     0.2270 Validation Accuracy: 0.773600\n",
      "Epoch 32, CIFAR-10 Batch 3:  Loss:     0.1818 Validation Accuracy: 0.776600\n",
      "Epoch 32, CIFAR-10 Batch 4:  Loss:     0.2817 Validation Accuracy: 0.769200\n",
      "Epoch 32, CIFAR-10 Batch 5:  Loss:     0.1793 Validation Accuracy: 0.779000\n",
      "Epoch 33, CIFAR-10 Batch 1:  Loss:     0.2324 Validation Accuracy: 0.773800\n",
      "Epoch 33, CIFAR-10 Batch 2:  Loss:     0.2125 Validation Accuracy: 0.779600\n",
      "Epoch 33, CIFAR-10 Batch 3:  Loss:     0.1655 Validation Accuracy: 0.776000\n",
      "Epoch 33, CIFAR-10 Batch 4:  Loss:     0.2761 Validation Accuracy: 0.775800\n",
      "Epoch 33, CIFAR-10 Batch 5:  Loss:     0.1739 Validation Accuracy: 0.779600\n",
      "Epoch 34, CIFAR-10 Batch 1:  Loss:     0.2332 Validation Accuracy: 0.777000\n",
      "Epoch 34, CIFAR-10 Batch 2:  Loss:     0.2036 Validation Accuracy: 0.780400\n",
      "Epoch 34, CIFAR-10 Batch 3:  Loss:     0.1614 Validation Accuracy: 0.781400\n",
      "Epoch 34, CIFAR-10 Batch 4:  Loss:     0.2807 Validation Accuracy: 0.779200\n",
      "Epoch 34, CIFAR-10 Batch 5:  Loss:     0.1796 Validation Accuracy: 0.780400\n",
      "Epoch 35, CIFAR-10 Batch 1:  Loss:     0.2579 Validation Accuracy: 0.782400\n",
      "Epoch 35, CIFAR-10 Batch 2:  Loss:     0.2464 Validation Accuracy: 0.779200\n",
      "Epoch 35, CIFAR-10 Batch 3:  Loss:     0.1602 Validation Accuracy: 0.783600\n",
      "Epoch 35, CIFAR-10 Batch 4:  Loss:     0.2767 Validation Accuracy: 0.781600\n",
      "Epoch 35, CIFAR-10 Batch 5:  Loss:     0.1600 Validation Accuracy: 0.777800\n",
      "Epoch 36, CIFAR-10 Batch 1:  Loss:     0.2405 Validation Accuracy: 0.777800\n",
      "Epoch 36, CIFAR-10 Batch 2:  Loss:     0.1950 Validation Accuracy: 0.781800\n",
      "Epoch 36, CIFAR-10 Batch 3:  Loss:     0.1470 Validation Accuracy: 0.785800\n",
      "Epoch 36, CIFAR-10 Batch 4:  Loss:     0.2656 Validation Accuracy: 0.782000\n",
      "Epoch 36, CIFAR-10 Batch 5:  Loss:     0.2019 Validation Accuracy: 0.776000\n",
      "Epoch 37, CIFAR-10 Batch 1:  Loss:     0.2249 Validation Accuracy: 0.781600\n",
      "Epoch 37, CIFAR-10 Batch 2:  Loss:     0.2016 Validation Accuracy: 0.781600\n",
      "Epoch 37, CIFAR-10 Batch 3:  Loss:     0.1614 Validation Accuracy: 0.779600\n",
      "Epoch 37, CIFAR-10 Batch 4:  Loss:     0.2528 Validation Accuracy: 0.776200\n",
      "Epoch 37, CIFAR-10 Batch 5:  Loss:     0.1615 Validation Accuracy: 0.782400\n",
      "Epoch 38, CIFAR-10 Batch 1:  Loss:     0.2211 Validation Accuracy: 0.784000\n",
      "Epoch 38, CIFAR-10 Batch 2:  Loss:     0.1828 Validation Accuracy: 0.788800\n",
      "Epoch 38, CIFAR-10 Batch 3:  Loss:     0.1724 Validation Accuracy: 0.780800\n",
      "Epoch 38, CIFAR-10 Batch 4:  Loss:     0.2302 Validation Accuracy: 0.779600\n",
      "Epoch 38, CIFAR-10 Batch 5:  Loss:     0.1162 Validation Accuracy: 0.782800\n",
      "Epoch 39, CIFAR-10 Batch 1:  Loss:     0.1929 Validation Accuracy: 0.777600\n",
      "Epoch 39, CIFAR-10 Batch 2:  Loss:     0.1929 Validation Accuracy: 0.783800\n",
      "Epoch 39, CIFAR-10 Batch 3:  Loss:     0.1448 Validation Accuracy: 0.776200\n",
      "Epoch 39, CIFAR-10 Batch 4:  Loss:     0.2383 Validation Accuracy: 0.785200\n",
      "Epoch 39, CIFAR-10 Batch 5:  Loss:     0.1192 Validation Accuracy: 0.778800\n",
      "Epoch 40, CIFAR-10 Batch 1:  Loss:     0.2224 Validation Accuracy: 0.784200\n",
      "Epoch 40, CIFAR-10 Batch 2:  Loss:     0.1885 Validation Accuracy: 0.781000\n",
      "Epoch 40, CIFAR-10 Batch 3:  Loss:     0.1503 Validation Accuracy: 0.779000\n",
      "Epoch 40, CIFAR-10 Batch 4:  Loss:     0.2400 Validation Accuracy: 0.784800\n",
      "Epoch 40, CIFAR-10 Batch 5:  Loss:     0.1111 Validation Accuracy: 0.783600\n",
      "Epoch 41, CIFAR-10 Batch 1:  Loss:     0.1697 Validation Accuracy: 0.782200\n",
      "Epoch 41, CIFAR-10 Batch 2:  Loss:     0.1668 Validation Accuracy: 0.784800\n",
      "Epoch 41, CIFAR-10 Batch 3:  Loss:     0.1477 Validation Accuracy: 0.784400\n",
      "Epoch 41, CIFAR-10 Batch 4:  Loss:     0.2149 Validation Accuracy: 0.786800\n",
      "Epoch 41, CIFAR-10 Batch 5:  Loss:     0.1144 Validation Accuracy: 0.778600\n",
      "Epoch 42, CIFAR-10 Batch 1:  Loss:     0.2055 Validation Accuracy: 0.778200\n",
      "Epoch 42, CIFAR-10 Batch 2:  Loss:     0.1642 Validation Accuracy: 0.786000\n",
      "Epoch 42, CIFAR-10 Batch 3:  Loss:     0.1466 Validation Accuracy: 0.787400\n",
      "Epoch 42, CIFAR-10 Batch 4:  Loss:     0.2275 Validation Accuracy: 0.781800\n",
      "Epoch 42, CIFAR-10 Batch 5:  Loss:     0.0873 Validation Accuracy: 0.780000\n",
      "Epoch 43, CIFAR-10 Batch 1:  Loss:     0.1893 Validation Accuracy: 0.784200\n",
      "Epoch 43, CIFAR-10 Batch 2:  Loss:     0.1895 Validation Accuracy: 0.782000\n",
      "Epoch 43, CIFAR-10 Batch 3:  Loss:     0.1141 Validation Accuracy: 0.785600\n",
      "Epoch 43, CIFAR-10 Batch 4:  Loss:     0.1858 Validation Accuracy: 0.782800\n",
      "Epoch 43, CIFAR-10 Batch 5:  Loss:     0.0947 Validation Accuracy: 0.785600\n",
      "Epoch 44, CIFAR-10 Batch 1:  Loss:     0.1795 Validation Accuracy: 0.788000\n"
     ]
    },
    {
     "name": "stdout",
     "output_type": "stream",
     "text": [
      "Epoch 44, CIFAR-10 Batch 2:  Loss:     0.1406 Validation Accuracy: 0.788200\n",
      "Epoch 44, CIFAR-10 Batch 3:  Loss:     0.1241 Validation Accuracy: 0.791800\n",
      "Epoch 44, CIFAR-10 Batch 4:  Loss:     0.1907 Validation Accuracy: 0.783400\n",
      "Epoch 44, CIFAR-10 Batch 5:  Loss:     0.0897 Validation Accuracy: 0.784000\n",
      "Epoch 45, CIFAR-10 Batch 1:  Loss:     0.1719 Validation Accuracy: 0.787800\n",
      "Epoch 45, CIFAR-10 Batch 2:  Loss:     0.1396 Validation Accuracy: 0.784800\n",
      "Epoch 45, CIFAR-10 Batch 3:  Loss:     0.1069 Validation Accuracy: 0.788200\n",
      "Epoch 45, CIFAR-10 Batch 4:  Loss:     0.1888 Validation Accuracy: 0.788200\n",
      "Epoch 45, CIFAR-10 Batch 5:  Loss:     0.1136 Validation Accuracy: 0.785200\n",
      "Epoch 46, CIFAR-10 Batch 1:  Loss:     0.1454 Validation Accuracy: 0.788800\n",
      "Epoch 46, CIFAR-10 Batch 2:  Loss:     0.1381 Validation Accuracy: 0.788800\n",
      "Epoch 46, CIFAR-10 Batch 3:  Loss:     0.0989 Validation Accuracy: 0.785800\n",
      "Epoch 46, CIFAR-10 Batch 4:  Loss:     0.1894 Validation Accuracy: 0.787400\n",
      "Epoch 46, CIFAR-10 Batch 5:  Loss:     0.0895 Validation Accuracy: 0.783200\n",
      "Epoch 47, CIFAR-10 Batch 1:  Loss:     0.1866 Validation Accuracy: 0.786400\n",
      "Epoch 47, CIFAR-10 Batch 2:  Loss:     0.1377 Validation Accuracy: 0.792200\n",
      "Epoch 47, CIFAR-10 Batch 3:  Loss:     0.1060 Validation Accuracy: 0.794200\n",
      "Epoch 47, CIFAR-10 Batch 4:  Loss:     0.1801 Validation Accuracy: 0.787200\n",
      "Epoch 47, CIFAR-10 Batch 5:  Loss:     0.1053 Validation Accuracy: 0.788600\n",
      "Epoch 48, CIFAR-10 Batch 1:  Loss:     0.1589 Validation Accuracy: 0.785800\n",
      "Epoch 48, CIFAR-10 Batch 2:  Loss:     0.1230 Validation Accuracy: 0.785400\n",
      "Epoch 48, CIFAR-10 Batch 3:  Loss:     0.1186 Validation Accuracy: 0.791400\n",
      "Epoch 48, CIFAR-10 Batch 4:  Loss:     0.1615 Validation Accuracy: 0.789400\n",
      "Epoch 48, CIFAR-10 Batch 5:  Loss:     0.0750 Validation Accuracy: 0.792800\n",
      "Epoch 49, CIFAR-10 Batch 1:  Loss:     0.1527 Validation Accuracy: 0.785800\n",
      "Epoch 49, CIFAR-10 Batch 2:  Loss:     0.1462 Validation Accuracy: 0.794600\n",
      "Epoch 49, CIFAR-10 Batch 3:  Loss:     0.1091 Validation Accuracy: 0.789600\n",
      "Epoch 49, CIFAR-10 Batch 4:  Loss:     0.1521 Validation Accuracy: 0.786000\n",
      "Epoch 49, CIFAR-10 Batch 5:  Loss:     0.0864 Validation Accuracy: 0.788400\n",
      "Epoch 50, CIFAR-10 Batch 1:  Loss:     0.1437 Validation Accuracy: 0.786000\n",
      "Epoch 50, CIFAR-10 Batch 2:  Loss:     0.1418 Validation Accuracy: 0.792800\n",
      "Epoch 50, CIFAR-10 Batch 3:  Loss:     0.1086 Validation Accuracy: 0.790600\n",
      "Epoch 50, CIFAR-10 Batch 4:  Loss:     0.1625 Validation Accuracy: 0.788000\n",
      "Epoch 50, CIFAR-10 Batch 5:  Loss:     0.0709 Validation Accuracy: 0.794200\n",
      "Epoch 51, CIFAR-10 Batch 1:  Loss:     0.1379 Validation Accuracy: 0.790400\n",
      "Epoch 51, CIFAR-10 Batch 2:  Loss:     0.1390 Validation Accuracy: 0.790200\n",
      "Epoch 51, CIFAR-10 Batch 3:  Loss:     0.0920 Validation Accuracy: 0.791200\n",
      "Epoch 51, CIFAR-10 Batch 4:  Loss:     0.1280 Validation Accuracy: 0.792800\n",
      "Epoch 51, CIFAR-10 Batch 5:  Loss:     0.0864 Validation Accuracy: 0.788000\n",
      "Epoch 52, CIFAR-10 Batch 1:  Loss:     0.1477 Validation Accuracy: 0.790600\n",
      "Epoch 52, CIFAR-10 Batch 2:  Loss:     0.1176 Validation Accuracy: 0.793400\n",
      "Epoch 52, CIFAR-10 Batch 3:  Loss:     0.0893 Validation Accuracy: 0.787600\n",
      "Epoch 52, CIFAR-10 Batch 4:  Loss:     0.1515 Validation Accuracy: 0.791800\n",
      "Epoch 52, CIFAR-10 Batch 5:  Loss:     0.0635 Validation Accuracy: 0.785000\n",
      "Epoch 53, CIFAR-10 Batch 1:  Loss:     0.1542 Validation Accuracy: 0.791600\n",
      "Epoch 53, CIFAR-10 Batch 2:  Loss:     0.1063 Validation Accuracy: 0.792200\n",
      "Epoch 53, CIFAR-10 Batch 3:  Loss:     0.1160 Validation Accuracy: 0.790600\n",
      "Epoch 53, CIFAR-10 Batch 4:  Loss:     0.1528 Validation Accuracy: 0.789200\n",
      "Epoch 53, CIFAR-10 Batch 5:  Loss:     0.0564 Validation Accuracy: 0.792000\n",
      "Epoch 54, CIFAR-10 Batch 1:  Loss:     0.1338 Validation Accuracy: 0.795200\n",
      "Epoch 54, CIFAR-10 Batch 2:  Loss:     0.1025 Validation Accuracy: 0.794200\n",
      "Epoch 54, CIFAR-10 Batch 3:  Loss:     0.0805 Validation Accuracy: 0.791800\n",
      "Epoch 54, CIFAR-10 Batch 4:  Loss:     0.1507 Validation Accuracy: 0.790800\n",
      "Epoch 54, CIFAR-10 Batch 5:  Loss:     0.0736 Validation Accuracy: 0.790400\n",
      "Epoch 55, CIFAR-10 Batch 1:  Loss:     0.1479 Validation Accuracy: 0.791600\n",
      "Epoch 55, CIFAR-10 Batch 2:  Loss:     0.1118 Validation Accuracy: 0.794400\n",
      "Epoch 55, CIFAR-10 Batch 3:  Loss:     0.0925 Validation Accuracy: 0.794400\n",
      "Epoch 55, CIFAR-10 Batch 4:  Loss:     0.1382 Validation Accuracy: 0.793800\n",
      "Epoch 55, CIFAR-10 Batch 5:  Loss:     0.0627 Validation Accuracy: 0.791400\n",
      "Epoch 56, CIFAR-10 Batch 1:  Loss:     0.1119 Validation Accuracy: 0.790600\n",
      "Epoch 56, CIFAR-10 Batch 2:  Loss:     0.1219 Validation Accuracy: 0.797000\n",
      "Epoch 56, CIFAR-10 Batch 3:  Loss:     0.0798 Validation Accuracy: 0.788200\n",
      "Epoch 56, CIFAR-10 Batch 4:  Loss:     0.1607 Validation Accuracy: 0.788200\n",
      "Epoch 56, CIFAR-10 Batch 5:  Loss:     0.0622 Validation Accuracy: 0.795200\n",
      "Epoch 57, CIFAR-10 Batch 1:  Loss:     0.1317 Validation Accuracy: 0.787400\n",
      "Epoch 57, CIFAR-10 Batch 2:  Loss:     0.1127 Validation Accuracy: 0.796400\n",
      "Epoch 57, CIFAR-10 Batch 3:  Loss:     0.0703 Validation Accuracy: 0.794600\n",
      "Epoch 57, CIFAR-10 Batch 4:  Loss:     0.1471 Validation Accuracy: 0.786800\n",
      "Epoch 57, CIFAR-10 Batch 5:  Loss:     0.0574 Validation Accuracy: 0.794000\n",
      "Epoch 58, CIFAR-10 Batch 1:  Loss:     0.1172 Validation Accuracy: 0.789400\n",
      "Epoch 58, CIFAR-10 Batch 2:  Loss:     0.1008 Validation Accuracy: 0.797400\n",
      "Epoch 58, CIFAR-10 Batch 3:  Loss:     0.0664 Validation Accuracy: 0.797400\n",
      "Epoch 58, CIFAR-10 Batch 4:  Loss:     0.1266 Validation Accuracy: 0.790800\n",
      "Epoch 58, CIFAR-10 Batch 5:  Loss:     0.0682 Validation Accuracy: 0.796600\n",
      "Epoch 59, CIFAR-10 Batch 1:  Loss:     0.1426 Validation Accuracy: 0.789400\n",
      "Epoch 59, CIFAR-10 Batch 2:  Loss:     0.1037 Validation Accuracy: 0.803800\n",
      "Epoch 59, CIFAR-10 Batch 3:  Loss:     0.0799 Validation Accuracy: 0.797200\n",
      "Epoch 59, CIFAR-10 Batch 4:  Loss:     0.1088 Validation Accuracy: 0.795200\n",
      "Epoch 59, CIFAR-10 Batch 5:  Loss:     0.0763 Validation Accuracy: 0.793400\n",
      "Epoch 60, CIFAR-10 Batch 1:  Loss:     0.1376 Validation Accuracy: 0.790800\n",
      "Epoch 60, CIFAR-10 Batch 2:  Loss:     0.1021 Validation Accuracy: 0.802200\n",
      "Epoch 60, CIFAR-10 Batch 3:  Loss:     0.0666 Validation Accuracy: 0.792400\n",
      "Epoch 60, CIFAR-10 Batch 4:  Loss:     0.1118 Validation Accuracy: 0.796000\n",
      "Epoch 60, CIFAR-10 Batch 5:  Loss:     0.0484 Validation Accuracy: 0.796200\n",
      "Epoch 61, CIFAR-10 Batch 1:  Loss:     0.1198 Validation Accuracy: 0.793200\n",
      "Epoch 61, CIFAR-10 Batch 2:  Loss:     0.1106 Validation Accuracy: 0.797400\n",
      "Epoch 61, CIFAR-10 Batch 3:  Loss:     0.0757 Validation Accuracy: 0.799000\n",
      "Epoch 61, CIFAR-10 Batch 4:  Loss:     0.1128 Validation Accuracy: 0.792000\n",
      "Epoch 61, CIFAR-10 Batch 5:  Loss:     0.0663 Validation Accuracy: 0.791600\n",
      "Epoch 62, CIFAR-10 Batch 1:  Loss:     0.1138 Validation Accuracy: 0.787200\n",
      "Epoch 62, CIFAR-10 Batch 2:  Loss:     0.1199 Validation Accuracy: 0.788600\n",
      "Epoch 62, CIFAR-10 Batch 3:  Loss:     0.0585 Validation Accuracy: 0.794000\n",
      "Epoch 62, CIFAR-10 Batch 4:  Loss:     0.1229 Validation Accuracy: 0.795000\n",
      "Epoch 62, CIFAR-10 Batch 5:  Loss:     0.0643 Validation Accuracy: 0.792800\n",
      "Epoch 63, CIFAR-10 Batch 1:  Loss:     0.0979 Validation Accuracy: 0.792400\n",
      "Epoch 63, CIFAR-10 Batch 2:  Loss:     0.1032 Validation Accuracy: 0.799400\n",
      "Epoch 63, CIFAR-10 Batch 3:  Loss:     0.0668 Validation Accuracy: 0.797000\n",
      "Epoch 63, CIFAR-10 Batch 4:  Loss:     0.1378 Validation Accuracy: 0.792000\n",
      "Epoch 63, CIFAR-10 Batch 5:  Loss:     0.0594 Validation Accuracy: 0.789800\n",
      "Epoch 64, CIFAR-10 Batch 1:  Loss:     0.0914 Validation Accuracy: 0.793000\n",
      "Epoch 64, CIFAR-10 Batch 2:  Loss:     0.0904 Validation Accuracy: 0.799600\n",
      "Epoch 64, CIFAR-10 Batch 3:  Loss:     0.0808 Validation Accuracy: 0.794600\n",
      "Epoch 64, CIFAR-10 Batch 4:  Loss:     0.1317 Validation Accuracy: 0.794400\n",
      "Epoch 64, CIFAR-10 Batch 5:  Loss:     0.0539 Validation Accuracy: 0.794600\n",
      "Epoch 65, CIFAR-10 Batch 1:  Loss:     0.0910 Validation Accuracy: 0.792600\n",
      "Epoch 65, CIFAR-10 Batch 2:  Loss:     0.0962 Validation Accuracy: 0.801400\n",
      "Epoch 65, CIFAR-10 Batch 3:  Loss:     0.0571 Validation Accuracy: 0.794000\n",
      "Epoch 65, CIFAR-10 Batch 4:  Loss:     0.1092 Validation Accuracy: 0.793200\n"
     ]
    },
    {
     "name": "stdout",
     "output_type": "stream",
     "text": [
      "Epoch 65, CIFAR-10 Batch 5:  Loss:     0.0588 Validation Accuracy: 0.795600\n",
      "Epoch 66, CIFAR-10 Batch 1:  Loss:     0.1053 Validation Accuracy: 0.794600\n",
      "Epoch 66, CIFAR-10 Batch 2:  Loss:     0.0962 Validation Accuracy: 0.797200\n",
      "Epoch 66, CIFAR-10 Batch 3:  Loss:     0.0658 Validation Accuracy: 0.793800\n",
      "Epoch 66, CIFAR-10 Batch 4:  Loss:     0.1101 Validation Accuracy: 0.796600\n",
      "Epoch 66, CIFAR-10 Batch 5:  Loss:     0.0536 Validation Accuracy: 0.793000\n",
      "Epoch 67, CIFAR-10 Batch 1:  Loss:     0.0925 Validation Accuracy: 0.792200\n",
      "Epoch 67, CIFAR-10 Batch 2:  Loss:     0.0878 Validation Accuracy: 0.796000\n",
      "Epoch 67, CIFAR-10 Batch 3:  Loss:     0.0554 Validation Accuracy: 0.797200\n",
      "Epoch 67, CIFAR-10 Batch 4:  Loss:     0.0967 Validation Accuracy: 0.792800\n",
      "Epoch 67, CIFAR-10 Batch 5:  Loss:     0.0382 Validation Accuracy: 0.796400\n",
      "Epoch 68, CIFAR-10 Batch 1:  Loss:     0.1357 Validation Accuracy: 0.793800\n",
      "Epoch 68, CIFAR-10 Batch 2:  Loss:     0.0918 Validation Accuracy: 0.798000\n",
      "Epoch 68, CIFAR-10 Batch 3:  Loss:     0.0586 Validation Accuracy: 0.796600\n",
      "Epoch 68, CIFAR-10 Batch 4:  Loss:     0.1238 Validation Accuracy: 0.793800\n",
      "Epoch 68, CIFAR-10 Batch 5:  Loss:     0.0388 Validation Accuracy: 0.794800\n",
      "Epoch 69, CIFAR-10 Batch 1:  Loss:     0.0916 Validation Accuracy: 0.792000\n",
      "Epoch 69, CIFAR-10 Batch 2:  Loss:     0.0805 Validation Accuracy: 0.801800\n",
      "Epoch 69, CIFAR-10 Batch 3:  Loss:     0.0514 Validation Accuracy: 0.797200\n",
      "Epoch 69, CIFAR-10 Batch 4:  Loss:     0.1251 Validation Accuracy: 0.793600\n",
      "Epoch 69, CIFAR-10 Batch 5:  Loss:     0.0399 Validation Accuracy: 0.797600\n",
      "Epoch 70, CIFAR-10 Batch 1:  Loss:     0.0912 Validation Accuracy: 0.792400\n",
      "Epoch 70, CIFAR-10 Batch 2:  Loss:     0.0965 Validation Accuracy: 0.801000\n",
      "Epoch 70, CIFAR-10 Batch 3:  Loss:     0.0571 Validation Accuracy: 0.792000\n",
      "Epoch 70, CIFAR-10 Batch 4:  Loss:     0.0938 Validation Accuracy: 0.796800\n",
      "Epoch 70, CIFAR-10 Batch 5:  Loss:     0.0353 Validation Accuracy: 0.799200\n",
      "Epoch 71, CIFAR-10 Batch 1:  Loss:     0.0767 Validation Accuracy: 0.788800\n",
      "Epoch 71, CIFAR-10 Batch 2:  Loss:     0.0926 Validation Accuracy: 0.799000\n",
      "Epoch 71, CIFAR-10 Batch 3:  Loss:     0.0469 Validation Accuracy: 0.798800\n",
      "Epoch 71, CIFAR-10 Batch 4:  Loss:     0.0985 Validation Accuracy: 0.794600\n",
      "Epoch 71, CIFAR-10 Batch 5:  Loss:     0.0334 Validation Accuracy: 0.797400\n",
      "Epoch 72, CIFAR-10 Batch 1:  Loss:     0.0952 Validation Accuracy: 0.794800\n",
      "Epoch 72, CIFAR-10 Batch 2:  Loss:     0.0852 Validation Accuracy: 0.795200\n",
      "Epoch 72, CIFAR-10 Batch 3:  Loss:     0.0527 Validation Accuracy: 0.796000\n",
      "Epoch 72, CIFAR-10 Batch 4:  Loss:     0.1103 Validation Accuracy: 0.799200\n",
      "Epoch 72, CIFAR-10 Batch 5:  Loss:     0.0398 Validation Accuracy: 0.793400\n",
      "Epoch 73, CIFAR-10 Batch 1:  Loss:     0.0830 Validation Accuracy: 0.798400\n",
      "Epoch 73, CIFAR-10 Batch 2:  Loss:     0.0872 Validation Accuracy: 0.802400\n",
      "Epoch 73, CIFAR-10 Batch 3:  Loss:     0.0424 Validation Accuracy: 0.792000\n",
      "Epoch 73, CIFAR-10 Batch 4:  Loss:     0.0976 Validation Accuracy: 0.797800\n",
      "Epoch 73, CIFAR-10 Batch 5:  Loss:     0.0305 Validation Accuracy: 0.796200\n",
      "Epoch 74, CIFAR-10 Batch 1:  Loss:     0.0818 Validation Accuracy: 0.796800\n",
      "Epoch 74, CIFAR-10 Batch 2:  Loss:     0.0867 Validation Accuracy: 0.800600\n",
      "Epoch 74, CIFAR-10 Batch 3:  Loss:     0.0491 Validation Accuracy: 0.798400\n",
      "Epoch 74, CIFAR-10 Batch 4:  Loss:     0.0760 Validation Accuracy: 0.794600\n",
      "Epoch 74, CIFAR-10 Batch 5:  Loss:     0.0327 Validation Accuracy: 0.794400\n",
      "Epoch 75, CIFAR-10 Batch 1:  Loss:     0.0820 Validation Accuracy: 0.796200\n",
      "Epoch 75, CIFAR-10 Batch 2:  Loss:     0.0930 Validation Accuracy: 0.799400\n",
      "Epoch 75, CIFAR-10 Batch 3:  Loss:     0.0432 Validation Accuracy: 0.797800\n",
      "Epoch 75, CIFAR-10 Batch 4:  Loss:     0.0756 Validation Accuracy: 0.794800\n",
      "Epoch 75, CIFAR-10 Batch 5:  Loss:     0.0382 Validation Accuracy: 0.793000\n",
      "Epoch 76, CIFAR-10 Batch 1:  Loss:     0.0787 Validation Accuracy: 0.800600\n",
      "Epoch 76, CIFAR-10 Batch 2:  Loss:     0.0799 Validation Accuracy: 0.797200\n",
      "Epoch 76, CIFAR-10 Batch 3:  Loss:     0.0475 Validation Accuracy: 0.793400\n",
      "Epoch 76, CIFAR-10 Batch 4:  Loss:     0.0829 Validation Accuracy: 0.800400\n",
      "Epoch 76, CIFAR-10 Batch 5:  Loss:     0.0364 Validation Accuracy: 0.794000\n",
      "Epoch 77, CIFAR-10 Batch 1:  Loss:     0.0735 Validation Accuracy: 0.793400\n",
      "Epoch 77, CIFAR-10 Batch 2:  Loss:     0.0900 Validation Accuracy: 0.799800\n",
      "Epoch 77, CIFAR-10 Batch 3:  Loss:     0.0430 Validation Accuracy: 0.798600\n",
      "Epoch 77, CIFAR-10 Batch 4:  Loss:     0.0811 Validation Accuracy: 0.796200\n",
      "Epoch 77, CIFAR-10 Batch 5:  Loss:     0.0252 Validation Accuracy: 0.795800\n",
      "Epoch 78, CIFAR-10 Batch 1:  Loss:     0.0654 Validation Accuracy: 0.800800\n",
      "Epoch 78, CIFAR-10 Batch 2:  Loss:     0.0614 Validation Accuracy: 0.801400\n",
      "Epoch 78, CIFAR-10 Batch 3:  Loss:     0.0407 Validation Accuracy: 0.796800\n",
      "Epoch 78, CIFAR-10 Batch 4:  Loss:     0.0664 Validation Accuracy: 0.793000\n",
      "Epoch 78, CIFAR-10 Batch 5:  Loss:     0.0268 Validation Accuracy: 0.799600\n",
      "Epoch 79, CIFAR-10 Batch 1:  Loss:     0.0720 Validation Accuracy: 0.796200\n",
      "Epoch 79, CIFAR-10 Batch 2:  Loss:     0.0730 Validation Accuracy: 0.801800\n",
      "Epoch 79, CIFAR-10 Batch 3:  Loss:     0.0388 Validation Accuracy: 0.795400\n",
      "Epoch 79, CIFAR-10 Batch 4:  Loss:     0.0806 Validation Accuracy: 0.792600\n",
      "Epoch 79, CIFAR-10 Batch 5:  Loss:     0.0291 Validation Accuracy: 0.798200\n",
      "Epoch 80, CIFAR-10 Batch 1:  Loss:     0.0747 Validation Accuracy: 0.797400\n",
      "Epoch 80, CIFAR-10 Batch 2:  Loss:     0.0640 Validation Accuracy: 0.797000\n",
      "Epoch 80, CIFAR-10 Batch 3:  Loss:     0.0391 Validation Accuracy: 0.793800\n",
      "Epoch 80, CIFAR-10 Batch 4:  Loss:     0.0634 Validation Accuracy: 0.791600\n",
      "Epoch 80, CIFAR-10 Batch 5:  Loss:     0.0271 Validation Accuracy: 0.798800\n",
      "Epoch 81, CIFAR-10 Batch 1:  Loss:     0.0799 Validation Accuracy: 0.792200\n",
      "Epoch 81, CIFAR-10 Batch 2:  Loss:     0.0857 Validation Accuracy: 0.801000\n",
      "Epoch 81, CIFAR-10 Batch 3:  Loss:     0.0400 Validation Accuracy: 0.794000\n",
      "Epoch 81, CIFAR-10 Batch 4:  Loss:     0.0683 Validation Accuracy: 0.794400\n",
      "Epoch 81, CIFAR-10 Batch 5:  Loss:     0.0331 Validation Accuracy: 0.797000\n",
      "Epoch 82, CIFAR-10 Batch 1:  Loss:     0.0696 Validation Accuracy: 0.788000\n",
      "Epoch 82, CIFAR-10 Batch 2:  Loss:     0.0754 Validation Accuracy: 0.802400\n",
      "Epoch 82, CIFAR-10 Batch 3:  Loss:     0.0437 Validation Accuracy: 0.795400\n",
      "Epoch 82, CIFAR-10 Batch 4:  Loss:     0.0696 Validation Accuracy: 0.796000\n",
      "Epoch 82, CIFAR-10 Batch 5:  Loss:     0.0287 Validation Accuracy: 0.799200\n",
      "Epoch 83, CIFAR-10 Batch 1:  Loss:     0.0720 Validation Accuracy: 0.796600\n",
      "Epoch 83, CIFAR-10 Batch 2:  Loss:     0.0655 Validation Accuracy: 0.804200\n",
      "Epoch 83, CIFAR-10 Batch 3:  Loss:     0.0344 Validation Accuracy: 0.797600\n",
      "Epoch 83, CIFAR-10 Batch 4:  Loss:     0.0530 Validation Accuracy: 0.802400\n",
      "Epoch 83, CIFAR-10 Batch 5:  Loss:     0.0227 Validation Accuracy: 0.795800\n",
      "Epoch 84, CIFAR-10 Batch 1:  Loss:     0.0669 Validation Accuracy: 0.799400\n",
      "Epoch 84, CIFAR-10 Batch 2:  Loss:     0.0593 Validation Accuracy: 0.801000\n",
      "Epoch 84, CIFAR-10 Batch 3:  Loss:     0.0325 Validation Accuracy: 0.801400\n",
      "Epoch 84, CIFAR-10 Batch 4:  Loss:     0.0584 Validation Accuracy: 0.799400\n",
      "Epoch 84, CIFAR-10 Batch 5:  Loss:     0.0320 Validation Accuracy: 0.797400\n",
      "Epoch 85, CIFAR-10 Batch 1:  Loss:     0.0719 Validation Accuracy: 0.786200\n",
      "Epoch 85, CIFAR-10 Batch 2:  Loss:     0.0836 Validation Accuracy: 0.803800\n",
      "Epoch 85, CIFAR-10 Batch 3:  Loss:     0.0302 Validation Accuracy: 0.798600\n",
      "Epoch 85, CIFAR-10 Batch 4:  Loss:     0.0473 Validation Accuracy: 0.801400\n",
      "Epoch 85, CIFAR-10 Batch 5:  Loss:     0.0321 Validation Accuracy: 0.796800\n",
      "Epoch 86, CIFAR-10 Batch 1:  Loss:     0.0705 Validation Accuracy: 0.794000\n",
      "Epoch 86, CIFAR-10 Batch 2:  Loss:     0.0777 Validation Accuracy: 0.799200\n",
      "Epoch 86, CIFAR-10 Batch 3:  Loss:     0.0321 Validation Accuracy: 0.799600\n",
      "Epoch 86, CIFAR-10 Batch 4:  Loss:     0.0723 Validation Accuracy: 0.795000\n",
      "Epoch 86, CIFAR-10 Batch 5:  Loss:     0.0190 Validation Accuracy: 0.795000\n",
      "Epoch 87, CIFAR-10 Batch 1:  Loss:     0.0707 Validation Accuracy: 0.790200\n",
      "Epoch 87, CIFAR-10 Batch 2:  Loss:     0.0612 Validation Accuracy: 0.800400\n"
     ]
    },
    {
     "name": "stdout",
     "output_type": "stream",
     "text": [
      "Epoch 87, CIFAR-10 Batch 3:  Loss:     0.0353 Validation Accuracy: 0.796800\n",
      "Epoch 87, CIFAR-10 Batch 4:  Loss:     0.0727 Validation Accuracy: 0.797000\n",
      "Epoch 87, CIFAR-10 Batch 5:  Loss:     0.0233 Validation Accuracy: 0.795200\n",
      "Epoch 88, CIFAR-10 Batch 1:  Loss:     0.0527 Validation Accuracy: 0.795600\n",
      "Epoch 88, CIFAR-10 Batch 2:  Loss:     0.0522 Validation Accuracy: 0.805600\n",
      "Epoch 88, CIFAR-10 Batch 3:  Loss:     0.0404 Validation Accuracy: 0.800200\n",
      "Epoch 88, CIFAR-10 Batch 4:  Loss:     0.0541 Validation Accuracy: 0.798200\n",
      "Epoch 88, CIFAR-10 Batch 5:  Loss:     0.0321 Validation Accuracy: 0.798800\n",
      "Epoch 89, CIFAR-10 Batch 1:  Loss:     0.0578 Validation Accuracy: 0.796000\n",
      "Epoch 89, CIFAR-10 Batch 2:  Loss:     0.0457 Validation Accuracy: 0.801600\n",
      "Epoch 89, CIFAR-10 Batch 3:  Loss:     0.0391 Validation Accuracy: 0.799200\n",
      "Epoch 89, CIFAR-10 Batch 4:  Loss:     0.0611 Validation Accuracy: 0.801400\n",
      "Epoch 89, CIFAR-10 Batch 5:  Loss:     0.0279 Validation Accuracy: 0.798200\n",
      "Epoch 90, CIFAR-10 Batch 1:  Loss:     0.0565 Validation Accuracy: 0.793800\n",
      "Epoch 90, CIFAR-10 Batch 2:  Loss:     0.0576 Validation Accuracy: 0.803000\n",
      "Epoch 90, CIFAR-10 Batch 3:  Loss:     0.0395 Validation Accuracy: 0.799200\n",
      "Epoch 90, CIFAR-10 Batch 4:  Loss:     0.0487 Validation Accuracy: 0.796600\n",
      "Epoch 90, CIFAR-10 Batch 5:  Loss:     0.0256 Validation Accuracy: 0.797400\n",
      "Epoch 91, CIFAR-10 Batch 1:  Loss:     0.0572 Validation Accuracy: 0.802000\n",
      "Epoch 91, CIFAR-10 Batch 2:  Loss:     0.0480 Validation Accuracy: 0.811000\n",
      "Epoch 91, CIFAR-10 Batch 3:  Loss:     0.0384 Validation Accuracy: 0.793600\n",
      "Epoch 91, CIFAR-10 Batch 4:  Loss:     0.0584 Validation Accuracy: 0.798400\n",
      "Epoch 91, CIFAR-10 Batch 5:  Loss:     0.0234 Validation Accuracy: 0.795400\n",
      "Epoch 92, CIFAR-10 Batch 1:  Loss:     0.0591 Validation Accuracy: 0.796800\n",
      "Epoch 92, CIFAR-10 Batch 2:  Loss:     0.0595 Validation Accuracy: 0.800400\n",
      "Epoch 92, CIFAR-10 Batch 3:  Loss:     0.0450 Validation Accuracy: 0.798600\n",
      "Epoch 92, CIFAR-10 Batch 4:  Loss:     0.0583 Validation Accuracy: 0.799600\n",
      "Epoch 92, CIFAR-10 Batch 5:  Loss:     0.0392 Validation Accuracy: 0.802400\n",
      "Epoch 93, CIFAR-10 Batch 1:  Loss:     0.0562 Validation Accuracy: 0.800800\n",
      "Epoch 93, CIFAR-10 Batch 2:  Loss:     0.0553 Validation Accuracy: 0.801800\n",
      "Epoch 93, CIFAR-10 Batch 3:  Loss:     0.0382 Validation Accuracy: 0.806000\n",
      "Epoch 93, CIFAR-10 Batch 4:  Loss:     0.0575 Validation Accuracy: 0.798000\n",
      "Epoch 93, CIFAR-10 Batch 5:  Loss:     0.0228 Validation Accuracy: 0.798200\n",
      "Epoch 94, CIFAR-10 Batch 1:  Loss:     0.0860 Validation Accuracy: 0.795600\n",
      "Epoch 94, CIFAR-10 Batch 2:  Loss:     0.0705 Validation Accuracy: 0.801200\n",
      "Epoch 94, CIFAR-10 Batch 3:  Loss:     0.0336 Validation Accuracy: 0.796000\n",
      "Epoch 94, CIFAR-10 Batch 4:  Loss:     0.0596 Validation Accuracy: 0.799000\n",
      "Epoch 94, CIFAR-10 Batch 5:  Loss:     0.0201 Validation Accuracy: 0.801000\n",
      "Epoch 95, CIFAR-10 Batch 1:  Loss:     0.0603 Validation Accuracy: 0.799800\n",
      "Epoch 95, CIFAR-10 Batch 2:  Loss:     0.0554 Validation Accuracy: 0.799800\n",
      "Epoch 95, CIFAR-10 Batch 3:  Loss:     0.0284 Validation Accuracy: 0.797800\n",
      "Epoch 95, CIFAR-10 Batch 4:  Loss:     0.0659 Validation Accuracy: 0.808400\n",
      "Epoch 95, CIFAR-10 Batch 5:  Loss:     0.0262 Validation Accuracy: 0.803000\n",
      "Epoch 96, CIFAR-10 Batch 1:  Loss:     0.0993 Validation Accuracy: 0.802200\n",
      "Epoch 96, CIFAR-10 Batch 2:  Loss:     0.0445 Validation Accuracy: 0.803800\n",
      "Epoch 96, CIFAR-10 Batch 3:  Loss:     0.0263 Validation Accuracy: 0.798200\n",
      "Epoch 96, CIFAR-10 Batch 4:  Loss:     0.0762 Validation Accuracy: 0.797800\n",
      "Epoch 96, CIFAR-10 Batch 5:  Loss:     0.0237 Validation Accuracy: 0.799600\n",
      "Epoch 97, CIFAR-10 Batch 1:  Loss:     0.0516 Validation Accuracy: 0.797000\n",
      "Epoch 97, CIFAR-10 Batch 2:  Loss:     0.0449 Validation Accuracy: 0.802400\n",
      "Epoch 97, CIFAR-10 Batch 3:  Loss:     0.0259 Validation Accuracy: 0.796200\n",
      "Epoch 97, CIFAR-10 Batch 4:  Loss:     0.0618 Validation Accuracy: 0.806200\n",
      "Epoch 97, CIFAR-10 Batch 5:  Loss:     0.0159 Validation Accuracy: 0.800800\n",
      "Epoch 98, CIFAR-10 Batch 1:  Loss:     0.0484 Validation Accuracy: 0.802400\n",
      "Epoch 98, CIFAR-10 Batch 2:  Loss:     0.0376 Validation Accuracy: 0.803800\n",
      "Epoch 98, CIFAR-10 Batch 3:  Loss:     0.0243 Validation Accuracy: 0.803000\n",
      "Epoch 98, CIFAR-10 Batch 4:  Loss:     0.0577 Validation Accuracy: 0.798600\n",
      "Epoch 98, CIFAR-10 Batch 5:  Loss:     0.0197 Validation Accuracy: 0.795800\n",
      "Epoch 99, CIFAR-10 Batch 1:  Loss:     0.0567 Validation Accuracy: 0.797000\n",
      "Epoch 99, CIFAR-10 Batch 2:  Loss:     0.0445 Validation Accuracy: 0.801600\n",
      "Epoch 99, CIFAR-10 Batch 3:  Loss:     0.0209 Validation Accuracy: 0.800400\n",
      "Epoch 99, CIFAR-10 Batch 4:  Loss:     0.0573 Validation Accuracy: 0.799600\n",
      "Epoch 99, CIFAR-10 Batch 5:  Loss:     0.0223 Validation Accuracy: 0.800200\n",
      "Epoch 100, CIFAR-10 Batch 1:  Loss:     0.0379 Validation Accuracy: 0.802200\n",
      "Epoch 100, CIFAR-10 Batch 2:  Loss:     0.0368 Validation Accuracy: 0.803600\n",
      "Epoch 100, CIFAR-10 Batch 3:  Loss:     0.0246 Validation Accuracy: 0.798600\n",
      "Epoch 100, CIFAR-10 Batch 4:  Loss:     0.0533 Validation Accuracy: 0.803800\n",
      "Epoch 100, CIFAR-10 Batch 5:  Loss:     0.0138 Validation Accuracy: 0.801600\n"
     ]
    }
   ],
   "source": [
    "\"\"\"\n",
    "DON'T MODIFY ANYTHING IN THIS CELL\n",
    "\"\"\"\n",
    "save_model_path = './image_classification_Selu'\n",
    "\n",
    "loss = []\n",
    "acc =  []\n",
    "\n",
    "print('Training...')\n",
    "with tf.Session(config=config) as sess:\n",
    "    # Initializing the variables\n",
    "    sess.run(tf.global_variables_initializer())\n",
    "    \n",
    "    # Training cycle\n",
    "    for epoch in range(epochs):\n",
    "        # Loop over all batches\n",
    "        n_batches = 5\n",
    "        for batch_i in range(1, n_batches + 1):\n",
    "            for batch_features, batch_labels in helper.load_preprocess_training_batch(batch_i, batch_size):\n",
    "                train_neural_network(sess, optimizer, keep_probability, batch_features, batch_labels)\n",
    "            print('Epoch {:>2}, CIFAR-10 Batch {}:  '.format(epoch + 1, batch_i), end='')\n",
    "            val_loss,val_acc=print_stats(sess, batch_features, batch_labels, cost, accuracy)\n",
    "            loss.append(val_loss)\n",
    "            acc.append(val_acc)\n",
    "            \n",
    "    # Save Model\n",
    "    saver = tf.train.Saver()\n",
    "    save_path = saver.save(sess, save_model_path)"
   ]
  },
  {
   "cell_type": "code",
   "execution_count": 23,
   "metadata": {},
   "outputs": [
    {
     "data": {
      "image/png": "[encoded data removed]",
      "text/plain": [
       "<Figure size 432x288 with 1 Axes>"
      ]
     },
     "metadata": {
      "image/png": {
       "height": 250,
       "width": 380
      }
     },
     "output_type": "display_data"
    }
   ],
   "source": [
    "import matplotlib.pyplot as plt\n",
    "%matplotlib inline\n",
    "plt.plot(loss, label='Validation loss', color='darkorange')\n",
    "plt.legend()\n",
    "_ = plt.ylim()"
   ]
  },
  {
   "cell_type": "code",
   "execution_count": 24,
   "metadata": {},
   "outputs": [
    {
     "data": {
      "image/png": "[encoded data removed]",
      "text/plain": [
       "<Figure size 432x288 with 1 Axes>"
      ]
     },
     "metadata": {
      "image/png": {
       "height": 250,
       "width": 373
      }
     },
     "output_type": "display_data"
    }
   ],
   "source": [
    "import matplotlib.pyplot as plt\n",
    "%matplotlib inline\n",
    "plt.plot(acc, label='Validation accuracy', color='green')\n",
    "plt.legend()\n",
    "_ = plt.ylim()"
   ]
  },
  {
   "cell_type": "markdown",
   "metadata": {},
   "source": [
    "# Checkpoint\n",
    "The model has been saved to disk.\n",
    "## Test Model\n",
    "Test your model against the test dataset.  This will be your final accuracy. You should have an accuracy greater than 50%. If you don't, keep tweaking the model architecture and parameters."
   ]
  },
  {
   "cell_type": "code",
   "execution_count": 25,
   "metadata": {},
   "outputs": [
    {
     "name": "stdout",
     "output_type": "stream",
     "text": [
      "INFO:tensorflow:Restoring parameters from ./image_classification_Selu\n",
      "Testing Accuracy: 0.7902492088607594\n",
      "\n"
     ]
    },
    {
     "data": {
      "image/png": "[encoded data removed]",
      "text/plain": [
       "<Figure size 432x288 with 8 Axes>"
      ]
     },
     "metadata": {
      "image/png": {
       "height": 319,
       "width": 355
      }
     },
     "output_type": "display_data"
    }
   ],
   "source": [
    "\"\"\"\n",
    "DON'T MODIFY ANYTHING IN THIS CELL\n",
    "\"\"\"\n",
    "%matplotlib inline\n",
    "%config InlineBackend.figure_format = 'retina'\n",
    "\n",
    "import tensorflow as tf\n",
    "import pickle\n",
    "import helper\n",
    "import random\n",
    "\n",
    "# Set batch size if not already set\n",
    "try:\n",
    "    if batch_size:\n",
    "        pass\n",
    "except NameError:\n",
    "    batch_size = 64\n",
    "\n",
    "save_model_path = './image_classification_Selu'\n",
    "n_samples = 4\n",
    "top_n_predictions = 3\n",
    "\n",
    "def test_model():\n",
    "    \"\"\"\n",
    "    Test the saved model against the test dataset\n",
    "    \"\"\"\n",
    "\n",
    "    test_features, test_labels = pickle.load(open('preprocess_test.p', mode='rb'))\n",
    "    loaded_graph = tf.Graph()\n",
    "\n",
    "    with tf.Session(config=config, graph=loaded_graph) as sess:\n",
    "        # Load model\n",
    "        loader = tf.train.import_meta_graph(save_model_path + '.meta')\n",
    "        loader.restore(sess, save_model_path)\n",
    "\n",
    "        # Get Tensors from loaded model\n",
    "        loaded_x = loaded_graph.get_tensor_by_name('x:0')\n",
    "        loaded_y = loaded_graph.get_tensor_by_name('y:0')\n",
    "        loaded_keep_prob = loaded_graph.get_tensor_by_name('keep_prob:0')\n",
    "        loaded_logits = loaded_graph.get_tensor_by_name('logits:0')\n",
    "        loaded_acc = loaded_graph.get_tensor_by_name('accuracy:0')\n",
    "        \n",
    "        # Get accuracy in batches for memory limitations\n",
    "        test_batch_acc_total = 0\n",
    "        test_batch_count = 0\n",
    "        \n",
    "        for test_feature_batch, test_label_batch in helper.batch_features_labels(test_features, test_labels, batch_size):\n",
    "            test_batch_acc_total += sess.run(\n",
    "                loaded_acc,\n",
    "                feed_dict={loaded_x: test_feature_batch, loaded_y: test_label_batch, loaded_keep_prob: 1.0})\n",
    "            test_batch_count += 1\n",
    "\n",
    "        print('Testing Accuracy: {}\\n'.format(test_batch_acc_total/test_batch_count))\n",
    "\n",
    "        # Print Random Samples\n",
    "        random_test_features, random_test_labels = tuple(zip(*random.sample(list(zip(test_features, test_labels)), n_samples)))\n",
    "        random_test_predictions = sess.run(\n",
    "            tf.nn.top_k(tf.nn.softmax(loaded_logits), top_n_predictions),\n",
    "            feed_dict={loaded_x: random_test_features, loaded_y: random_test_labels, loaded_keep_prob: 1.0})\n",
    "        helper.display_image_predictions(random_test_features, random_test_labels, random_test_predictions)\n",
    "\n",
    "\n",
    "test_model()"
   ]
  },
  {
   "cell_type": "markdown",
   "metadata": {},
   "source": [
    "## Why 50-80% Accuracy?\n",
    "You might be wondering why you can't get an accuracy any higher. First things first, 50% isn't bad for a simple CNN.  Pure guessing would get you 10% accuracy. However, you might notice people are getting scores [well above 80%](http://rodrigob.github.io/are_we_there_yet/build/classification_datasets_results.html#43494641522d3130).  That's because we haven't taught you all there is to know about neural networks. We still need to cover a few more techniques.\n",
    "## Submitting This Project\n",
    "When submitting this project, make sure to run all the cells before saving the notebook.  Save the notebook file as \"dlnd_image_classification.ipynb\" and save it as a HTML file under \"File\" -> \"Download as\".  Include the \"helper.py\" and \"problem_unittests.py\" files in your submission."
   ]
  },
  {
   "cell_type": "markdown",
   "metadata": {},
   "source": [
    "Some ideas\n",
    "\n",
    "- Initialize weights to very small\n",
    "- Initialize biases to zeros"
   ]
  },
  {
   "cell_type": "markdown",
   "metadata": {},
   "source": [
    "### Bonus: let accuracy over 80%\n",
    "- Differntial Dropout: keep probability\n",
    "- Xavier Initialization → He Initialization\n",
    "- Batch Normalization\n",
    "- Random Shuffling\n",
    "- L2\n",
    "- Selu"
   ]
  },
  {
   "cell_type": "code",
   "execution_count": null,
   "metadata": {},
   "outputs": [],
   "source": []
  }
 ],
 "metadata": {
  "kernelspec": {
   "display_name": "Python [default]",
   "language": "python",
   "name": "python3"
  },
  "language_info": {
   "codemirror_mode": {
    "name": "ipython",
    "version": 3
   },
   "file_extension": ".py",
   "mimetype": "text/x-python",
   "name": "python",
   "nbconvert_exporter": "python",
   "pygments_lexer": "ipython3",
   "version": "3.5.0"
  }
 },
 "nbformat": 4,
 "nbformat_minor": 1
}
