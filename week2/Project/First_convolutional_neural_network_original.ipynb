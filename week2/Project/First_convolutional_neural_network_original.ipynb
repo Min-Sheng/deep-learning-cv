{
 "cells": [
  {
   "cell_type": "code",
   "execution_count": 1,
   "metadata": {},
   "outputs": [
    {
     "name": "stderr",
     "output_type": "stream",
     "text": [
      "Using TensorFlow backend.\n"
     ]
    }
   ],
   "source": [
    "#### This code cell is to limit GPU memory use because you'll be sharing GPU #### \n",
    "#### If you're using your own GPU, you can change the per_process_cpu_memory_fraction to 1.0 ####\n",
    "import tensorflow as tf\n",
    "from keras.backend.tensorflow_backend import set_session\n",
    "config = tf.ConfigProto()\n",
    "config.gpu_options.per_process_gpu_memory_fraction = 0.45\n",
    "set_session(tf.Session(config=config))"
   ]
  },
  {
   "cell_type": "markdown",
   "metadata": {
    "collapsed": true
   },
   "source": [
    "# Image Classification\n",
    "In this project, you'll classify images from the [CIFAR-10 dataset](https://www.cs.toronto.edu/~kriz/cifar.html).  The dataset consists of airplanes, dogs, cats, and other objects. You'll preprocess the images, then train a convolutional neural network on all the samples. The images need to be normalized and the labels need to be one-hot encoded.  You'll get to apply what you learned and build a convolutional, max pooling, dropout, and fully connected layers.  At the end, you'll get to see your neural network's predictions on the sample images.\n",
    "## Get the Data\n",
    "Run the following cell to download the [CIFAR-10 dataset for python](https://www.cs.toronto.edu/~kriz/cifar-10-python.tar.gz)."
   ]
  },
  {
   "cell_type": "code",
   "execution_count": 2,
   "metadata": {},
   "outputs": [
    {
     "name": "stdout",
     "output_type": "stream",
     "text": [
      "All files found!\n"
     ]
    }
   ],
   "source": [
    "\"\"\"\n",
    "DON'T MODIFY ANYTHING IN THIS CELL THAT IS BELOW THIS LINE\n",
    "\"\"\"\n",
    "from urllib.request import urlretrieve\n",
    "from os.path import isfile, isdir\n",
    "from tqdm import tqdm\n",
    "import problem_unittests as tests\n",
    "import tarfile\n",
    "\n",
    "cifar10_dataset_folder_path = 'cifar-10-batches-py' \n",
    "\n",
    "class DLProgress(tqdm):\n",
    "    last_block = 0\n",
    "\n",
    "    def hook(self, block_num=1, block_size=1, total_size=None):\n",
    "        self.total = total_size\n",
    "        self.update((block_num - self.last_block) * block_size)\n",
    "        self.last_block = block_num\n",
    "\n",
    "tar_gz_path = 'cifar-10-python.tar.gz'\n",
    "\n",
    "if not isdir(cifar10_dataset_folder_path):\n",
    "    if not isfile(tar_gz_path):\n",
    "        with DLProgress(unit='B', unit_scale=True, miniters=1, desc='CIFAR-10 Dataset') as pbar:\n",
    "            urlretrieve(\n",
    "                'https://www.cs.toronto.edu/~kriz/cifar-10-python.tar.gz',\n",
    "                tar_gz_path,\n",
    "                pbar.hook)\n",
    "    with tarfile.open(tar_gz_path) as tar:\n",
    "        tar.extractall()\n",
    "        tar.close()\n",
    "\n",
    "tests.test_folder_path(cifar10_dataset_folder_path)"
   ]
  },
  {
   "cell_type": "markdown",
   "metadata": {},
   "source": [
    "## Explore the Data\n",
    "The dataset is broken into batches to prevent your machine from running out of memory.  The CIFAR-10 dataset consists of 5 batches, named `data_batch_1`, `data_batch_2`, etc.. Each batch contains the labels and images that are one of the following:\n",
    "* airplane\n",
    "* automobile\n",
    "* bird\n",
    "* cat\n",
    "* deer\n",
    "* dog\n",
    "* frog\n",
    "* horse\n",
    "* ship\n",
    "* truck\n",
    "\n",
    "Understanding a dataset is part of making predictions on the data.  Play around with the code cell below by changing the `batch_id` and `sample_id`. The `batch_id` is the id for a batch (1-5). The `sample_id` is the id for a image and label pair in the batch.\n",
    "\n",
    "Ask yourself \"What are all possible labels?\", \"What is the range of values for the image data?\", \"Are the labels in order or random?\".  Answers to questions like these will help you preprocess the data and end up with better predictions."
   ]
  },
  {
   "cell_type": "code",
   "execution_count": 3,
   "metadata": {},
   "outputs": [
    {
     "name": "stdout",
     "output_type": "stream",
     "text": [
      "\n",
      "Stats of batch 1:\n",
      "Samples: 10000\n",
      "Label Counts: {0: 1005, 1: 974, 2: 1032, 3: 1016, 4: 999, 5: 937, 6: 1030, 7: 1001, 8: 1025, 9: 981}\n",
      "First 20 Labels: [6, 9, 9, 4, 1, 1, 2, 7, 8, 3, 4, 7, 7, 2, 9, 9, 9, 3, 2, 6]\n",
      "\n",
      "Example of Image 6:\n",
      "Image - Min Value: 7 Max Value: 249\n",
      "Image - Shape: (32, 32, 3)\n",
      "Label - Label Id: 2 Name: bird\n"
     ]
    },
    {
     "data": {
      "image/png": "[encoded data removed]",
      "text/plain": [
       "<Figure size 432x288 with 1 Axes>"
      ]
     },
     "metadata": {
      "image/png": {
       "height": 250,
       "width": 253
      }
     },
     "output_type": "display_data"
    }
   ],
   "source": [
    "%matplotlib inline\n",
    "%config InlineBackend.figure_format = 'retina'\n",
    "\n",
    "import helper\n",
    "import numpy as np\n",
    "\n",
    "# Explore the dataset\n",
    "batch_id = 1\n",
    "sample_id = 6\n",
    "helper.display_stats(cifar10_dataset_folder_path, batch_id, sample_id)"
   ]
  },
  {
   "cell_type": "markdown",
   "metadata": {},
   "source": [
    "## Implement Preprocess Functions\n",
    "### Normalize\n",
    "In the cell below, implement the `normalize` function to take in image data, `x`, and return it as a normalized Numpy array. The values should be in the range of 0 to 1, inclusive.  The return object should be the same shape as `x`."
   ]
  },
  {
   "cell_type": "code",
   "execution_count": 4,
   "metadata": {},
   "outputs": [
    {
     "name": "stdout",
     "output_type": "stream",
     "text": [
      "Tests Passed\n"
     ]
    }
   ],
   "source": [
    "def normalize(x):\n",
    "    \"\"\"\n",
    "    Normalize a list of sample image data in the range of 0 to 1\n",
    "    : x: List of image data.  The image shape is (32, 32, 3)\n",
    "    : return: Numpy array of normalize data\n",
    "    \"\"\"\n",
    "    # TODO: Implement Function\n",
    "    norm = (x-x.min())/(x.max()-x.min())\n",
    "    return norm\n",
    "\n",
    "\"\"\"\n",
    "DON'T MODIFY ANYTHING IN THIS CELL THAT IS BELOW THIS LINE\n",
    "\"\"\"\n",
    "tests.test_normalize(normalize)"
   ]
  },
  {
   "cell_type": "markdown",
   "metadata": {},
   "source": [
    "### One-hot encode\n",
    "Just like the previous code cell, you'll be implementing a function for preprocessing.  This time, you'll implement the `one_hot_encode` function. The input, `x`, are a list of labels.  Implement the function to return the list of labels as One-Hot encoded Numpy array.  The possible values for labels are 0 to 9. The one-hot encoding function should return the same encoding for each value between each call to `one_hot_encode`.  Make sure to save the map of encodings outside the function.\n",
    "\n",
    "Hint: Don't reinvent the wheel."
   ]
  },
  {
   "cell_type": "code",
   "execution_count": 5,
   "metadata": {},
   "outputs": [
    {
     "name": "stdout",
     "output_type": "stream",
     "text": [
      "Tests Passed\n"
     ]
    }
   ],
   "source": [
    "def one_hot_encode(x):\n",
    "    \"\"\"\n",
    "    One hot encode a list of sample labels. Return a one-hot encoded vector for each label.\n",
    "    : x: List of sample Labels\n",
    "    : return: Numpy array of one-hot encoded labels\n",
    "    \"\"\"\n",
    "    # TODO: Implement Function\n",
    "    encoding = np.eye(10)[x]\n",
    "    return encoding\n",
    "\n",
    "\"\"\"\n",
    "DON'T MODIFY ANYTHING IN THIS CELL THAT IS BELOW THIS LINE\n",
    "\"\"\"\n",
    "tests.test_one_hot_encode(one_hot_encode)"
   ]
  },
  {
   "cell_type": "markdown",
   "metadata": {},
   "source": [
    "### Randomize Data\n",
    "As you saw from exploring the data above, the order of the samples are randomized.  It doesn't hurt to randomize it again, but you don't need to for this dataset."
   ]
  },
  {
   "cell_type": "markdown",
   "metadata": {},
   "source": [
    "## Preprocess all the data and save it\n",
    "Running the code cell below will preprocess all the CIFAR-10 data and save it to file. The code below also uses 10% of the training data for validation."
   ]
  },
  {
   "cell_type": "code",
   "execution_count": 6,
   "metadata": {},
   "outputs": [],
   "source": [
    "\"\"\"\n",
    "DON'T MODIFY ANYTHING IN THIS CELL\n",
    "\"\"\"\n",
    "# Preprocess Training, Validation, and Testing Data\n",
    "helper.preprocess_and_save_data(cifar10_dataset_folder_path, normalize, one_hot_encode)"
   ]
  },
  {
   "cell_type": "markdown",
   "metadata": {},
   "source": [
    "# Check Point\n",
    "This is your first checkpoint.  If you ever decide to come back to this notebook or have to restart the notebook, you can start from here.  The preprocessed data has been saved to disk."
   ]
  },
  {
   "cell_type": "code",
   "execution_count": 7,
   "metadata": {},
   "outputs": [],
   "source": [
    "\"\"\"\n",
    "DON'T MODIFY ANYTHING IN THIS CELL\n",
    "\"\"\"\n",
    "import pickle\n",
    "import problem_unittests as tests\n",
    "import helper\n",
    "\n",
    "# Load the Preprocessed Validation data\n",
    "valid_features, valid_labels = pickle.load(open('preprocess_validation.p', mode='rb'))"
   ]
  },
  {
   "cell_type": "markdown",
   "metadata": {},
   "source": [
    "## Build the network\n",
    "For the neural network, you'll build each layer into a function.  Most of the code you've seen has been outside of functions. To test your code more thoroughly, we require that you put each layer in a function.  This allows us to give you better feedback and test for simple mistakes using our unittests before you submit your project.\n",
    "\n",
    ">**Note:** If you're finding it hard to dedicate enough time for this course each week, we've provided a small shortcut to this part of the project. In the next couple of problems, you'll have the option to use classes from the [TensorFlow Layers](https://www.tensorflow.org/api_docs/python/tf/layers) or [TensorFlow Layers (contrib)](https://www.tensorflow.org/api_guides/python/contrib.layers) packages to build each layer, except the layers you build in the \"Convolutional and Max Pooling Layer\" section.  TF Layers is similar to Keras's and TFLearn's abstraction to layers, so it's easy to pickup.\n",
    "\n",
    ">However, if you would like to get the most out of this course, try to solve all the problems _without_ using anything from the TF Layers packages. You **can** still use classes from other packages that happen to have the same name as ones you find in TF Layers! For example, instead of using the TF Layers version of the `conv2d` class, [tf.layers.conv2d](https://www.tensorflow.org/api_docs/python/tf/layers/conv2d), you would want to use the TF Neural Network version of `conv2d`, [tf.nn.conv2d](https://www.tensorflow.org/api_docs/python/tf/nn/conv2d). \n",
    "\n",
    "Let's begin!\n",
    "\n",
    "### Input\n",
    "The neural network needs to read the image data, one-hot encoded labels, and dropout keep probability. Implement the following functions\n",
    "* Implement `neural_net_image_input`\n",
    " * Return a [TF Placeholder](https://www.tensorflow.org/api_docs/python/tf/placeholder)\n",
    " * Set the shape using `image_shape` with batch size set to `None`.\n",
    " * Name the TensorFlow placeholder \"x\" using the TensorFlow `name` parameter in the [TF Placeholder](https://www.tensorflow.org/api_docs/python/tf/placeholder).\n",
    "* Implement `neural_net_label_input`\n",
    " * Return a [TF Placeholder](https://www.tensorflow.org/api_docs/python/tf/placeholder)\n",
    " * Set the shape using `n_classes` with batch size set to `None`.\n",
    " * Name the TensorFlow placeholder \"y\" using the TensorFlow `name` parameter in the [TF Placeholder](https://www.tensorflow.org/api_docs/python/tf/placeholder).\n",
    "* Implement `neural_net_keep_prob_input`\n",
    " * Return a [TF Placeholder](https://www.tensorflow.org/api_docs/python/tf/placeholder) for dropout keep probability.\n",
    " * Name the TensorFlow placeholder \"keep_prob\" using the TensorFlow `name` parameter in the [TF Placeholder](https://www.tensorflow.org/api_docs/python/tf/placeholder).\n",
    "\n",
    "These names will be used at the end of the project to load your saved model.\n",
    "\n",
    "Note: `None` for shapes in TensorFlow allow for a dynamic size."
   ]
  },
  {
   "cell_type": "code",
   "execution_count": 8,
   "metadata": {},
   "outputs": [
    {
     "name": "stdout",
     "output_type": "stream",
     "text": [
      "Image Input Tests Passed.\n",
      "Label Input Tests Passed.\n",
      "Keep Prob Tests Passed.\n"
     ]
    }
   ],
   "source": [
    "import tensorflow as tf\n",
    "\n",
    "def neural_net_image_input(image_shape):\n",
    "    \"\"\"\n",
    "    Return a Tensor for a batch of image input\n",
    "    : image_shape: Shape of the images\n",
    "    : return: Tensor for image input.\n",
    "    \"\"\"\n",
    "    # TODO: Implement Function\n",
    "    return tf.placeholder(tf.float32, [None] + list(image_shape), name='x')\n",
    "\n",
    "\n",
    "def neural_net_label_input(n_classes):\n",
    "    \"\"\"\n",
    "    Return a Tensor for a batch of label input\n",
    "    : n_classes: Number of classes\n",
    "    : return: Tensor for label input.\n",
    "    \"\"\"\n",
    "    # TODO: Implement Function\n",
    "    return tf.placeholder(tf.float32, [None ,n_classes], name='y')\n",
    "\n",
    "\n",
    "def neural_net_keep_prob_input():\n",
    "    \"\"\"\n",
    "    Return a Tensor for keep probability\n",
    "    : return: Tensor for keep probability.\n",
    "    \"\"\"\n",
    "    # TODO: Implement Function\n",
    "    \n",
    "    return tf.placeholder(tf.float32, None, name=\"keep_prob\")\n",
    "\n",
    "\n",
    "\"\"\"\n",
    "DON'T MODIFY ANYTHING IN THIS CELL THAT IS BELOW THIS LINE\n",
    "\"\"\"\n",
    "tf.reset_default_graph()\n",
    "tests.test_nn_image_inputs(neural_net_image_input)\n",
    "tests.test_nn_label_inputs(neural_net_label_input)\n",
    "tests.test_nn_keep_prob_inputs(neural_net_keep_prob_input)"
   ]
  },
  {
   "cell_type": "markdown",
   "metadata": {},
   "source": [
    "### Convolution and Max Pooling Layer\n",
    "Convolution layers have a lot of success with images. For this code cell, you should implement the function `conv2d_maxpool` to apply convolution then max pooling:\n",
    "* Create the weight and bias using `conv_ksize`, `conv_num_outputs` and the shape of `x_tensor`.\n",
    "* Apply a convolution to `x_tensor` using weight and `conv_strides`.\n",
    " * We recommend you use same padding, but you're welcome to use any padding.\n",
    "* Add bias\n",
    "* Add a nonlinear activation to the convolution.\n",
    "* Apply Max Pooling using `pool_ksize` and `pool_strides`.\n",
    " * We recommend you use same padding, but you're welcome to use any padding.\n",
    "\n",
    "**Note:** You **can't** use [TensorFlow Layers](https://www.tensorflow.org/api_docs/python/tf/layers) or [TensorFlow Layers (contrib)](https://www.tensorflow.org/api_guides/python/contrib.layers) for **this** layer, but you can still use TensorFlow's [Neural Network](https://www.tensorflow.org/api_docs/python/tf/nn) package. You may still use the shortcut option for all the **other** layers."
   ]
  },
  {
   "cell_type": "code",
   "execution_count": 9,
   "metadata": {},
   "outputs": [
    {
     "name": "stdout",
     "output_type": "stream",
     "text": [
      "Tests Passed\n"
     ]
    }
   ],
   "source": [
    "def conv2d_maxpool(x_tensor, conv_num_outputs, conv_ksize, conv_strides, pool_ksize, pool_strides):\n",
    "    \"\"\"\n",
    "    Apply convolution then max pooling to x_tensor\n",
    "    :param x_tensor: TensorFlow Tensor\n",
    "    :param conv_num_outputs: Number of outputs for the convolutional layer\n",
    "    :param conv_ksize: kernal size 2-D Tuple for the convolutional layer\n",
    "    :param conv_strides: Stride 2-D Tuple for convolution\n",
    "    :param pool_ksize: kernal size 2-D Tuple for pool\n",
    "    :param pool_strides: Stride 2-D Tuple for pool\n",
    "    : return: A tensor that represents convolution and max pooling of x_tensor\n",
    "    \"\"\"\n",
    "    # TODO: Implement Function\n",
    "    X_shape = x_tensor.get_shape().as_list()\n",
    "    C_kshape = list(conv_ksize + (X_shape[-1],) + (conv_num_outputs,))\n",
    "    #print(C_kshape)\n",
    "    # The shape of the filter weight is (height, width, input_depth, output_depth)\n",
    "    # The shape of the filter bias is (output_depth,)\n",
    "    F_W = tf.Variable(tf.truncated_normal(C_kshape,0,0.1),dtype=np.float32)\n",
    "    F_b = tf.Variable(tf.zeros(conv_num_outputs,dtype=np.float32))\n",
    "    # The shape of the convolution stride is (batch_size, height, width, depth)\n",
    "    C_strides = list((1,)+conv_strides+(1,))\n",
    "    # The padding, either 'VALID' or 'SAME'.\n",
    "    padding = 'SAME'\n",
    "    conv_output = tf.nn.conv2d(x_tensor, F_W, C_strides, padding) + F_b\n",
    "    conv_output = tf.nn.relu(conv_output)\n",
    "    P_kshape = [1] + list(pool_ksize) + [1]\n",
    "    P_stride = [1] + list(pool_strides) + [1]\n",
    "    conv_output = tf.nn.max_pool(conv_output,P_kshape,P_stride,padding)\n",
    "    return conv_output\n",
    "\n",
    "\n",
    "\"\"\"\n",
    "DON'T MODIFY ANYTHING IN THIS CELL THAT IS BELOW THIS LINE\n",
    "\"\"\"\n",
    "tests.test_con_pool(conv2d_maxpool)"
   ]
  },
  {
   "cell_type": "markdown",
   "metadata": {},
   "source": [
    "### Flatten Layer\n",
    "Implement the `flatten` function to change the dimension of `x_tensor` from a 4-D tensor to a 2-D tensor.  The output should be the shape (*Batch Size*, *Flattened Image Size*). Shortcut option: you can use classes from the [TensorFlow Layers](https://www.tensorflow.org/api_docs/python/tf/layers) or [TensorFlow Layers (contrib)](https://www.tensorflow.org/api_guides/python/contrib.layers) packages for this layer. For more of a challenge, only use other TensorFlow packages."
   ]
  },
  {
   "cell_type": "code",
   "execution_count": 10,
   "metadata": {},
   "outputs": [
    {
     "name": "stdout",
     "output_type": "stream",
     "text": [
      "Tests Passed\n"
     ]
    }
   ],
   "source": [
    "def flatten(x_tensor):\n",
    "    \"\"\"\n",
    "    Flatten x_tensor to (Batch Size, Flattened Image Size)\n",
    "    : x_tensor: A tensor of size (Batch Size, ...), where ... are the image dimensions.\n",
    "    : return: A tensor of size (Batch Size, Flattened Image Size).\n",
    "    \"\"\"\n",
    "    # TODO: Implement Function\n",
    "    X_shape = x_tensor.get_shape().as_list()\n",
    "    return tf.reshape(x_tensor,[-1,np.prod(X_shape[1:])])\n",
    "\n",
    "\"\"\"\n",
    "DON'T MODIFY ANYTHING IN THIS CELL THAT IS BELOW THIS LINE\n",
    "\"\"\"\n",
    "tests.test_flatten(flatten)"
   ]
  },
  {
   "cell_type": "markdown",
   "metadata": {},
   "source": [
    "### Fully-Connected Layer\n",
    "Implement the `fully_conn` function to apply a fully connected layer to `x_tensor` with the shape (*Batch Size*, *num_outputs*). Shortcut option: you can use classes from the [TensorFlow Layers](https://www.tensorflow.org/api_docs/python/tf/layers) or [TensorFlow Layers (contrib)](https://www.tensorflow.org/api_guides/python/contrib.layers) packages for this layer. For more of a challenge, only use other TensorFlow packages."
   ]
  },
  {
   "cell_type": "code",
   "execution_count": 11,
   "metadata": {},
   "outputs": [
    {
     "name": "stdout",
     "output_type": "stream",
     "text": [
      "Tests Passed\n"
     ]
    }
   ],
   "source": [
    "def fully_conn(x_tensor, num_outputs):\n",
    "    \"\"\"\n",
    "    Apply a fully connected layer to x_tensor using weight and bias\n",
    "    : x_tensor: A 2-D tensor where the first dimension is batch size.\n",
    "    : num_outputs: The number of output that the new tensor should be.\n",
    "    : return: A 2-D tensor where the second dimension is num_outputs.\n",
    "    \"\"\"\n",
    "    # TODO: Implement Function\n",
    "    X_shape = x_tensor.get_shape().as_list()\n",
    "    shape = list((X_shape[-1],)+(num_outputs,))\n",
    "    W = tf.Variable(tf.truncated_normal(shape,0,0.1),dtype=np.float32)\n",
    "    b = tf.Variable(tf.zeros(num_outputs,dtype=np.float32))\n",
    "    return tf.nn.relu(tf.tensordot(x_tensor,W,axes=([1], [0]))+b)\n",
    "\n",
    "\n",
    "\"\"\"\n",
    "DON'T MODIFY ANYTHING IN THIS CELL THAT IS BELOW THIS LINE\n",
    "\"\"\"\n",
    "tests.test_fully_conn(fully_conn)"
   ]
  },
  {
   "cell_type": "code",
   "execution_count": 12,
   "metadata": {},
   "outputs": [
    {
     "name": "stdout",
     "output_type": "stream",
     "text": [
      "[[ 3.  3.]\n",
      " [ 6.  6.]]\n"
     ]
    }
   ],
   "source": [
    "with tf.Session() as sess:\n",
    "    a = tf.placeholder(tf.float32, None, name='a')\n",
    "    b = tf.placeholder(tf.float32, None, name='b')\n",
    "    c = tf.tensordot(a,b, axes=([1], [0]))\n",
    "    print(sess.run(c, feed_dict={a:[[1,1],[2,2]], b:[[2,2],[1,1]]}))"
   ]
  },
  {
   "cell_type": "code",
   "execution_count": 13,
   "metadata": {},
   "outputs": [
    {
     "data": {
      "text/plain": [
       "array([[3, 3],\n",
       "       [6, 6]])"
      ]
     },
     "execution_count": 13,
     "metadata": {},
     "output_type": "execute_result"
    }
   ],
   "source": [
    "a=np.array([[1,1],[2,2]])\n",
    "b=np.array([[2,2],[1,1]])\n",
    "np.dot(a,b)"
   ]
  },
  {
   "cell_type": "markdown",
   "metadata": {},
   "source": [
    "### Output Layer\n",
    "Implement the `output` function to apply a fully connected layer to `x_tensor` with the shape (*Batch Size*, *num_outputs*). Shortcut option: you can use classes from the [TensorFlow Layers](https://www.tensorflow.org/api_docs/python/tf/layers) or [TensorFlow Layers (contrib)](https://www.tensorflow.org/api_guides/python/contrib.layers) packages for this layer. For more of a challenge, only use other TensorFlow packages.\n",
    "\n",
    "**Note:** Activation, softmax, or cross entropy should **not** be applied to this."
   ]
  },
  {
   "cell_type": "code",
   "execution_count": 14,
   "metadata": {},
   "outputs": [
    {
     "name": "stdout",
     "output_type": "stream",
     "text": [
      "Tests Passed\n"
     ]
    }
   ],
   "source": [
    "def output(x_tensor, num_outputs):\n",
    "    \"\"\"\n",
    "    Apply a output layer to x_tensor using weight and bias\n",
    "    : x_tensor: A 2-D tensor where the first dimension is batch size.\n",
    "    : num_outputs: The number of output that the new tensor should be.\n",
    "    : return: A 2-D tensor where the second dimension is num_outputs.\n",
    "    \"\"\"\n",
    "    # TODO: Implement Function\n",
    "    X_shape = x_tensor.get_shape().as_list()\n",
    "    shape = list((X_shape[-1],)+(num_outputs,))\n",
    "    W = tf.Variable(tf.truncated_normal(shape,0,0.01),dtype=np.float32)\n",
    "    b = tf.Variable(tf.zeros(num_outputs,dtype=np.float32))\n",
    "    return tf.tensordot(x_tensor,W,axes=([1], [0]))+b\n",
    "\n",
    "\n",
    "\"\"\"\n",
    "DON'T MODIFY ANYTHING IN THIS CELL THAT IS BELOW THIS LINE\n",
    "\"\"\"\n",
    "tests.test_output(output)"
   ]
  },
  {
   "cell_type": "markdown",
   "metadata": {},
   "source": [
    "### Create Convolutional Model\n",
    "Implement the function `conv_net` to create a convolutional neural network model. The function takes in a batch of images, `x`, and outputs logits.  Use the layers you created above to create this model:\n",
    "\n",
    "* Apply 1, 2, or 3 Convolution and Max Pool layers\n",
    "* Apply a Flatten Layer\n",
    "* Apply 1, 2, or 3 Fully Connected Layers\n",
    "* Apply an Output Layer\n",
    "* Return the output\n",
    "* Apply [TensorFlow's Dropout](https://www.tensorflow.org/api_docs/python/tf/nn/dropout) to one or more layers in the model using `keep_prob`. "
   ]
  },
  {
   "cell_type": "code",
   "execution_count": 15,
   "metadata": {},
   "outputs": [
    {
     "name": "stdout",
     "output_type": "stream",
     "text": [
      "Neural Network Built!\n"
     ]
    }
   ],
   "source": [
    "def conv_net(x, keep_prob):\n",
    "    \"\"\"\n",
    "    Create a convolutional neural network model\n",
    "    : x: Placeholder tensor that holds image data.\n",
    "    : keep_prob: Placeholder tensor that hold dropout keep probability.\n",
    "    : return: Tensor that represents logits\n",
    "    \"\"\"\n",
    "    \n",
    "    # TODO: Apply 1, 2, or 3 Convolution and Max Pool layers\n",
    "    #    Play around with different number of outputs, kernel size and stride\n",
    "    # Function Definition from Above:\n",
    "    #    conv2d_maxpool(x_tensor, conv_num_outputs, conv_ksize, conv_strides, pool_ksize, pool_strides)\n",
    "    model = conv2d_maxpool(x, conv_num_outputs=20, conv_ksize=(3,3), conv_strides=(1,1), pool_ksize=(8,8), pool_strides=(1,1))\n",
    "    model = tf.nn.dropout(model, keep_prob)\n",
    "    \n",
    "    # TODO: Apply a Flatten Layer\n",
    "    # Function Definition from Above:\n",
    "    #   flatten(x_tensor)\n",
    "    model = flatten(model)\n",
    "\n",
    "    # TODO: Apply 1, 2, or 3 Fully Connected Layers\n",
    "    #    Play around with different number of outputs\n",
    "    # Function Definition from Above:\n",
    "    #   fully_conn(x_tensor, num_outputs)\n",
    "    model = fully_conn(model,500)\n",
    "    \n",
    "    model = tf.nn.dropout(model, keep_prob)\n",
    "    # TODO: Apply an Output Layer\n",
    "    #    Set this to the number of classes\n",
    "    # Function Definition from Above:\n",
    "    #   output(x_tensor, num_outputs)\n",
    "    model = output(model,10)\n",
    "    \n",
    "    # TODO: return output\n",
    "    return model\n",
    "\n",
    "\n",
    "\"\"\"\n",
    "DON'T MODIFY ANYTHING IN THIS CELL THAT IS BELOW THIS LINE\n",
    "\"\"\"\n",
    "\n",
    "##############################\n",
    "## Build the Neural Network ##\n",
    "##############################\n",
    "\n",
    "# Remove previous weights, bias, inputs, etc..\n",
    "tf.reset_default_graph()\n",
    "\n",
    "# Inputs\n",
    "x = neural_net_image_input((32, 32, 3))\n",
    "y = neural_net_label_input(10)\n",
    "keep_prob = neural_net_keep_prob_input()\n",
    "\n",
    "# Model\n",
    "logits = conv_net(x, keep_prob)\n",
    "\n",
    "# Name logits Tensor, so that is can be loaded from disk after training\n",
    "logits = tf.identity(logits, name='logits')\n",
    "\n",
    "# Loss and Optimizer\n",
    "cost = tf.reduce_mean(tf.nn.softmax_cross_entropy_with_logits_v2(logits=logits, labels=y))\n",
    "optimizer = tf.train.AdamOptimizer().minimize(cost)\n",
    "\n",
    "# Accuracy\n",
    "correct_pred = tf.equal(tf.argmax(logits, 1), tf.argmax(y, 1))\n",
    "accuracy = tf.reduce_mean(tf.cast(correct_pred, tf.float32), name='accuracy')\n",
    "\n",
    "tests.test_conv_net(conv_net)"
   ]
  },
  {
   "cell_type": "markdown",
   "metadata": {},
   "source": [
    "## Train the Neural Network\n",
    "### Single Optimization\n",
    "Implement the function `train_neural_network` to do a single optimization.  The optimization should use `optimizer` to optimize in `session` with a `feed_dict` of the following:\n",
    "* `x` for image input\n",
    "* `y` for labels\n",
    "* `keep_prob` for keep probability for dropout\n",
    "\n",
    "This function will be called for each batch, so `tf.global_variables_initializer()` has already been called.\n",
    "\n",
    "Note: Nothing needs to be returned. This function is only optimizing the neural network."
   ]
  },
  {
   "cell_type": "code",
   "execution_count": 16,
   "metadata": {},
   "outputs": [
    {
     "name": "stdout",
     "output_type": "stream",
     "text": [
      "Tests Passed\n"
     ]
    }
   ],
   "source": [
    "def train_neural_network(session, optimizer, keep_probability, feature_batch, label_batch):\n",
    "    \"\"\"\n",
    "    Optimize the session on a batch of images and labels\n",
    "    : session: Current TensorFlow session\n",
    "    : optimizer: TensorFlow optimizer function\n",
    "    : keep_probability: keep probability\n",
    "    : feature_batch: Batch of Numpy image data\n",
    "    : label_batch: Batch of Numpy label data\n",
    "    \"\"\"\n",
    "    # TODO: Implement Function\n",
    "    session.run(optimizer, feed_dict={x:feature_batch, y:label_batch, keep_prob:keep_probability})\n",
    "    \n",
    "\"\"\"\n",
    "DON'T MODIFY ANYTHING IN THIS CELL THAT IS BELOW THIS LINE\n",
    "\"\"\"\n",
    "tests.test_train_nn(train_neural_network)"
   ]
  },
  {
   "cell_type": "markdown",
   "metadata": {},
   "source": [
    "### Show Stats\n",
    "Implement the function `print_stats` to print loss and validation accuracy.  Use the global variables `valid_features` and `valid_labels` to calculate validation accuracy.  Use a keep probability of `1.0` to calculate the loss and validation accuracy."
   ]
  },
  {
   "cell_type": "code",
   "execution_count": 17,
   "metadata": {},
   "outputs": [],
   "source": [
    "def print_stats(session, feature_batch, label_batch, cost, accuracy):\n",
    "    \"\"\"\n",
    "    Print information about loss and validation accuracy\n",
    "    : session: Current TensorFlow session\n",
    "    : feature_batch: Batch of Numpy image data\n",
    "    : label_batch: Batch of Numpy label data\n",
    "    : cost: TensorFlow cost function\n",
    "    : accuracy: TensorFlow accuracy function\n",
    "    \"\"\"\n",
    "    # TODO: Implement Function\n",
    "    loss = session.run(cost, feed_dict={x:feature_batch, y:label_batch, keep_prob:1.0})\n",
    "    valid_acc = sess.run(accuracy, feed_dict={x: valid_features, y: valid_labels, keep_prob: 1.})\n",
    "    print('Loss: {:>10.4f} Validation Accuracy: {:.6f}'.format(loss, valid_acc))\n",
    "    return loss, valid_acc"
   ]
  },
  {
   "cell_type": "markdown",
   "metadata": {},
   "source": [
    "### Hyperparameters\n",
    "Tune the following parameters:\n",
    "* Set `epochs` to the number of iterations until the network stops learning or start overfitting\n",
    "* Set `batch_size` to the highest number that your machine has memory for.  Most people set them to common sizes of memory:\n",
    " * 64\n",
    " * 128\n",
    " * 256\n",
    " * ...\n",
    "* Set `keep_probability` to the probability of keeping a node using dropout"
   ]
  },
  {
   "cell_type": "code",
   "execution_count": 18,
   "metadata": {},
   "outputs": [],
   "source": [
    "# TODO: Tune Parameters\n",
    "epochs = 100\n",
    "batch_size = 512\n",
    "keep_probability = 0.3"
   ]
  },
  {
   "cell_type": "markdown",
   "metadata": {},
   "source": [
    "### Train on a Single CIFAR-10 Batch\n",
    "Instead of training the neural network on all the CIFAR-10 batches of data, let's use a single batch. This should save time while you iterate on the model to get a better accuracy.  Once the final validation accuracy is 50% or greater, run the model on all the data in the next section."
   ]
  },
  {
   "cell_type": "code",
   "execution_count": 19,
   "metadata": {},
   "outputs": [
    {
     "name": "stdout",
     "output_type": "stream",
     "text": [
      "Checking the Training on a Single Batch...\n",
      "Epoch  1, CIFAR-10 Batch 1:  Loss:     2.2123 Validation Accuracy: 0.240000\n",
      "Epoch  2, CIFAR-10 Batch 1:  Loss:     1.9881 Validation Accuracy: 0.293000\n",
      "Epoch  3, CIFAR-10 Batch 1:  Loss:     1.8382 Validation Accuracy: 0.374200\n",
      "Epoch  4, CIFAR-10 Batch 1:  Loss:     1.7345 Validation Accuracy: 0.409800\n",
      "Epoch  5, CIFAR-10 Batch 1:  Loss:     1.6318 Validation Accuracy: 0.436200\n",
      "Epoch  6, CIFAR-10 Batch 1:  Loss:     1.5700 Validation Accuracy: 0.451600\n",
      "Epoch  7, CIFAR-10 Batch 1:  Loss:     1.5100 Validation Accuracy: 0.466400\n",
      "Epoch  8, CIFAR-10 Batch 1:  Loss:     1.4711 Validation Accuracy: 0.477800\n",
      "Epoch  9, CIFAR-10 Batch 1:  Loss:     1.4111 Validation Accuracy: 0.490200\n",
      "Epoch 10, CIFAR-10 Batch 1:  Loss:     1.3679 Validation Accuracy: 0.510800\n",
      "Epoch 11, CIFAR-10 Batch 1:  Loss:     1.3362 Validation Accuracy: 0.517800\n",
      "Epoch 12, CIFAR-10 Batch 1:  Loss:     1.3081 Validation Accuracy: 0.526000\n",
      "Epoch 13, CIFAR-10 Batch 1:  Loss:     1.2807 Validation Accuracy: 0.531000\n",
      "Epoch 14, CIFAR-10 Batch 1:  Loss:     1.2478 Validation Accuracy: 0.535200\n",
      "Epoch 15, CIFAR-10 Batch 1:  Loss:     1.2328 Validation Accuracy: 0.536400\n",
      "Epoch 16, CIFAR-10 Batch 1:  Loss:     1.2070 Validation Accuracy: 0.548200\n",
      "Epoch 17, CIFAR-10 Batch 1:  Loss:     1.1770 Validation Accuracy: 0.547400\n",
      "Epoch 18, CIFAR-10 Batch 1:  Loss:     1.1646 Validation Accuracy: 0.553800\n",
      "Epoch 19, CIFAR-10 Batch 1:  Loss:     1.1490 Validation Accuracy: 0.554600\n",
      "Epoch 20, CIFAR-10 Batch 1:  Loss:     1.1267 Validation Accuracy: 0.556800\n",
      "Epoch 21, CIFAR-10 Batch 1:  Loss:     1.0953 Validation Accuracy: 0.563600\n",
      "Epoch 22, CIFAR-10 Batch 1:  Loss:     1.0860 Validation Accuracy: 0.563600\n",
      "Epoch 23, CIFAR-10 Batch 1:  Loss:     1.0499 Validation Accuracy: 0.568400\n",
      "Epoch 24, CIFAR-10 Batch 1:  Loss:     1.0441 Validation Accuracy: 0.575400\n",
      "Epoch 25, CIFAR-10 Batch 1:  Loss:     1.0379 Validation Accuracy: 0.570200\n",
      "Epoch 26, CIFAR-10 Batch 1:  Loss:     1.0142 Validation Accuracy: 0.576800\n",
      "Epoch 27, CIFAR-10 Batch 1:  Loss:     0.9830 Validation Accuracy: 0.581400\n",
      "Epoch 28, CIFAR-10 Batch 1:  Loss:     0.9692 Validation Accuracy: 0.580800\n",
      "Epoch 29, CIFAR-10 Batch 1:  Loss:     0.9577 Validation Accuracy: 0.584600\n",
      "Epoch 30, CIFAR-10 Batch 1:  Loss:     0.9459 Validation Accuracy: 0.587000\n",
      "Epoch 31, CIFAR-10 Batch 1:  Loss:     0.9035 Validation Accuracy: 0.593800\n",
      "Epoch 32, CIFAR-10 Batch 1:  Loss:     0.9008 Validation Accuracy: 0.589800\n",
      "Epoch 33, CIFAR-10 Batch 1:  Loss:     0.9183 Validation Accuracy: 0.582200\n",
      "Epoch 34, CIFAR-10 Batch 1:  Loss:     0.8908 Validation Accuracy: 0.590400\n",
      "Epoch 35, CIFAR-10 Batch 1:  Loss:     0.8777 Validation Accuracy: 0.593800\n",
      "Epoch 36, CIFAR-10 Batch 1:  Loss:     0.8528 Validation Accuracy: 0.597600\n",
      "Epoch 37, CIFAR-10 Batch 1:  Loss:     0.8571 Validation Accuracy: 0.592600\n",
      "Epoch 38, CIFAR-10 Batch 1:  Loss:     0.8482 Validation Accuracy: 0.587400\n",
      "Epoch 39, CIFAR-10 Batch 1:  Loss:     0.7963 Validation Accuracy: 0.604200\n",
      "Epoch 40, CIFAR-10 Batch 1:  Loss:     0.7801 Validation Accuracy: 0.607000\n",
      "Epoch 41, CIFAR-10 Batch 1:  Loss:     0.7618 Validation Accuracy: 0.608000\n",
      "Epoch 42, CIFAR-10 Batch 1:  Loss:     0.7707 Validation Accuracy: 0.613200\n",
      "Epoch 43, CIFAR-10 Batch 1:  Loss:     0.7642 Validation Accuracy: 0.609000\n",
      "Epoch 44, CIFAR-10 Batch 1:  Loss:     0.7530 Validation Accuracy: 0.610600\n",
      "Epoch 45, CIFAR-10 Batch 1:  Loss:     0.7499 Validation Accuracy: 0.613400\n",
      "Epoch 46, CIFAR-10 Batch 1:  Loss:     0.7189 Validation Accuracy: 0.611600\n",
      "Epoch 47, CIFAR-10 Batch 1:  Loss:     0.7067 Validation Accuracy: 0.612800\n",
      "Epoch 48, CIFAR-10 Batch 1:  Loss:     0.6927 Validation Accuracy: 0.620000\n",
      "Epoch 49, CIFAR-10 Batch 1:  Loss:     0.6904 Validation Accuracy: 0.618200\n",
      "Epoch 50, CIFAR-10 Batch 1:  Loss:     0.6543 Validation Accuracy: 0.625000\n",
      "Epoch 51, CIFAR-10 Batch 1:  Loss:     0.6426 Validation Accuracy: 0.622800\n",
      "Epoch 52, CIFAR-10 Batch 1:  Loss:     0.6536 Validation Accuracy: 0.619000\n",
      "Epoch 53, CIFAR-10 Batch 1:  Loss:     0.6282 Validation Accuracy: 0.624600\n",
      "Epoch 54, CIFAR-10 Batch 1:  Loss:     0.6132 Validation Accuracy: 0.629600\n",
      "Epoch 55, CIFAR-10 Batch 1:  Loss:     0.6077 Validation Accuracy: 0.624800\n",
      "Epoch 56, CIFAR-10 Batch 1:  Loss:     0.6104 Validation Accuracy: 0.625200\n",
      "Epoch 57, CIFAR-10 Batch 1:  Loss:     0.5743 Validation Accuracy: 0.627400\n",
      "Epoch 58, CIFAR-10 Batch 1:  Loss:     0.5678 Validation Accuracy: 0.631000\n",
      "Epoch 59, CIFAR-10 Batch 1:  Loss:     0.5625 Validation Accuracy: 0.626800\n",
      "Epoch 60, CIFAR-10 Batch 1:  Loss:     0.5439 Validation Accuracy: 0.632400\n",
      "Epoch 61, CIFAR-10 Batch 1:  Loss:     0.5564 Validation Accuracy: 0.628600\n",
      "Epoch 62, CIFAR-10 Batch 1:  Loss:     0.5382 Validation Accuracy: 0.633200\n",
      "Epoch 63, CIFAR-10 Batch 1:  Loss:     0.5219 Validation Accuracy: 0.628400\n",
      "Epoch 64, CIFAR-10 Batch 1:  Loss:     0.5248 Validation Accuracy: 0.631000\n",
      "Epoch 65, CIFAR-10 Batch 1:  Loss:     0.5077 Validation Accuracy: 0.632400\n",
      "Epoch 66, CIFAR-10 Batch 1:  Loss:     0.4949 Validation Accuracy: 0.634400\n",
      "Epoch 67, CIFAR-10 Batch 1:  Loss:     0.4868 Validation Accuracy: 0.639600\n",
      "Epoch 68, CIFAR-10 Batch 1:  Loss:     0.4694 Validation Accuracy: 0.638600\n",
      "Epoch 69, CIFAR-10 Batch 1:  Loss:     0.4781 Validation Accuracy: 0.639200\n",
      "Epoch 70, CIFAR-10 Batch 1:  Loss:     0.4428 Validation Accuracy: 0.644800\n",
      "Epoch 71, CIFAR-10 Batch 1:  Loss:     0.4554 Validation Accuracy: 0.637400\n",
      "Epoch 72, CIFAR-10 Batch 1:  Loss:     0.4443 Validation Accuracy: 0.637600\n",
      "Epoch 73, CIFAR-10 Batch 1:  Loss:     0.4311 Validation Accuracy: 0.635000\n",
      "Epoch 74, CIFAR-10 Batch 1:  Loss:     0.4277 Validation Accuracy: 0.644200\n",
      "Epoch 75, CIFAR-10 Batch 1:  Loss:     0.4204 Validation Accuracy: 0.642800\n",
      "Epoch 76, CIFAR-10 Batch 1:  Loss:     0.4119 Validation Accuracy: 0.642200\n",
      "Epoch 77, CIFAR-10 Batch 1:  Loss:     0.4022 Validation Accuracy: 0.639800\n",
      "Epoch 78, CIFAR-10 Batch 1:  Loss:     0.3973 Validation Accuracy: 0.647600\n",
      "Epoch 79, CIFAR-10 Batch 1:  Loss:     0.3883 Validation Accuracy: 0.639600\n",
      "Epoch 80, CIFAR-10 Batch 1:  Loss:     0.4033 Validation Accuracy: 0.645600\n",
      "Epoch 81, CIFAR-10 Batch 1:  Loss:     0.3786 Validation Accuracy: 0.645800\n",
      "Epoch 82, CIFAR-10 Batch 1:  Loss:     0.3773 Validation Accuracy: 0.640400\n",
      "Epoch 83, CIFAR-10 Batch 1:  Loss:     0.3854 Validation Accuracy: 0.645800\n",
      "Epoch 84, CIFAR-10 Batch 1:  Loss:     0.3578 Validation Accuracy: 0.645600\n",
      "Epoch 85, CIFAR-10 Batch 1:  Loss:     0.3579 Validation Accuracy: 0.643000\n",
      "Epoch 86, CIFAR-10 Batch 1:  Loss:     0.3286 Validation Accuracy: 0.648000\n",
      "Epoch 87, CIFAR-10 Batch 1:  Loss:     0.3254 Validation Accuracy: 0.648600\n",
      "Epoch 88, CIFAR-10 Batch 1:  Loss:     0.3118 Validation Accuracy: 0.650200\n",
      "Epoch 89, CIFAR-10 Batch 1:  Loss:     0.3091 Validation Accuracy: 0.649200\n",
      "Epoch 90, CIFAR-10 Batch 1:  Loss:     0.3089 Validation Accuracy: 0.646400\n",
      "Epoch 91, CIFAR-10 Batch 1:  Loss:     0.3042 Validation Accuracy: 0.653400\n",
      "Epoch 92, CIFAR-10 Batch 1:  Loss:     0.2986 Validation Accuracy: 0.651400\n",
      "Epoch 93, CIFAR-10 Batch 1:  Loss:     0.2972 Validation Accuracy: 0.647200\n",
      "Epoch 94, CIFAR-10 Batch 1:  Loss:     0.2938 Validation Accuracy: 0.650800\n",
      "Epoch 95, CIFAR-10 Batch 1:  Loss:     0.2807 Validation Accuracy: 0.650400\n",
      "Epoch 96, CIFAR-10 Batch 1:  Loss:     0.2768 Validation Accuracy: 0.656400\n",
      "Epoch 97, CIFAR-10 Batch 1:  Loss:     0.2771 Validation Accuracy: 0.650800\n",
      "Epoch 98, CIFAR-10 Batch 1:  Loss:     0.2573 Validation Accuracy: 0.652800\n",
      "Epoch 99, CIFAR-10 Batch 1:  Loss:     0.2619 Validation Accuracy: 0.646000\n",
      "Epoch 100, CIFAR-10 Batch 1:  Loss:     0.2591 Validation Accuracy: 0.649000\n"
     ]
    }
   ],
   "source": [
    "\"\"\"\n",
    "DON'T MODIFY ANYTHING IN THIS CELL\n",
    "\"\"\"\n",
    "print('Checking the Training on a Single Batch...')\n",
    "\n",
    "with tf.Session(config=config) as sess:\n",
    "    # Initializing the variables\n",
    "    sess.run(tf.global_variables_initializer())\n",
    "    \n",
    "    # Training cycle\n",
    "    for epoch in range(epochs):\n",
    "        batch_i = 1\n",
    "        for batch_features, batch_labels in helper.load_preprocess_training_batch(batch_i, batch_size):\n",
    "            train_neural_network(sess, optimizer, keep_probability, batch_features, batch_labels)\n",
    "        print('Epoch {:>2}, CIFAR-10 Batch {}:  '.format(epoch + 1, batch_i), end='')\n",
    "        print_stats(sess, batch_features, batch_labels, cost, accuracy)"
   ]
  },
  {
   "cell_type": "markdown",
   "metadata": {},
   "source": [
    "### Fully Train the Model\n",
    "Now that you got a good accuracy with a single CIFAR-10 batch, try it with all five batches."
   ]
  },
  {
   "cell_type": "code",
   "execution_count": 20,
   "metadata": {},
   "outputs": [
    {
     "name": "stdout",
     "output_type": "stream",
     "text": [
      "Training...\n",
      "Epoch  1, CIFAR-10 Batch 1:  Loss:     2.1923 Validation Accuracy: 0.252800\n",
      "Epoch  1, CIFAR-10 Batch 2:  Loss:     1.8601 Validation Accuracy: 0.348200\n",
      "Epoch  1, CIFAR-10 Batch 3:  Loss:     1.6501 Validation Accuracy: 0.380800\n",
      "Epoch  1, CIFAR-10 Batch 4:  Loss:     1.5759 Validation Accuracy: 0.416000\n",
      "Epoch  1, CIFAR-10 Batch 5:  Loss:     1.5793 Validation Accuracy: 0.435600\n",
      "Epoch  2, CIFAR-10 Batch 1:  Loss:     1.5899 Validation Accuracy: 0.461400\n",
      "Epoch  2, CIFAR-10 Batch 2:  Loss:     1.4795 Validation Accuracy: 0.475400\n",
      "Epoch  2, CIFAR-10 Batch 3:  Loss:     1.3267 Validation Accuracy: 0.482600\n",
      "Epoch  2, CIFAR-10 Batch 4:  Loss:     1.3489 Validation Accuracy: 0.499200\n",
      "Epoch  2, CIFAR-10 Batch 5:  Loss:     1.3762 Validation Accuracy: 0.494400\n",
      "Epoch  3, CIFAR-10 Batch 1:  Loss:     1.4329 Validation Accuracy: 0.513600\n",
      "Epoch  3, CIFAR-10 Batch 2:  Loss:     1.3349 Validation Accuracy: 0.524200\n",
      "Epoch  3, CIFAR-10 Batch 3:  Loss:     1.1995 Validation Accuracy: 0.528800\n",
      "Epoch  3, CIFAR-10 Batch 4:  Loss:     1.2459 Validation Accuracy: 0.527400\n",
      "Epoch  3, CIFAR-10 Batch 5:  Loss:     1.2484 Validation Accuracy: 0.539800\n",
      "Epoch  4, CIFAR-10 Batch 1:  Loss:     1.3205 Validation Accuracy: 0.558000\n",
      "Epoch  4, CIFAR-10 Batch 2:  Loss:     1.2332 Validation Accuracy: 0.553800\n",
      "Epoch  4, CIFAR-10 Batch 3:  Loss:     1.1265 Validation Accuracy: 0.555600\n",
      "Epoch  4, CIFAR-10 Batch 4:  Loss:     1.1351 Validation Accuracy: 0.568600\n",
      "Epoch  4, CIFAR-10 Batch 5:  Loss:     1.1595 Validation Accuracy: 0.561200\n",
      "Epoch  5, CIFAR-10 Batch 1:  Loss:     1.2385 Validation Accuracy: 0.572800\n",
      "Epoch  5, CIFAR-10 Batch 2:  Loss:     1.1518 Validation Accuracy: 0.577800\n",
      "Epoch  5, CIFAR-10 Batch 3:  Loss:     1.0751 Validation Accuracy: 0.573600\n",
      "Epoch  5, CIFAR-10 Batch 4:  Loss:     1.0772 Validation Accuracy: 0.594200\n",
      "Epoch  5, CIFAR-10 Batch 5:  Loss:     1.0860 Validation Accuracy: 0.589200\n",
      "Epoch  6, CIFAR-10 Batch 1:  Loss:     1.1829 Validation Accuracy: 0.588600\n",
      "Epoch  6, CIFAR-10 Batch 2:  Loss:     1.1455 Validation Accuracy: 0.581000\n",
      "Epoch  6, CIFAR-10 Batch 3:  Loss:     1.0055 Validation Accuracy: 0.592400\n",
      "Epoch  6, CIFAR-10 Batch 4:  Loss:     1.0390 Validation Accuracy: 0.597600\n",
      "Epoch  6, CIFAR-10 Batch 5:  Loss:     1.0440 Validation Accuracy: 0.592400\n",
      "Epoch  7, CIFAR-10 Batch 1:  Loss:     1.1355 Validation Accuracy: 0.599800\n",
      "Epoch  7, CIFAR-10 Batch 2:  Loss:     1.0700 Validation Accuracy: 0.597600\n",
      "Epoch  7, CIFAR-10 Batch 3:  Loss:     0.9864 Validation Accuracy: 0.598800\n",
      "Epoch  7, CIFAR-10 Batch 4:  Loss:     0.9895 Validation Accuracy: 0.614400\n",
      "Epoch  7, CIFAR-10 Batch 5:  Loss:     0.9937 Validation Accuracy: 0.606400\n",
      "Epoch  8, CIFAR-10 Batch 1:  Loss:     1.1003 Validation Accuracy: 0.608400\n",
      "Epoch  8, CIFAR-10 Batch 2:  Loss:     1.0450 Validation Accuracy: 0.615400\n",
      "Epoch  8, CIFAR-10 Batch 3:  Loss:     0.9526 Validation Accuracy: 0.616000\n",
      "Epoch  8, CIFAR-10 Batch 4:  Loss:     0.9583 Validation Accuracy: 0.620000\n",
      "Epoch  8, CIFAR-10 Batch 5:  Loss:     0.9449 Validation Accuracy: 0.614800\n",
      "Epoch  9, CIFAR-10 Batch 1:  Loss:     1.0670 Validation Accuracy: 0.618000\n",
      "Epoch  9, CIFAR-10 Batch 2:  Loss:     0.9896 Validation Accuracy: 0.621200\n",
      "Epoch  9, CIFAR-10 Batch 3:  Loss:     0.9144 Validation Accuracy: 0.616000\n",
      "Epoch  9, CIFAR-10 Batch 4:  Loss:     0.9554 Validation Accuracy: 0.620800\n",
      "Epoch  9, CIFAR-10 Batch 5:  Loss:     0.9327 Validation Accuracy: 0.616000\n",
      "Epoch 10, CIFAR-10 Batch 1:  Loss:     1.0424 Validation Accuracy: 0.618400\n",
      "Epoch 10, CIFAR-10 Batch 2:  Loss:     0.9862 Validation Accuracy: 0.628800\n",
      "Epoch 10, CIFAR-10 Batch 3:  Loss:     0.8904 Validation Accuracy: 0.618600\n",
      "Epoch 10, CIFAR-10 Batch 4:  Loss:     0.9191 Validation Accuracy: 0.636200\n",
      "Epoch 10, CIFAR-10 Batch 5:  Loss:     0.8983 Validation Accuracy: 0.631600\n",
      "Epoch 11, CIFAR-10 Batch 1:  Loss:     1.0016 Validation Accuracy: 0.627000\n",
      "Epoch 11, CIFAR-10 Batch 2:  Loss:     0.9296 Validation Accuracy: 0.634600\n",
      "Epoch 11, CIFAR-10 Batch 3:  Loss:     0.8737 Validation Accuracy: 0.635200\n",
      "Epoch 11, CIFAR-10 Batch 4:  Loss:     0.8904 Validation Accuracy: 0.634600\n",
      "Epoch 11, CIFAR-10 Batch 5:  Loss:     0.8749 Validation Accuracy: 0.635000\n",
      "Epoch 12, CIFAR-10 Batch 1:  Loss:     0.9761 Validation Accuracy: 0.637000\n",
      "Epoch 12, CIFAR-10 Batch 2:  Loss:     0.8995 Validation Accuracy: 0.646000\n",
      "Epoch 12, CIFAR-10 Batch 3:  Loss:     0.8528 Validation Accuracy: 0.641000\n",
      "Epoch 12, CIFAR-10 Batch 4:  Loss:     0.8676 Validation Accuracy: 0.648400\n",
      "Epoch 12, CIFAR-10 Batch 5:  Loss:     0.8734 Validation Accuracy: 0.637200\n",
      "Epoch 13, CIFAR-10 Batch 1:  Loss:     0.9768 Validation Accuracy: 0.641800\n",
      "Epoch 13, CIFAR-10 Batch 2:  Loss:     0.8963 Validation Accuracy: 0.641000\n",
      "Epoch 13, CIFAR-10 Batch 3:  Loss:     0.8384 Validation Accuracy: 0.642000\n",
      "Epoch 13, CIFAR-10 Batch 4:  Loss:     0.8554 Validation Accuracy: 0.651800\n",
      "Epoch 13, CIFAR-10 Batch 5:  Loss:     0.8483 Validation Accuracy: 0.648000\n",
      "Epoch 14, CIFAR-10 Batch 1:  Loss:     0.9430 Validation Accuracy: 0.648400\n",
      "Epoch 14, CIFAR-10 Batch 2:  Loss:     0.8969 Validation Accuracy: 0.644400\n",
      "Epoch 14, CIFAR-10 Batch 3:  Loss:     0.8006 Validation Accuracy: 0.654000\n",
      "Epoch 14, CIFAR-10 Batch 4:  Loss:     0.8200 Validation Accuracy: 0.655400\n",
      "Epoch 14, CIFAR-10 Batch 5:  Loss:     0.8063 Validation Accuracy: 0.654600\n",
      "Epoch 15, CIFAR-10 Batch 1:  Loss:     0.9104 Validation Accuracy: 0.656400\n",
      "Epoch 15, CIFAR-10 Batch 2:  Loss:     0.8538 Validation Accuracy: 0.652600\n",
      "Epoch 15, CIFAR-10 Batch 3:  Loss:     0.7825 Validation Accuracy: 0.652000\n",
      "Epoch 15, CIFAR-10 Batch 4:  Loss:     0.8222 Validation Accuracy: 0.660000\n",
      "Epoch 15, CIFAR-10 Batch 5:  Loss:     0.7994 Validation Accuracy: 0.646400\n",
      "Epoch 16, CIFAR-10 Batch 1:  Loss:     0.8954 Validation Accuracy: 0.652200\n",
      "Epoch 16, CIFAR-10 Batch 2:  Loss:     0.8375 Validation Accuracy: 0.656800\n",
      "Epoch 16, CIFAR-10 Batch 3:  Loss:     0.7960 Validation Accuracy: 0.648400\n",
      "Epoch 16, CIFAR-10 Batch 4:  Loss:     0.7985 Validation Accuracy: 0.654000\n",
      "Epoch 16, CIFAR-10 Batch 5:  Loss:     0.7885 Validation Accuracy: 0.657400\n",
      "Epoch 17, CIFAR-10 Batch 1:  Loss:     0.8987 Validation Accuracy: 0.653200\n",
      "Epoch 17, CIFAR-10 Batch 2:  Loss:     0.8152 Validation Accuracy: 0.655600\n",
      "Epoch 17, CIFAR-10 Batch 3:  Loss:     0.7518 Validation Accuracy: 0.653000\n",
      "Epoch 17, CIFAR-10 Batch 4:  Loss:     0.8055 Validation Accuracy: 0.659800\n",
      "Epoch 17, CIFAR-10 Batch 5:  Loss:     0.7742 Validation Accuracy: 0.661200\n",
      "Epoch 18, CIFAR-10 Batch 1:  Loss:     0.8686 Validation Accuracy: 0.661200\n",
      "Epoch 18, CIFAR-10 Batch 2:  Loss:     0.8027 Validation Accuracy: 0.667600\n",
      "Epoch 18, CIFAR-10 Batch 3:  Loss:     0.7356 Validation Accuracy: 0.661400\n",
      "Epoch 18, CIFAR-10 Batch 4:  Loss:     0.7829 Validation Accuracy: 0.663600\n",
      "Epoch 18, CIFAR-10 Batch 5:  Loss:     0.7655 Validation Accuracy: 0.663200\n",
      "Epoch 19, CIFAR-10 Batch 1:  Loss:     0.8556 Validation Accuracy: 0.661600\n",
      "Epoch 19, CIFAR-10 Batch 2:  Loss:     0.7900 Validation Accuracy: 0.668600\n",
      "Epoch 19, CIFAR-10 Batch 3:  Loss:     0.7322 Validation Accuracy: 0.661000\n",
      "Epoch 19, CIFAR-10 Batch 4:  Loss:     0.7572 Validation Accuracy: 0.670200\n",
      "Epoch 19, CIFAR-10 Batch 5:  Loss:     0.7412 Validation Accuracy: 0.667000\n",
      "Epoch 20, CIFAR-10 Batch 1:  Loss:     0.8235 Validation Accuracy: 0.661000\n",
      "Epoch 20, CIFAR-10 Batch 2:  Loss:     0.7688 Validation Accuracy: 0.670600\n",
      "Epoch 20, CIFAR-10 Batch 3:  Loss:     0.7216 Validation Accuracy: 0.664800\n",
      "Epoch 20, CIFAR-10 Batch 4:  Loss:     0.7291 Validation Accuracy: 0.673400\n",
      "Epoch 20, CIFAR-10 Batch 5:  Loss:     0.7426 Validation Accuracy: 0.667600\n",
      "Epoch 21, CIFAR-10 Batch 1:  Loss:     0.8149 Validation Accuracy: 0.667000\n",
      "Epoch 21, CIFAR-10 Batch 2:  Loss:     0.7559 Validation Accuracy: 0.671000\n",
      "Epoch 21, CIFAR-10 Batch 3:  Loss:     0.7035 Validation Accuracy: 0.669800\n",
      "Epoch 21, CIFAR-10 Batch 4:  Loss:     0.7182 Validation Accuracy: 0.672200\n",
      "Epoch 21, CIFAR-10 Batch 5:  Loss:     0.7289 Validation Accuracy: 0.675600\n",
      "Epoch 22, CIFAR-10 Batch 1:  Loss:     0.7976 Validation Accuracy: 0.664400\n",
      "Epoch 22, CIFAR-10 Batch 2:  Loss:     0.7475 Validation Accuracy: 0.670800\n",
      "Epoch 22, CIFAR-10 Batch 3:  Loss:     0.6678 Validation Accuracy: 0.669800\n"
     ]
    },
    {
     "name": "stdout",
     "output_type": "stream",
     "text": [
      "Epoch 22, CIFAR-10 Batch 4:  Loss:     0.7074 Validation Accuracy: 0.675800\n",
      "Epoch 22, CIFAR-10 Batch 5:  Loss:     0.7157 Validation Accuracy: 0.673400\n",
      "Epoch 23, CIFAR-10 Batch 1:  Loss:     0.7749 Validation Accuracy: 0.677000\n",
      "Epoch 23, CIFAR-10 Batch 2:  Loss:     0.7332 Validation Accuracy: 0.679800\n",
      "Epoch 23, CIFAR-10 Batch 3:  Loss:     0.6880 Validation Accuracy: 0.674800\n",
      "Epoch 23, CIFAR-10 Batch 4:  Loss:     0.6968 Validation Accuracy: 0.676000\n",
      "Epoch 23, CIFAR-10 Batch 5:  Loss:     0.6942 Validation Accuracy: 0.677000\n",
      "Epoch 24, CIFAR-10 Batch 1:  Loss:     0.7662 Validation Accuracy: 0.676400\n",
      "Epoch 24, CIFAR-10 Batch 2:  Loss:     0.7106 Validation Accuracy: 0.674400\n",
      "Epoch 24, CIFAR-10 Batch 3:  Loss:     0.6741 Validation Accuracy: 0.671400\n",
      "Epoch 24, CIFAR-10 Batch 4:  Loss:     0.6824 Validation Accuracy: 0.678000\n",
      "Epoch 24, CIFAR-10 Batch 5:  Loss:     0.6934 Validation Accuracy: 0.680200\n",
      "Epoch 25, CIFAR-10 Batch 1:  Loss:     0.7544 Validation Accuracy: 0.674200\n",
      "Epoch 25, CIFAR-10 Batch 2:  Loss:     0.7055 Validation Accuracy: 0.678200\n",
      "Epoch 25, CIFAR-10 Batch 3:  Loss:     0.6517 Validation Accuracy: 0.679000\n",
      "Epoch 25, CIFAR-10 Batch 4:  Loss:     0.6707 Validation Accuracy: 0.680400\n",
      "Epoch 25, CIFAR-10 Batch 5:  Loss:     0.6729 Validation Accuracy: 0.682200\n",
      "Epoch 26, CIFAR-10 Batch 1:  Loss:     0.7422 Validation Accuracy: 0.678800\n",
      "Epoch 26, CIFAR-10 Batch 2:  Loss:     0.7007 Validation Accuracy: 0.679400\n",
      "Epoch 26, CIFAR-10 Batch 3:  Loss:     0.6265 Validation Accuracy: 0.671800\n",
      "Epoch 26, CIFAR-10 Batch 4:  Loss:     0.6610 Validation Accuracy: 0.682000\n",
      "Epoch 26, CIFAR-10 Batch 5:  Loss:     0.6715 Validation Accuracy: 0.678000\n",
      "Epoch 27, CIFAR-10 Batch 1:  Loss:     0.7445 Validation Accuracy: 0.681600\n",
      "Epoch 27, CIFAR-10 Batch 2:  Loss:     0.7200 Validation Accuracy: 0.674000\n",
      "Epoch 27, CIFAR-10 Batch 3:  Loss:     0.6353 Validation Accuracy: 0.680000\n",
      "Epoch 27, CIFAR-10 Batch 4:  Loss:     0.6698 Validation Accuracy: 0.685400\n",
      "Epoch 27, CIFAR-10 Batch 5:  Loss:     0.6605 Validation Accuracy: 0.681600\n",
      "Epoch 28, CIFAR-10 Batch 1:  Loss:     0.7257 Validation Accuracy: 0.678600\n",
      "Epoch 28, CIFAR-10 Batch 2:  Loss:     0.6870 Validation Accuracy: 0.682000\n",
      "Epoch 28, CIFAR-10 Batch 3:  Loss:     0.6341 Validation Accuracy: 0.676000\n",
      "Epoch 28, CIFAR-10 Batch 4:  Loss:     0.6495 Validation Accuracy: 0.682000\n",
      "Epoch 28, CIFAR-10 Batch 5:  Loss:     0.6326 Validation Accuracy: 0.685800\n",
      "Epoch 29, CIFAR-10 Batch 1:  Loss:     0.7051 Validation Accuracy: 0.681400\n",
      "Epoch 29, CIFAR-10 Batch 2:  Loss:     0.6715 Validation Accuracy: 0.685000\n",
      "Epoch 29, CIFAR-10 Batch 3:  Loss:     0.6320 Validation Accuracy: 0.683600\n",
      "Epoch 29, CIFAR-10 Batch 4:  Loss:     0.6338 Validation Accuracy: 0.683200\n",
      "Epoch 29, CIFAR-10 Batch 5:  Loss:     0.6539 Validation Accuracy: 0.677200\n",
      "Epoch 30, CIFAR-10 Batch 1:  Loss:     0.6860 Validation Accuracy: 0.687400\n",
      "Epoch 30, CIFAR-10 Batch 2:  Loss:     0.6706 Validation Accuracy: 0.683600\n",
      "Epoch 30, CIFAR-10 Batch 3:  Loss:     0.6056 Validation Accuracy: 0.681400\n",
      "Epoch 30, CIFAR-10 Batch 4:  Loss:     0.6479 Validation Accuracy: 0.679400\n",
      "Epoch 30, CIFAR-10 Batch 5:  Loss:     0.6393 Validation Accuracy: 0.683600\n",
      "Epoch 31, CIFAR-10 Batch 1:  Loss:     0.6808 Validation Accuracy: 0.689200\n",
      "Epoch 31, CIFAR-10 Batch 2:  Loss:     0.6502 Validation Accuracy: 0.684000\n",
      "Epoch 31, CIFAR-10 Batch 3:  Loss:     0.5815 Validation Accuracy: 0.689400\n",
      "Epoch 31, CIFAR-10 Batch 4:  Loss:     0.5945 Validation Accuracy: 0.685200\n",
      "Epoch 31, CIFAR-10 Batch 5:  Loss:     0.6180 Validation Accuracy: 0.691000\n",
      "Epoch 32, CIFAR-10 Batch 1:  Loss:     0.6709 Validation Accuracy: 0.691600\n",
      "Epoch 32, CIFAR-10 Batch 2:  Loss:     0.6566 Validation Accuracy: 0.686800\n",
      "Epoch 32, CIFAR-10 Batch 3:  Loss:     0.5850 Validation Accuracy: 0.689400\n",
      "Epoch 32, CIFAR-10 Batch 4:  Loss:     0.6184 Validation Accuracy: 0.686000\n",
      "Epoch 32, CIFAR-10 Batch 5:  Loss:     0.6069 Validation Accuracy: 0.686400\n",
      "Epoch 33, CIFAR-10 Batch 1:  Loss:     0.6649 Validation Accuracy: 0.691000\n",
      "Epoch 33, CIFAR-10 Batch 2:  Loss:     0.6232 Validation Accuracy: 0.688400\n",
      "Epoch 33, CIFAR-10 Batch 3:  Loss:     0.5869 Validation Accuracy: 0.689800\n",
      "Epoch 33, CIFAR-10 Batch 4:  Loss:     0.5834 Validation Accuracy: 0.688800\n",
      "Epoch 33, CIFAR-10 Batch 5:  Loss:     0.6154 Validation Accuracy: 0.690800\n",
      "Epoch 34, CIFAR-10 Batch 1:  Loss:     0.6696 Validation Accuracy: 0.691400\n",
      "Epoch 34, CIFAR-10 Batch 2:  Loss:     0.6288 Validation Accuracy: 0.688800\n",
      "Epoch 34, CIFAR-10 Batch 3:  Loss:     0.5846 Validation Accuracy: 0.686600\n",
      "Epoch 34, CIFAR-10 Batch 4:  Loss:     0.5867 Validation Accuracy: 0.687800\n",
      "Epoch 34, CIFAR-10 Batch 5:  Loss:     0.6019 Validation Accuracy: 0.687800\n",
      "Epoch 35, CIFAR-10 Batch 1:  Loss:     0.6583 Validation Accuracy: 0.692000\n",
      "Epoch 35, CIFAR-10 Batch 2:  Loss:     0.6146 Validation Accuracy: 0.696000\n",
      "Epoch 35, CIFAR-10 Batch 3:  Loss:     0.5655 Validation Accuracy: 0.690400\n",
      "Epoch 35, CIFAR-10 Batch 4:  Loss:     0.5698 Validation Accuracy: 0.690200\n",
      "Epoch 35, CIFAR-10 Batch 5:  Loss:     0.5828 Validation Accuracy: 0.691000\n",
      "Epoch 36, CIFAR-10 Batch 1:  Loss:     0.6545 Validation Accuracy: 0.688800\n",
      "Epoch 36, CIFAR-10 Batch 2:  Loss:     0.6111 Validation Accuracy: 0.690400\n",
      "Epoch 36, CIFAR-10 Batch 3:  Loss:     0.5657 Validation Accuracy: 0.689600\n",
      "Epoch 36, CIFAR-10 Batch 4:  Loss:     0.5692 Validation Accuracy: 0.696200\n",
      "Epoch 36, CIFAR-10 Batch 5:  Loss:     0.5700 Validation Accuracy: 0.690200\n",
      "Epoch 37, CIFAR-10 Batch 1:  Loss:     0.6253 Validation Accuracy: 0.689000\n",
      "Epoch 37, CIFAR-10 Batch 2:  Loss:     0.6026 Validation Accuracy: 0.693400\n",
      "Epoch 37, CIFAR-10 Batch 3:  Loss:     0.5698 Validation Accuracy: 0.685600\n",
      "Epoch 37, CIFAR-10 Batch 4:  Loss:     0.5555 Validation Accuracy: 0.692800\n",
      "Epoch 37, CIFAR-10 Batch 5:  Loss:     0.5656 Validation Accuracy: 0.694000\n",
      "Epoch 38, CIFAR-10 Batch 1:  Loss:     0.6113 Validation Accuracy: 0.696600\n",
      "Epoch 38, CIFAR-10 Batch 2:  Loss:     0.6011 Validation Accuracy: 0.693000\n",
      "Epoch 38, CIFAR-10 Batch 3:  Loss:     0.5426 Validation Accuracy: 0.695000\n",
      "Epoch 38, CIFAR-10 Batch 4:  Loss:     0.5588 Validation Accuracy: 0.688400\n",
      "Epoch 38, CIFAR-10 Batch 5:  Loss:     0.5555 Validation Accuracy: 0.692000\n",
      "Epoch 39, CIFAR-10 Batch 1:  Loss:     0.6108 Validation Accuracy: 0.693600\n",
      "Epoch 39, CIFAR-10 Batch 2:  Loss:     0.5719 Validation Accuracy: 0.696000\n",
      "Epoch 39, CIFAR-10 Batch 3:  Loss:     0.5239 Validation Accuracy: 0.697200\n",
      "Epoch 39, CIFAR-10 Batch 4:  Loss:     0.5509 Validation Accuracy: 0.696200\n",
      "Epoch 39, CIFAR-10 Batch 5:  Loss:     0.5619 Validation Accuracy: 0.696200\n",
      "Epoch 40, CIFAR-10 Batch 1:  Loss:     0.6072 Validation Accuracy: 0.697000\n",
      "Epoch 40, CIFAR-10 Batch 2:  Loss:     0.5762 Validation Accuracy: 0.694000\n",
      "Epoch 40, CIFAR-10 Batch 3:  Loss:     0.5139 Validation Accuracy: 0.697400\n",
      "Epoch 40, CIFAR-10 Batch 4:  Loss:     0.5468 Validation Accuracy: 0.701000\n",
      "Epoch 40, CIFAR-10 Batch 5:  Loss:     0.5567 Validation Accuracy: 0.697000\n",
      "Epoch 41, CIFAR-10 Batch 1:  Loss:     0.6244 Validation Accuracy: 0.693400\n",
      "Epoch 41, CIFAR-10 Batch 2:  Loss:     0.5758 Validation Accuracy: 0.696400\n",
      "Epoch 41, CIFAR-10 Batch 3:  Loss:     0.5200 Validation Accuracy: 0.695800\n",
      "Epoch 41, CIFAR-10 Batch 4:  Loss:     0.5478 Validation Accuracy: 0.696200\n",
      "Epoch 41, CIFAR-10 Batch 5:  Loss:     0.5481 Validation Accuracy: 0.694400\n",
      "Epoch 42, CIFAR-10 Batch 1:  Loss:     0.6016 Validation Accuracy: 0.692200\n",
      "Epoch 42, CIFAR-10 Batch 2:  Loss:     0.5678 Validation Accuracy: 0.689000\n",
      "Epoch 42, CIFAR-10 Batch 3:  Loss:     0.5116 Validation Accuracy: 0.694800\n",
      "Epoch 42, CIFAR-10 Batch 4:  Loss:     0.5438 Validation Accuracy: 0.694200\n",
      "Epoch 42, CIFAR-10 Batch 5:  Loss:     0.5305 Validation Accuracy: 0.695000\n",
      "Epoch 43, CIFAR-10 Batch 1:  Loss:     0.5730 Validation Accuracy: 0.700800\n",
      "Epoch 43, CIFAR-10 Batch 2:  Loss:     0.5446 Validation Accuracy: 0.699400\n",
      "Epoch 43, CIFAR-10 Batch 3:  Loss:     0.5068 Validation Accuracy: 0.699400\n",
      "Epoch 43, CIFAR-10 Batch 4:  Loss:     0.5134 Validation Accuracy: 0.696800\n",
      "Epoch 43, CIFAR-10 Batch 5:  Loss:     0.5480 Validation Accuracy: 0.694800\n",
      "Epoch 44, CIFAR-10 Batch 1:  Loss:     0.5879 Validation Accuracy: 0.700600\n"
     ]
    },
    {
     "name": "stdout",
     "output_type": "stream",
     "text": [
      "Epoch 44, CIFAR-10 Batch 2:  Loss:     0.5423 Validation Accuracy: 0.699200\n",
      "Epoch 44, CIFAR-10 Batch 3:  Loss:     0.4840 Validation Accuracy: 0.696400\n",
      "Epoch 44, CIFAR-10 Batch 4:  Loss:     0.5203 Validation Accuracy: 0.701000\n",
      "Epoch 44, CIFAR-10 Batch 5:  Loss:     0.5107 Validation Accuracy: 0.700800\n",
      "Epoch 45, CIFAR-10 Batch 1:  Loss:     0.5556 Validation Accuracy: 0.696600\n",
      "Epoch 45, CIFAR-10 Batch 2:  Loss:     0.5361 Validation Accuracy: 0.701200\n",
      "Epoch 45, CIFAR-10 Batch 3:  Loss:     0.5013 Validation Accuracy: 0.701200\n",
      "Epoch 45, CIFAR-10 Batch 4:  Loss:     0.5069 Validation Accuracy: 0.701000\n",
      "Epoch 45, CIFAR-10 Batch 5:  Loss:     0.5067 Validation Accuracy: 0.699800\n",
      "Epoch 46, CIFAR-10 Batch 1:  Loss:     0.5632 Validation Accuracy: 0.698800\n",
      "Epoch 46, CIFAR-10 Batch 2:  Loss:     0.5276 Validation Accuracy: 0.697600\n",
      "Epoch 46, CIFAR-10 Batch 3:  Loss:     0.4729 Validation Accuracy: 0.704200\n",
      "Epoch 46, CIFAR-10 Batch 4:  Loss:     0.5227 Validation Accuracy: 0.694800\n",
      "Epoch 46, CIFAR-10 Batch 5:  Loss:     0.5084 Validation Accuracy: 0.703600\n",
      "Epoch 47, CIFAR-10 Batch 1:  Loss:     0.5483 Validation Accuracy: 0.700400\n",
      "Epoch 47, CIFAR-10 Batch 2:  Loss:     0.5244 Validation Accuracy: 0.702600\n",
      "Epoch 47, CIFAR-10 Batch 3:  Loss:     0.4720 Validation Accuracy: 0.703600\n",
      "Epoch 47, CIFAR-10 Batch 4:  Loss:     0.5072 Validation Accuracy: 0.705600\n",
      "Epoch 47, CIFAR-10 Batch 5:  Loss:     0.4944 Validation Accuracy: 0.700600\n",
      "Epoch 48, CIFAR-10 Batch 1:  Loss:     0.5341 Validation Accuracy: 0.702000\n",
      "Epoch 48, CIFAR-10 Batch 2:  Loss:     0.4994 Validation Accuracy: 0.704400\n",
      "Epoch 48, CIFAR-10 Batch 3:  Loss:     0.4924 Validation Accuracy: 0.699000\n",
      "Epoch 48, CIFAR-10 Batch 4:  Loss:     0.4699 Validation Accuracy: 0.704000\n",
      "Epoch 48, CIFAR-10 Batch 5:  Loss:     0.4972 Validation Accuracy: 0.702200\n",
      "Epoch 49, CIFAR-10 Batch 1:  Loss:     0.5351 Validation Accuracy: 0.705000\n",
      "Epoch 49, CIFAR-10 Batch 2:  Loss:     0.5065 Validation Accuracy: 0.704400\n",
      "Epoch 49, CIFAR-10 Batch 3:  Loss:     0.4859 Validation Accuracy: 0.706800\n",
      "Epoch 49, CIFAR-10 Batch 4:  Loss:     0.4595 Validation Accuracy: 0.706200\n",
      "Epoch 49, CIFAR-10 Batch 5:  Loss:     0.5063 Validation Accuracy: 0.701800\n",
      "Epoch 50, CIFAR-10 Batch 1:  Loss:     0.5392 Validation Accuracy: 0.700000\n",
      "Epoch 50, CIFAR-10 Batch 2:  Loss:     0.5088 Validation Accuracy: 0.707800\n",
      "Epoch 50, CIFAR-10 Batch 3:  Loss:     0.4670 Validation Accuracy: 0.708400\n",
      "Epoch 50, CIFAR-10 Batch 4:  Loss:     0.4726 Validation Accuracy: 0.700600\n",
      "Epoch 50, CIFAR-10 Batch 5:  Loss:     0.4796 Validation Accuracy: 0.704000\n",
      "Epoch 51, CIFAR-10 Batch 1:  Loss:     0.5198 Validation Accuracy: 0.700800\n",
      "Epoch 51, CIFAR-10 Batch 2:  Loss:     0.4801 Validation Accuracy: 0.708400\n",
      "Epoch 51, CIFAR-10 Batch 3:  Loss:     0.4521 Validation Accuracy: 0.708000\n",
      "Epoch 51, CIFAR-10 Batch 4:  Loss:     0.4535 Validation Accuracy: 0.701800\n",
      "Epoch 51, CIFAR-10 Batch 5:  Loss:     0.4671 Validation Accuracy: 0.702600\n",
      "Epoch 52, CIFAR-10 Batch 1:  Loss:     0.5180 Validation Accuracy: 0.712200\n",
      "Epoch 52, CIFAR-10 Batch 2:  Loss:     0.4848 Validation Accuracy: 0.702000\n",
      "Epoch 52, CIFAR-10 Batch 3:  Loss:     0.4649 Validation Accuracy: 0.707600\n",
      "Epoch 52, CIFAR-10 Batch 4:  Loss:     0.4756 Validation Accuracy: 0.706200\n",
      "Epoch 52, CIFAR-10 Batch 5:  Loss:     0.4740 Validation Accuracy: 0.706200\n",
      "Epoch 53, CIFAR-10 Batch 1:  Loss:     0.5256 Validation Accuracy: 0.703400\n",
      "Epoch 53, CIFAR-10 Batch 2:  Loss:     0.4907 Validation Accuracy: 0.702000\n",
      "Epoch 53, CIFAR-10 Batch 3:  Loss:     0.4470 Validation Accuracy: 0.706600\n",
      "Epoch 53, CIFAR-10 Batch 4:  Loss:     0.4662 Validation Accuracy: 0.701800\n",
      "Epoch 53, CIFAR-10 Batch 5:  Loss:     0.4753 Validation Accuracy: 0.710000\n",
      "Epoch 54, CIFAR-10 Batch 1:  Loss:     0.5075 Validation Accuracy: 0.706800\n",
      "Epoch 54, CIFAR-10 Batch 2:  Loss:     0.4837 Validation Accuracy: 0.708600\n",
      "Epoch 54, CIFAR-10 Batch 3:  Loss:     0.4511 Validation Accuracy: 0.706800\n",
      "Epoch 54, CIFAR-10 Batch 4:  Loss:     0.4474 Validation Accuracy: 0.707800\n",
      "Epoch 54, CIFAR-10 Batch 5:  Loss:     0.4474 Validation Accuracy: 0.707200\n",
      "Epoch 55, CIFAR-10 Batch 1:  Loss:     0.5099 Validation Accuracy: 0.703200\n",
      "Epoch 55, CIFAR-10 Batch 2:  Loss:     0.4734 Validation Accuracy: 0.706800\n",
      "Epoch 55, CIFAR-10 Batch 3:  Loss:     0.4467 Validation Accuracy: 0.704600\n",
      "Epoch 55, CIFAR-10 Batch 4:  Loss:     0.4425 Validation Accuracy: 0.705800\n",
      "Epoch 55, CIFAR-10 Batch 5:  Loss:     0.4472 Validation Accuracy: 0.709600\n",
      "Epoch 56, CIFAR-10 Batch 1:  Loss:     0.4917 Validation Accuracy: 0.710800\n",
      "Epoch 56, CIFAR-10 Batch 2:  Loss:     0.4764 Validation Accuracy: 0.709400\n",
      "Epoch 56, CIFAR-10 Batch 3:  Loss:     0.4343 Validation Accuracy: 0.708600\n",
      "Epoch 56, CIFAR-10 Batch 4:  Loss:     0.4276 Validation Accuracy: 0.705800\n",
      "Epoch 56, CIFAR-10 Batch 5:  Loss:     0.4368 Validation Accuracy: 0.706800\n",
      "Epoch 57, CIFAR-10 Batch 1:  Loss:     0.4789 Validation Accuracy: 0.706000\n",
      "Epoch 57, CIFAR-10 Batch 2:  Loss:     0.4630 Validation Accuracy: 0.710600\n",
      "Epoch 57, CIFAR-10 Batch 3:  Loss:     0.4283 Validation Accuracy: 0.705400\n",
      "Epoch 57, CIFAR-10 Batch 4:  Loss:     0.4316 Validation Accuracy: 0.707600\n",
      "Epoch 57, CIFAR-10 Batch 5:  Loss:     0.4363 Validation Accuracy: 0.709800\n",
      "Epoch 58, CIFAR-10 Batch 1:  Loss:     0.5034 Validation Accuracy: 0.705600\n",
      "Epoch 58, CIFAR-10 Batch 2:  Loss:     0.4625 Validation Accuracy: 0.705200\n",
      "Epoch 58, CIFAR-10 Batch 3:  Loss:     0.4185 Validation Accuracy: 0.708200\n",
      "Epoch 58, CIFAR-10 Batch 4:  Loss:     0.4256 Validation Accuracy: 0.706200\n",
      "Epoch 58, CIFAR-10 Batch 5:  Loss:     0.4266 Validation Accuracy: 0.704600\n",
      "Epoch 59, CIFAR-10 Batch 1:  Loss:     0.4775 Validation Accuracy: 0.708000\n",
      "Epoch 59, CIFAR-10 Batch 2:  Loss:     0.4548 Validation Accuracy: 0.705600\n",
      "Epoch 59, CIFAR-10 Batch 3:  Loss:     0.4280 Validation Accuracy: 0.712800\n",
      "Epoch 59, CIFAR-10 Batch 4:  Loss:     0.4186 Validation Accuracy: 0.708400\n",
      "Epoch 59, CIFAR-10 Batch 5:  Loss:     0.4450 Validation Accuracy: 0.705000\n",
      "Epoch 60, CIFAR-10 Batch 1:  Loss:     0.4932 Validation Accuracy: 0.705400\n",
      "Epoch 60, CIFAR-10 Batch 2:  Loss:     0.4488 Validation Accuracy: 0.711400\n",
      "Epoch 60, CIFAR-10 Batch 3:  Loss:     0.4166 Validation Accuracy: 0.712000\n",
      "Epoch 60, CIFAR-10 Batch 4:  Loss:     0.4138 Validation Accuracy: 0.708000\n",
      "Epoch 60, CIFAR-10 Batch 5:  Loss:     0.4276 Validation Accuracy: 0.702600\n",
      "Epoch 61, CIFAR-10 Batch 1:  Loss:     0.4725 Validation Accuracy: 0.704800\n",
      "Epoch 61, CIFAR-10 Batch 2:  Loss:     0.4334 Validation Accuracy: 0.710600\n",
      "Epoch 61, CIFAR-10 Batch 3:  Loss:     0.4136 Validation Accuracy: 0.711200\n",
      "Epoch 61, CIFAR-10 Batch 4:  Loss:     0.4171 Validation Accuracy: 0.708800\n",
      "Epoch 61, CIFAR-10 Batch 5:  Loss:     0.4112 Validation Accuracy: 0.704600\n",
      "Epoch 62, CIFAR-10 Batch 1:  Loss:     0.4605 Validation Accuracy: 0.707600\n",
      "Epoch 62, CIFAR-10 Batch 2:  Loss:     0.4451 Validation Accuracy: 0.707800\n",
      "Epoch 62, CIFAR-10 Batch 3:  Loss:     0.4241 Validation Accuracy: 0.711000\n",
      "Epoch 62, CIFAR-10 Batch 4:  Loss:     0.4117 Validation Accuracy: 0.708200\n",
      "Epoch 62, CIFAR-10 Batch 5:  Loss:     0.4231 Validation Accuracy: 0.707800\n",
      "Epoch 63, CIFAR-10 Batch 1:  Loss:     0.4640 Validation Accuracy: 0.707600\n",
      "Epoch 63, CIFAR-10 Batch 2:  Loss:     0.4273 Validation Accuracy: 0.715000\n",
      "Epoch 63, CIFAR-10 Batch 3:  Loss:     0.4039 Validation Accuracy: 0.713400\n",
      "Epoch 63, CIFAR-10 Batch 4:  Loss:     0.4073 Validation Accuracy: 0.712600\n",
      "Epoch 63, CIFAR-10 Batch 5:  Loss:     0.4197 Validation Accuracy: 0.711800\n",
      "Epoch 64, CIFAR-10 Batch 1:  Loss:     0.4958 Validation Accuracy: 0.705000\n",
      "Epoch 64, CIFAR-10 Batch 2:  Loss:     0.4309 Validation Accuracy: 0.708000\n",
      "Epoch 64, CIFAR-10 Batch 3:  Loss:     0.3905 Validation Accuracy: 0.709200\n",
      "Epoch 64, CIFAR-10 Batch 4:  Loss:     0.3981 Validation Accuracy: 0.707800\n",
      "Epoch 64, CIFAR-10 Batch 5:  Loss:     0.4133 Validation Accuracy: 0.709800\n",
      "Epoch 65, CIFAR-10 Batch 1:  Loss:     0.4438 Validation Accuracy: 0.715400\n",
      "Epoch 65, CIFAR-10 Batch 2:  Loss:     0.4340 Validation Accuracy: 0.714800\n",
      "Epoch 65, CIFAR-10 Batch 3:  Loss:     0.4210 Validation Accuracy: 0.708200\n",
      "Epoch 65, CIFAR-10 Batch 4:  Loss:     0.3925 Validation Accuracy: 0.709000\n"
     ]
    },
    {
     "name": "stdout",
     "output_type": "stream",
     "text": [
      "Epoch 65, CIFAR-10 Batch 5:  Loss:     0.4028 Validation Accuracy: 0.713200\n",
      "Epoch 66, CIFAR-10 Batch 1:  Loss:     0.4490 Validation Accuracy: 0.713000\n",
      "Epoch 66, CIFAR-10 Batch 2:  Loss:     0.4326 Validation Accuracy: 0.708400\n",
      "Epoch 66, CIFAR-10 Batch 3:  Loss:     0.3916 Validation Accuracy: 0.710600\n",
      "Epoch 66, CIFAR-10 Batch 4:  Loss:     0.3942 Validation Accuracy: 0.707400\n",
      "Epoch 66, CIFAR-10 Batch 5:  Loss:     0.4260 Validation Accuracy: 0.715200\n",
      "Epoch 67, CIFAR-10 Batch 1:  Loss:     0.4435 Validation Accuracy: 0.709000\n",
      "Epoch 67, CIFAR-10 Batch 2:  Loss:     0.4152 Validation Accuracy: 0.712400\n",
      "Epoch 67, CIFAR-10 Batch 3:  Loss:     0.4078 Validation Accuracy: 0.712600\n",
      "Epoch 67, CIFAR-10 Batch 4:  Loss:     0.4021 Validation Accuracy: 0.705200\n",
      "Epoch 67, CIFAR-10 Batch 5:  Loss:     0.4033 Validation Accuracy: 0.714000\n",
      "Epoch 68, CIFAR-10 Batch 1:  Loss:     0.4481 Validation Accuracy: 0.714000\n",
      "Epoch 68, CIFAR-10 Batch 2:  Loss:     0.4065 Validation Accuracy: 0.721200\n",
      "Epoch 68, CIFAR-10 Batch 3:  Loss:     0.3995 Validation Accuracy: 0.709400\n",
      "Epoch 68, CIFAR-10 Batch 4:  Loss:     0.4001 Validation Accuracy: 0.710600\n",
      "Epoch 68, CIFAR-10 Batch 5:  Loss:     0.4134 Validation Accuracy: 0.718800\n",
      "Epoch 69, CIFAR-10 Batch 1:  Loss:     0.4488 Validation Accuracy: 0.717800\n",
      "Epoch 69, CIFAR-10 Batch 2:  Loss:     0.3951 Validation Accuracy: 0.715600\n",
      "Epoch 69, CIFAR-10 Batch 3:  Loss:     0.3843 Validation Accuracy: 0.717800\n",
      "Epoch 69, CIFAR-10 Batch 4:  Loss:     0.3933 Validation Accuracy: 0.712600\n",
      "Epoch 69, CIFAR-10 Batch 5:  Loss:     0.3666 Validation Accuracy: 0.719000\n",
      "Epoch 70, CIFAR-10 Batch 1:  Loss:     0.4223 Validation Accuracy: 0.715600\n",
      "Epoch 70, CIFAR-10 Batch 2:  Loss:     0.3942 Validation Accuracy: 0.720400\n",
      "Epoch 70, CIFAR-10 Batch 3:  Loss:     0.3827 Validation Accuracy: 0.716800\n",
      "Epoch 70, CIFAR-10 Batch 4:  Loss:     0.3886 Validation Accuracy: 0.715200\n",
      "Epoch 70, CIFAR-10 Batch 5:  Loss:     0.3795 Validation Accuracy: 0.718600\n",
      "Epoch 71, CIFAR-10 Batch 1:  Loss:     0.4386 Validation Accuracy: 0.716600\n",
      "Epoch 71, CIFAR-10 Batch 2:  Loss:     0.3845 Validation Accuracy: 0.721000\n",
      "Epoch 71, CIFAR-10 Batch 3:  Loss:     0.3966 Validation Accuracy: 0.713400\n",
      "Epoch 71, CIFAR-10 Batch 4:  Loss:     0.3994 Validation Accuracy: 0.710800\n",
      "Epoch 71, CIFAR-10 Batch 5:  Loss:     0.3891 Validation Accuracy: 0.715200\n",
      "Epoch 72, CIFAR-10 Batch 1:  Loss:     0.4365 Validation Accuracy: 0.717800\n",
      "Epoch 72, CIFAR-10 Batch 2:  Loss:     0.3846 Validation Accuracy: 0.717200\n",
      "Epoch 72, CIFAR-10 Batch 3:  Loss:     0.3816 Validation Accuracy: 0.715000\n",
      "Epoch 72, CIFAR-10 Batch 4:  Loss:     0.3854 Validation Accuracy: 0.713600\n",
      "Epoch 72, CIFAR-10 Batch 5:  Loss:     0.3709 Validation Accuracy: 0.717200\n",
      "Epoch 73, CIFAR-10 Batch 1:  Loss:     0.4223 Validation Accuracy: 0.709400\n",
      "Epoch 73, CIFAR-10 Batch 2:  Loss:     0.4114 Validation Accuracy: 0.713600\n",
      "Epoch 73, CIFAR-10 Batch 3:  Loss:     0.3741 Validation Accuracy: 0.712200\n",
      "Epoch 73, CIFAR-10 Batch 4:  Loss:     0.3707 Validation Accuracy: 0.715600\n",
      "Epoch 73, CIFAR-10 Batch 5:  Loss:     0.3705 Validation Accuracy: 0.715600\n",
      "Epoch 74, CIFAR-10 Batch 1:  Loss:     0.4177 Validation Accuracy: 0.720200\n",
      "Epoch 74, CIFAR-10 Batch 2:  Loss:     0.3765 Validation Accuracy: 0.719800\n",
      "Epoch 74, CIFAR-10 Batch 3:  Loss:     0.3570 Validation Accuracy: 0.718600\n",
      "Epoch 74, CIFAR-10 Batch 4:  Loss:     0.3665 Validation Accuracy: 0.718800\n",
      "Epoch 74, CIFAR-10 Batch 5:  Loss:     0.3875 Validation Accuracy: 0.713400\n",
      "Epoch 75, CIFAR-10 Batch 1:  Loss:     0.3971 Validation Accuracy: 0.716400\n",
      "Epoch 75, CIFAR-10 Batch 2:  Loss:     0.3750 Validation Accuracy: 0.719000\n",
      "Epoch 75, CIFAR-10 Batch 3:  Loss:     0.3779 Validation Accuracy: 0.716600\n",
      "Epoch 75, CIFAR-10 Batch 4:  Loss:     0.3786 Validation Accuracy: 0.713600\n",
      "Epoch 75, CIFAR-10 Batch 5:  Loss:     0.3799 Validation Accuracy: 0.715800\n",
      "Epoch 76, CIFAR-10 Batch 1:  Loss:     0.4265 Validation Accuracy: 0.716200\n",
      "Epoch 76, CIFAR-10 Batch 2:  Loss:     0.3971 Validation Accuracy: 0.713000\n",
      "Epoch 76, CIFAR-10 Batch 3:  Loss:     0.3821 Validation Accuracy: 0.713400\n",
      "Epoch 76, CIFAR-10 Batch 4:  Loss:     0.3850 Validation Accuracy: 0.709400\n",
      "Epoch 76, CIFAR-10 Batch 5:  Loss:     0.3670 Validation Accuracy: 0.714200\n",
      "Epoch 77, CIFAR-10 Batch 1:  Loss:     0.4104 Validation Accuracy: 0.723000\n",
      "Epoch 77, CIFAR-10 Batch 2:  Loss:     0.3708 Validation Accuracy: 0.714200\n",
      "Epoch 77, CIFAR-10 Batch 3:  Loss:     0.3620 Validation Accuracy: 0.715800\n",
      "Epoch 77, CIFAR-10 Batch 4:  Loss:     0.3671 Validation Accuracy: 0.712600\n",
      "Epoch 77, CIFAR-10 Batch 5:  Loss:     0.3547 Validation Accuracy: 0.717800\n",
      "Epoch 78, CIFAR-10 Batch 1:  Loss:     0.3988 Validation Accuracy: 0.718200\n",
      "Epoch 78, CIFAR-10 Batch 2:  Loss:     0.3644 Validation Accuracy: 0.719400\n",
      "Epoch 78, CIFAR-10 Batch 3:  Loss:     0.3541 Validation Accuracy: 0.717600\n",
      "Epoch 78, CIFAR-10 Batch 4:  Loss:     0.3534 Validation Accuracy: 0.715400\n",
      "Epoch 78, CIFAR-10 Batch 5:  Loss:     0.3663 Validation Accuracy: 0.712800\n",
      "Epoch 79, CIFAR-10 Batch 1:  Loss:     0.3934 Validation Accuracy: 0.718800\n",
      "Epoch 79, CIFAR-10 Batch 2:  Loss:     0.3596 Validation Accuracy: 0.717200\n",
      "Epoch 79, CIFAR-10 Batch 3:  Loss:     0.3533 Validation Accuracy: 0.715400\n",
      "Epoch 79, CIFAR-10 Batch 4:  Loss:     0.3455 Validation Accuracy: 0.722600\n",
      "Epoch 79, CIFAR-10 Batch 5:  Loss:     0.3565 Validation Accuracy: 0.720800\n",
      "Epoch 80, CIFAR-10 Batch 1:  Loss:     0.4003 Validation Accuracy: 0.716000\n",
      "Epoch 80, CIFAR-10 Batch 2:  Loss:     0.3495 Validation Accuracy: 0.723800\n",
      "Epoch 80, CIFAR-10 Batch 3:  Loss:     0.3520 Validation Accuracy: 0.716200\n",
      "Epoch 80, CIFAR-10 Batch 4:  Loss:     0.3614 Validation Accuracy: 0.715000\n",
      "Epoch 80, CIFAR-10 Batch 5:  Loss:     0.3608 Validation Accuracy: 0.717800\n",
      "Epoch 81, CIFAR-10 Batch 1:  Loss:     0.4055 Validation Accuracy: 0.715600\n",
      "Epoch 81, CIFAR-10 Batch 2:  Loss:     0.3697 Validation Accuracy: 0.714200\n",
      "Epoch 81, CIFAR-10 Batch 3:  Loss:     0.3628 Validation Accuracy: 0.720200\n",
      "Epoch 81, CIFAR-10 Batch 4:  Loss:     0.3611 Validation Accuracy: 0.715800\n",
      "Epoch 81, CIFAR-10 Batch 5:  Loss:     0.3266 Validation Accuracy: 0.722800\n",
      "Epoch 82, CIFAR-10 Batch 1:  Loss:     0.3934 Validation Accuracy: 0.722000\n",
      "Epoch 82, CIFAR-10 Batch 2:  Loss:     0.3554 Validation Accuracy: 0.722600\n",
      "Epoch 82, CIFAR-10 Batch 3:  Loss:     0.3373 Validation Accuracy: 0.718000\n",
      "Epoch 82, CIFAR-10 Batch 4:  Loss:     0.3574 Validation Accuracy: 0.718600\n",
      "Epoch 82, CIFAR-10 Batch 5:  Loss:     0.3509 Validation Accuracy: 0.724800\n",
      "Epoch 83, CIFAR-10 Batch 1:  Loss:     0.3825 Validation Accuracy: 0.722000\n",
      "Epoch 83, CIFAR-10 Batch 2:  Loss:     0.3405 Validation Accuracy: 0.717800\n",
      "Epoch 83, CIFAR-10 Batch 3:  Loss:     0.3309 Validation Accuracy: 0.719000\n",
      "Epoch 83, CIFAR-10 Batch 4:  Loss:     0.3620 Validation Accuracy: 0.715600\n",
      "Epoch 83, CIFAR-10 Batch 5:  Loss:     0.3387 Validation Accuracy: 0.721400\n",
      "Epoch 84, CIFAR-10 Batch 1:  Loss:     0.3841 Validation Accuracy: 0.716800\n",
      "Epoch 84, CIFAR-10 Batch 2:  Loss:     0.3475 Validation Accuracy: 0.717600\n",
      "Epoch 84, CIFAR-10 Batch 3:  Loss:     0.3402 Validation Accuracy: 0.718200\n",
      "Epoch 84, CIFAR-10 Batch 4:  Loss:     0.3471 Validation Accuracy: 0.718400\n",
      "Epoch 84, CIFAR-10 Batch 5:  Loss:     0.3367 Validation Accuracy: 0.719200\n",
      "Epoch 85, CIFAR-10 Batch 1:  Loss:     0.3575 Validation Accuracy: 0.723000\n",
      "Epoch 85, CIFAR-10 Batch 2:  Loss:     0.3521 Validation Accuracy: 0.722400\n",
      "Epoch 85, CIFAR-10 Batch 3:  Loss:     0.3368 Validation Accuracy: 0.716200\n",
      "Epoch 85, CIFAR-10 Batch 4:  Loss:     0.3716 Validation Accuracy: 0.709200\n",
      "Epoch 85, CIFAR-10 Batch 5:  Loss:     0.3597 Validation Accuracy: 0.718000\n",
      "Epoch 86, CIFAR-10 Batch 1:  Loss:     0.3616 Validation Accuracy: 0.719000\n",
      "Epoch 86, CIFAR-10 Batch 2:  Loss:     0.3353 Validation Accuracy: 0.721600\n",
      "Epoch 86, CIFAR-10 Batch 3:  Loss:     0.3148 Validation Accuracy: 0.721400\n",
      "Epoch 86, CIFAR-10 Batch 4:  Loss:     0.3550 Validation Accuracy: 0.717000\n",
      "Epoch 86, CIFAR-10 Batch 5:  Loss:     0.3273 Validation Accuracy: 0.719600\n",
      "Epoch 87, CIFAR-10 Batch 1:  Loss:     0.3525 Validation Accuracy: 0.717200\n",
      "Epoch 87, CIFAR-10 Batch 2:  Loss:     0.3262 Validation Accuracy: 0.723000\n"
     ]
    },
    {
     "name": "stdout",
     "output_type": "stream",
     "text": [
      "Epoch 87, CIFAR-10 Batch 3:  Loss:     0.3320 Validation Accuracy: 0.719000\n",
      "Epoch 87, CIFAR-10 Batch 4:  Loss:     0.3462 Validation Accuracy: 0.716400\n",
      "Epoch 87, CIFAR-10 Batch 5:  Loss:     0.3327 Validation Accuracy: 0.724200\n",
      "Epoch 88, CIFAR-10 Batch 1:  Loss:     0.3544 Validation Accuracy: 0.714400\n",
      "Epoch 88, CIFAR-10 Batch 2:  Loss:     0.3372 Validation Accuracy: 0.718800\n",
      "Epoch 88, CIFAR-10 Batch 3:  Loss:     0.3325 Validation Accuracy: 0.719600\n",
      "Epoch 88, CIFAR-10 Batch 4:  Loss:     0.3437 Validation Accuracy: 0.712600\n",
      "Epoch 88, CIFAR-10 Batch 5:  Loss:     0.3184 Validation Accuracy: 0.718400\n",
      "Epoch 89, CIFAR-10 Batch 1:  Loss:     0.3685 Validation Accuracy: 0.722600\n",
      "Epoch 89, CIFAR-10 Batch 2:  Loss:     0.3231 Validation Accuracy: 0.723400\n",
      "Epoch 89, CIFAR-10 Batch 3:  Loss:     0.3223 Validation Accuracy: 0.720400\n",
      "Epoch 89, CIFAR-10 Batch 4:  Loss:     0.3325 Validation Accuracy: 0.718600\n",
      "Epoch 89, CIFAR-10 Batch 5:  Loss:     0.3110 Validation Accuracy: 0.721200\n",
      "Epoch 90, CIFAR-10 Batch 1:  Loss:     0.3529 Validation Accuracy: 0.718400\n",
      "Epoch 90, CIFAR-10 Batch 2:  Loss:     0.3380 Validation Accuracy: 0.726600\n",
      "Epoch 90, CIFAR-10 Batch 3:  Loss:     0.3061 Validation Accuracy: 0.720800\n",
      "Epoch 90, CIFAR-10 Batch 4:  Loss:     0.3297 Validation Accuracy: 0.714200\n",
      "Epoch 90, CIFAR-10 Batch 5:  Loss:     0.3123 Validation Accuracy: 0.724200\n",
      "Epoch 91, CIFAR-10 Batch 1:  Loss:     0.3425 Validation Accuracy: 0.723600\n",
      "Epoch 91, CIFAR-10 Batch 2:  Loss:     0.3306 Validation Accuracy: 0.722200\n",
      "Epoch 91, CIFAR-10 Batch 3:  Loss:     0.3177 Validation Accuracy: 0.721600\n",
      "Epoch 91, CIFAR-10 Batch 4:  Loss:     0.3459 Validation Accuracy: 0.713600\n",
      "Epoch 91, CIFAR-10 Batch 5:  Loss:     0.3146 Validation Accuracy: 0.718000\n",
      "Epoch 92, CIFAR-10 Batch 1:  Loss:     0.3415 Validation Accuracy: 0.722000\n",
      "Epoch 92, CIFAR-10 Batch 2:  Loss:     0.3484 Validation Accuracy: 0.723400\n",
      "Epoch 92, CIFAR-10 Batch 3:  Loss:     0.3248 Validation Accuracy: 0.718800\n",
      "Epoch 92, CIFAR-10 Batch 4:  Loss:     0.3229 Validation Accuracy: 0.713400\n",
      "Epoch 92, CIFAR-10 Batch 5:  Loss:     0.3219 Validation Accuracy: 0.722000\n",
      "Epoch 93, CIFAR-10 Batch 1:  Loss:     0.3326 Validation Accuracy: 0.718600\n",
      "Epoch 93, CIFAR-10 Batch 2:  Loss:     0.3230 Validation Accuracy: 0.722400\n",
      "Epoch 93, CIFAR-10 Batch 3:  Loss:     0.3043 Validation Accuracy: 0.718600\n",
      "Epoch 93, CIFAR-10 Batch 4:  Loss:     0.3314 Validation Accuracy: 0.715600\n",
      "Epoch 93, CIFAR-10 Batch 5:  Loss:     0.3143 Validation Accuracy: 0.717800\n",
      "Epoch 94, CIFAR-10 Batch 1:  Loss:     0.3500 Validation Accuracy: 0.711400\n",
      "Epoch 94, CIFAR-10 Batch 2:  Loss:     0.3131 Validation Accuracy: 0.720400\n",
      "Epoch 94, CIFAR-10 Batch 3:  Loss:     0.3167 Validation Accuracy: 0.711000\n",
      "Epoch 94, CIFAR-10 Batch 4:  Loss:     0.3253 Validation Accuracy: 0.715200\n",
      "Epoch 94, CIFAR-10 Batch 5:  Loss:     0.3091 Validation Accuracy: 0.727400\n",
      "Epoch 95, CIFAR-10 Batch 1:  Loss:     0.3395 Validation Accuracy: 0.721600\n",
      "Epoch 95, CIFAR-10 Batch 2:  Loss:     0.3028 Validation Accuracy: 0.724200\n",
      "Epoch 95, CIFAR-10 Batch 3:  Loss:     0.3146 Validation Accuracy: 0.719600\n",
      "Epoch 95, CIFAR-10 Batch 4:  Loss:     0.3125 Validation Accuracy: 0.718400\n",
      "Epoch 95, CIFAR-10 Batch 5:  Loss:     0.3037 Validation Accuracy: 0.716800\n",
      "Epoch 96, CIFAR-10 Batch 1:  Loss:     0.3381 Validation Accuracy: 0.718400\n",
      "Epoch 96, CIFAR-10 Batch 2:  Loss:     0.2931 Validation Accuracy: 0.725000\n",
      "Epoch 96, CIFAR-10 Batch 3:  Loss:     0.3073 Validation Accuracy: 0.715000\n",
      "Epoch 96, CIFAR-10 Batch 4:  Loss:     0.3141 Validation Accuracy: 0.720000\n",
      "Epoch 96, CIFAR-10 Batch 5:  Loss:     0.3100 Validation Accuracy: 0.723000\n",
      "Epoch 97, CIFAR-10 Batch 1:  Loss:     0.3567 Validation Accuracy: 0.712000\n",
      "Epoch 97, CIFAR-10 Batch 2:  Loss:     0.3080 Validation Accuracy: 0.722400\n",
      "Epoch 97, CIFAR-10 Batch 3:  Loss:     0.2907 Validation Accuracy: 0.718400\n",
      "Epoch 97, CIFAR-10 Batch 4:  Loss:     0.3067 Validation Accuracy: 0.719800\n",
      "Epoch 97, CIFAR-10 Batch 5:  Loss:     0.3001 Validation Accuracy: 0.724600\n",
      "Epoch 98, CIFAR-10 Batch 1:  Loss:     0.3234 Validation Accuracy: 0.720800\n",
      "Epoch 98, CIFAR-10 Batch 2:  Loss:     0.3028 Validation Accuracy: 0.721800\n",
      "Epoch 98, CIFAR-10 Batch 3:  Loss:     0.2954 Validation Accuracy: 0.716400\n",
      "Epoch 98, CIFAR-10 Batch 4:  Loss:     0.3166 Validation Accuracy: 0.715000\n",
      "Epoch 98, CIFAR-10 Batch 5:  Loss:     0.2976 Validation Accuracy: 0.724000\n",
      "Epoch 99, CIFAR-10 Batch 1:  Loss:     0.3228 Validation Accuracy: 0.718800\n",
      "Epoch 99, CIFAR-10 Batch 2:  Loss:     0.2984 Validation Accuracy: 0.717200\n",
      "Epoch 99, CIFAR-10 Batch 3:  Loss:     0.2919 Validation Accuracy: 0.718400\n",
      "Epoch 99, CIFAR-10 Batch 4:  Loss:     0.2905 Validation Accuracy: 0.718600\n",
      "Epoch 99, CIFAR-10 Batch 5:  Loss:     0.2715 Validation Accuracy: 0.722400\n",
      "Epoch 100, CIFAR-10 Batch 1:  Loss:     0.3083 Validation Accuracy: 0.726000\n",
      "Epoch 100, CIFAR-10 Batch 2:  Loss:     0.2934 Validation Accuracy: 0.727600\n",
      "Epoch 100, CIFAR-10 Batch 3:  Loss:     0.2772 Validation Accuracy: 0.723800\n",
      "Epoch 100, CIFAR-10 Batch 4:  Loss:     0.3007 Validation Accuracy: 0.716400\n",
      "Epoch 100, CIFAR-10 Batch 5:  Loss:     0.2826 Validation Accuracy: 0.725000\n"
     ]
    }
   ],
   "source": [
    "\"\"\"\n",
    "DON'T MODIFY ANYTHING IN THIS CELL\n",
    "\"\"\"\n",
    "save_model_path = './image_classification'\n",
    "\n",
    "loss = []\n",
    "acc =  []\n",
    "\n",
    "print('Training...')\n",
    "with tf.Session(config=config) as sess:\n",
    "    # Initializing the variables\n",
    "    sess.run(tf.global_variables_initializer())\n",
    "    \n",
    "    # Training cycle\n",
    "    for epoch in range(epochs):\n",
    "        # Loop over all batches\n",
    "        n_batches = 5\n",
    "        for batch_i in range(1, n_batches + 1):\n",
    "            for batch_features, batch_labels in helper.load_preprocess_training_batch(batch_i, batch_size):\n",
    "                train_neural_network(sess, optimizer, keep_probability, batch_features, batch_labels)\n",
    "            print('Epoch {:>2}, CIFAR-10 Batch {}:  '.format(epoch + 1, batch_i), end='')\n",
    "            val_loss,val_acc=print_stats(sess, batch_features, batch_labels, cost, accuracy)\n",
    "            loss.append(val_loss)\n",
    "            acc.append(val_acc)\n",
    "            \n",
    "    # Save Model\n",
    "    saver = tf.train.Saver()\n",
    "    save_path = saver.save(sess, save_model_path)"
   ]
  },
  {
   "cell_type": "code",
   "execution_count": 21,
   "metadata": {},
   "outputs": [
    {
     "data": {
      "image/png": "[encoded data removed]",
      "text/plain": [
       "<Figure size 432x288 with 1 Axes>"
      ]
     },
     "metadata": {
      "image/png": {
       "height": 250,
       "width": 380
      }
     },
     "output_type": "display_data"
    }
   ],
   "source": [
    "import matplotlib.pyplot as plt\n",
    "%matplotlib inline\n",
    "plt.plot(loss, label='Validation loss', color='darkorange')\n",
    "plt.legend()\n",
    "_ = plt.ylim()"
   ]
  },
  {
   "cell_type": "code",
   "execution_count": 22,
   "metadata": {},
   "outputs": [
    {
     "data": {
      "image/png": "[encoded data removed]",
      "text/plain": [
       "<Figure size 432x288 with 1 Axes>"
      ]
     },
     "metadata": {
      "image/png": {
       "height": 250,
       "width": 373
      }
     },
     "output_type": "display_data"
    }
   ],
   "source": [
    "import matplotlib.pyplot as plt\n",
    "%matplotlib inline\n",
    "plt.plot(acc, label='Validation accuracy', color='green')\n",
    "plt.legend()\n",
    "_ = plt.ylim()"
   ]
  },
  {
   "cell_type": "markdown",
   "metadata": {},
   "source": [
    "# Checkpoint\n",
    "The model has been saved to disk.\n",
    "## Test Model\n",
    "Test your model against the test dataset.  This will be your final accuracy. You should have an accuracy greater than 50%. If you don't, keep tweaking the model architecture and parameters."
   ]
  },
  {
   "cell_type": "code",
   "execution_count": 139,
   "metadata": {},
   "outputs": [
    {
     "name": "stdout",
     "output_type": "stream",
     "text": [
      "INFO:tensorflow:Restoring parameters from ./image_classification\n",
      "Testing Accuracy: 0.717555147409439\n",
      "\n"
     ]
    },
    {
     "data": {
      "image/png": "[encoded data removed]",
      "text/plain": [
       "<Figure size 432x288 with 8 Axes>"
      ]
     },
     "metadata": {
      "image/png": {
       "height": 319,
       "width": 355
      }
     },
     "output_type": "display_data"
    }
   ],
   "source": [
    "\"\"\"\n",
    "DON'T MODIFY ANYTHING IN THIS CELL\n",
    "\"\"\"\n",
    "%matplotlib inline\n",
    "%config InlineBackend.figure_format = 'retina'\n",
    "\n",
    "import tensorflow as tf\n",
    "import pickle\n",
    "import helper\n",
    "import random\n",
    "\n",
    "# Set batch size if not already set\n",
    "try:\n",
    "    if batch_size:\n",
    "        pass\n",
    "except NameError:\n",
    "    batch_size = 64\n",
    "\n",
    "save_model_path = './image_classification'\n",
    "n_samples = 4\n",
    "top_n_predictions = 3\n",
    "\n",
    "def test_model():\n",
    "    \"\"\"\n",
    "    Test the saved model against the test dataset\n",
    "    \"\"\"\n",
    "\n",
    "    test_features, test_labels = pickle.load(open('preprocess_test.p', mode='rb'))\n",
    "    loaded_graph = tf.Graph()\n",
    "\n",
    "    with tf.Session(config=config, graph=loaded_graph) as sess:\n",
    "        # Load model\n",
    "        loader = tf.train.import_meta_graph(save_model_path + '.meta')\n",
    "        loader.restore(sess, save_model_path)\n",
    "\n",
    "        # Get Tensors from loaded model\n",
    "        loaded_x = loaded_graph.get_tensor_by_name('x:0')\n",
    "        loaded_y = loaded_graph.get_tensor_by_name('y:0')\n",
    "        loaded_keep_prob = loaded_graph.get_tensor_by_name('keep_prob:0')\n",
    "        loaded_logits = loaded_graph.get_tensor_by_name('logits:0')\n",
    "        loaded_acc = loaded_graph.get_tensor_by_name('accuracy:0')\n",
    "        \n",
    "        # Get accuracy in batches for memory limitations\n",
    "        test_batch_acc_total = 0\n",
    "        test_batch_count = 0\n",
    "        \n",
    "        for test_feature_batch, test_label_batch in helper.batch_features_labels(test_features, test_labels, batch_size):\n",
    "            test_batch_acc_total += sess.run(\n",
    "                loaded_acc,\n",
    "                feed_dict={loaded_x: test_feature_batch, loaded_y: test_label_batch, loaded_keep_prob: 1.0})\n",
    "            test_batch_count += 1\n",
    "\n",
    "        print('Testing Accuracy: {}\\n'.format(test_batch_acc_total/test_batch_count))\n",
    "\n",
    "        # Print Random Samples\n",
    "        random_test_features, random_test_labels = tuple(zip(*random.sample(list(zip(test_features, test_labels)), n_samples)))\n",
    "        random_test_predictions = sess.run(\n",
    "            tf.nn.top_k(tf.nn.softmax(loaded_logits), top_n_predictions),\n",
    "            feed_dict={loaded_x: random_test_features, loaded_y: random_test_labels, loaded_keep_prob: 1.0})\n",
    "        helper.display_image_predictions(random_test_features, random_test_labels, random_test_predictions)\n",
    "\n",
    "\n",
    "test_model()"
   ]
  },
  {
   "cell_type": "markdown",
   "metadata": {},
   "source": [
    "## Why 50-80% Accuracy?\n",
    "You might be wondering why you can't get an accuracy any higher. First things first, 50% isn't bad for a simple CNN.  Pure guessing would get you 10% accuracy. However, you might notice people are getting scores [well above 80%](http://rodrigob.github.io/are_we_there_yet/build/classification_datasets_results.html#43494641522d3130).  That's because we haven't taught you all there is to know about neural networks. We still need to cover a few more techniques.\n",
    "## Submitting This Project\n",
    "When submitting this project, make sure to run all the cells before saving the notebook.  Save the notebook file as \"dlnd_image_classification.ipynb\" and save it as a HTML file under \"File\" -> \"Download as\".  Include the \"helper.py\" and \"problem_unittests.py\" files in your submission."
   ]
  },
  {
   "cell_type": "markdown",
   "metadata": {},
   "source": [
    "Some ideas\n",
    "\n",
    "- Initialize weights to very small\n",
    "- Initialize biases to zeros"
   ]
  },
  {
   "cell_type": "markdown",
   "metadata": {},
   "source": [
    "### Bonus: let accuracy over 80%\n",
    "- Differntial Dropout: keep probability\n",
    "- Xavier Initialization → He Initialization\n",
    "- Batch Normalization\n",
    "- Random Shuffling\n",
    "- L2\n",
    "- Selu"
   ]
  },
  {
   "cell_type": "code",
   "execution_count": null,
   "metadata": {},
   "outputs": [],
   "source": []
  }
 ],
 "metadata": {
  "kernelspec": {
   "display_name": "Python [default]",
   "language": "python",
   "name": "python3"
  },
  "language_info": {
   "codemirror_mode": {
    "name": "ipython",
    "version": 3
   },
   "file_extension": ".py",
   "mimetype": "text/x-python",
   "name": "python",
   "nbconvert_exporter": "python",
   "pygments_lexer": "ipython3",
   "version": "3.5.0"
  }
 },
 "nbformat": 4,
 "nbformat_minor": 1
}
